{
 "cells": [
  {
   "cell_type": "markdown",
   "metadata": {},
   "source": [
    "<div style=\"border:solid green 2px; padding: 20px\">\n",
    "    \n",
    "<b>Алёна, привет!</b> Мы рады тебя видеть на территории код-ревьюеров 😎. Ты проделала большую работу над проектом, но давай познакомимся и сделаем его еще лучше! У нас тут своя атмосфера и несколько правил:\n",
    "\n",
    "\n",
    "1. Это Александр Матвеевский. Я работаю код-ревьюером, моя основная цель — не указать на совершенные тобою ошибки, а поделиться своим опытом и помочь тебе стать дата-специалистом.\n",
    "2. Общаемся на ты.\n",
    "3. Если хочешь написать, спросить - не нужно стесняться. Только выбери свой цвет для комментария.  \n",
    "4. Это учебный проект, тут можно не бояться сделать ошибку.  \n",
    "5. У нас с тобой 6 попыток для сдачи проекта.  \n",
    "6. Let's Go!\n",
    "\n",
    "---\n",
    "\n",
    "Я буду красить комментарии цветом, пожалуйста, не удаляй их:\n",
    "\n",
    "<div class=\"alert alert-block alert-danger\">✍\n",
    "    \n",
    "\n",
    "__Комментарий от ревьюера №1__\n",
    "\n",
    "Такой комментарий нужно исправить обязательно, он критически влияет на удачное выполнение проекта.\n",
    "</div>\n",
    "    \n",
    "---\n",
    "\n",
    "<div class=\"alert alert-block alert-warning\">📝\n",
    "    \n",
    "\n",
    "__Комментарий от ревьюера №1__\n",
    "\n",
    "\n",
    "Такой комментарий является рекомендацией или советом. Можешь использовать их на своё усмотрение.\n",
    "</div>\n",
    "\n",
    "---\n",
    "\n",
    "<div class=\"alert alert-block alert-success\">✔️\n",
    "    \n",
    "\n",
    "__Комментарий от ревьюера №1__\n",
    "\n",
    "Такой комментарий  говорит о том, что было сделано что-то качественное и правильное =)\n",
    "</div>\n",
    "    \n",
    "---\n",
    "    \n",
    "Предлагаю работать над проектом в диалоге: если ты что-то меняешь в проекте или отвечаешь на мои комментарии — пиши об этом. Мне будет легче отследить изменения, если ты выделишь свои комментарии:   \n",
    "    \n",
    "<div class=\"alert alert-info\"> <b>Комментарии студента:</b> Например, вот так.</div>\n",
    "    \n",
    "Всё это поможет выполнить повторную проверку твоего проекта оперативнее. Если будут какие-нибудь вопросы по моим комментариям, пиши, будем разбираться вместе :)    \n",
    "    \n",
    "---"
   ]
  },
  {
   "cell_type": "markdown",
   "metadata": {
    "id": "4mJbK1knrJgz"
   },
   "source": [
    "# Проект: Исследование стартапов"
   ]
  },
  {
   "cell_type": "markdown",
   "metadata": {
    "id": "P6j0r3worJg0"
   },
   "source": [
    "## Введение"
   ]
  },
  {
   "cell_type": "markdown",
   "metadata": {},
   "source": [
    "### Цель и задачи \n",
    "\n",
    "**Цель:** Подготовить датасет и проверить, что данные в нём соответствуют здравому смыслу, а также ответить на вопросы заказчика как о предобработке, так и о значении данных для бизнеса.   \n",
    "\n",
    "**Задачи:**\n",
    "1. Загрузка и первичная предобработка данных.\n",
    "2. Предобработка данных, предварительное исследование.\n",
    "3. Исследовательский анализ объединённых таблиц.\n",
    "4. Сформулировать итоговый вывод и рекомендации.\n",
    "\n",
    "\n",
    "### Данные\n",
    "\n",
    "Для анализа поступили данные о стартапах и их сотрудниках. Данные состоят из 5 датасетов:\n",
    "\n",
    "- `acquisition.csv` — информация о покупках одними компаниями других компаний;\n",
    "- `company_and_rounds.csv` —  информация о компаниях и раундах финансирования;\n",
    "- `education.csv` — информация об образовании сотрудника;\n",
    "- `people.csv` —  информация о сотрудниках;\n",
    "- `degrees.csv` —  информация о типе образования сотрудника.\n",
    "\n",
    "### Описание датасета `acquisition`\n",
    "\n",
    "- `id` — идентификатор покупки;\n",
    "- `acquiring_company_id` — идентификатор покупающей компании;\n",
    "- `acquired_company_id` — идентификатор покупаемой компании;\n",
    "- `term_code` — варианты расчёта;\n",
    "- `price_amount` — сумма сделки;\n",
    "- `acquired_at` — дата сделки.\n",
    "\n",
    "\n",
    "### Описание датасета `company_and_rounds`\n",
    "\n",
    "- `company_id` — идентификатор компании;\n",
    "- `name` — название компании;\n",
    "- `category_code` — категория области деятельности компании;\n",
    "- `status` — статус компании;\n",
    "- `founded_at` — дата основания компании;\n",
    "- `closed_at` — дата закрытия компании;\n",
    "- `domain` — официальный сайт компании;\n",
    "- `network_username` — ник компании в сети;\n",
    "- `country_code` — код страны компании;\n",
    "- `investment_rounds` — число инвестиционных раундов;\n",
    "- `funding_rounds` — число раундов финансирования;\n",
    "- `funding_total` — сумма финансирования;\n",
    "- `milestones` — вехи финансирования;\n",
    "- `funding_round_id` — идентификатор этапа финансирования;\n",
    "- `funded_at` — дата финансирования;\n",
    "- `funding_round_type` — тип финансирования;\n",
    "- `raised_amount` — сумма финансирования;\n",
    "- `pre_money_valuation` — предварительная денежная оценка;\n",
    "- `participants` — число участников;\n",
    "- `is_first_round` — является ли раунд первым;\n",
    "- `is_last_round` — является ли раунд последним.\n",
    "\n",
    "### Описание датасета `education`\n",
    "\n",
    "- `id` — идентификатор записи об образовании;\n",
    "- `person_id` — идентификатор работника;\n",
    "- `institution` — название учебного заведения;\n",
    "- `graduated_at` — дата получения образования.\n",
    "\n",
    "### Описание датасета `people`\n",
    "\n",
    "- `id` — идентификатор сотрудника;\n",
    "- `first_name` — имя сотрудника;\n",
    "- `last_name` — фамилия сотрудника;\n",
    "- `company_id` — идентификатор компании;\n",
    "- `network_username` — ник в социальных сетях.\n",
    "\n",
    "### Описание датасета `degrees`\n",
    "\n",
    "- `id` — идентификатор записи;\n",
    "- `object_id` — идентификатор сотрудника;\n",
    "- `degree_type` — тип образования;\n",
    "- `subject` — специальность.\n",
    "\n",
    "\n",
    "### Структура проекта\n",
    "\n",
    "1. Загрузка данных и знакомство с ними.\n",
    "2. Предобработка данных.\n",
    "3. Исследовательский анализ данных.\n",
    "4. Итоговые выводы.\n",
    "\n",
    "---"
   ]
  },
  {
   "cell_type": "markdown",
   "metadata": {},
   "source": [
    "<div class=\"alert alert-block alert-success\">✔️\n",
    "    \n",
    "\n",
    "__Комментарий от ревьюера №1__\n",
    "\n",
    "Хорошо, необходимые модули выгружены"
   ]
  },
  {
   "cell_type": "markdown",
   "metadata": {},
   "source": [
    "## Шаг 1. Знакомство с данными: загрузка и первичная предобработка"
   ]
  },
  {
   "cell_type": "markdown",
   "metadata": {},
   "source": [
    "### Вывод общей информации, исправление названия столбцов"
   ]
  },
  {
   "cell_type": "markdown",
   "metadata": {
    "id": "xqr6uttCrJg0"
   },
   "source": [
    "Начнём с загрузки библиотек и датасетов `company_and_rounds.csv`, `acquisition.csv`, `people.csv`, `education.csv` и `degrees.csv`. Будем использовать pandas и библиотеки визуализации данных matplotlib и seaborn. Данные датасетов сохраним в двух переменных: `company_and_rounds_df`, `acquisition_df`, `people_df`, `education_df` и `degrees_df`."
   ]
  },
  {
   "cell_type": "code",
   "execution_count": 1,
   "metadata": {
    "id": "2Tm4Pk__Felf"
   },
   "outputs": [],
   "source": [
    "# Импортируем библиотеки\n",
    "import pandas as pd\n",
    "\n",
    "# Загружаем библиотеки для визуализации данных\n",
    "import seaborn as sns\n",
    "import matplotlib.pyplot as plt"
   ]
  },
  {
   "cell_type": "markdown",
   "metadata": {},
   "source": [
    "<div class=\"alert alert-block alert-success\">✔️\n",
    "    \n",
    "\n",
    "__Комментарий от ревьюера №1__\n",
    "\n",
    "Хорошо, необходимые модули выгружены"
   ]
  },
  {
   "cell_type": "code",
   "execution_count": 2,
   "metadata": {
    "id": "oNqJ2qpRFebv"
   },
   "outputs": [],
   "source": [
    "# Создаем константу, содержащую путь к датасету\n",
    "path = \"https://code.s3.yandex.net/datasets/\"\n",
    "\n",
    "# Выгружаем данные в соответствующие переменные\n",
    "company_and_rounds_df = pd.read_csv(path + 'company_and_rounds.csv')\n",
    "acquisition_df = pd.read_csv(path + 'acquisition.csv')\n",
    "people_df = pd.read_csv(path + 'people.csv')\n",
    "education_df = pd.read_csv(path + 'education.csv')\n",
    "degrees_df = pd.read_csv(path + 'degrees.csv')"
   ]
  },
  {
   "cell_type": "markdown",
   "metadata": {},
   "source": [
    "<div class=\"alert alert-block alert-warning\">📝\n",
    "    \n",
    "\n",
    "__Комментарий от ревьюера №1__\n",
    "\n",
    "\n",
    "Совет 🤔:\n",
    "\n",
    "\n",
    "    \n",
    "- Можно заметить что у нас везде повторяется данный путь https://code.s3.yandex.net/datasets/ , его можно оформить как константу\n",
    "    \n",
    "        PATH = \"https://code.s3.yandex.net/datasets/\"\n",
    "        acquisition = pd.read_csv(PATH + 'acquisition.csv')\n",
    "        ....\n",
    "\n",
    "Так будет и более читабельно, и  будет проще подправить, если изменится url    \n",
    "         "
   ]
  },
  {
   "cell_type": "markdown",
   "metadata": {},
   "source": [
    "<div class=\"alert alert-info\">Так красивее, спасибо!</div>"
   ]
  },
  {
   "cell_type": "markdown",
   "metadata": {},
   "source": [
    "<div class=\"alert alert-block alert-success\">✔️\n",
    "    \n",
    "\n",
    "__Комментарий от ревьюера №2__\n",
    "\n",
    "Супер, старайся, пожалуйста, придерживаться этой стратегии в дальнейших проектах =)\n",
    "</div>"
   ]
  },
  {
   "cell_type": "markdown",
   "metadata": {},
   "source": [
    "Познакомимся с данными датасета `company_and_rounds.csv` — выведем первые 10 строк методом `head()`, а информацию о датафрейме методом `info()`:"
   ]
  },
  {
   "cell_type": "code",
   "execution_count": 3,
   "metadata": {},
   "outputs": [
    {
     "data": {
      "text/html": [
       "<div>\n",
       "<style scoped>\n",
       "    .dataframe tbody tr th:only-of-type {\n",
       "        vertical-align: middle;\n",
       "    }\n",
       "\n",
       "    .dataframe tbody tr th {\n",
       "        vertical-align: top;\n",
       "    }\n",
       "\n",
       "    .dataframe thead th {\n",
       "        text-align: right;\n",
       "    }\n",
       "</style>\n",
       "<table border=\"1\" class=\"dataframe\">\n",
       "  <thead>\n",
       "    <tr style=\"text-align: right;\">\n",
       "      <th></th>\n",
       "      <th>company  ID</th>\n",
       "      <th>name</th>\n",
       "      <th>category  code</th>\n",
       "      <th>status</th>\n",
       "      <th>founded  at</th>\n",
       "      <th>closed  at</th>\n",
       "      <th>domain</th>\n",
       "      <th>network  username</th>\n",
       "      <th>country  code</th>\n",
       "      <th>investment  rounds</th>\n",
       "      <th>...</th>\n",
       "      <th>milestones</th>\n",
       "      <th>funding  round  id</th>\n",
       "      <th>company  id</th>\n",
       "      <th>funded  at</th>\n",
       "      <th>funding  round  type</th>\n",
       "      <th>raised  amount</th>\n",
       "      <th>pre  money  valuation</th>\n",
       "      <th>participants</th>\n",
       "      <th>is  first  round</th>\n",
       "      <th>is  last  round</th>\n",
       "    </tr>\n",
       "  </thead>\n",
       "  <tbody>\n",
       "    <tr>\n",
       "      <th>0</th>\n",
       "      <td>1.0</td>\n",
       "      <td>Wetpaint</td>\n",
       "      <td>web</td>\n",
       "      <td>operating</td>\n",
       "      <td>2005-10-17</td>\n",
       "      <td>NaN</td>\n",
       "      <td>wetpaint-inc.com</td>\n",
       "      <td>BachelrWetpaint</td>\n",
       "      <td>USA</td>\n",
       "      <td>0.0</td>\n",
       "      <td>...</td>\n",
       "      <td>5.0</td>\n",
       "      <td>888.0</td>\n",
       "      <td>1.0</td>\n",
       "      <td>2005-10-01</td>\n",
       "      <td>series-a</td>\n",
       "      <td>5250000.0</td>\n",
       "      <td>0.0</td>\n",
       "      <td>2.0</td>\n",
       "      <td>0.0</td>\n",
       "      <td>1.0</td>\n",
       "    </tr>\n",
       "    <tr>\n",
       "      <th>1</th>\n",
       "      <td>1.0</td>\n",
       "      <td>Wetpaint</td>\n",
       "      <td>web</td>\n",
       "      <td>operating</td>\n",
       "      <td>2005-10-17</td>\n",
       "      <td>NaN</td>\n",
       "      <td>wetpaint-inc.com</td>\n",
       "      <td>BachelrWetpaint</td>\n",
       "      <td>USA</td>\n",
       "      <td>0.0</td>\n",
       "      <td>...</td>\n",
       "      <td>5.0</td>\n",
       "      <td>889.0</td>\n",
       "      <td>1.0</td>\n",
       "      <td>2007-01-01</td>\n",
       "      <td>series-b</td>\n",
       "      <td>9500000.0</td>\n",
       "      <td>0.0</td>\n",
       "      <td>3.0</td>\n",
       "      <td>0.0</td>\n",
       "      <td>0.0</td>\n",
       "    </tr>\n",
       "    <tr>\n",
       "      <th>2</th>\n",
       "      <td>1.0</td>\n",
       "      <td>Wetpaint</td>\n",
       "      <td>web</td>\n",
       "      <td>operating</td>\n",
       "      <td>2005-10-17</td>\n",
       "      <td>NaN</td>\n",
       "      <td>wetpaint-inc.com</td>\n",
       "      <td>BachelrWetpaint</td>\n",
       "      <td>USA</td>\n",
       "      <td>0.0</td>\n",
       "      <td>...</td>\n",
       "      <td>5.0</td>\n",
       "      <td>2312.0</td>\n",
       "      <td>1.0</td>\n",
       "      <td>2008-05-19</td>\n",
       "      <td>series-c+</td>\n",
       "      <td>25000000.0</td>\n",
       "      <td>0.0</td>\n",
       "      <td>4.0</td>\n",
       "      <td>1.0</td>\n",
       "      <td>0.0</td>\n",
       "    </tr>\n",
       "    <tr>\n",
       "      <th>3</th>\n",
       "      <td>10.0</td>\n",
       "      <td>Flektor</td>\n",
       "      <td>games_video</td>\n",
       "      <td>acquired</td>\n",
       "      <td>NaN</td>\n",
       "      <td>NaN</td>\n",
       "      <td>flektor.com</td>\n",
       "      <td>NaN</td>\n",
       "      <td>USA</td>\n",
       "      <td>0.0</td>\n",
       "      <td>...</td>\n",
       "      <td>0.0</td>\n",
       "      <td>NaN</td>\n",
       "      <td>NaN</td>\n",
       "      <td>NaN</td>\n",
       "      <td>NaN</td>\n",
       "      <td>NaN</td>\n",
       "      <td>NaN</td>\n",
       "      <td>NaN</td>\n",
       "      <td>NaN</td>\n",
       "      <td>NaN</td>\n",
       "    </tr>\n",
       "    <tr>\n",
       "      <th>4</th>\n",
       "      <td>100.0</td>\n",
       "      <td>There</td>\n",
       "      <td>games_video</td>\n",
       "      <td>acquired</td>\n",
       "      <td>NaN</td>\n",
       "      <td>NaN</td>\n",
       "      <td>there.com</td>\n",
       "      <td>NaN</td>\n",
       "      <td>USA</td>\n",
       "      <td>0.0</td>\n",
       "      <td>...</td>\n",
       "      <td>4.0</td>\n",
       "      <td>NaN</td>\n",
       "      <td>NaN</td>\n",
       "      <td>NaN</td>\n",
       "      <td>NaN</td>\n",
       "      <td>NaN</td>\n",
       "      <td>NaN</td>\n",
       "      <td>NaN</td>\n",
       "      <td>NaN</td>\n",
       "      <td>NaN</td>\n",
       "    </tr>\n",
       "    <tr>\n",
       "      <th>5</th>\n",
       "      <td>10000.0</td>\n",
       "      <td>MYWEBBO</td>\n",
       "      <td>network_hosting</td>\n",
       "      <td>operating</td>\n",
       "      <td>2008-07-26</td>\n",
       "      <td>NaN</td>\n",
       "      <td>mywebbo.com</td>\n",
       "      <td>NaN</td>\n",
       "      <td>NaN</td>\n",
       "      <td>0.0</td>\n",
       "      <td>...</td>\n",
       "      <td>0.0</td>\n",
       "      <td>NaN</td>\n",
       "      <td>NaN</td>\n",
       "      <td>NaN</td>\n",
       "      <td>NaN</td>\n",
       "      <td>NaN</td>\n",
       "      <td>NaN</td>\n",
       "      <td>NaN</td>\n",
       "      <td>NaN</td>\n",
       "      <td>NaN</td>\n",
       "    </tr>\n",
       "    <tr>\n",
       "      <th>6</th>\n",
       "      <td>10001.0</td>\n",
       "      <td>THE Movie Streamer</td>\n",
       "      <td>games_video</td>\n",
       "      <td>operating</td>\n",
       "      <td>2008-07-26</td>\n",
       "      <td>NaN</td>\n",
       "      <td>themoviestreamer.com</td>\n",
       "      <td>NaN</td>\n",
       "      <td>NaN</td>\n",
       "      <td>0.0</td>\n",
       "      <td>...</td>\n",
       "      <td>0.0</td>\n",
       "      <td>NaN</td>\n",
       "      <td>NaN</td>\n",
       "      <td>NaN</td>\n",
       "      <td>NaN</td>\n",
       "      <td>NaN</td>\n",
       "      <td>NaN</td>\n",
       "      <td>NaN</td>\n",
       "      <td>NaN</td>\n",
       "      <td>NaN</td>\n",
       "    </tr>\n",
       "    <tr>\n",
       "      <th>7</th>\n",
       "      <td>10002.0</td>\n",
       "      <td>Synergie Media</td>\n",
       "      <td>advertising</td>\n",
       "      <td>operating</td>\n",
       "      <td>2007-06-27</td>\n",
       "      <td>NaN</td>\n",
       "      <td>synergie-media.com</td>\n",
       "      <td>NaN</td>\n",
       "      <td>MAR</td>\n",
       "      <td>0.0</td>\n",
       "      <td>...</td>\n",
       "      <td>0.0</td>\n",
       "      <td>NaN</td>\n",
       "      <td>NaN</td>\n",
       "      <td>NaN</td>\n",
       "      <td>NaN</td>\n",
       "      <td>NaN</td>\n",
       "      <td>NaN</td>\n",
       "      <td>NaN</td>\n",
       "      <td>NaN</td>\n",
       "      <td>NaN</td>\n",
       "    </tr>\n",
       "    <tr>\n",
       "      <th>8</th>\n",
       "      <td>10003.0</td>\n",
       "      <td>Green Basti Ecosystems</td>\n",
       "      <td>cleantech</td>\n",
       "      <td>operating</td>\n",
       "      <td>2008-08-20</td>\n",
       "      <td>NaN</td>\n",
       "      <td>NaN</td>\n",
       "      <td>NaN</td>\n",
       "      <td>IND</td>\n",
       "      <td>0.0</td>\n",
       "      <td>...</td>\n",
       "      <td>0.0</td>\n",
       "      <td>NaN</td>\n",
       "      <td>NaN</td>\n",
       "      <td>NaN</td>\n",
       "      <td>NaN</td>\n",
       "      <td>NaN</td>\n",
       "      <td>NaN</td>\n",
       "      <td>NaN</td>\n",
       "      <td>NaN</td>\n",
       "      <td>NaN</td>\n",
       "    </tr>\n",
       "    <tr>\n",
       "      <th>9</th>\n",
       "      <td>100042.0</td>\n",
       "      <td>HostNine</td>\n",
       "      <td>NaN</td>\n",
       "      <td>operating</td>\n",
       "      <td>NaN</td>\n",
       "      <td>NaN</td>\n",
       "      <td>hostnine.com</td>\n",
       "      <td>Hostnine</td>\n",
       "      <td>NaN</td>\n",
       "      <td>0.0</td>\n",
       "      <td>...</td>\n",
       "      <td>1.0</td>\n",
       "      <td>NaN</td>\n",
       "      <td>NaN</td>\n",
       "      <td>NaN</td>\n",
       "      <td>NaN</td>\n",
       "      <td>NaN</td>\n",
       "      <td>NaN</td>\n",
       "      <td>NaN</td>\n",
       "      <td>NaN</td>\n",
       "      <td>NaN</td>\n",
       "    </tr>\n",
       "  </tbody>\n",
       "</table>\n",
       "<p>10 rows × 22 columns</p>\n",
       "</div>"
      ],
      "text/plain": [
       "   company  ID                    name   category  code     status  \\\n",
       "0          1.0                Wetpaint              web  operating   \n",
       "1          1.0                Wetpaint              web  operating   \n",
       "2          1.0                Wetpaint              web  operating   \n",
       "3         10.0                 Flektor      games_video   acquired   \n",
       "4        100.0                   There      games_video   acquired   \n",
       "5      10000.0                 MYWEBBO  network_hosting  operating   \n",
       "6      10001.0      THE Movie Streamer      games_video  operating   \n",
       "7      10002.0          Synergie Media      advertising  operating   \n",
       "8      10003.0  Green Basti Ecosystems        cleantech  operating   \n",
       "9     100042.0                HostNine              NaN  operating   \n",
       "\n",
       "  founded  at closed  at                domain network  username  \\\n",
       "0  2005-10-17        NaN      wetpaint-inc.com   BachelrWetpaint   \n",
       "1  2005-10-17        NaN      wetpaint-inc.com   BachelrWetpaint   \n",
       "2  2005-10-17        NaN      wetpaint-inc.com   BachelrWetpaint   \n",
       "3         NaN        NaN           flektor.com               NaN   \n",
       "4         NaN        NaN             there.com               NaN   \n",
       "5  2008-07-26        NaN           mywebbo.com               NaN   \n",
       "6  2008-07-26        NaN  themoviestreamer.com               NaN   \n",
       "7  2007-06-27        NaN    synergie-media.com               NaN   \n",
       "8  2008-08-20        NaN                   NaN               NaN   \n",
       "9         NaN        NaN          hostnine.com          Hostnine   \n",
       "\n",
       "  country  code  investment  rounds  ...  milestones  funding  round  id  \\\n",
       "0           USA                 0.0  ...         5.0               888.0   \n",
       "1           USA                 0.0  ...         5.0               889.0   \n",
       "2           USA                 0.0  ...         5.0              2312.0   \n",
       "3           USA                 0.0  ...         0.0                 NaN   \n",
       "4           USA                 0.0  ...         4.0                 NaN   \n",
       "5           NaN                 0.0  ...         0.0                 NaN   \n",
       "6           NaN                 0.0  ...         0.0                 NaN   \n",
       "7           MAR                 0.0  ...         0.0                 NaN   \n",
       "8           IND                 0.0  ...         0.0                 NaN   \n",
       "9           NaN                 0.0  ...         1.0                 NaN   \n",
       "\n",
       "   company  id  funded  at  funding  round  type raised  amount  \\\n",
       "0          1.0  2005-10-01              series-a      5250000.0   \n",
       "1          1.0  2007-01-01              series-b      9500000.0   \n",
       "2          1.0  2008-05-19             series-c+     25000000.0   \n",
       "3          NaN         NaN                   NaN            NaN   \n",
       "4          NaN         NaN                   NaN            NaN   \n",
       "5          NaN         NaN                   NaN            NaN   \n",
       "6          NaN         NaN                   NaN            NaN   \n",
       "7          NaN         NaN                   NaN            NaN   \n",
       "8          NaN         NaN                   NaN            NaN   \n",
       "9          NaN         NaN                   NaN            NaN   \n",
       "\n",
       "  pre  money  valuation  participants  is  first  round  is  last  round  \n",
       "0                   0.0           2.0               0.0              1.0  \n",
       "1                   0.0           3.0               0.0              0.0  \n",
       "2                   0.0           4.0               1.0              0.0  \n",
       "3                   NaN           NaN               NaN              NaN  \n",
       "4                   NaN           NaN               NaN              NaN  \n",
       "5                   NaN           NaN               NaN              NaN  \n",
       "6                   NaN           NaN               NaN              NaN  \n",
       "7                   NaN           NaN               NaN              NaN  \n",
       "8                   NaN           NaN               NaN              NaN  \n",
       "9                   NaN           NaN               NaN              NaN  \n",
       "\n",
       "[10 rows x 22 columns]"
      ]
     },
     "execution_count": 3,
     "metadata": {},
     "output_type": "execute_result"
    }
   ],
   "source": [
    "# Выводим первые строки датафрейма на экран\n",
    "company_and_rounds_df.head(10)"
   ]
  },
  {
   "cell_type": "markdown",
   "metadata": {},
   "source": [
    "Названия столбцов `company ID`, `category code`, `founded  at`, `closed  at`, `network  username`, `country  code`, `investment  rounds`, `funding  rounds`, `funding  total`, `funding  round  id`, `funded  at`, `funding  round  type`, `raised  amount`, `pre  money  valuation`, `is  first  round`, `is  last  round` стоит привети к типу snake case, удалить столбец `company id`."
   ]
  },
  {
   "cell_type": "code",
   "execution_count": 4,
   "metadata": {},
   "outputs": [],
   "source": [
    "# Преобразуем названия столбцов\n",
    "company_and_rounds_df.columns = company_and_rounds_df.columns.str.replace(r'\\s+', '_', regex=True)"
   ]
  },
  {
   "cell_type": "markdown",
   "metadata": {},
   "source": [
    "<div class=\"alert alert-block alert-warning\">📝\n",
    "    \n",
    "\n",
    "__Комментарий от ревьюера №1__\n",
    "\n",
    "    \n",
    "Алёна, кажется тут можно без функции:    \n",
    "\n",
    "* если мы только привели преобразование в строчные символы и заменили пробел на знак `_`, то мы можем использовать такой подход:\n",
    "    \n",
    "`company_and_rounds.columns.str.lower().str.replace(r'\\s+', '_', regex=True)`. Является простым и читаемым способом преобразования. Этот подход особенно полезен для быстрого и последовательного применения преобразований к строкам.\n",
    "    "
   ]
  },
  {
   "cell_type": "markdown",
   "metadata": {},
   "source": [
    "<div class=\"alert alert-info\">Спасибо! Убрала преобразование в строчные символы, потому что иначе столбцы company_id и company_ID становятся одинаковыми и все ломается:(</div>"
   ]
  },
  {
   "cell_type": "markdown",
   "metadata": {},
   "source": [
    "<div class=\"alert alert-block alert-success\">✔️\n",
    "    \n",
    "\n",
    "__Комментарий от ревьюера №2__\n",
    "\n",
    "Верно) Молодец, что подметила"
   ]
  },
  {
   "cell_type": "code",
   "execution_count": 5,
   "metadata": {},
   "outputs": [
    {
     "data": {
      "text/plain": [
       "Index(['company_ID', 'name', 'category_code', 'status', 'founded_at',\n",
       "       'closed_at', 'domain', 'network_username', 'country_code',\n",
       "       'investment_rounds', 'funding_rounds', 'funding_total', 'milestones',\n",
       "       'funding_round_id', 'company_id', 'funded_at', 'funding_round_type',\n",
       "       'raised_amount', 'pre_money_valuation', 'participants',\n",
       "       'is_first_round', 'is_last_round'],\n",
       "      dtype='object')"
      ]
     },
     "execution_count": 5,
     "metadata": {},
     "output_type": "execute_result"
    }
   ],
   "source": [
    "# Проверяем, что все названия столбцов заменились корректно\n",
    "company_and_rounds_df.columns"
   ]
  },
  {
   "cell_type": "code",
   "execution_count": 6,
   "metadata": {},
   "outputs": [
    {
     "name": "stdout",
     "output_type": "stream",
     "text": [
      "<class 'pandas.core.frame.DataFrame'>\n",
      "RangeIndex: 217774 entries, 0 to 217773\n",
      "Data columns (total 22 columns):\n",
      " #   Column               Non-Null Count   Dtype  \n",
      "---  ------               --------------   -----  \n",
      " 0   company_ID           217472 non-null  float64\n",
      " 1   name                 217472 non-null  object \n",
      " 2   category_code        143886 non-null  object \n",
      " 3   status               217472 non-null  object \n",
      " 4   founded_at           109956 non-null  object \n",
      " 5   closed_at            3449 non-null    object \n",
      " 6   domain               147159 non-null  object \n",
      " 7   network_username     95534 non-null   object \n",
      " 8   country_code         108607 non-null  object \n",
      " 9   investment_rounds    217472 non-null  float64\n",
      " 10  funding_rounds       217472 non-null  float64\n",
      " 11  funding_total        217472 non-null  float64\n",
      " 12  milestones           217472 non-null  float64\n",
      " 13  funding_round_id     52928 non-null   float64\n",
      " 14  company_id           52928 non-null   float64\n",
      " 15  funded_at            52680 non-null   object \n",
      " 16  funding_round_type   52928 non-null   object \n",
      " 17  raised_amount        52928 non-null   float64\n",
      " 18  pre_money_valuation  52928 non-null   float64\n",
      " 19  participants         52928 non-null   float64\n",
      " 20  is_first_round       52928 non-null   float64\n",
      " 21  is_last_round        52928 non-null   float64\n",
      "dtypes: float64(12), object(10)\n",
      "memory usage: 36.6+ MB\n"
     ]
    }
   ],
   "source": [
    "# Выводим информацию о датафрейме\n",
    "company_and_rounds_df.info()"
   ]
  },
  {
   "cell_type": "markdown",
   "metadata": {},
   "source": [
    "Столбцы `company  ID`, `investment rounds`, `funding  rounds`, `milestones`, `funding round id`, `participants`, `is  first  round`, `is  last  round` стоит привести к целочисленному типу, столбцы `founded  at`, `closed  at`, `funded  at` к типу даты и времени, если эти столбцы будут задействованы в дальнейшем анализе."
   ]
  },
  {
   "cell_type": "markdown",
   "metadata": {},
   "source": [
    "Аналогично познакомимся с данными датасета `acquisition.csv`:"
   ]
  },
  {
   "cell_type": "code",
   "execution_count": 7,
   "metadata": {},
   "outputs": [
    {
     "data": {
      "text/html": [
       "<div>\n",
       "<style scoped>\n",
       "    .dataframe tbody tr th:only-of-type {\n",
       "        vertical-align: middle;\n",
       "    }\n",
       "\n",
       "    .dataframe tbody tr th {\n",
       "        vertical-align: top;\n",
       "    }\n",
       "\n",
       "    .dataframe thead th {\n",
       "        text-align: right;\n",
       "    }\n",
       "</style>\n",
       "<table border=\"1\" class=\"dataframe\">\n",
       "  <thead>\n",
       "    <tr style=\"text-align: right;\">\n",
       "      <th></th>\n",
       "      <th>id</th>\n",
       "      <th>acquiring_company_id</th>\n",
       "      <th>acquired_company_id</th>\n",
       "      <th>term_code</th>\n",
       "      <th>price_amount</th>\n",
       "      <th>acquired_at</th>\n",
       "    </tr>\n",
       "  </thead>\n",
       "  <tbody>\n",
       "    <tr>\n",
       "      <th>0</th>\n",
       "      <td>1</td>\n",
       "      <td>11</td>\n",
       "      <td>10</td>\n",
       "      <td>NaN</td>\n",
       "      <td>20000000</td>\n",
       "      <td>2007-05-30</td>\n",
       "    </tr>\n",
       "    <tr>\n",
       "      <th>1</th>\n",
       "      <td>7</td>\n",
       "      <td>59</td>\n",
       "      <td>72</td>\n",
       "      <td>cash</td>\n",
       "      <td>60000000</td>\n",
       "      <td>2007-07-01</td>\n",
       "    </tr>\n",
       "    <tr>\n",
       "      <th>2</th>\n",
       "      <td>8</td>\n",
       "      <td>24</td>\n",
       "      <td>132</td>\n",
       "      <td>cash</td>\n",
       "      <td>280000000</td>\n",
       "      <td>2007-05-01</td>\n",
       "    </tr>\n",
       "    <tr>\n",
       "      <th>3</th>\n",
       "      <td>9</td>\n",
       "      <td>59</td>\n",
       "      <td>155</td>\n",
       "      <td>cash</td>\n",
       "      <td>100000000</td>\n",
       "      <td>2007-06-01</td>\n",
       "    </tr>\n",
       "    <tr>\n",
       "      <th>4</th>\n",
       "      <td>10</td>\n",
       "      <td>212</td>\n",
       "      <td>215</td>\n",
       "      <td>cash</td>\n",
       "      <td>25000000</td>\n",
       "      <td>2007-07-01</td>\n",
       "    </tr>\n",
       "    <tr>\n",
       "      <th>5</th>\n",
       "      <td>11</td>\n",
       "      <td>227</td>\n",
       "      <td>228</td>\n",
       "      <td>NaN</td>\n",
       "      <td>7140000</td>\n",
       "      <td>2003-08-05</td>\n",
       "    </tr>\n",
       "    <tr>\n",
       "      <th>6</th>\n",
       "      <td>12</td>\n",
       "      <td>5</td>\n",
       "      <td>230</td>\n",
       "      <td>cash</td>\n",
       "      <td>0</td>\n",
       "      <td>2007-07-01</td>\n",
       "    </tr>\n",
       "    <tr>\n",
       "      <th>7</th>\n",
       "      <td>14</td>\n",
       "      <td>318</td>\n",
       "      <td>314</td>\n",
       "      <td>cash</td>\n",
       "      <td>0</td>\n",
       "      <td>2006-10-01</td>\n",
       "    </tr>\n",
       "    <tr>\n",
       "      <th>8</th>\n",
       "      <td>15</td>\n",
       "      <td>20</td>\n",
       "      <td>333</td>\n",
       "      <td>stock</td>\n",
       "      <td>1500000000</td>\n",
       "      <td>2002-07-08</td>\n",
       "    </tr>\n",
       "    <tr>\n",
       "      <th>9</th>\n",
       "      <td>16</td>\n",
       "      <td>342</td>\n",
       "      <td>341</td>\n",
       "      <td>cash</td>\n",
       "      <td>350000000</td>\n",
       "      <td>2007-08-01</td>\n",
       "    </tr>\n",
       "  </tbody>\n",
       "</table>\n",
       "</div>"
      ],
      "text/plain": [
       "   id  acquiring_company_id  acquired_company_id term_code  price_amount  \\\n",
       "0   1                    11                   10       NaN      20000000   \n",
       "1   7                    59                   72      cash      60000000   \n",
       "2   8                    24                  132      cash     280000000   \n",
       "3   9                    59                  155      cash     100000000   \n",
       "4  10                   212                  215      cash      25000000   \n",
       "5  11                   227                  228       NaN       7140000   \n",
       "6  12                     5                  230      cash             0   \n",
       "7  14                   318                  314      cash             0   \n",
       "8  15                    20                  333     stock    1500000000   \n",
       "9  16                   342                  341      cash     350000000   \n",
       "\n",
       "  acquired_at  \n",
       "0  2007-05-30  \n",
       "1  2007-07-01  \n",
       "2  2007-05-01  \n",
       "3  2007-06-01  \n",
       "4  2007-07-01  \n",
       "5  2003-08-05  \n",
       "6  2007-07-01  \n",
       "7  2006-10-01  \n",
       "8  2002-07-08  \n",
       "9  2007-08-01  "
      ]
     },
     "execution_count": 7,
     "metadata": {},
     "output_type": "execute_result"
    }
   ],
   "source": [
    "# Выводим первые строки датафрейма на экран\n",
    "acquisition_df.head(10)"
   ]
  },
  {
   "cell_type": "markdown",
   "metadata": {},
   "source": [
    "Все данные и названия столбцов корректны."
   ]
  },
  {
   "cell_type": "code",
   "execution_count": 8,
   "metadata": {},
   "outputs": [
    {
     "name": "stdout",
     "output_type": "stream",
     "text": [
      "<class 'pandas.core.frame.DataFrame'>\n",
      "RangeIndex: 9407 entries, 0 to 9406\n",
      "Data columns (total 6 columns):\n",
      " #   Column                Non-Null Count  Dtype \n",
      "---  ------                --------------  ----- \n",
      " 0   id                    9407 non-null   int64 \n",
      " 1   acquiring_company_id  9407 non-null   int64 \n",
      " 2   acquired_company_id   9407 non-null   int64 \n",
      " 3   term_code             1831 non-null   object\n",
      " 4   price_amount          9407 non-null   int64 \n",
      " 5   acquired_at           9378 non-null   object\n",
      "dtypes: int64(4), object(2)\n",
      "memory usage: 441.1+ KB\n"
     ]
    }
   ],
   "source": [
    "# Выводим информацию о датафрейме\n",
    "acquisition_df.info()"
   ]
  },
  {
   "cell_type": "markdown",
   "metadata": {},
   "source": [
    "Данные достаточно полные для анализа."
   ]
  },
  {
   "cell_type": "markdown",
   "metadata": {},
   "source": [
    "Аналогично познакомимся с данными датасета `people.csv`:"
   ]
  },
  {
   "cell_type": "code",
   "execution_count": 9,
   "metadata": {},
   "outputs": [
    {
     "data": {
      "text/html": [
       "<div>\n",
       "<style scoped>\n",
       "    .dataframe tbody tr th:only-of-type {\n",
       "        vertical-align: middle;\n",
       "    }\n",
       "\n",
       "    .dataframe tbody tr th {\n",
       "        vertical-align: top;\n",
       "    }\n",
       "\n",
       "    .dataframe thead th {\n",
       "        text-align: right;\n",
       "    }\n",
       "</style>\n",
       "<table border=\"1\" class=\"dataframe\">\n",
       "  <thead>\n",
       "    <tr style=\"text-align: right;\">\n",
       "      <th></th>\n",
       "      <th>id</th>\n",
       "      <th>first_name</th>\n",
       "      <th>last_name</th>\n",
       "      <th>company_id</th>\n",
       "      <th>network_username</th>\n",
       "    </tr>\n",
       "  </thead>\n",
       "  <tbody>\n",
       "    <tr>\n",
       "      <th>0</th>\n",
       "      <td>10</td>\n",
       "      <td>Mark</td>\n",
       "      <td>Zuckerberg</td>\n",
       "      <td>5.0</td>\n",
       "      <td>NaN</td>\n",
       "    </tr>\n",
       "    <tr>\n",
       "      <th>1</th>\n",
       "      <td>100</td>\n",
       "      <td>Peter</td>\n",
       "      <td>Lester</td>\n",
       "      <td>27.0</td>\n",
       "      <td>NaN</td>\n",
       "    </tr>\n",
       "    <tr>\n",
       "      <th>2</th>\n",
       "      <td>1000</td>\n",
       "      <td>Dr. Steven</td>\n",
       "      <td>E. Saunders</td>\n",
       "      <td>292.0</td>\n",
       "      <td>NaN</td>\n",
       "    </tr>\n",
       "    <tr>\n",
       "      <th>3</th>\n",
       "      <td>10000</td>\n",
       "      <td>Neil</td>\n",
       "      <td>Capel</td>\n",
       "      <td>2526.0</td>\n",
       "      <td>NaN</td>\n",
       "    </tr>\n",
       "    <tr>\n",
       "      <th>4</th>\n",
       "      <td>100000</td>\n",
       "      <td>Sue</td>\n",
       "      <td>Pilsch</td>\n",
       "      <td>NaN</td>\n",
       "      <td>NaN</td>\n",
       "    </tr>\n",
       "    <tr>\n",
       "      <th>5</th>\n",
       "      <td>100002</td>\n",
       "      <td>Keith</td>\n",
       "      <td>Kurzendoerfer</td>\n",
       "      <td>NaN</td>\n",
       "      <td>NaN</td>\n",
       "    </tr>\n",
       "    <tr>\n",
       "      <th>6</th>\n",
       "      <td>100006</td>\n",
       "      <td>Courtney</td>\n",
       "      <td>Homer</td>\n",
       "      <td>81558.0</td>\n",
       "      <td>jobsbostontech</td>\n",
       "    </tr>\n",
       "    <tr>\n",
       "      <th>7</th>\n",
       "      <td>100009</td>\n",
       "      <td>Eddy</td>\n",
       "      <td>Badrina</td>\n",
       "      <td>NaN</td>\n",
       "      <td>NaN</td>\n",
       "    </tr>\n",
       "    <tr>\n",
       "      <th>8</th>\n",
       "      <td>100010</td>\n",
       "      <td>Michael</td>\n",
       "      <td>Dadashyan</td>\n",
       "      <td>NaN</td>\n",
       "      <td>fbroulette</td>\n",
       "    </tr>\n",
       "    <tr>\n",
       "      <th>9</th>\n",
       "      <td>100011</td>\n",
       "      <td>Jeff</td>\n",
       "      <td>Grell</td>\n",
       "      <td>NaN</td>\n",
       "      <td>NaN</td>\n",
       "    </tr>\n",
       "  </tbody>\n",
       "</table>\n",
       "</div>"
      ],
      "text/plain": [
       "       id  first_name      last_name  company_id network_username\n",
       "0      10        Mark     Zuckerberg         5.0              NaN\n",
       "1     100       Peter         Lester        27.0              NaN\n",
       "2    1000  Dr. Steven    E. Saunders       292.0              NaN\n",
       "3   10000        Neil          Capel      2526.0              NaN\n",
       "4  100000         Sue         Pilsch         NaN              NaN\n",
       "5  100002       Keith  Kurzendoerfer         NaN              NaN\n",
       "6  100006    Courtney          Homer     81558.0   jobsbostontech\n",
       "7  100009        Eddy        Badrina         NaN              NaN\n",
       "8  100010     Michael      Dadashyan         NaN       fbroulette\n",
       "9  100011        Jeff          Grell         NaN              NaN"
      ]
     },
     "execution_count": 9,
     "metadata": {},
     "output_type": "execute_result"
    }
   ],
   "source": [
    "# Выводим первые строки датафрейма на экран\n",
    "people_df.head(10)"
   ]
  },
  {
   "cell_type": "markdown",
   "metadata": {},
   "source": [
    "Столбец `company_id` стоит привести к целочисленному типу."
   ]
  },
  {
   "cell_type": "code",
   "execution_count": 10,
   "metadata": {},
   "outputs": [
    {
     "name": "stdout",
     "output_type": "stream",
     "text": [
      "<class 'pandas.core.frame.DataFrame'>\n",
      "RangeIndex: 226709 entries, 0 to 226708\n",
      "Data columns (total 5 columns):\n",
      " #   Column            Non-Null Count   Dtype  \n",
      "---  ------            --------------   -----  \n",
      " 0   id                226709 non-null  int64  \n",
      " 1   first_name        226704 non-null  object \n",
      " 2   last_name         226708 non-null  object \n",
      " 3   company_id        34615 non-null   float64\n",
      " 4   network_username  38867 non-null   object \n",
      "dtypes: float64(1), int64(1), object(3)\n",
      "memory usage: 8.6+ MB\n"
     ]
    }
   ],
   "source": [
    "# Выводим информацию о датафрейме\n",
    "people_df.info()"
   ]
  },
  {
   "cell_type": "markdown",
   "metadata": {},
   "source": [
    "Данные достаточно полные для анализа."
   ]
  },
  {
   "cell_type": "markdown",
   "metadata": {},
   "source": [
    "Аналогично познакомимся с данными датасета `education.csv`:"
   ]
  },
  {
   "cell_type": "code",
   "execution_count": 11,
   "metadata": {},
   "outputs": [
    {
     "data": {
      "text/html": [
       "<div>\n",
       "<style scoped>\n",
       "    .dataframe tbody tr th:only-of-type {\n",
       "        vertical-align: middle;\n",
       "    }\n",
       "\n",
       "    .dataframe tbody tr th {\n",
       "        vertical-align: top;\n",
       "    }\n",
       "\n",
       "    .dataframe thead th {\n",
       "        text-align: right;\n",
       "    }\n",
       "</style>\n",
       "<table border=\"1\" class=\"dataframe\">\n",
       "  <thead>\n",
       "    <tr style=\"text-align: right;\">\n",
       "      <th></th>\n",
       "      <th>id</th>\n",
       "      <th>person_id</th>\n",
       "      <th>instituition</th>\n",
       "      <th>graduated_at</th>\n",
       "    </tr>\n",
       "  </thead>\n",
       "  <tbody>\n",
       "    <tr>\n",
       "      <th>0</th>\n",
       "      <td>1</td>\n",
       "      <td>6117</td>\n",
       "      <td>NaN</td>\n",
       "      <td>NaN</td>\n",
       "    </tr>\n",
       "    <tr>\n",
       "      <th>1</th>\n",
       "      <td>2</td>\n",
       "      <td>6136</td>\n",
       "      <td>Washington University, St. Louis</td>\n",
       "      <td>1990-01-01</td>\n",
       "    </tr>\n",
       "    <tr>\n",
       "      <th>2</th>\n",
       "      <td>3</td>\n",
       "      <td>6136</td>\n",
       "      <td>Boston University</td>\n",
       "      <td>1992-01-01</td>\n",
       "    </tr>\n",
       "    <tr>\n",
       "      <th>3</th>\n",
       "      <td>4</td>\n",
       "      <td>6005</td>\n",
       "      <td>University of Greenwich</td>\n",
       "      <td>2006-01-01</td>\n",
       "    </tr>\n",
       "    <tr>\n",
       "      <th>4</th>\n",
       "      <td>5</td>\n",
       "      <td>5832</td>\n",
       "      <td>Rice University</td>\n",
       "      <td>NaN</td>\n",
       "    </tr>\n",
       "    <tr>\n",
       "      <th>5</th>\n",
       "      <td>6</td>\n",
       "      <td>1017</td>\n",
       "      <td>Northeastern University</td>\n",
       "      <td>1988-01-01</td>\n",
       "    </tr>\n",
       "    <tr>\n",
       "      <th>6</th>\n",
       "      <td>7</td>\n",
       "      <td>6176</td>\n",
       "      <td>Rochester Institute of Technology</td>\n",
       "      <td>2002-01-01</td>\n",
       "    </tr>\n",
       "    <tr>\n",
       "      <th>7</th>\n",
       "      <td>8</td>\n",
       "      <td>5412</td>\n",
       "      <td>University of Cambridge</td>\n",
       "      <td>2002-01-01</td>\n",
       "    </tr>\n",
       "    <tr>\n",
       "      <th>8</th>\n",
       "      <td>9</td>\n",
       "      <td>1243</td>\n",
       "      <td>University of Oregon</td>\n",
       "      <td>1997-01-01</td>\n",
       "    </tr>\n",
       "    <tr>\n",
       "      <th>9</th>\n",
       "      <td>10</td>\n",
       "      <td>6265</td>\n",
       "      <td>University of Pennsylvania</td>\n",
       "      <td>1989-01-01</td>\n",
       "    </tr>\n",
       "  </tbody>\n",
       "</table>\n",
       "</div>"
      ],
      "text/plain": [
       "   id  person_id                       instituition graduated_at\n",
       "0   1       6117                                NaN          NaN\n",
       "1   2       6136   Washington University, St. Louis   1990-01-01\n",
       "2   3       6136                  Boston University   1992-01-01\n",
       "3   4       6005            University of Greenwich   2006-01-01\n",
       "4   5       5832                    Rice University          NaN\n",
       "5   6       1017            Northeastern University   1988-01-01\n",
       "6   7       6176  Rochester Institute of Technology   2002-01-01\n",
       "7   8       5412            University of Cambridge   2002-01-01\n",
       "8   9       1243               University of Oregon   1997-01-01\n",
       "9  10       6265         University of Pennsylvania   1989-01-01"
      ]
     },
     "execution_count": 11,
     "metadata": {},
     "output_type": "execute_result"
    }
   ],
   "source": [
    "# Выводим первые строки датафрейма на экран\n",
    "education_df.head(10)"
   ]
  },
  {
   "cell_type": "markdown",
   "metadata": {},
   "source": [
    "Данные столбца `graduated_at` стоит привести к типу даты и времени при необходимости."
   ]
  },
  {
   "cell_type": "code",
   "execution_count": 12,
   "metadata": {},
   "outputs": [
    {
     "name": "stdout",
     "output_type": "stream",
     "text": [
      "<class 'pandas.core.frame.DataFrame'>\n",
      "RangeIndex: 109610 entries, 0 to 109609\n",
      "Data columns (total 4 columns):\n",
      " #   Column        Non-Null Count   Dtype \n",
      "---  ------        --------------   ----- \n",
      " 0   id            109610 non-null  int64 \n",
      " 1   person_id     109610 non-null  int64 \n",
      " 2   instituition  109555 non-null  object\n",
      " 3   graduated_at  58054 non-null   object\n",
      "dtypes: int64(2), object(2)\n",
      "memory usage: 3.3+ MB\n"
     ]
    }
   ],
   "source": [
    "# Выводим информацию о датафрейме\n",
    "education_df.info()"
   ]
  },
  {
   "cell_type": "code",
   "execution_count": 13,
   "metadata": {},
   "outputs": [
    {
     "data": {
      "text/plain": [
       "id              109610\n",
       "person_id        68451\n",
       "instituition     21067\n",
       "graduated_at        71\n",
       "dtype: int64"
      ]
     },
     "execution_count": 13,
     "metadata": {},
     "output_type": "execute_result"
    }
   ],
   "source": [
    "# Считаем количество уникальных занчений в каждом столбце\n",
    "education_df.nunique()"
   ]
  },
  {
   "cell_type": "markdown",
   "metadata": {},
   "source": [
    "Столбец `id` содержит идентификатор записи об образовании, при этом все значения уникальны и равны значению индекса +1. Такой столбец не несет смысла, стоит удалить его."
   ]
  },
  {
   "cell_type": "code",
   "execution_count": 14,
   "metadata": {},
   "outputs": [],
   "source": [
    "# Удаляем столбец id\n",
    "education_df = education_df.drop('id', axis = 1)"
   ]
  },
  {
   "cell_type": "code",
   "execution_count": 15,
   "metadata": {},
   "outputs": [
    {
     "data": {
      "text/plain": [
       "Index(['person_id', 'instituition', 'graduated_at'], dtype='object')"
      ]
     },
     "execution_count": 15,
     "metadata": {},
     "output_type": "execute_result"
    }
   ],
   "source": [
    "# Выводим наименования столбцов датафрейма\n",
    "education_df.columns"
   ]
  },
  {
   "cell_type": "markdown",
   "metadata": {},
   "source": [
    "Аналогично познакомимся с данными датасета `rest_info.csv`:"
   ]
  },
  {
   "cell_type": "code",
   "execution_count": 16,
   "metadata": {},
   "outputs": [
    {
     "data": {
      "text/html": [
       "<div>\n",
       "<style scoped>\n",
       "    .dataframe tbody tr th:only-of-type {\n",
       "        vertical-align: middle;\n",
       "    }\n",
       "\n",
       "    .dataframe tbody tr th {\n",
       "        vertical-align: top;\n",
       "    }\n",
       "\n",
       "    .dataframe thead th {\n",
       "        text-align: right;\n",
       "    }\n",
       "</style>\n",
       "<table border=\"1\" class=\"dataframe\">\n",
       "  <thead>\n",
       "    <tr style=\"text-align: right;\">\n",
       "      <th></th>\n",
       "      <th>id</th>\n",
       "      <th>object_id</th>\n",
       "      <th>degree_type</th>\n",
       "      <th>subject</th>\n",
       "    </tr>\n",
       "  </thead>\n",
       "  <tbody>\n",
       "    <tr>\n",
       "      <th>0</th>\n",
       "      <td>1</td>\n",
       "      <td>p:6117</td>\n",
       "      <td>MBA</td>\n",
       "      <td>NaN</td>\n",
       "    </tr>\n",
       "    <tr>\n",
       "      <th>1</th>\n",
       "      <td>2</td>\n",
       "      <td>p:6136</td>\n",
       "      <td>BA</td>\n",
       "      <td>English, French</td>\n",
       "    </tr>\n",
       "    <tr>\n",
       "      <th>2</th>\n",
       "      <td>3</td>\n",
       "      <td>p:6136</td>\n",
       "      <td>MS</td>\n",
       "      <td>Mass Communication</td>\n",
       "    </tr>\n",
       "    <tr>\n",
       "      <th>3</th>\n",
       "      <td>4</td>\n",
       "      <td>p:6005</td>\n",
       "      <td>MS</td>\n",
       "      <td>Internet Technology</td>\n",
       "    </tr>\n",
       "    <tr>\n",
       "      <th>4</th>\n",
       "      <td>5</td>\n",
       "      <td>p:5832</td>\n",
       "      <td>BCS</td>\n",
       "      <td>Computer Science, Psychology</td>\n",
       "    </tr>\n",
       "    <tr>\n",
       "      <th>5</th>\n",
       "      <td>6</td>\n",
       "      <td>p:1017</td>\n",
       "      <td>BS</td>\n",
       "      <td>Computer Science</td>\n",
       "    </tr>\n",
       "    <tr>\n",
       "      <th>6</th>\n",
       "      <td>7</td>\n",
       "      <td>p:6176</td>\n",
       "      <td>BS</td>\n",
       "      <td>Computer Science</td>\n",
       "    </tr>\n",
       "    <tr>\n",
       "      <th>7</th>\n",
       "      <td>8</td>\n",
       "      <td>p:5412</td>\n",
       "      <td>MS</td>\n",
       "      <td>Politics</td>\n",
       "    </tr>\n",
       "    <tr>\n",
       "      <th>8</th>\n",
       "      <td>9</td>\n",
       "      <td>p:1243</td>\n",
       "      <td>BA</td>\n",
       "      <td>International Business &amp; Marketing</td>\n",
       "    </tr>\n",
       "    <tr>\n",
       "      <th>9</th>\n",
       "      <td>10</td>\n",
       "      <td>p:6265</td>\n",
       "      <td>BS</td>\n",
       "      <td>Economics</td>\n",
       "    </tr>\n",
       "  </tbody>\n",
       "</table>\n",
       "</div>"
      ],
      "text/plain": [
       "   id object_id degree_type                             subject\n",
       "0   1    p:6117         MBA                                 NaN\n",
       "1   2    p:6136          BA                     English, French\n",
       "2   3    p:6136          MS                  Mass Communication\n",
       "3   4    p:6005          MS                 Internet Technology\n",
       "4   5    p:5832         BCS        Computer Science, Psychology\n",
       "5   6    p:1017          BS                    Computer Science\n",
       "6   7    p:6176          BS                    Computer Science\n",
       "7   8    p:5412          MS                            Politics\n",
       "8   9    p:1243          BA  International Business & Marketing\n",
       "9  10    p:6265          BS                           Economics"
      ]
     },
     "execution_count": 16,
     "metadata": {},
     "output_type": "execute_result"
    }
   ],
   "source": [
    "# Выводим первые строки датафрейма на экран\n",
    "degrees_df.head(10)"
   ]
  },
  {
   "cell_type": "markdown",
   "metadata": {},
   "source": [
    "Столбец `object_id` при необходимости стоит обработать и оставить только значение идентификатора сотрудника."
   ]
  },
  {
   "cell_type": "code",
   "execution_count": 17,
   "metadata": {},
   "outputs": [
    {
     "name": "stdout",
     "output_type": "stream",
     "text": [
      "<class 'pandas.core.frame.DataFrame'>\n",
      "RangeIndex: 109610 entries, 0 to 109609\n",
      "Data columns (total 4 columns):\n",
      " #   Column       Non-Null Count   Dtype \n",
      "---  ------       --------------   ----- \n",
      " 0   id           109610 non-null  int64 \n",
      " 1   object_id    109610 non-null  object\n",
      " 2   degree_type  98392 non-null   object\n",
      " 3   subject      81298 non-null   object\n",
      "dtypes: int64(1), object(3)\n",
      "memory usage: 3.3+ MB\n"
     ]
    }
   ],
   "source": [
    "# Выводим информацию о датафрейме\n",
    "degrees_df.info()"
   ]
  },
  {
   "cell_type": "code",
   "execution_count": 18,
   "metadata": {},
   "outputs": [
    {
     "data": {
      "text/plain": [
       "id             109610\n",
       "object_id       68451\n",
       "degree_type      7148\n",
       "subject         20050\n",
       "dtype: int64"
      ]
     },
     "execution_count": 18,
     "metadata": {},
     "output_type": "execute_result"
    }
   ],
   "source": [
    "# Считаем количество уникальных занчений в каждом столбце\n",
    "degrees_df.nunique()"
   ]
  },
  {
   "cell_type": "markdown",
   "metadata": {},
   "source": [
    "Столбец `id` содержит идентификатор записи, при этом все значения уникальны и равны значению индекса +1. Такой столбец не несет смысла, стоит удалить его."
   ]
  },
  {
   "cell_type": "code",
   "execution_count": 19,
   "metadata": {},
   "outputs": [],
   "source": [
    "# Удаляем столбец id\n",
    "degrees_df = degrees_df.drop('id', axis = 1)"
   ]
  },
  {
   "cell_type": "code",
   "execution_count": 20,
   "metadata": {},
   "outputs": [
    {
     "data": {
      "text/plain": [
       "Index(['object_id', 'degree_type', 'subject'], dtype='object')"
      ]
     },
     "execution_count": 20,
     "metadata": {},
     "output_type": "execute_result"
    }
   ],
   "source": [
    "# Выводим наименования столбцов датафрейма\n",
    "degrees_df.columns"
   ]
  },
  {
   "cell_type": "markdown",
   "metadata": {},
   "source": [
    "В целом данные хорошего качества — соответствуют описанию и выглядят корректными, однако неполные - в них много пропущенных значений."
   ]
  },
  {
   "cell_type": "markdown",
   "metadata": {
    "id": "mg2gEwh0rJg0"
   },
   "source": [
    "### Смена типов и анализ пропусков\n"
   ]
  },
  {
   "cell_type": "markdown",
   "metadata": {},
   "source": [
    "Приведём столбец `funded_at` к типу даты и времени."
   ]
  },
  {
   "cell_type": "code",
   "execution_count": 21,
   "metadata": {},
   "outputs": [],
   "source": [
    "# Меняем тип данных столбца на datetime\n",
    "company_and_rounds_df['funded_at'] = pd.to_datetime(company_and_rounds_df['funded_at'])"
   ]
  },
  {
   "cell_type": "markdown",
   "metadata": {},
   "source": [
    "Добавим столбец, содержащий год финансирования на основании столбца `funded_at` датасета `company_and_rounds`."
   ]
  },
  {
   "cell_type": "code",
   "execution_count": 22,
   "metadata": {},
   "outputs": [],
   "source": [
    "# Выделяем год из каждой даты и сохраняем в отдельном столбце\n",
    "company_and_rounds_df['funded_at_year'] = company_and_rounds_df['funded_at'].dt.year.dropna().astype('int64') # заменили пропуски на 0"
   ]
  },
  {
   "cell_type": "code",
   "execution_count": 23,
   "metadata": {},
   "outputs": [
    {
     "data": {
      "text/plain": [
       "0         2005.0\n",
       "1         2007.0\n",
       "2         2008.0\n",
       "3            NaN\n",
       "4            NaN\n",
       "           ...  \n",
       "217769    2011.0\n",
       "217770    2011.0\n",
       "217771    2012.0\n",
       "217772    2013.0\n",
       "217773    2013.0\n",
       "Name: funded_at_year, Length: 217774, dtype: float64"
      ]
     },
     "execution_count": 23,
     "metadata": {},
     "output_type": "execute_result"
    }
   ],
   "source": [
    "# Проверяем, что столбец действительно содержит только год\n",
    "company_and_rounds_df['funded_at_year']"
   ]
  },
  {
   "cell_type": "markdown",
   "metadata": {},
   "source": [
    "Посмотрим на относительное количество пропусков в каждом датафрейме."
   ]
  },
  {
   "cell_type": "code",
   "execution_count": 24,
   "metadata": {},
   "outputs": [
    {
     "data": {
      "text/plain": [
       "company_ID             0.001387\n",
       "name                   0.001387\n",
       "category_code          0.339288\n",
       "status                 0.001387\n",
       "founded_at             0.495091\n",
       "closed_at              0.984162\n",
       "domain                 0.324258\n",
       "network_username       0.561316\n",
       "country_code           0.501286\n",
       "investment_rounds      0.001387\n",
       "funding_rounds         0.001387\n",
       "funding_total          0.001387\n",
       "milestones             0.001387\n",
       "funding_round_id       0.756959\n",
       "company_id             0.756959\n",
       "funded_at              0.758098\n",
       "funding_round_type     0.756959\n",
       "raised_amount          0.756959\n",
       "pre_money_valuation    0.756959\n",
       "participants           0.756959\n",
       "is_first_round         0.756959\n",
       "is_last_round          0.756959\n",
       "funded_at_year         0.758098\n",
       "dtype: float64"
      ]
     },
     "execution_count": 24,
     "metadata": {},
     "output_type": "execute_result"
    }
   ],
   "source": [
    "# Подсчитываем долю строк с пропусками\n",
    "company_and_rounds_df.isna().sum() / company_and_rounds_df.shape[0]"
   ]
  },
  {
   "cell_type": "code",
   "execution_count": 25,
   "metadata": {},
   "outputs": [
    {
     "data": {
      "text/plain": [
       "id                      0.000000\n",
       "acquiring_company_id    0.000000\n",
       "acquired_company_id     0.000000\n",
       "term_code               0.805358\n",
       "price_amount            0.000000\n",
       "acquired_at             0.003083\n",
       "dtype: float64"
      ]
     },
     "execution_count": 25,
     "metadata": {},
     "output_type": "execute_result"
    }
   ],
   "source": [
    "# Подсчитываем долю строк с пропусками\n",
    "acquisition_df.isna().sum() / acquisition_df.shape[0]"
   ]
  },
  {
   "cell_type": "code",
   "execution_count": 26,
   "metadata": {},
   "outputs": [
    {
     "data": {
      "text/plain": [
       "id                  0.000000\n",
       "first_name          0.000022\n",
       "last_name           0.000004\n",
       "company_id          0.847315\n",
       "network_username    0.828560\n",
       "dtype: float64"
      ]
     },
     "execution_count": 26,
     "metadata": {},
     "output_type": "execute_result"
    }
   ],
   "source": [
    "# Подсчитываем долю строк с пропусками\n",
    "people_df.isna().sum() / people_df.shape[0]"
   ]
  },
  {
   "cell_type": "code",
   "execution_count": 27,
   "metadata": {},
   "outputs": [
    {
     "data": {
      "text/plain": [
       "person_id       0.000000\n",
       "instituition    0.000502\n",
       "graduated_at    0.470359\n",
       "dtype: float64"
      ]
     },
     "execution_count": 27,
     "metadata": {},
     "output_type": "execute_result"
    }
   ],
   "source": [
    "# Подсчитываем долю строк с пропусками\n",
    "education_df.isna().sum() / education_df.shape[0]"
   ]
  },
  {
   "cell_type": "code",
   "execution_count": 28,
   "metadata": {},
   "outputs": [
    {
     "data": {
      "text/plain": [
       "object_id      0.000000\n",
       "degree_type    0.102345\n",
       "subject        0.258298\n",
       "dtype: float64"
      ]
     },
     "execution_count": 28,
     "metadata": {},
     "output_type": "execute_result"
    }
   ],
   "source": [
    "# Подсчитываем долю строк с пропусками\n",
    "degrees_df.isna().sum() / degrees_df.shape[0]"
   ]
  },
  {
   "cell_type": "markdown",
   "metadata": {},
   "source": [
    "Данные содержат большое количество пропусков, в большинстве случаев они вызваны спецификой данных, однако есть и те, что пропущены без причины."
   ]
  },
  {
   "cell_type": "markdown",
   "metadata": {},
   "source": [
    "Проверим все датасеты на наличие дубликатов."
   ]
  },
  {
   "cell_type": "code",
   "execution_count": 29,
   "metadata": {},
   "outputs": [
    {
     "name": "stdout",
     "output_type": "stream",
     "text": [
      "Количество дубликатов в датафрейме - 0\n",
      "Количество дубликатов в датафрейме - 0\n",
      "Количество дубликатов в датафрейме - 4138\n",
      "Количество дубликатов в датафрейме - 0\n",
      "Количество дубликатов в датафрейме - 1914\n"
     ]
    }
   ],
   "source": [
    "# Находим количество дубликатов \n",
    "for df in [company_and_rounds_df, acquisition_df, education_df, people_df, degrees_df]:\n",
    "    print(f'Количество дубликатов в датафрейме - {df.duplicated().sum()}')"
   ]
  },
  {
   "cell_type": "markdown",
   "metadata": {},
   "source": [
    "Датафреймы `education_df` и `degrees_df` содержат дубликаты, которые следует удалить."
   ]
  },
  {
   "cell_type": "code",
   "execution_count": 30,
   "metadata": {},
   "outputs": [],
   "source": [
    "# Удаляем дубликаты\n",
    "education_df = education_df.drop_duplicates()"
   ]
  },
  {
   "cell_type": "code",
   "execution_count": 31,
   "metadata": {},
   "outputs": [],
   "source": [
    "# Удаляем дубликаты\n",
    "degrees_df = degrees_df.drop_duplicates()"
   ]
  },
  {
   "cell_type": "code",
   "execution_count": 32,
   "metadata": {},
   "outputs": [],
   "source": [
    "# Устанавливаем библиотеку\n",
    "!pip install matplotlib-venn"
   ]
  },
  {
   "cell_type": "markdown",
   "metadata": {},
   "source": [
    "Посмотрим, как пересекаются значения `company_ID` и `company_id` датасета `company_and_rounds`."
   ]
  },
  {
   "cell_type": "code",
   "execution_count": 33,
   "metadata": {},
   "outputs": [
    {
     "data": {
      "image/png": "[encoded data removed]",
      "text/plain": [
       "<Figure size 432x288 with 1 Axes>"
      ]
     },
     "metadata": {},
     "output_type": "display_data"
    }
   ],
   "source": [
    "# Импортируем библиотеки\n",
    "from matplotlib_venn import venn2\n",
    "\n",
    "# Создаем множетсва уникальных айди компаний\n",
    "first_id = set(company_and_rounds_df['company_ID'].dropna().unique())\n",
    "second_id = set(company_and_rounds_df['company_id'].dropna().unique())\n",
    "\n",
    "# Строим диаграмму Венна\n",
    "venn2([first_id, second_id], set_labels=('company_ID', 'company_id'))\n",
    "\n",
    "# Отображаем график\n",
    "plt.title(\"Пересечение \")\n",
    "plt.show() "
   ]
  },
  {
   "cell_type": "markdown",
   "metadata": {},
   "source": [
    "Диаграмма показывает, что практически все значения `company_id` содержатся также и в `company_ID`. Можно сделать вывод, что эти столбцы могли использоваться для **объединения** двух датафреймов в один."
   ]
  },
  {
   "cell_type": "markdown",
   "metadata": {},
   "source": [
    "<div class=\"alert alert-block alert-success\">✔️\n",
    "    \n",
    "\n",
    "__Комментарий от ревьюера №1__\n",
    "\n",
    "Успех:\n",
    "\n",
    "\n",
    "- Предварительный обзор данных сделан\n",
    "\n",
    " \n",
    "\n",
    "- Поработала со стилистикой  \n",
    "\n",
    "\n",
    "     \n",
    "<div class=\"alert alert-warning\">\n",
    "\n",
    "Совет 🤔:\n",
    " \n",
    "\n",
    "\n",
    "\n",
    "- Можно было дополнительно сконцентрировать внимание на     company  ID и company  id. Почему такие одинаковые названия, что за этим стоит? Сделать проверку насколько они совпадают. Можно красиво это увидеть с помощью (схема) \n",
    "\n",
    "\n",
    "\tfirst_id = set(company_and_rounds_df['company  ID'].dropna().unique())\n",
    "\tsecond_id = set(company_and_rounds_df['company  id'].dropna().unique())\n",
    "\t# Строим диаграмму Венна\n",
    "\tvenn2([first_id, second_id], set_labels=('company  ID', 'company  id'))\n",
    "\n",
    "\t# Отображаем график\n",
    "\tplt.title(\"Пересечение \")\n",
    "\tplt.show() \n",
    "\t\n",
    "\t\n",
    "\t\n",
    "(хотя лучше провести сравнение по срочно, так будет корректнее)"
   ]
  },
  {
   "cell_type": "markdown",
   "metadata": {},
   "source": [
    "<div class=\"alert alert-info\">Спасибо! </div>"
   ]
  },
  {
   "cell_type": "markdown",
   "metadata": {},
   "source": [
    "<div class=\"alert alert-block alert-success\">✔️\n",
    "    \n",
    "\n",
    "__Комментарий от ревьюера №2__\n",
    "\n",
    "Рад, что воспользовалась)"
   ]
  },
  {
   "cell_type": "markdown",
   "metadata": {
    "id": "u60cHsn6rJg1"
   },
   "source": [
    "## Шаг 2. Предобработка данных, предварительное исследование"
   ]
  },
  {
   "cell_type": "markdown",
   "metadata": {
    "id": "g2bHIIjcrJg1"
   },
   "source": [
    "\n",
    "### Раунды финансирования по годам\n",
    "\n",
    "Задание необходимо выполнить без объединения и дополнительной предобработки на основе датасета `company_and_rounds.csv`.\n",
    "\n",
    "- Составьте сводную таблицу по годам, в которой на основании столбца `raised_amount` для каждого года указан:\n",
    "    - типичный размер средств, выделяемый в рамках одного раунда;\n",
    "    - общее количество раундов финансирования за этот год.\n",
    "    \n",
    "- Оставьте в таблице информацию только для тех лет, для которых есть информация о более чем 50 раундах финансирования.\n",
    "- На основе получившейся таблицы постройте график, который будет отражать динамику типичного размера средств, которые стартапы получали в рамках одного раунда финансирования.\n",
    "\n",
    "На основе полученных данных ответьте на вопросы:\n",
    "\n",
    "- В каком году типичный размер собранных в рамках одного раунда средств был максимален?\n",
    "- Какая тенденция по количеству раундов и выделяемых в рамках каждого раунда средств наблюдалась в 2013 году?"
   ]
  },
  {
   "cell_type": "code",
   "execution_count": 34,
   "metadata": {
    "id": "Cf5IjfOQrJg1",
    "scrolled": true,
    "vscode": {
     "languageId": "plaintext"
    }
   },
   "outputs": [
    {
     "data": {
      "text/html": [
       "<div>\n",
       "<style scoped>\n",
       "    .dataframe tbody tr th:only-of-type {\n",
       "        vertical-align: middle;\n",
       "    }\n",
       "\n",
       "    .dataframe tbody tr th {\n",
       "        vertical-align: top;\n",
       "    }\n",
       "\n",
       "    .dataframe thead th {\n",
       "        text-align: right;\n",
       "    }\n",
       "</style>\n",
       "<table border=\"1\" class=\"dataframe\">\n",
       "  <thead>\n",
       "    <tr style=\"text-align: right;\">\n",
       "      <th></th>\n",
       "      <th>median_amount</th>\n",
       "      <th>count_rounds</th>\n",
       "    </tr>\n",
       "    <tr>\n",
       "      <th>funded_at_year</th>\n",
       "      <th></th>\n",
       "      <th></th>\n",
       "    </tr>\n",
       "  </thead>\n",
       "  <tbody>\n",
       "    <tr>\n",
       "      <th>1999.0</th>\n",
       "      <td>2000000.0</td>\n",
       "      <td>76</td>\n",
       "    </tr>\n",
       "    <tr>\n",
       "      <th>2000.0</th>\n",
       "      <td>4200000.0</td>\n",
       "      <td>125</td>\n",
       "    </tr>\n",
       "    <tr>\n",
       "      <th>2001.0</th>\n",
       "      <td>3000000.0</td>\n",
       "      <td>96</td>\n",
       "    </tr>\n",
       "    <tr>\n",
       "      <th>2002.0</th>\n",
       "      <td>4200000.0</td>\n",
       "      <td>116</td>\n",
       "    </tr>\n",
       "    <tr>\n",
       "      <th>2003.0</th>\n",
       "      <td>3000000.0</td>\n",
       "      <td>159</td>\n",
       "    </tr>\n",
       "    <tr>\n",
       "      <th>2004.0</th>\n",
       "      <td>5000000.0</td>\n",
       "      <td>291</td>\n",
       "    </tr>\n",
       "    <tr>\n",
       "      <th>2005.0</th>\n",
       "      <td>5500000.0</td>\n",
       "      <td>1633</td>\n",
       "    </tr>\n",
       "    <tr>\n",
       "      <th>2006.0</th>\n",
       "      <td>5000000.0</td>\n",
       "      <td>2436</td>\n",
       "    </tr>\n",
       "    <tr>\n",
       "      <th>2007.0</th>\n",
       "      <td>3973320.0</td>\n",
       "      <td>3279</td>\n",
       "    </tr>\n",
       "    <tr>\n",
       "      <th>2008.0</th>\n",
       "      <td>3110000.0</td>\n",
       "      <td>3774</td>\n",
       "    </tr>\n",
       "    <tr>\n",
       "      <th>2009.0</th>\n",
       "      <td>2000000.0</td>\n",
       "      <td>4151</td>\n",
       "    </tr>\n",
       "    <tr>\n",
       "      <th>2010.0</th>\n",
       "      <td>1602500.0</td>\n",
       "      <td>6221</td>\n",
       "    </tr>\n",
       "    <tr>\n",
       "      <th>2011.0</th>\n",
       "      <td>1200000.0</td>\n",
       "      <td>9204</td>\n",
       "    </tr>\n",
       "    <tr>\n",
       "      <th>2012.0</th>\n",
       "      <td>1000000.0</td>\n",
       "      <td>9970</td>\n",
       "    </tr>\n",
       "    <tr>\n",
       "      <th>2013.0</th>\n",
       "      <td>1200000.0</td>\n",
       "      <td>11072</td>\n",
       "    </tr>\n",
       "  </tbody>\n",
       "</table>\n",
       "</div>"
      ],
      "text/plain": [
       "                median_amount  count_rounds\n",
       "funded_at_year                             \n",
       "1999.0              2000000.0            76\n",
       "2000.0              4200000.0           125\n",
       "2001.0              3000000.0            96\n",
       "2002.0              4200000.0           116\n",
       "2003.0              3000000.0           159\n",
       "2004.0              5000000.0           291\n",
       "2005.0              5500000.0          1633\n",
       "2006.0              5000000.0          2436\n",
       "2007.0              3973320.0          3279\n",
       "2008.0              3110000.0          3774\n",
       "2009.0              2000000.0          4151\n",
       "2010.0              1602500.0          6221\n",
       "2011.0              1200000.0          9204\n",
       "2012.0              1000000.0          9970\n",
       "2013.0              1200000.0         11072"
      ]
     },
     "execution_count": 34,
     "metadata": {},
     "output_type": "execute_result"
    }
   ],
   "source": [
    "# Создаём сводную таблицу по годам финансирования\n",
    "funded_pivot_table = pd.pivot_table(company_and_rounds_df, \n",
    "                                    index = 'funded_at_year', \n",
    "                                    values = 'raised_amount', \n",
    "                                    aggfunc = ['median', 'count'])\n",
    "\n",
    "# Переименовываем столбцы таблицы\n",
    "funded_pivot_table.columns = ['median_amount', 'count_rounds'] \n",
    "\n",
    "# Оставляем только те года, в которых есть информация более чем о 50 ранудах финансирования\n",
    "funded_pivot_table = funded_pivot_table[funded_pivot_table['count_rounds'] > 50]\n",
    "\n",
    "funded_pivot_table"
   ]
  },
  {
   "cell_type": "code",
   "execution_count": 35,
   "metadata": {},
   "outputs": [
    {
     "data": {
      "image/png": "[encoded data removed]",
      "text/plain": [
       "<Figure size 1152x360 with 1 Axes>"
      ]
     },
     "metadata": {
      "needs_background": "light"
     },
     "output_type": "display_data"
    }
   ],
   "source": [
    "# Добавляем столбец, содержащий скользящее среднее\n",
    "funded_pivot_table['moving_line'] = funded_pivot_table['median_amount'].rolling(window = 3, min_periods = 1).mean()\n",
    "\n",
    "# Строим линейный граифк\n",
    "ax = funded_pivot_table['median_amount'].plot(\n",
    "    kind='line',\n",
    "    marker='o',\n",
    "    title = 'Динамика типичного размера средств в рамках одного раунда финансирования по годам',\n",
    "    figsize = (16, 5),\n",
    "    xlabel = 'Год финансирования',\n",
    "    ylabel = 'Типичный размер средств в рамках одного раунда, млн.руб',\n",
    "    grid = True,\n",
    "    label = 'Медиана размера средств по году'\n",
    ")\n",
    "\n",
    "# Добавляем скользящее среднее на график\n",
    "funded_pivot_table['moving_line'].plot(\n",
    "    ax=ax,  \n",
    "    color='red',\n",
    "    linestyle='--',\n",
    "    label='Скользящее среднее (3 года)'\n",
    ")\n",
    "\n",
    "plt.legend()\n",
    "plt.show()"
   ]
  },
  {
   "cell_type": "markdown",
   "metadata": {
    "id": "Z92DzKMMFdKW"
   },
   "source": [
    "*В каком году типичный размер собранных в рамках одного раунда средств был максимален?*\n",
    "\n",
    "Типичный размер собранных в рамках одного раунда средств был максимален в **2005** году и составил 5500000, также можно выделить 2004 и 2006 года, в которых он составил 5000000.\n",
    "\n",
    "*Какая тенденция по количеству раундов и выделяемых в рамках каждого раунда средств наблюдалась в 2013 году?*\n",
    "\n",
    "В 2013 году насчитывалось **11072** раундов финансрования, медианная сумма средств в рамках одного раунда финансирования составила **1200000 рублей**."
   ]
  },
  {
   "cell_type": "markdown",
   "metadata": {},
   "source": [
    "<div class=\"alert alert-block alert-success\">✔️\n",
    "    \n",
    "\n",
    "__Комментарий от ревьюера №1__\n",
    "\n",
    "\n",
    "\n",
    "- Верно что использована медиана \n",
    "  \n",
    "    \n",
    "- График получен верный.  Оформление отличное - надписи по осям, заголовок\n",
    "  \n",
    "    \n",
    " \n",
    "\n",
    "    \n",
    "<div class=\"alert alert-warning\">\n",
    "\n",
    "Совет 🤔:\n",
    "\n",
    "    \n",
    "     \n",
    "\n",
    "    \n",
    "- Когда имеем дело с временными рядами, есть такой классический инструмент как скользящая средняя. Тенденции очевидны и так, но если хочешь можешь наложить, для сглаживания     \n",
    "    \n",
    "    \n",
    "    \n",
    "- Кстати тут можно добавить коэффициент дефляции,  ведь покупательная способность одного доллара в 2000 и 2013 года разная. Такой вот экономический аспектик     \n",
    "    \n",
    "     "
   ]
  },
  {
   "cell_type": "markdown",
   "metadata": {},
   "source": [
    "<div class=\"alert alert-info\">Добавила скользящее среднее, спасибо!</div>"
   ]
  },
  {
   "cell_type": "markdown",
   "metadata": {},
   "source": [
    "<div class=\"alert alert-block alert-success\">✔️\n",
    "    \n",
    "\n",
    "__Комментарий от ревьюера №2__\n",
    "\n",
    "Корректная реализация, молодец!"
   ]
  },
  {
   "cell_type": "markdown",
   "metadata": {
    "id": "45if1en1rJg2"
   },
   "source": [
    "\n",
    "### Люди и их образование\n",
    "\n",
    "Заказчик хочет понять, зависит ли полнота сведений о сотрудниках (например, об их образовании) от размера компаний.\n",
    "\n",
    "- Оцените, насколько информация об образовании сотрудников полна. Используя датасеты `people.csv` и `education.csv`, разделите все компании на несколько групп по количеству сотрудников и оцените среднюю долю сотрудников без информации об образовании в каждой из групп. Обоснуйте выбранные границы групп.\n",
    "- Оцените, возможно ли для выполнения задания присоединить к этим таблицам ещё и таблицу `degrees.csv`."
   ]
  },
  {
   "cell_type": "code",
   "execution_count": 36,
   "metadata": {
    "id": "psPO7C4MrJg2",
    "vscode": {
     "languageId": "plaintext"
    }
   },
   "outputs": [
    {
     "data": {
      "text/html": [
       "<div>\n",
       "<style scoped>\n",
       "    .dataframe tbody tr th:only-of-type {\n",
       "        vertical-align: middle;\n",
       "    }\n",
       "\n",
       "    .dataframe tbody tr th {\n",
       "        vertical-align: top;\n",
       "    }\n",
       "\n",
       "    .dataframe thead th {\n",
       "        text-align: right;\n",
       "    }\n",
       "</style>\n",
       "<table border=\"1\" class=\"dataframe\">\n",
       "  <thead>\n",
       "    <tr style=\"text-align: right;\">\n",
       "      <th></th>\n",
       "      <th>company_id</th>\n",
       "      <th>people_count</th>\n",
       "    </tr>\n",
       "  </thead>\n",
       "  <tbody>\n",
       "    <tr>\n",
       "      <th>0</th>\n",
       "      <td>1.0</td>\n",
       "      <td>2</td>\n",
       "    </tr>\n",
       "    <tr>\n",
       "      <th>1</th>\n",
       "      <td>2.0</td>\n",
       "      <td>1</td>\n",
       "    </tr>\n",
       "    <tr>\n",
       "      <th>2</th>\n",
       "      <td>3.0</td>\n",
       "      <td>3</td>\n",
       "    </tr>\n",
       "    <tr>\n",
       "      <th>3</th>\n",
       "      <td>4.0</td>\n",
       "      <td>13</td>\n",
       "    </tr>\n",
       "    <tr>\n",
       "      <th>4</th>\n",
       "      <td>5.0</td>\n",
       "      <td>61</td>\n",
       "    </tr>\n",
       "    <tr>\n",
       "      <th>...</th>\n",
       "      <td>...</td>\n",
       "      <td>...</td>\n",
       "    </tr>\n",
       "    <tr>\n",
       "      <th>22917</th>\n",
       "      <td>285897.0</td>\n",
       "      <td>2</td>\n",
       "    </tr>\n",
       "    <tr>\n",
       "      <th>22918</th>\n",
       "      <td>285953.0</td>\n",
       "      <td>1</td>\n",
       "    </tr>\n",
       "    <tr>\n",
       "      <th>22919</th>\n",
       "      <td>285972.0</td>\n",
       "      <td>2</td>\n",
       "    </tr>\n",
       "    <tr>\n",
       "      <th>22920</th>\n",
       "      <td>285996.0</td>\n",
       "      <td>1</td>\n",
       "    </tr>\n",
       "    <tr>\n",
       "      <th>22921</th>\n",
       "      <td>286091.0</td>\n",
       "      <td>6</td>\n",
       "    </tr>\n",
       "  </tbody>\n",
       "</table>\n",
       "<p>22922 rows × 2 columns</p>\n",
       "</div>"
      ],
      "text/plain": [
       "       company_id  people_count\n",
       "0             1.0             2\n",
       "1             2.0             1\n",
       "2             3.0             3\n",
       "3             4.0            13\n",
       "4             5.0            61\n",
       "...           ...           ...\n",
       "22917    285897.0             2\n",
       "22918    285953.0             1\n",
       "22919    285972.0             2\n",
       "22920    285996.0             1\n",
       "22921    286091.0             6\n",
       "\n",
       "[22922 rows x 2 columns]"
      ]
     },
     "execution_count": 36,
     "metadata": {},
     "output_type": "execute_result"
    }
   ],
   "source": [
    "# Группируем данные по столбцу company_id, считаем количество сотрудников в каждой компании, переименовываем столбцы\n",
    "count_people = people_df.groupby('company_id')['id'].count().reset_index().rename(columns={'id': 'people_count'})\n",
    "\n",
    "# Сохраняем в датафрейме count_people и выводим результат\n",
    "count_people"
   ]
  },
  {
   "cell_type": "markdown",
   "metadata": {},
   "source": [
    "Посмотрим на распределение количества сотрудников в компаниях для определения границ групп."
   ]
  },
  {
   "cell_type": "code",
   "execution_count": 37,
   "metadata": {},
   "outputs": [
    {
     "data": {
      "text/plain": [
       "1      18117\n",
       "2       2709\n",
       "3        921\n",
       "4        450\n",
       "5        237\n",
       "6        138\n",
       "7        100\n",
       "8         59\n",
       "9         46\n",
       "11        30\n",
       "10        25\n",
       "13        17\n",
       "12        16\n",
       "14         8\n",
       "17         5\n",
       "16         4\n",
       "23         3\n",
       "15         3\n",
       "20         3\n",
       "18         3\n",
       "19         3\n",
       "21         2\n",
       "22         2\n",
       "56         2\n",
       "25         2\n",
       "29         2\n",
       "35         1\n",
       "47         1\n",
       "31         1\n",
       "48         1\n",
       "61         1\n",
       "51         1\n",
       "138        1\n",
       "26         1\n",
       "244        1\n",
       "72         1\n",
       "36         1\n",
       "39         1\n",
       "32         1\n",
       "150        1\n",
       "63         1\n",
       "Name: people_count, dtype: int64"
      ]
     },
     "execution_count": 37,
     "metadata": {},
     "output_type": "execute_result"
    }
   ],
   "source": [
    "# Считаем количество компаний с определенным количеством сотрудников\n",
    "count_people['people_count'].sort_values().value_counts()"
   ]
  },
  {
   "cell_type": "markdown",
   "metadata": {},
   "source": [
    "Выберем границы групп так, чтобы в каждой было примерно равно количество компаний."
   ]
  },
  {
   "cell_type": "code",
   "execution_count": 38,
   "metadata": {
    "id": "4FC98Pd-FcmG"
   },
   "outputs": [
    {
     "data": {
      "text/html": [
       "<div>\n",
       "<style scoped>\n",
       "    .dataframe tbody tr th:only-of-type {\n",
       "        vertical-align: middle;\n",
       "    }\n",
       "\n",
       "    .dataframe tbody tr th {\n",
       "        vertical-align: top;\n",
       "    }\n",
       "\n",
       "    .dataframe thead th {\n",
       "        text-align: right;\n",
       "    }\n",
       "</style>\n",
       "<table border=\"1\" class=\"dataframe\">\n",
       "  <thead>\n",
       "    <tr style=\"text-align: right;\">\n",
       "      <th></th>\n",
       "      <th>company_id</th>\n",
       "      <th>people_count</th>\n",
       "      <th>company_group</th>\n",
       "    </tr>\n",
       "  </thead>\n",
       "  <tbody>\n",
       "    <tr>\n",
       "      <th>0</th>\n",
       "      <td>1.0</td>\n",
       "      <td>2</td>\n",
       "      <td>2</td>\n",
       "    </tr>\n",
       "    <tr>\n",
       "      <th>1</th>\n",
       "      <td>2.0</td>\n",
       "      <td>1</td>\n",
       "      <td>1</td>\n",
       "    </tr>\n",
       "    <tr>\n",
       "      <th>2</th>\n",
       "      <td>3.0</td>\n",
       "      <td>3</td>\n",
       "      <td>3</td>\n",
       "    </tr>\n",
       "    <tr>\n",
       "      <th>3</th>\n",
       "      <td>4.0</td>\n",
       "      <td>13</td>\n",
       "      <td>11-25</td>\n",
       "    </tr>\n",
       "    <tr>\n",
       "      <th>4</th>\n",
       "      <td>5.0</td>\n",
       "      <td>61</td>\n",
       "      <td>26+</td>\n",
       "    </tr>\n",
       "    <tr>\n",
       "      <th>...</th>\n",
       "      <td>...</td>\n",
       "      <td>...</td>\n",
       "      <td>...</td>\n",
       "    </tr>\n",
       "    <tr>\n",
       "      <th>22917</th>\n",
       "      <td>285897.0</td>\n",
       "      <td>2</td>\n",
       "      <td>2</td>\n",
       "    </tr>\n",
       "    <tr>\n",
       "      <th>22918</th>\n",
       "      <td>285953.0</td>\n",
       "      <td>1</td>\n",
       "      <td>1</td>\n",
       "    </tr>\n",
       "    <tr>\n",
       "      <th>22919</th>\n",
       "      <td>285972.0</td>\n",
       "      <td>2</td>\n",
       "      <td>2</td>\n",
       "    </tr>\n",
       "    <tr>\n",
       "      <th>22920</th>\n",
       "      <td>285996.0</td>\n",
       "      <td>1</td>\n",
       "      <td>1</td>\n",
       "    </tr>\n",
       "    <tr>\n",
       "      <th>22921</th>\n",
       "      <td>286091.0</td>\n",
       "      <td>6</td>\n",
       "      <td>6-10</td>\n",
       "    </tr>\n",
       "  </tbody>\n",
       "</table>\n",
       "<p>22922 rows × 3 columns</p>\n",
       "</div>"
      ],
      "text/plain": [
       "       company_id  people_count company_group\n",
       "0             1.0             2             2\n",
       "1             2.0             1             1\n",
       "2             3.0             3             3\n",
       "3             4.0            13         11-25\n",
       "4             5.0            61           26+\n",
       "...           ...           ...           ...\n",
       "22917    285897.0             2             2\n",
       "22918    285953.0             1             1\n",
       "22919    285972.0             2             2\n",
       "22920    285996.0             1             1\n",
       "22921    286091.0             6          6-10\n",
       "\n",
       "[22922 rows x 3 columns]"
      ]
     },
     "execution_count": 38,
     "metadata": {},
     "output_type": "execute_result"
    }
   ],
   "source": [
    "# Определяем границы и названия групп\n",
    "bins   = [0, 1, 2, 3, 5, 10, 25, float('inf')]\n",
    "labels = ['1', '2', '3', '4-5', '6-10', '11-25', '26+']\n",
    "\n",
    "# Добавляем столбец company_group, содержащий группу предприятия по количеству сотрудников\n",
    "count_people['company_group'] = pd.cut(count_people['people_count'], bins=bins, labels=labels)\n",
    "\n",
    "# Выводим датафрейм\n",
    "count_people"
   ]
  },
  {
   "cell_type": "code",
   "execution_count": 39,
   "metadata": {},
   "outputs": [
    {
     "data": {
      "text/html": [
       "<div>\n",
       "<style scoped>\n",
       "    .dataframe tbody tr th:only-of-type {\n",
       "        vertical-align: middle;\n",
       "    }\n",
       "\n",
       "    .dataframe tbody tr th {\n",
       "        vertical-align: top;\n",
       "    }\n",
       "\n",
       "    .dataframe thead th {\n",
       "        text-align: right;\n",
       "    }\n",
       "</style>\n",
       "<table border=\"1\" class=\"dataframe\">\n",
       "  <thead>\n",
       "    <tr style=\"text-align: right;\">\n",
       "      <th></th>\n",
       "      <th>person_id</th>\n",
       "      <th>education_count</th>\n",
       "      <th>education</th>\n",
       "    </tr>\n",
       "  </thead>\n",
       "  <tbody>\n",
       "    <tr>\n",
       "      <th>0</th>\n",
       "      <td>2</td>\n",
       "      <td>1</td>\n",
       "      <td>True</td>\n",
       "    </tr>\n",
       "    <tr>\n",
       "      <th>1</th>\n",
       "      <td>3</td>\n",
       "      <td>2</td>\n",
       "      <td>True</td>\n",
       "    </tr>\n",
       "    <tr>\n",
       "      <th>2</th>\n",
       "      <td>5</td>\n",
       "      <td>2</td>\n",
       "      <td>True</td>\n",
       "    </tr>\n",
       "    <tr>\n",
       "      <th>3</th>\n",
       "      <td>6</td>\n",
       "      <td>2</td>\n",
       "      <td>True</td>\n",
       "    </tr>\n",
       "    <tr>\n",
       "      <th>4</th>\n",
       "      <td>7</td>\n",
       "      <td>1</td>\n",
       "      <td>True</td>\n",
       "    </tr>\n",
       "    <tr>\n",
       "      <th>...</th>\n",
       "      <td>...</td>\n",
       "      <td>...</td>\n",
       "      <td>...</td>\n",
       "    </tr>\n",
       "    <tr>\n",
       "      <th>68446</th>\n",
       "      <td>268524</td>\n",
       "      <td>3</td>\n",
       "      <td>True</td>\n",
       "    </tr>\n",
       "    <tr>\n",
       "      <th>68447</th>\n",
       "      <td>268527</td>\n",
       "      <td>2</td>\n",
       "      <td>True</td>\n",
       "    </tr>\n",
       "    <tr>\n",
       "      <th>68448</th>\n",
       "      <td>268528</td>\n",
       "      <td>2</td>\n",
       "      <td>True</td>\n",
       "    </tr>\n",
       "    <tr>\n",
       "      <th>68449</th>\n",
       "      <td>268560</td>\n",
       "      <td>1</td>\n",
       "      <td>True</td>\n",
       "    </tr>\n",
       "    <tr>\n",
       "      <th>68450</th>\n",
       "      <td>268589</td>\n",
       "      <td>2</td>\n",
       "      <td>True</td>\n",
       "    </tr>\n",
       "  </tbody>\n",
       "</table>\n",
       "<p>68451 rows × 3 columns</p>\n",
       "</div>"
      ],
      "text/plain": [
       "       person_id  education_count  education\n",
       "0              2                1       True\n",
       "1              3                2       True\n",
       "2              5                2       True\n",
       "3              6                2       True\n",
       "4              7                1       True\n",
       "...          ...              ...        ...\n",
       "68446     268524                3       True\n",
       "68447     268527                2       True\n",
       "68448     268528                2       True\n",
       "68449     268560                1       True\n",
       "68450     268589                2       True\n",
       "\n",
       "[68451 rows x 3 columns]"
      ]
     },
     "execution_count": 39,
     "metadata": {},
     "output_type": "execute_result"
    }
   ],
   "source": [
    "# Группируем датафрейм по идентификатору сотрудника и считаем количество записей об образовании для каждого, сохраняем в датафрейм education_existence\n",
    "education_existence = education_df.groupby('person_id').size().reset_index(name='education_count')\n",
    "\n",
    "# Добавляем столбец, показывающий, что у сотрудника есть информация об образовании\n",
    "education_existence['education'] = True\n",
    "\n",
    "# Выводим результат\n",
    "education_existence"
   ]
  },
  {
   "cell_type": "code",
   "execution_count": 40,
   "metadata": {},
   "outputs": [
    {
     "data": {
      "text/html": [
       "<div>\n",
       "<style scoped>\n",
       "    .dataframe tbody tr th:only-of-type {\n",
       "        vertical-align: middle;\n",
       "    }\n",
       "\n",
       "    .dataframe tbody tr th {\n",
       "        vertical-align: top;\n",
       "    }\n",
       "\n",
       "    .dataframe thead th {\n",
       "        text-align: right;\n",
       "    }\n",
       "</style>\n",
       "<table border=\"1\" class=\"dataframe\">\n",
       "  <thead>\n",
       "    <tr style=\"text-align: right;\">\n",
       "      <th></th>\n",
       "      <th>id</th>\n",
       "      <th>first_name</th>\n",
       "      <th>last_name</th>\n",
       "      <th>company_id</th>\n",
       "      <th>network_username</th>\n",
       "      <th>people_count</th>\n",
       "      <th>company_group</th>\n",
       "    </tr>\n",
       "  </thead>\n",
       "  <tbody>\n",
       "    <tr>\n",
       "      <th>0</th>\n",
       "      <td>10</td>\n",
       "      <td>Mark</td>\n",
       "      <td>Zuckerberg</td>\n",
       "      <td>5.0</td>\n",
       "      <td>NaN</td>\n",
       "      <td>61</td>\n",
       "      <td>26+</td>\n",
       "    </tr>\n",
       "    <tr>\n",
       "      <th>1</th>\n",
       "      <td>10430</td>\n",
       "      <td>Ruchi</td>\n",
       "      <td>Sanghvi</td>\n",
       "      <td>5.0</td>\n",
       "      <td>rsanghvi</td>\n",
       "      <td>61</td>\n",
       "      <td>26+</td>\n",
       "    </tr>\n",
       "    <tr>\n",
       "      <th>2</th>\n",
       "      <td>106199</td>\n",
       "      <td>Adam</td>\n",
       "      <td>Marchick</td>\n",
       "      <td>5.0</td>\n",
       "      <td>adammarstanford</td>\n",
       "      <td>61</td>\n",
       "      <td>26+</td>\n",
       "    </tr>\n",
       "    <tr>\n",
       "      <th>3</th>\n",
       "      <td>108814</td>\n",
       "      <td>Jimmy</td>\n",
       "      <td>Zhu</td>\n",
       "      <td>5.0</td>\n",
       "      <td>jyzhu</td>\n",
       "      <td>61</td>\n",
       "      <td>26+</td>\n",
       "    </tr>\n",
       "    <tr>\n",
       "      <th>4</th>\n",
       "      <td>11</td>\n",
       "      <td>Dustin</td>\n",
       "      <td>Moskovitz</td>\n",
       "      <td>5.0</td>\n",
       "      <td>NaN</td>\n",
       "      <td>61</td>\n",
       "      <td>26+</td>\n",
       "    </tr>\n",
       "    <tr>\n",
       "      <th>...</th>\n",
       "      <td>...</td>\n",
       "      <td>...</td>\n",
       "      <td>...</td>\n",
       "      <td>...</td>\n",
       "      <td>...</td>\n",
       "      <td>...</td>\n",
       "      <td>...</td>\n",
       "    </tr>\n",
       "    <tr>\n",
       "      <th>34610</th>\n",
       "      <td>99990</td>\n",
       "      <td>Tzvi</td>\n",
       "      <td>Milshtein</td>\n",
       "      <td>81971.0</td>\n",
       "      <td>NaN</td>\n",
       "      <td>1</td>\n",
       "      <td>1</td>\n",
       "    </tr>\n",
       "    <tr>\n",
       "      <th>34611</th>\n",
       "      <td>99992</td>\n",
       "      <td>Romain</td>\n",
       "      <td>Brabant</td>\n",
       "      <td>146815.0</td>\n",
       "      <td>NaN</td>\n",
       "      <td>1</td>\n",
       "      <td>1</td>\n",
       "    </tr>\n",
       "    <tr>\n",
       "      <th>34612</th>\n",
       "      <td>99997</td>\n",
       "      <td>Peter</td>\n",
       "      <td>Lalonde</td>\n",
       "      <td>83651.0</td>\n",
       "      <td>peterlalonde</td>\n",
       "      <td>1</td>\n",
       "      <td>1</td>\n",
       "    </tr>\n",
       "    <tr>\n",
       "      <th>34613</th>\n",
       "      <td>174088</td>\n",
       "      <td>Dr. Ray</td>\n",
       "      <td>Woods</td>\n",
       "      <td>188200.0</td>\n",
       "      <td>network</td>\n",
       "      <td>1</td>\n",
       "      <td>1</td>\n",
       "    </tr>\n",
       "    <tr>\n",
       "      <th>34614</th>\n",
       "      <td>118386</td>\n",
       "      <td>Ricardo</td>\n",
       "      <td>Durand</td>\n",
       "      <td>143419.0</td>\n",
       "      <td>itechsocialnet</td>\n",
       "      <td>1</td>\n",
       "      <td>1</td>\n",
       "    </tr>\n",
       "  </tbody>\n",
       "</table>\n",
       "<p>34615 rows × 7 columns</p>\n",
       "</div>"
      ],
      "text/plain": [
       "           id first_name   last_name  company_id network_username  \\\n",
       "0          10       Mark  Zuckerberg         5.0              NaN   \n",
       "1       10430      Ruchi     Sanghvi         5.0         rsanghvi   \n",
       "2      106199       Adam    Marchick         5.0  adammarstanford   \n",
       "3      108814      Jimmy         Zhu         5.0            jyzhu   \n",
       "4          11     Dustin   Moskovitz         5.0              NaN   \n",
       "...       ...        ...         ...         ...              ...   \n",
       "34610   99990       Tzvi   Milshtein     81971.0              NaN   \n",
       "34611   99992     Romain     Brabant    146815.0              NaN   \n",
       "34612   99997      Peter     Lalonde     83651.0     peterlalonde   \n",
       "34613  174088    Dr. Ray       Woods    188200.0          network   \n",
       "34614  118386    Ricardo      Durand    143419.0   itechsocialnet   \n",
       "\n",
       "       people_count company_group  \n",
       "0                61           26+  \n",
       "1                61           26+  \n",
       "2                61           26+  \n",
       "3                61           26+  \n",
       "4                61           26+  \n",
       "...             ...           ...  \n",
       "34610             1             1  \n",
       "34611             1             1  \n",
       "34612             1             1  \n",
       "34613             1             1  \n",
       "34614             1             1  \n",
       "\n",
       "[34615 rows x 7 columns]"
      ]
     },
     "execution_count": 40,
     "metadata": {},
     "output_type": "execute_result"
    }
   ],
   "source": [
    "# Объединяем датафреймы people_df и count_people\n",
    "people_count_df = people_df.merge(count_people, on = 'company_id', how = 'inner')\n",
    "\n",
    "# Выводим результат\n",
    "people_count_df"
   ]
  },
  {
   "cell_type": "code",
   "execution_count": 41,
   "metadata": {},
   "outputs": [
    {
     "data": {
      "text/html": [
       "<div>\n",
       "<style scoped>\n",
       "    .dataframe tbody tr th:only-of-type {\n",
       "        vertical-align: middle;\n",
       "    }\n",
       "\n",
       "    .dataframe tbody tr th {\n",
       "        vertical-align: top;\n",
       "    }\n",
       "\n",
       "    .dataframe thead th {\n",
       "        text-align: right;\n",
       "    }\n",
       "</style>\n",
       "<table border=\"1\" class=\"dataframe\">\n",
       "  <thead>\n",
       "    <tr style=\"text-align: right;\">\n",
       "      <th></th>\n",
       "      <th>id</th>\n",
       "      <th>first_name</th>\n",
       "      <th>last_name</th>\n",
       "      <th>company_id</th>\n",
       "      <th>network_username</th>\n",
       "      <th>people_count</th>\n",
       "      <th>company_group</th>\n",
       "      <th>person_id</th>\n",
       "      <th>education_count</th>\n",
       "      <th>education</th>\n",
       "    </tr>\n",
       "  </thead>\n",
       "  <tbody>\n",
       "    <tr>\n",
       "      <th>0</th>\n",
       "      <td>10</td>\n",
       "      <td>Mark</td>\n",
       "      <td>Zuckerberg</td>\n",
       "      <td>5.0</td>\n",
       "      <td>NaN</td>\n",
       "      <td>61</td>\n",
       "      <td>26+</td>\n",
       "      <td>10.0</td>\n",
       "      <td>1.0</td>\n",
       "      <td>True</td>\n",
       "    </tr>\n",
       "    <tr>\n",
       "      <th>1</th>\n",
       "      <td>10430</td>\n",
       "      <td>Ruchi</td>\n",
       "      <td>Sanghvi</td>\n",
       "      <td>5.0</td>\n",
       "      <td>rsanghvi</td>\n",
       "      <td>61</td>\n",
       "      <td>26+</td>\n",
       "      <td>10430.0</td>\n",
       "      <td>1.0</td>\n",
       "      <td>True</td>\n",
       "    </tr>\n",
       "    <tr>\n",
       "      <th>2</th>\n",
       "      <td>106199</td>\n",
       "      <td>Adam</td>\n",
       "      <td>Marchick</td>\n",
       "      <td>5.0</td>\n",
       "      <td>adammarstanford</td>\n",
       "      <td>61</td>\n",
       "      <td>26+</td>\n",
       "      <td>106199.0</td>\n",
       "      <td>1.0</td>\n",
       "      <td>True</td>\n",
       "    </tr>\n",
       "    <tr>\n",
       "      <th>3</th>\n",
       "      <td>108814</td>\n",
       "      <td>Jimmy</td>\n",
       "      <td>Zhu</td>\n",
       "      <td>5.0</td>\n",
       "      <td>jyzhu</td>\n",
       "      <td>61</td>\n",
       "      <td>26+</td>\n",
       "      <td>108814.0</td>\n",
       "      <td>1.0</td>\n",
       "      <td>True</td>\n",
       "    </tr>\n",
       "    <tr>\n",
       "      <th>4</th>\n",
       "      <td>11</td>\n",
       "      <td>Dustin</td>\n",
       "      <td>Moskovitz</td>\n",
       "      <td>5.0</td>\n",
       "      <td>NaN</td>\n",
       "      <td>61</td>\n",
       "      <td>26+</td>\n",
       "      <td>11.0</td>\n",
       "      <td>1.0</td>\n",
       "      <td>True</td>\n",
       "    </tr>\n",
       "    <tr>\n",
       "      <th>...</th>\n",
       "      <td>...</td>\n",
       "      <td>...</td>\n",
       "      <td>...</td>\n",
       "      <td>...</td>\n",
       "      <td>...</td>\n",
       "      <td>...</td>\n",
       "      <td>...</td>\n",
       "      <td>...</td>\n",
       "      <td>...</td>\n",
       "      <td>...</td>\n",
       "    </tr>\n",
       "    <tr>\n",
       "      <th>34610</th>\n",
       "      <td>99990</td>\n",
       "      <td>Tzvi</td>\n",
       "      <td>Milshtein</td>\n",
       "      <td>81971.0</td>\n",
       "      <td>NaN</td>\n",
       "      <td>1</td>\n",
       "      <td>1</td>\n",
       "      <td>99990.0</td>\n",
       "      <td>1.0</td>\n",
       "      <td>True</td>\n",
       "    </tr>\n",
       "    <tr>\n",
       "      <th>34611</th>\n",
       "      <td>99992</td>\n",
       "      <td>Romain</td>\n",
       "      <td>Brabant</td>\n",
       "      <td>146815.0</td>\n",
       "      <td>NaN</td>\n",
       "      <td>1</td>\n",
       "      <td>1</td>\n",
       "      <td>NaN</td>\n",
       "      <td>NaN</td>\n",
       "      <td>False</td>\n",
       "    </tr>\n",
       "    <tr>\n",
       "      <th>34612</th>\n",
       "      <td>99997</td>\n",
       "      <td>Peter</td>\n",
       "      <td>Lalonde</td>\n",
       "      <td>83651.0</td>\n",
       "      <td>peterlalonde</td>\n",
       "      <td>1</td>\n",
       "      <td>1</td>\n",
       "      <td>99997.0</td>\n",
       "      <td>3.0</td>\n",
       "      <td>True</td>\n",
       "    </tr>\n",
       "    <tr>\n",
       "      <th>34613</th>\n",
       "      <td>174088</td>\n",
       "      <td>Dr. Ray</td>\n",
       "      <td>Woods</td>\n",
       "      <td>188200.0</td>\n",
       "      <td>network</td>\n",
       "      <td>1</td>\n",
       "      <td>1</td>\n",
       "      <td>174088.0</td>\n",
       "      <td>1.0</td>\n",
       "      <td>True</td>\n",
       "    </tr>\n",
       "    <tr>\n",
       "      <th>34614</th>\n",
       "      <td>118386</td>\n",
       "      <td>Ricardo</td>\n",
       "      <td>Durand</td>\n",
       "      <td>143419.0</td>\n",
       "      <td>itechsocialnet</td>\n",
       "      <td>1</td>\n",
       "      <td>1</td>\n",
       "      <td>118386.0</td>\n",
       "      <td>1.0</td>\n",
       "      <td>True</td>\n",
       "    </tr>\n",
       "  </tbody>\n",
       "</table>\n",
       "<p>34615 rows × 10 columns</p>\n",
       "</div>"
      ],
      "text/plain": [
       "           id first_name   last_name  company_id network_username  \\\n",
       "0          10       Mark  Zuckerberg         5.0              NaN   \n",
       "1       10430      Ruchi     Sanghvi         5.0         rsanghvi   \n",
       "2      106199       Adam    Marchick         5.0  adammarstanford   \n",
       "3      108814      Jimmy         Zhu         5.0            jyzhu   \n",
       "4          11     Dustin   Moskovitz         5.0              NaN   \n",
       "...       ...        ...         ...         ...              ...   \n",
       "34610   99990       Tzvi   Milshtein     81971.0              NaN   \n",
       "34611   99992     Romain     Brabant    146815.0              NaN   \n",
       "34612   99997      Peter     Lalonde     83651.0     peterlalonde   \n",
       "34613  174088    Dr. Ray       Woods    188200.0          network   \n",
       "34614  118386    Ricardo      Durand    143419.0   itechsocialnet   \n",
       "\n",
       "       people_count company_group  person_id  education_count  education  \n",
       "0                61           26+       10.0              1.0       True  \n",
       "1                61           26+    10430.0              1.0       True  \n",
       "2                61           26+   106199.0              1.0       True  \n",
       "3                61           26+   108814.0              1.0       True  \n",
       "4                61           26+       11.0              1.0       True  \n",
       "...             ...           ...        ...              ...        ...  \n",
       "34610             1             1    99990.0              1.0       True  \n",
       "34611             1             1        NaN              NaN      False  \n",
       "34612             1             1    99997.0              3.0       True  \n",
       "34613             1             1   174088.0              1.0       True  \n",
       "34614             1             1   118386.0              1.0       True  \n",
       "\n",
       "[34615 rows x 10 columns]"
      ]
     },
     "execution_count": 41,
     "metadata": {},
     "output_type": "execute_result"
    }
   ],
   "source": [
    "# Объединяем датафреймы people_count_df и education_existence\n",
    "df = people_count_df.merge(education_existence, left_on = 'id', right_on = 'person_id', how = 'left')\n",
    "\n",
    "# Заполняем пропуски в столбце education значением False\n",
    "df['education'] = df['education'].fillna(False)\n",
    "\n",
    "# Выводим результат\n",
    "df"
   ]
  },
  {
   "cell_type": "code",
   "execution_count": 42,
   "metadata": {},
   "outputs": [
    {
     "data": {
      "text/html": [
       "<div>\n",
       "<style scoped>\n",
       "    .dataframe tbody tr th:only-of-type {\n",
       "        vertical-align: middle;\n",
       "    }\n",
       "\n",
       "    .dataframe tbody tr th {\n",
       "        vertical-align: top;\n",
       "    }\n",
       "\n",
       "    .dataframe thead th {\n",
       "        text-align: right;\n",
       "    }\n",
       "</style>\n",
       "<table border=\"1\" class=\"dataframe\">\n",
       "  <thead>\n",
       "    <tr style=\"text-align: right;\">\n",
       "      <th></th>\n",
       "      <th>company_group</th>\n",
       "      <th>people_count</th>\n",
       "      <th>educated_people_count</th>\n",
       "    </tr>\n",
       "  </thead>\n",
       "  <tbody>\n",
       "    <tr>\n",
       "      <th>0</th>\n",
       "      <td>1</td>\n",
       "      <td>18117</td>\n",
       "      <td>9736</td>\n",
       "    </tr>\n",
       "    <tr>\n",
       "      <th>1</th>\n",
       "      <td>2</td>\n",
       "      <td>5418</td>\n",
       "      <td>2893</td>\n",
       "    </tr>\n",
       "    <tr>\n",
       "      <th>2</th>\n",
       "      <td>3</td>\n",
       "      <td>2763</td>\n",
       "      <td>1418</td>\n",
       "    </tr>\n",
       "    <tr>\n",
       "      <th>3</th>\n",
       "      <td>4-5</td>\n",
       "      <td>2985</td>\n",
       "      <td>1495</td>\n",
       "    </tr>\n",
       "    <tr>\n",
       "      <th>4</th>\n",
       "      <td>6-10</td>\n",
       "      <td>2664</td>\n",
       "      <td>1242</td>\n",
       "    </tr>\n",
       "    <tr>\n",
       "      <th>5</th>\n",
       "      <td>11-25</td>\n",
       "      <td>1425</td>\n",
       "      <td>775</td>\n",
       "    </tr>\n",
       "    <tr>\n",
       "      <th>6</th>\n",
       "      <td>26+</td>\n",
       "      <td>1243</td>\n",
       "      <td>905</td>\n",
       "    </tr>\n",
       "  </tbody>\n",
       "</table>\n",
       "</div>"
      ],
      "text/plain": [
       "  company_group  people_count  educated_people_count\n",
       "0             1         18117                   9736\n",
       "1             2          5418                   2893\n",
       "2             3          2763                   1418\n",
       "3           4-5          2985                   1495\n",
       "4          6-10          2664                   1242\n",
       "5         11-25          1425                    775\n",
       "6           26+          1243                    905"
      ]
     },
     "execution_count": 42,
     "metadata": {},
     "output_type": "execute_result"
    }
   ],
   "source": [
    "# Группируем датафрейм по категории компании, считаем количество сотрудников и количество с информацией об образовании\n",
    "df = df.groupby('company_group').agg({\n",
    "    'id':'count',\n",
    "    'education':'sum',\n",
    "}).reset_index().rename(columns={'id': 'people_count', 'education':'educated_people_count'})\n",
    "\n",
    "# Выводим результат\n",
    "df"
   ]
  },
  {
   "cell_type": "code",
   "execution_count": 43,
   "metadata": {},
   "outputs": [
    {
     "data": {
      "text/html": [
       "<div>\n",
       "<style scoped>\n",
       "    .dataframe tbody tr th:only-of-type {\n",
       "        vertical-align: middle;\n",
       "    }\n",
       "\n",
       "    .dataframe tbody tr th {\n",
       "        vertical-align: top;\n",
       "    }\n",
       "\n",
       "    .dataframe thead th {\n",
       "        text-align: right;\n",
       "    }\n",
       "</style>\n",
       "<table border=\"1\" class=\"dataframe\">\n",
       "  <thead>\n",
       "    <tr style=\"text-align: right;\">\n",
       "      <th></th>\n",
       "      <th>company_group</th>\n",
       "      <th>people_count</th>\n",
       "      <th>educated_people_count</th>\n",
       "      <th>educated_proportion</th>\n",
       "      <th>not_educated_proportion</th>\n",
       "    </tr>\n",
       "  </thead>\n",
       "  <tbody>\n",
       "    <tr>\n",
       "      <th>0</th>\n",
       "      <td>1</td>\n",
       "      <td>18117</td>\n",
       "      <td>9736</td>\n",
       "      <td>0.537396</td>\n",
       "      <td>0.462604</td>\n",
       "    </tr>\n",
       "    <tr>\n",
       "      <th>1</th>\n",
       "      <td>2</td>\n",
       "      <td>5418</td>\n",
       "      <td>2893</td>\n",
       "      <td>0.533961</td>\n",
       "      <td>0.466039</td>\n",
       "    </tr>\n",
       "    <tr>\n",
       "      <th>2</th>\n",
       "      <td>3</td>\n",
       "      <td>2763</td>\n",
       "      <td>1418</td>\n",
       "      <td>0.513210</td>\n",
       "      <td>0.486790</td>\n",
       "    </tr>\n",
       "    <tr>\n",
       "      <th>3</th>\n",
       "      <td>4-5</td>\n",
       "      <td>2985</td>\n",
       "      <td>1495</td>\n",
       "      <td>0.500838</td>\n",
       "      <td>0.499162</td>\n",
       "    </tr>\n",
       "    <tr>\n",
       "      <th>4</th>\n",
       "      <td>6-10</td>\n",
       "      <td>2664</td>\n",
       "      <td>1242</td>\n",
       "      <td>0.466216</td>\n",
       "      <td>0.533784</td>\n",
       "    </tr>\n",
       "    <tr>\n",
       "      <th>5</th>\n",
       "      <td>11-25</td>\n",
       "      <td>1425</td>\n",
       "      <td>775</td>\n",
       "      <td>0.543860</td>\n",
       "      <td>0.456140</td>\n",
       "    </tr>\n",
       "    <tr>\n",
       "      <th>6</th>\n",
       "      <td>26+</td>\n",
       "      <td>1243</td>\n",
       "      <td>905</td>\n",
       "      <td>0.728077</td>\n",
       "      <td>0.271923</td>\n",
       "    </tr>\n",
       "  </tbody>\n",
       "</table>\n",
       "</div>"
      ],
      "text/plain": [
       "  company_group  people_count  educated_people_count  educated_proportion  \\\n",
       "0             1         18117                   9736             0.537396   \n",
       "1             2          5418                   2893             0.533961   \n",
       "2             3          2763                   1418             0.513210   \n",
       "3           4-5          2985                   1495             0.500838   \n",
       "4          6-10          2664                   1242             0.466216   \n",
       "5         11-25          1425                    775             0.543860   \n",
       "6           26+          1243                    905             0.728077   \n",
       "\n",
       "   not_educated_proportion  \n",
       "0                 0.462604  \n",
       "1                 0.466039  \n",
       "2                 0.486790  \n",
       "3                 0.499162  \n",
       "4                 0.533784  \n",
       "5                 0.456140  \n",
       "6                 0.271923  "
      ]
     },
     "execution_count": 43,
     "metadata": {},
     "output_type": "execute_result"
    }
   ],
   "source": [
    "# Считаем долю сотрудников с информацией об образовании и без\n",
    "df['educated_proportion'] = df['educated_people_count'] / df['people_count']\n",
    "df['not_educated_proportion'] = 1 - df['educated_proportion']\n",
    "\n",
    "# Выводим результат\n",
    "df"
   ]
  },
  {
   "cell_type": "markdown",
   "metadata": {},
   "source": [
    "Процент сотрудников без информации об образовании примерно равен для всех компаний - **46-53%**, исключая огромные компании, насчитывающие **более 26 сотрудников** - всего **27%** сотрудников не имеют информации об образовании."
   ]
  },
  {
   "cell_type": "markdown",
   "metadata": {},
   "source": [
    "Оценим, возможно ли присоеднить также датафрейм `degrees_df` для анализа. "
   ]
  },
  {
   "cell_type": "code",
   "execution_count": 44,
   "metadata": {},
   "outputs": [
    {
     "data": {
      "text/html": [
       "<div>\n",
       "<style scoped>\n",
       "    .dataframe tbody tr th:only-of-type {\n",
       "        vertical-align: middle;\n",
       "    }\n",
       "\n",
       "    .dataframe tbody tr th {\n",
       "        vertical-align: top;\n",
       "    }\n",
       "\n",
       "    .dataframe thead th {\n",
       "        text-align: right;\n",
       "    }\n",
       "</style>\n",
       "<table border=\"1\" class=\"dataframe\">\n",
       "  <thead>\n",
       "    <tr style=\"text-align: right;\">\n",
       "      <th></th>\n",
       "      <th>object_id</th>\n",
       "      <th>degree_type</th>\n",
       "      <th>subject</th>\n",
       "    </tr>\n",
       "  </thead>\n",
       "  <tbody>\n",
       "    <tr>\n",
       "      <th>0</th>\n",
       "      <td>p:6117</td>\n",
       "      <td>MBA</td>\n",
       "      <td>NaN</td>\n",
       "    </tr>\n",
       "    <tr>\n",
       "      <th>1</th>\n",
       "      <td>p:6136</td>\n",
       "      <td>BA</td>\n",
       "      <td>English, French</td>\n",
       "    </tr>\n",
       "    <tr>\n",
       "      <th>2</th>\n",
       "      <td>p:6136</td>\n",
       "      <td>MS</td>\n",
       "      <td>Mass Communication</td>\n",
       "    </tr>\n",
       "    <tr>\n",
       "      <th>3</th>\n",
       "      <td>p:6005</td>\n",
       "      <td>MS</td>\n",
       "      <td>Internet Technology</td>\n",
       "    </tr>\n",
       "    <tr>\n",
       "      <th>4</th>\n",
       "      <td>p:5832</td>\n",
       "      <td>BCS</td>\n",
       "      <td>Computer Science, Psychology</td>\n",
       "    </tr>\n",
       "  </tbody>\n",
       "</table>\n",
       "</div>"
      ],
      "text/plain": [
       "  object_id degree_type                       subject\n",
       "0    p:6117         MBA                           NaN\n",
       "1    p:6136          BA               English, French\n",
       "2    p:6136          MS            Mass Communication\n",
       "3    p:6005          MS           Internet Technology\n",
       "4    p:5832         BCS  Computer Science, Psychology"
      ]
     },
     "execution_count": 44,
     "metadata": {},
     "output_type": "execute_result"
    }
   ],
   "source": [
    "# Выводим первые 5 строк датафрейма\n",
    "degrees_df.head()"
   ]
  },
  {
   "cell_type": "code",
   "execution_count": 45,
   "metadata": {},
   "outputs": [
    {
     "name": "stdout",
     "output_type": "stream",
     "text": [
      "<class 'pandas.core.frame.DataFrame'>\n",
      "Int64Index: 107696 entries, 0 to 109609\n",
      "Data columns (total 3 columns):\n",
      " #   Column       Non-Null Count   Dtype \n",
      "---  ------       --------------   ----- \n",
      " 0   object_id    107696 non-null  object\n",
      " 1   degree_type  97707 non-null   object\n",
      " 2   subject      80761 non-null   object\n",
      "dtypes: object(3)\n",
      "memory usage: 3.3+ MB\n"
     ]
    }
   ],
   "source": [
    "# Выыодим информацю о датафрейме\n",
    "degrees_df.info()"
   ]
  },
  {
   "cell_type": "markdown",
   "metadata": {},
   "source": [
    "Можно присоединить degrees_df и посмотреть, например, на распределение типов образования в каждой группе, однако для этого придется форматировать данные в столбце `object_id` для присоединения таблиц."
   ]
  },
  {
   "cell_type": "markdown",
   "metadata": {},
   "source": [
    "<div class=\"alert alert-block alert-danger\">✍\n",
    "    \n",
    "\n",
    "__Комментарий от ревьюера №1__\n",
    "\n",
    "\n",
    "\n",
    "Ошибка ❌:\n",
    "\n",
    "\n",
    " \n",
    "    \n",
    "- Стоит пересмотреть группировки/bins. Всё-таки стоит ориентироваться не на круглые цифры,  а на то чтобы в каждой корзине было сопоставимое количество примеров (Что в данном случае невозможно, но стремится стоит) \n",
    "    \n",
    "<div class=\"alert alert-warning\">\n",
    "\n",
    "\n",
    "\n",
    "Совет 🤔:\n",
    "\n",
    "\n",
    "- Я бы посоветовал  построить countplot (или   глянуть  .count_values),  на котором мы бы увидели большое количество компаний с одним сотрудником и небольшое количество крупных. На основе анализа графика можно выбрать более подходящие bins\n",
    "    \n",
    " \n",
    "- Например в отдельную корзинку поместить стартапы с одним сотрудником. Для стартапов это нормально, ведь это не крупные производства, и не нужно тут искать круглые цифры.  Предложил бы такой вариант \n",
    "    \n",
    "    \n",
    "    bins   = [0, 1, 2, 3, 5, 10, 25, float('inf')],\n",
    "    labels = ['1', '2', '3', '4-5', '6-10', '11-25', '26+']\n",
    "    pd.cut(df, bins=bins, labels=labels)\n",
    "    \n",
    "    \n",
    "(Конечно можешь выбрать и свой  вариант)\n",
    "     "
   ]
  },
  {
   "cell_type": "markdown",
   "metadata": {},
   "source": [
    "<div class=\"alert alert-block alert-success\">✔️\n",
    "    \n",
    "\n",
    "__Комментарий от ревьюера №2__\n",
    "    \n",
    "Отлично, что используешь `pd.cut()` для разделения на группы. Это довольно удобный вариант разделения👍👍👍\n",
    "</div>"
   ]
  },
  {
   "cell_type": "markdown",
   "metadata": {
    "id": "Lz7qjM32xglW"
   },
   "source": [
    "### Объединять или не объединять — вот в чём вопрос\n",
    "\n",
    "Некоторые названия столбцов встречаются в датасетах чаще других. В результате предварительной проверки датасетов было выяснено, что столбец `company_id` подходит для объединения данных.\n",
    "\n",
    "- Установите, подходит ли для объединения данных столбец `network_username`, который встречается в нескольких датасетах. Нам необходимо понимать, дублируется ли для разных датасетов информация в столбцах с таким названием, и если да — то насколько часто.\n",
    "- Оцените, можно ли использовать столбцы с именем `network_username` для объединения данных."
   ]
  },
  {
   "cell_type": "markdown",
   "metadata": {},
   "source": [
    "Согласно описанию, столбец `network_username` содержится в датасетах `company_and_rounds` и `people`. Однако в таблице `people` относятся к сотрудникам, а в таблице `company_and_rounds` к компаниям.\n",
    "\n",
    "Посмотрим, насколько уникальными являются значения в столбце, много ли дубликатов. Для этого вычислим долю уникальных значений в столбце для каждого датасета."
   ]
  },
  {
   "cell_type": "code",
   "execution_count": 46,
   "metadata": {},
   "outputs": [
    {
     "data": {
      "text/plain": [
       "0.36538337909943336"
      ]
     },
     "execution_count": 46,
     "metadata": {},
     "output_type": "execute_result"
    }
   ],
   "source": [
    "# Вычисляем долю уникальных значений столбца network_username датафрейма company_and_rounds_df\n",
    "company_and_rounds_df['network_username'].nunique() / len(company_and_rounds_df)"
   ]
  },
  {
   "cell_type": "code",
   "execution_count": 47,
   "metadata": {},
   "outputs": [
    {
     "data": {
      "text/plain": [
       "0.16947276023448563"
      ]
     },
     "execution_count": 47,
     "metadata": {},
     "output_type": "execute_result"
    }
   ],
   "source": [
    "# Вычисляем долю уникальных значений столбца network_username датафрейма people_df\n",
    "people_df['network_username'].nunique() / len(people_df)"
   ]
  },
  {
   "cell_type": "markdown",
   "metadata": {},
   "source": [
    "Данные столбца `network_username` датафреймов `company_and_rounds_df` и `people_df` имеют лишь **37%** и **17%** уникальных значений соответственно. Это крайне **низкие** значения для использования этого столбца для объединения данных, так как сохранится в лучшем случае 17% данных."
   ]
  },
  {
   "cell_type": "code",
   "execution_count": 48,
   "metadata": {},
   "outputs": [
    {
     "data": {
      "text/plain": [
       "0.05725886211024934"
      ]
     },
     "execution_count": 48,
     "metadata": {},
     "output_type": "execute_result"
    }
   ],
   "source": [
    "# Определяем множества уникальынх элементов столбца network_username\n",
    "company_and_rounds_unique = set(company_and_rounds_df['network_username'])\n",
    "people_unique = set(people_df['network_username'])\n",
    "\n",
    "# Находим пересечения множеств\n",
    "matches = company_and_rounds_unique & people_unique\n",
    "\n",
    "# Выводим долю совпадающих элементов\n",
    "len(matches) / min(len(set(company_and_rounds_df['network_username'])), len(set(people_df['network_username'])))"
   ]
  },
  {
   "cell_type": "code",
   "execution_count": 49,
   "metadata": {},
   "outputs": [
    {
     "data": {
      "image/png": "[encoded data removed]",
      "text/plain": [
       "<Figure size 432x288 with 1 Axes>"
      ]
     },
     "metadata": {},
     "output_type": "display_data"
    }
   ],
   "source": [
    "# Строим диаграмму Венна\n",
    "venn2([company_and_rounds_unique, people_unique], set_labels=('company_and_rounds', 'people'))\n",
    "\n",
    "# Отображаем график\n",
    "plt.title(\"Пересечение network_username в таблицах company_and_rounds и people\")\n",
    "plt.show()  "
   ]
  },
  {
   "cell_type": "markdown",
   "metadata": {},
   "source": [
    "Всего **5,7%** данных пересекаются по столбцу `network_username`, этого **недостаточно** для использования его для объединения данных."
   ]
  },
  {
   "cell_type": "markdown",
   "metadata": {},
   "source": [
    "<div class=\"alert alert-block alert-warning\">📝\n",
    "    \n",
    "\n",
    "__Комментарий от ревьюера №1__\n",
    "\n",
    "Тут не совсем понимаю, для чего исопльзуешь `sample`, если можно посмотреть по всем логам?"
   ]
  },
  {
   "cell_type": "markdown",
   "metadata": {},
   "source": [
    "<div class=\"alert alert-info\">и правда...</div>"
   ]
  },
  {
   "cell_type": "markdown",
   "metadata": {},
   "source": [
    "<div class=\"alert alert-block alert-warning\">📝\n",
    "    \n",
    "\n",
    "__Комментарий от ревьюера №1__\n",
    "\n",
    "\n",
    "Успех 👍:\n",
    "\n",
    "\n",
    "\n",
    "👍  согласен с анализом,  главная проблема указана\n",
    "\n",
    "\n",
    " \n",
    "<div class=\"alert alert-warning\">\n",
    "\n",
    "\n",
    "\n",
    "Совет 🤔:\n",
    "\n",
    "\n",
    "    \n",
    "- Тут можно было начать с учёта контекста.  network_username в таблице people относятся к сотрудникам, а в таблице  company_and_rounds к компаниям. Возможно случаи когда компании названы в честь человека, и тогда можно поймать пересечения.  Но в целом это не выглядит перспективно    \n",
    "     \n",
    "- Можно добавить красивую визуализацию,  для демонстрации    пересечения данных. Это можно сделать с помощью диаграммы Венна   \n",
    "    \n",
    "    \n",
    "    !pip install matplotlib-venn -q\n",
    "    from matplotlib_venn import venn2, venn3 #(venn3 - Это если сразу три кругляшка построить)\n",
    "    import matplotlib.pyplot as plt\n",
    "\n",
    "    # Строим диаграмму Венна\n",
    "    venn2([set(['user1', 'user2', 'user3', 'user4', 'user5']), set(['user3', 'user4', 'user6', 'user7'])], set_labels=('Company Users', 'Fund Users'))\n",
    "\n",
    "    # Отображаем график\n",
    "    plt.title(\"Пересечение пользователей Company Users и Fund Users\")\n",
    "    plt.show()    \n",
    "    \n"
   ]
  },
  {
   "cell_type": "markdown",
   "metadata": {},
   "source": [
    "<div class=\"alert alert-info\">Добавила, спасибо!</div>"
   ]
  },
  {
   "cell_type": "markdown",
   "metadata": {},
   "source": [
    "<div class=\"alert alert-block alert-success\">✔️\n",
    "    \n",
    "\n",
    "__Комментарий от ревьюера №2__\n",
    "\n",
    "\n",
    "\n",
    "\n",
    "👍Кажется результат логичный\n",
    "\n",
    "\n",
    " "
   ]
  },
  {
   "cell_type": "markdown",
   "metadata": {
    "id": "EHcODomVrJg1"
   },
   "source": [
    "\n",
    "### Проблемный датасет и причина возникновения пропусков\n",
    "\n",
    "Во время собственного анализа данных у заказчика больше всего вопросов возникло к датасету `company_and_rounds.csv`. В нём много пропусков как раз в информации о раундах, которая заказчику важна.\n",
    "\n",
    "- Любым удобным способом приведите данные в вид, который позволит в дальнейшем проводить анализ в разрезе отдельных компаний. Обратите внимание на структуру датасета, порядок и названия столбцов, проанализируйте значения.\n",
    "\n",
    "По гипотезе заказчика данные по компаниям из этой таблицы раньше хранились иначе, более удобным для исследования образом.\n",
    "\n",
    "- Максимальным образом сохраняя данные, сохранив их связность и исключив возможные возникающие при этом ошибки, подготовьте данные так, чтобы удобно было отобрать компании по параметрам и рассчитать показатели из расчёта на одну компанию без промежуточных агрегаций."
   ]
  },
  {
   "cell_type": "markdown",
   "metadata": {},
   "source": [
    "Выведем информацию о датафрейме для лучшего понимания структуры данных."
   ]
  },
  {
   "cell_type": "code",
   "execution_count": 50,
   "metadata": {},
   "outputs": [
    {
     "name": "stdout",
     "output_type": "stream",
     "text": [
      "<class 'pandas.core.frame.DataFrame'>\n",
      "RangeIndex: 217774 entries, 0 to 217773\n",
      "Data columns (total 23 columns):\n",
      " #   Column               Non-Null Count   Dtype         \n",
      "---  ------               --------------   -----         \n",
      " 0   company_ID           217472 non-null  float64       \n",
      " 1   name                 217472 non-null  object        \n",
      " 2   category_code        143886 non-null  object        \n",
      " 3   status               217472 non-null  object        \n",
      " 4   founded_at           109956 non-null  object        \n",
      " 5   closed_at            3449 non-null    object        \n",
      " 6   domain               147159 non-null  object        \n",
      " 7   network_username     95534 non-null   object        \n",
      " 8   country_code         108607 non-null  object        \n",
      " 9   investment_rounds    217472 non-null  float64       \n",
      " 10  funding_rounds       217472 non-null  float64       \n",
      " 11  funding_total        217472 non-null  float64       \n",
      " 12  milestones           217472 non-null  float64       \n",
      " 13  funding_round_id     52928 non-null   float64       \n",
      " 14  company_id           52928 non-null   float64       \n",
      " 15  funded_at            52680 non-null   datetime64[ns]\n",
      " 16  funding_round_type   52928 non-null   object        \n",
      " 17  raised_amount        52928 non-null   float64       \n",
      " 18  pre_money_valuation  52928 non-null   float64       \n",
      " 19  participants         52928 non-null   float64       \n",
      " 20  is_first_round       52928 non-null   float64       \n",
      " 21  is_last_round        52928 non-null   float64       \n",
      " 22  funded_at_year       52680 non-null   float64       \n",
      "dtypes: datetime64[ns](1), float64(13), object(9)\n",
      "memory usage: 38.2+ MB\n"
     ]
    }
   ],
   "source": [
    "# Выводим основную информацию о датафрейме\n",
    "company_and_rounds_df.info()"
   ]
  },
  {
   "cell_type": "markdown",
   "metadata": {
    "id": "9BY9lTUcFbJ-"
   },
   "source": [
    "Датасет `company_and_rounds` включает в себя два датасета, так как:\n",
    " - Первые 13 столбцов содержат в **4** раза больше записей, чем оставшиеся 10\n",
    " - Есть столбцы `company_id` и `company_ID`, несущие одинаковый смысл - использовались для объединения датафреймов\n",
    " - Первые 13 столбцов содержат большое количество пропусков, в отличие от оставшихся\n",
    " - В первой части даныных даты не приведены к типу *datetime*, в отличие от второй половины\n",
    "\n",
    "Первый содержит информацию о **компании** в целом, а второй об **этапах финансирования** компаний.\n",
    "\n",
    "**Разделим** датасет на два с помощью атрибута **loc**, сохранив в одном все столбцы с информацией о компании, в другом - о раундах."
   ]
  },
  {
   "cell_type": "code",
   "execution_count": 51,
   "metadata": {
    "id": "tJ6Sl6MKrJg1",
    "vscode": {
     "languageId": "plaintext"
    }
   },
   "outputs": [
    {
     "data": {
      "text/html": [
       "<div>\n",
       "<style scoped>\n",
       "    .dataframe tbody tr th:only-of-type {\n",
       "        vertical-align: middle;\n",
       "    }\n",
       "\n",
       "    .dataframe tbody tr th {\n",
       "        vertical-align: top;\n",
       "    }\n",
       "\n",
       "    .dataframe thead th {\n",
       "        text-align: right;\n",
       "    }\n",
       "</style>\n",
       "<table border=\"1\" class=\"dataframe\">\n",
       "  <thead>\n",
       "    <tr style=\"text-align: right;\">\n",
       "      <th></th>\n",
       "      <th>company_ID</th>\n",
       "      <th>name</th>\n",
       "      <th>category_code</th>\n",
       "      <th>status</th>\n",
       "      <th>founded_at</th>\n",
       "      <th>closed_at</th>\n",
       "      <th>domain</th>\n",
       "      <th>network_username</th>\n",
       "      <th>country_code</th>\n",
       "      <th>investment_rounds</th>\n",
       "      <th>funding_rounds</th>\n",
       "      <th>funding_total</th>\n",
       "      <th>milestones</th>\n",
       "    </tr>\n",
       "  </thead>\n",
       "  <tbody>\n",
       "    <tr>\n",
       "      <th>0</th>\n",
       "      <td>1.0</td>\n",
       "      <td>Wetpaint</td>\n",
       "      <td>web</td>\n",
       "      <td>operating</td>\n",
       "      <td>2005-10-17</td>\n",
       "      <td>NaN</td>\n",
       "      <td>wetpaint-inc.com</td>\n",
       "      <td>BachelrWetpaint</td>\n",
       "      <td>USA</td>\n",
       "      <td>0.0</td>\n",
       "      <td>3.0</td>\n",
       "      <td>39750000.0</td>\n",
       "      <td>5.0</td>\n",
       "    </tr>\n",
       "    <tr>\n",
       "      <th>1</th>\n",
       "      <td>1.0</td>\n",
       "      <td>Wetpaint</td>\n",
       "      <td>web</td>\n",
       "      <td>operating</td>\n",
       "      <td>2005-10-17</td>\n",
       "      <td>NaN</td>\n",
       "      <td>wetpaint-inc.com</td>\n",
       "      <td>BachelrWetpaint</td>\n",
       "      <td>USA</td>\n",
       "      <td>0.0</td>\n",
       "      <td>3.0</td>\n",
       "      <td>39750000.0</td>\n",
       "      <td>5.0</td>\n",
       "    </tr>\n",
       "    <tr>\n",
       "      <th>2</th>\n",
       "      <td>1.0</td>\n",
       "      <td>Wetpaint</td>\n",
       "      <td>web</td>\n",
       "      <td>operating</td>\n",
       "      <td>2005-10-17</td>\n",
       "      <td>NaN</td>\n",
       "      <td>wetpaint-inc.com</td>\n",
       "      <td>BachelrWetpaint</td>\n",
       "      <td>USA</td>\n",
       "      <td>0.0</td>\n",
       "      <td>3.0</td>\n",
       "      <td>39750000.0</td>\n",
       "      <td>5.0</td>\n",
       "    </tr>\n",
       "    <tr>\n",
       "      <th>3</th>\n",
       "      <td>10.0</td>\n",
       "      <td>Flektor</td>\n",
       "      <td>games_video</td>\n",
       "      <td>acquired</td>\n",
       "      <td>NaN</td>\n",
       "      <td>NaN</td>\n",
       "      <td>flektor.com</td>\n",
       "      <td>NaN</td>\n",
       "      <td>USA</td>\n",
       "      <td>0.0</td>\n",
       "      <td>0.0</td>\n",
       "      <td>0.0</td>\n",
       "      <td>0.0</td>\n",
       "    </tr>\n",
       "    <tr>\n",
       "      <th>4</th>\n",
       "      <td>100.0</td>\n",
       "      <td>There</td>\n",
       "      <td>games_video</td>\n",
       "      <td>acquired</td>\n",
       "      <td>NaN</td>\n",
       "      <td>NaN</td>\n",
       "      <td>there.com</td>\n",
       "      <td>NaN</td>\n",
       "      <td>USA</td>\n",
       "      <td>0.0</td>\n",
       "      <td>0.0</td>\n",
       "      <td>0.0</td>\n",
       "      <td>4.0</td>\n",
       "    </tr>\n",
       "    <tr>\n",
       "      <th>...</th>\n",
       "      <td>...</td>\n",
       "      <td>...</td>\n",
       "      <td>...</td>\n",
       "      <td>...</td>\n",
       "      <td>...</td>\n",
       "      <td>...</td>\n",
       "      <td>...</td>\n",
       "      <td>...</td>\n",
       "      <td>...</td>\n",
       "      <td>...</td>\n",
       "      <td>...</td>\n",
       "      <td>...</td>\n",
       "      <td>...</td>\n",
       "    </tr>\n",
       "    <tr>\n",
       "      <th>217769</th>\n",
       "      <td>NaN</td>\n",
       "      <td>NaN</td>\n",
       "      <td>NaN</td>\n",
       "      <td>NaN</td>\n",
       "      <td>NaN</td>\n",
       "      <td>NaN</td>\n",
       "      <td>NaN</td>\n",
       "      <td>NaN</td>\n",
       "      <td>NaN</td>\n",
       "      <td>NaN</td>\n",
       "      <td>NaN</td>\n",
       "      <td>NaN</td>\n",
       "      <td>NaN</td>\n",
       "    </tr>\n",
       "    <tr>\n",
       "      <th>217770</th>\n",
       "      <td>NaN</td>\n",
       "      <td>NaN</td>\n",
       "      <td>NaN</td>\n",
       "      <td>NaN</td>\n",
       "      <td>NaN</td>\n",
       "      <td>NaN</td>\n",
       "      <td>NaN</td>\n",
       "      <td>NaN</td>\n",
       "      <td>NaN</td>\n",
       "      <td>NaN</td>\n",
       "      <td>NaN</td>\n",
       "      <td>NaN</td>\n",
       "      <td>NaN</td>\n",
       "    </tr>\n",
       "    <tr>\n",
       "      <th>217771</th>\n",
       "      <td>NaN</td>\n",
       "      <td>NaN</td>\n",
       "      <td>NaN</td>\n",
       "      <td>NaN</td>\n",
       "      <td>NaN</td>\n",
       "      <td>NaN</td>\n",
       "      <td>NaN</td>\n",
       "      <td>NaN</td>\n",
       "      <td>NaN</td>\n",
       "      <td>NaN</td>\n",
       "      <td>NaN</td>\n",
       "      <td>NaN</td>\n",
       "      <td>NaN</td>\n",
       "    </tr>\n",
       "    <tr>\n",
       "      <th>217772</th>\n",
       "      <td>NaN</td>\n",
       "      <td>NaN</td>\n",
       "      <td>NaN</td>\n",
       "      <td>NaN</td>\n",
       "      <td>NaN</td>\n",
       "      <td>NaN</td>\n",
       "      <td>NaN</td>\n",
       "      <td>NaN</td>\n",
       "      <td>NaN</td>\n",
       "      <td>NaN</td>\n",
       "      <td>NaN</td>\n",
       "      <td>NaN</td>\n",
       "      <td>NaN</td>\n",
       "    </tr>\n",
       "    <tr>\n",
       "      <th>217773</th>\n",
       "      <td>NaN</td>\n",
       "      <td>NaN</td>\n",
       "      <td>NaN</td>\n",
       "      <td>NaN</td>\n",
       "      <td>NaN</td>\n",
       "      <td>NaN</td>\n",
       "      <td>NaN</td>\n",
       "      <td>NaN</td>\n",
       "      <td>NaN</td>\n",
       "      <td>NaN</td>\n",
       "      <td>NaN</td>\n",
       "      <td>NaN</td>\n",
       "      <td>NaN</td>\n",
       "    </tr>\n",
       "  </tbody>\n",
       "</table>\n",
       "<p>217774 rows × 13 columns</p>\n",
       "</div>"
      ],
      "text/plain": [
       "        company_ID      name category_code     status  founded_at closed_at  \\\n",
       "0              1.0  Wetpaint           web  operating  2005-10-17       NaN   \n",
       "1              1.0  Wetpaint           web  operating  2005-10-17       NaN   \n",
       "2              1.0  Wetpaint           web  operating  2005-10-17       NaN   \n",
       "3             10.0   Flektor   games_video   acquired         NaN       NaN   \n",
       "4            100.0     There   games_video   acquired         NaN       NaN   \n",
       "...            ...       ...           ...        ...         ...       ...   \n",
       "217769         NaN       NaN           NaN        NaN         NaN       NaN   \n",
       "217770         NaN       NaN           NaN        NaN         NaN       NaN   \n",
       "217771         NaN       NaN           NaN        NaN         NaN       NaN   \n",
       "217772         NaN       NaN           NaN        NaN         NaN       NaN   \n",
       "217773         NaN       NaN           NaN        NaN         NaN       NaN   \n",
       "\n",
       "                  domain network_username country_code  investment_rounds  \\\n",
       "0       wetpaint-inc.com  BachelrWetpaint          USA                0.0   \n",
       "1       wetpaint-inc.com  BachelrWetpaint          USA                0.0   \n",
       "2       wetpaint-inc.com  BachelrWetpaint          USA                0.0   \n",
       "3            flektor.com              NaN          USA                0.0   \n",
       "4              there.com              NaN          USA                0.0   \n",
       "...                  ...              ...          ...                ...   \n",
       "217769               NaN              NaN          NaN                NaN   \n",
       "217770               NaN              NaN          NaN                NaN   \n",
       "217771               NaN              NaN          NaN                NaN   \n",
       "217772               NaN              NaN          NaN                NaN   \n",
       "217773               NaN              NaN          NaN                NaN   \n",
       "\n",
       "        funding_rounds  funding_total  milestones  \n",
       "0                  3.0     39750000.0         5.0  \n",
       "1                  3.0     39750000.0         5.0  \n",
       "2                  3.0     39750000.0         5.0  \n",
       "3                  0.0            0.0         0.0  \n",
       "4                  0.0            0.0         4.0  \n",
       "...                ...            ...         ...  \n",
       "217769             NaN            NaN         NaN  \n",
       "217770             NaN            NaN         NaN  \n",
       "217771             NaN            NaN         NaN  \n",
       "217772             NaN            NaN         NaN  \n",
       "217773             NaN            NaN         NaN  \n",
       "\n",
       "[217774 rows x 13 columns]"
      ]
     },
     "execution_count": 51,
     "metadata": {},
     "output_type": "execute_result"
    }
   ],
   "source": [
    "# Создаём датасет company_df, содержащий столбцы с информацией о компаниях, на основании датафрейма company_and_rounds_df\n",
    "company_df = company_and_rounds_df.loc[:,'company_ID':'milestones'].reset_index(drop = True)\n",
    "\n",
    "# Выводим результат\n",
    "company_df"
   ]
  },
  {
   "cell_type": "markdown",
   "metadata": {},
   "source": [
    "Заметим, что в данных большое количество строк, содержащих исключительно **пропуски**. Такие данные не будут полезными, поэтому их можно **удалить**."
   ]
  },
  {
   "cell_type": "code",
   "execution_count": 52,
   "metadata": {},
   "outputs": [],
   "source": [
    "# Удаляем строки, содержащие только пропуски\n",
    "company_df = company_df.dropna(how = 'all')"
   ]
  },
  {
   "cell_type": "code",
   "execution_count": 53,
   "metadata": {},
   "outputs": [
    {
     "data": {
      "text/html": [
       "<div>\n",
       "<style scoped>\n",
       "    .dataframe tbody tr th:only-of-type {\n",
       "        vertical-align: middle;\n",
       "    }\n",
       "\n",
       "    .dataframe tbody tr th {\n",
       "        vertical-align: top;\n",
       "    }\n",
       "\n",
       "    .dataframe thead th {\n",
       "        text-align: right;\n",
       "    }\n",
       "</style>\n",
       "<table border=\"1\" class=\"dataframe\">\n",
       "  <thead>\n",
       "    <tr style=\"text-align: right;\">\n",
       "      <th></th>\n",
       "      <th>funding_round_id</th>\n",
       "      <th>company_id</th>\n",
       "      <th>funded_at</th>\n",
       "      <th>funding_round_type</th>\n",
       "      <th>raised_amount</th>\n",
       "      <th>pre_money_valuation</th>\n",
       "      <th>participants</th>\n",
       "      <th>is_first_round</th>\n",
       "      <th>is_last_round</th>\n",
       "      <th>funded_at_year</th>\n",
       "    </tr>\n",
       "  </thead>\n",
       "  <tbody>\n",
       "    <tr>\n",
       "      <th>0</th>\n",
       "      <td>888.0</td>\n",
       "      <td>1.0</td>\n",
       "      <td>2005-10-01</td>\n",
       "      <td>series-a</td>\n",
       "      <td>5250000.0</td>\n",
       "      <td>0.0</td>\n",
       "      <td>2.0</td>\n",
       "      <td>0.0</td>\n",
       "      <td>1.0</td>\n",
       "      <td>2005.0</td>\n",
       "    </tr>\n",
       "    <tr>\n",
       "      <th>1</th>\n",
       "      <td>889.0</td>\n",
       "      <td>1.0</td>\n",
       "      <td>2007-01-01</td>\n",
       "      <td>series-b</td>\n",
       "      <td>9500000.0</td>\n",
       "      <td>0.0</td>\n",
       "      <td>3.0</td>\n",
       "      <td>0.0</td>\n",
       "      <td>0.0</td>\n",
       "      <td>2007.0</td>\n",
       "    </tr>\n",
       "    <tr>\n",
       "      <th>2</th>\n",
       "      <td>2312.0</td>\n",
       "      <td>1.0</td>\n",
       "      <td>2008-05-19</td>\n",
       "      <td>series-c+</td>\n",
       "      <td>25000000.0</td>\n",
       "      <td>0.0</td>\n",
       "      <td>4.0</td>\n",
       "      <td>1.0</td>\n",
       "      <td>0.0</td>\n",
       "      <td>2008.0</td>\n",
       "    </tr>\n",
       "    <tr>\n",
       "      <th>3</th>\n",
       "      <td>NaN</td>\n",
       "      <td>NaN</td>\n",
       "      <td>NaT</td>\n",
       "      <td>NaN</td>\n",
       "      <td>NaN</td>\n",
       "      <td>NaN</td>\n",
       "      <td>NaN</td>\n",
       "      <td>NaN</td>\n",
       "      <td>NaN</td>\n",
       "      <td>NaN</td>\n",
       "    </tr>\n",
       "    <tr>\n",
       "      <th>4</th>\n",
       "      <td>NaN</td>\n",
       "      <td>NaN</td>\n",
       "      <td>NaT</td>\n",
       "      <td>NaN</td>\n",
       "      <td>NaN</td>\n",
       "      <td>NaN</td>\n",
       "      <td>NaN</td>\n",
       "      <td>NaN</td>\n",
       "      <td>NaN</td>\n",
       "      <td>NaN</td>\n",
       "    </tr>\n",
       "    <tr>\n",
       "      <th>...</th>\n",
       "      <td>...</td>\n",
       "      <td>...</td>\n",
       "      <td>...</td>\n",
       "      <td>...</td>\n",
       "      <td>...</td>\n",
       "      <td>...</td>\n",
       "      <td>...</td>\n",
       "      <td>...</td>\n",
       "      <td>...</td>\n",
       "      <td>...</td>\n",
       "    </tr>\n",
       "    <tr>\n",
       "      <th>217769</th>\n",
       "      <td>56454.0</td>\n",
       "      <td>282847.0</td>\n",
       "      <td>2011-01-31</td>\n",
       "      <td>other</td>\n",
       "      <td>5500000.0</td>\n",
       "      <td>0.0</td>\n",
       "      <td>0.0</td>\n",
       "      <td>1.0</td>\n",
       "      <td>1.0</td>\n",
       "      <td>2011.0</td>\n",
       "    </tr>\n",
       "    <tr>\n",
       "      <th>217770</th>\n",
       "      <td>56542.0</td>\n",
       "      <td>55477.0</td>\n",
       "      <td>2011-01-13</td>\n",
       "      <td>venture</td>\n",
       "      <td>10633300.0</td>\n",
       "      <td>0.0</td>\n",
       "      <td>0.0</td>\n",
       "      <td>0.0</td>\n",
       "      <td>1.0</td>\n",
       "      <td>2011.0</td>\n",
       "    </tr>\n",
       "    <tr>\n",
       "      <th>217771</th>\n",
       "      <td>56543.0</td>\n",
       "      <td>55477.0</td>\n",
       "      <td>2012-05-31</td>\n",
       "      <td>venture</td>\n",
       "      <td>2125720.0</td>\n",
       "      <td>0.0</td>\n",
       "      <td>0.0</td>\n",
       "      <td>1.0</td>\n",
       "      <td>0.0</td>\n",
       "      <td>2012.0</td>\n",
       "    </tr>\n",
       "    <tr>\n",
       "      <th>217772</th>\n",
       "      <td>56928.0</td>\n",
       "      <td>283492.0</td>\n",
       "      <td>2013-12-03</td>\n",
       "      <td>venture</td>\n",
       "      <td>3602480.0</td>\n",
       "      <td>0.0</td>\n",
       "      <td>5.0</td>\n",
       "      <td>1.0</td>\n",
       "      <td>1.0</td>\n",
       "      <td>2013.0</td>\n",
       "    </tr>\n",
       "    <tr>\n",
       "      <th>217773</th>\n",
       "      <td>57063.0</td>\n",
       "      <td>284191.0</td>\n",
       "      <td>2013-12-04</td>\n",
       "      <td>venture</td>\n",
       "      <td>7000000.0</td>\n",
       "      <td>0.0</td>\n",
       "      <td>4.0</td>\n",
       "      <td>1.0</td>\n",
       "      <td>1.0</td>\n",
       "      <td>2013.0</td>\n",
       "    </tr>\n",
       "  </tbody>\n",
       "</table>\n",
       "<p>217774 rows × 10 columns</p>\n",
       "</div>"
      ],
      "text/plain": [
       "        funding_round_id  company_id  funded_at funding_round_type  \\\n",
       "0                  888.0         1.0 2005-10-01           series-a   \n",
       "1                  889.0         1.0 2007-01-01           series-b   \n",
       "2                 2312.0         1.0 2008-05-19          series-c+   \n",
       "3                    NaN         NaN        NaT                NaN   \n",
       "4                    NaN         NaN        NaT                NaN   \n",
       "...                  ...         ...        ...                ...   \n",
       "217769           56454.0    282847.0 2011-01-31              other   \n",
       "217770           56542.0     55477.0 2011-01-13            venture   \n",
       "217771           56543.0     55477.0 2012-05-31            venture   \n",
       "217772           56928.0    283492.0 2013-12-03            venture   \n",
       "217773           57063.0    284191.0 2013-12-04            venture   \n",
       "\n",
       "        raised_amount  pre_money_valuation  participants  is_first_round  \\\n",
       "0           5250000.0                  0.0           2.0             0.0   \n",
       "1           9500000.0                  0.0           3.0             0.0   \n",
       "2          25000000.0                  0.0           4.0             1.0   \n",
       "3                 NaN                  NaN           NaN             NaN   \n",
       "4                 NaN                  NaN           NaN             NaN   \n",
       "...               ...                  ...           ...             ...   \n",
       "217769      5500000.0                  0.0           0.0             1.0   \n",
       "217770     10633300.0                  0.0           0.0             0.0   \n",
       "217771      2125720.0                  0.0           0.0             1.0   \n",
       "217772      3602480.0                  0.0           5.0             1.0   \n",
       "217773      7000000.0                  0.0           4.0             1.0   \n",
       "\n",
       "        is_last_round  funded_at_year  \n",
       "0                 1.0          2005.0  \n",
       "1                 0.0          2007.0  \n",
       "2                 0.0          2008.0  \n",
       "3                 NaN             NaN  \n",
       "4                 NaN             NaN  \n",
       "...               ...             ...  \n",
       "217769            1.0          2011.0  \n",
       "217770            1.0          2011.0  \n",
       "217771            0.0          2012.0  \n",
       "217772            1.0          2013.0  \n",
       "217773            1.0          2013.0  \n",
       "\n",
       "[217774 rows x 10 columns]"
      ]
     },
     "execution_count": 53,
     "metadata": {},
     "output_type": "execute_result"
    }
   ],
   "source": [
    "# Создаём датасет rounds_df, содержащий столбцы с информацией о компаниях, на основании датафрейма company_and_rounds_df\n",
    "rounds_df = company_and_rounds_df.loc[:,'funding_round_id':].reset_index(drop = True)\n",
    "\n",
    "# Выводим результат\n",
    "rounds_df"
   ]
  },
  {
   "cell_type": "markdown",
   "metadata": {},
   "source": [
    "Аналогично удалим полностью пустые строки для датафрейма `rounds_df`."
   ]
  },
  {
   "cell_type": "code",
   "execution_count": 54,
   "metadata": {},
   "outputs": [],
   "source": [
    "# Удаляем строки, содержащие только пропуски\n",
    "rounds_df = rounds_df.dropna(how = 'all')"
   ]
  },
  {
   "cell_type": "markdown",
   "metadata": {},
   "source": [
    "Два отдельных датафрейма `company_df` и `rounds_df` позволят отбирать компании по параметрам и рассчитывать показатели из расчёта на одну компанию без промежуточных агрегаций."
   ]
  },
  {
   "cell_type": "markdown",
   "metadata": {},
   "source": [
    "<div class=\"alert alert-block alert-success\">✔️\n",
    "    \n",
    "\n",
    "__Комментарий от ревьюера №1__\n",
    "\n",
    "\n",
    "Успех 👍:\n",
    "\n",
    "\n",
    "\n",
    "- верное решение о разделении на две таблицы\n",
    "    \n",
    "    \n",
    "- дубликаты убраны\n",
    "    \n",
    " \n",
    "    \n",
    "    \n",
    "<div class=\"alert alert-warning\">\n",
    "\n",
    "\n",
    "Совет 🤔:\n",
    "\n",
    "\n",
    "  \n",
    "- можно найти 5-6 подсказок, указывающих что company_rounds  был слеплен из двух меньше таблиц. В этом случае твоё решение по разделению на 2 таблички будет более обоснованным и понятным      \n",
    "    \n",
    " \n",
    "    \n",
    "    \n",
    "- Было бы правильно сбросить индексы, это делает таблицу более понятной и удобной для дальнейшего анализа \n",
    "    \n",
    "\t\n",
    "\t\n",
    "- Можно проанализировать какие нам данные понадобятся ниже, и убрать неунжные столбцы (заказчиком может смутить ненужная информации в данных)  \t\n",
    "\n",
    " "
   ]
  },
  {
   "cell_type": "markdown",
   "metadata": {},
   "source": [
    "<div class=\"alert alert-block alert-success\">✔️\n",
    "    \n",
    "\n",
    "__Комментарий от ревьюера №1__\n",
    "\n",
    "Предлагаю приступать к шагу 3"
   ]
  },
  {
   "cell_type": "markdown",
   "metadata": {
    "id": "bmVYhphNrJg2"
   },
   "source": [
    "\n",
    "## Шаг 3. Исследовательский анализ объединённых таблиц\n",
    "\n",
    "> Приступите к шагу 3 после проверки ревьюера.\n",
    "\n",
    "<big>Студентам нужно чётко сказать - проверять дальше или не проверять.</big>"
   ]
  },
  {
   "cell_type": "markdown",
   "metadata": {
    "id": "3Di6tCT3rJg2"
   },
   "source": [
    "\n",
    "### Объединение данных\n",
    "\n",
    "Объедините данные для ответа на вопросы заказчика, которые касаются интересующих его компаний. Заказчика прежде всего интересуют те компании, которые меняли или готовы менять владельцев. Получение инвестиций или финансирования, по мнению заказчика, означает интерес к покупке или продаже компании.\n",
    "\n",
    "В качестве основы для объединённой таблицы возьмите данные из обработанного датасета `company_and_rounds.csv` — выберите только те компании, у которых указаны значения `funding_rounds` или `investment_rounds` больше нуля, или те, у которых в колонке `status` указано `acquired`. В результирующей таблице должно получиться порядка 40 тысяч компаний.\n",
    "\n",
    "Проверьте полноту и корректность получившейся таблицы. Далее работайте только с этими данными."
   ]
  },
  {
   "cell_type": "code",
   "execution_count": 55,
   "metadata": {
    "id": "kuV1b5MXFg3_"
   },
   "outputs": [
    {
     "data": {
      "text/html": [
       "<div>\n",
       "<style scoped>\n",
       "    .dataframe tbody tr th:only-of-type {\n",
       "        vertical-align: middle;\n",
       "    }\n",
       "\n",
       "    .dataframe tbody tr th {\n",
       "        vertical-align: top;\n",
       "    }\n",
       "\n",
       "    .dataframe thead th {\n",
       "        text-align: right;\n",
       "    }\n",
       "</style>\n",
       "<table border=\"1\" class=\"dataframe\">\n",
       "  <thead>\n",
       "    <tr style=\"text-align: right;\">\n",
       "      <th></th>\n",
       "      <th>company_ID</th>\n",
       "      <th>funding_total</th>\n",
       "      <th>category_code</th>\n",
       "      <th>status</th>\n",
       "      <th>funding_rounds</th>\n",
       "    </tr>\n",
       "  </thead>\n",
       "  <tbody>\n",
       "    <tr>\n",
       "      <th>0</th>\n",
       "      <td>1.0</td>\n",
       "      <td>39750000.0</td>\n",
       "      <td>web</td>\n",
       "      <td>operating</td>\n",
       "      <td>3.0</td>\n",
       "    </tr>\n",
       "    <tr>\n",
       "      <th>3</th>\n",
       "      <td>10.0</td>\n",
       "      <td>0.0</td>\n",
       "      <td>games_video</td>\n",
       "      <td>acquired</td>\n",
       "      <td>0.0</td>\n",
       "    </tr>\n",
       "    <tr>\n",
       "      <th>4</th>\n",
       "      <td>100.0</td>\n",
       "      <td>0.0</td>\n",
       "      <td>games_video</td>\n",
       "      <td>acquired</td>\n",
       "      <td>0.0</td>\n",
       "    </tr>\n",
       "    <tr>\n",
       "      <th>15</th>\n",
       "      <td>1001.0</td>\n",
       "      <td>5000000.0</td>\n",
       "      <td>web</td>\n",
       "      <td>acquired</td>\n",
       "      <td>1.0</td>\n",
       "    </tr>\n",
       "    <tr>\n",
       "      <th>20</th>\n",
       "      <td>10014.0</td>\n",
       "      <td>0.0</td>\n",
       "      <td>mobile</td>\n",
       "      <td>acquired</td>\n",
       "      <td>1.0</td>\n",
       "    </tr>\n",
       "    <tr>\n",
       "      <th>...</th>\n",
       "      <td>...</td>\n",
       "      <td>...</td>\n",
       "      <td>...</td>\n",
       "      <td>...</td>\n",
       "      <td>...</td>\n",
       "    </tr>\n",
       "    <tr>\n",
       "      <th>217458</th>\n",
       "      <td>1344.0</td>\n",
       "      <td>10000000.0</td>\n",
       "      <td>web</td>\n",
       "      <td>operating</td>\n",
       "      <td>1.0</td>\n",
       "    </tr>\n",
       "    <tr>\n",
       "      <th>217459</th>\n",
       "      <td>142181.0</td>\n",
       "      <td>500000.0</td>\n",
       "      <td>software</td>\n",
       "      <td>operating</td>\n",
       "      <td>1.0</td>\n",
       "    </tr>\n",
       "    <tr>\n",
       "      <th>217463</th>\n",
       "      <td>3429.0</td>\n",
       "      <td>44000000.0</td>\n",
       "      <td>software</td>\n",
       "      <td>operating</td>\n",
       "      <td>4.0</td>\n",
       "    </tr>\n",
       "    <tr>\n",
       "      <th>217467</th>\n",
       "      <td>7748.0</td>\n",
       "      <td>1300000.0</td>\n",
       "      <td>web</td>\n",
       "      <td>closed</td>\n",
       "      <td>1.0</td>\n",
       "    </tr>\n",
       "    <tr>\n",
       "      <th>217469</th>\n",
       "      <td>43233.0</td>\n",
       "      <td>57500000.0</td>\n",
       "      <td>photo_video</td>\n",
       "      <td>acquired</td>\n",
       "      <td>3.0</td>\n",
       "    </tr>\n",
       "  </tbody>\n",
       "</table>\n",
       "<p>40747 rows × 5 columns</p>\n",
       "</div>"
      ],
      "text/plain": [
       "        company_ID  funding_total category_code     status  funding_rounds\n",
       "0              1.0     39750000.0           web  operating             3.0\n",
       "3             10.0            0.0   games_video   acquired             0.0\n",
       "4            100.0            0.0   games_video   acquired             0.0\n",
       "15          1001.0      5000000.0           web   acquired             1.0\n",
       "20         10014.0            0.0        mobile   acquired             1.0\n",
       "...            ...            ...           ...        ...             ...\n",
       "217458      1344.0     10000000.0           web  operating             1.0\n",
       "217459    142181.0       500000.0      software  operating             1.0\n",
       "217463      3429.0     44000000.0      software  operating             4.0\n",
       "217467      7748.0      1300000.0           web     closed             1.0\n",
       "217469     43233.0     57500000.0   photo_video   acquired             3.0\n",
       "\n",
       "[40747 rows x 5 columns]"
      ]
     },
     "execution_count": 55,
     "metadata": {},
     "output_type": "execute_result"
    }
   ],
   "source": [
    "# Отбираем только интересущие компании и сохраняем в отдельный датафрейм\n",
    "interesting_company_df = company_df[\n",
    "    (company_df['status'] == 'acquired') |\n",
    "    (company_df['funding_rounds'] > 0) |\n",
    "    (company_df['investment_rounds'] > 0)][['company_ID', 'funding_total', 'category_code', 'status', 'funding_rounds']].drop_duplicates()\n",
    "\n",
    "# Выводим результат\n",
    "interesting_company_df"
   ]
  },
  {
   "cell_type": "markdown",
   "metadata": {},
   "source": [
    "Получилось около 40к компаний, удовлетворяющих требованиям."
   ]
  },
  {
   "cell_type": "markdown",
   "metadata": {
    "id": "vJZ4mO2Un1yt"
   },
   "source": [
    "<div class=\"alert alert-block alert-success\">✔️\n",
    "    \n",
    "\n",
    "__Комментарий от ревьюера №2__\n",
    "\n",
    "\n",
    "Таблица получилась корректной\n",
    "    \n"
   ]
  },
  {
   "cell_type": "markdown",
   "metadata": {
    "id": "DFHINkV3rJg2"
   },
   "source": [
    "\n",
    "### Анализ выбросов\n",
    "\n",
    "Заказчика интересует обычный для рассматриваемого периода размер средств, который предоставлялся компаниям.\n",
    "\n",
    "- По предобработанному столбцу `funding_total` графическим способом оцените, какой размер общего финансирования для одной компании будет типичным, а какой — выбивающимся.\n",
    "- В процессе расчёта значений обратите внимание, например, на показатели, возвращаемые методом `.describe()`, — объясните их. Применимы ли к таким данным обычные способы нахождения типичных значений?"
   ]
  },
  {
   "cell_type": "markdown",
   "metadata": {},
   "source": [
    "Оставим только компании, в которых размер общего финансирования **превышает 0**. Посмотрим основные статистические показатели столбца `funding_total`, чтобы выбрать верный способ нахождения типичных значений."
   ]
  },
  {
   "cell_type": "code",
   "execution_count": 56,
   "metadata": {
    "id": "8jm75fKXrJg2",
    "vscode": {
     "languageId": "plaintext"
    }
   },
   "outputs": [
    {
     "data": {
      "text/plain": [
       "count        27874.00\n",
       "mean      14816520.27\n",
       "std       67759363.12\n",
       "min            291.00\n",
       "25%         500000.00\n",
       "50%        2564500.00\n",
       "75%       11000000.00\n",
       "max     5700000000.00\n",
       "Name: funding_total, dtype: float64"
      ]
     },
     "execution_count": 56,
     "metadata": {},
     "output_type": "execute_result"
    }
   ],
   "source": [
    "# Меняем формат отображения чисел типа float\n",
    "pd.set_option('display.float_format', '{:.2f}'.format)\n",
    "\n",
    "# Оставляем только компании, в которых размер финансирования превышает 0\n",
    "interesting_company_df = interesting_company_df[interesting_company_df['funding_total'] > 0]\n",
    "\n",
    "# Выводим основные стат. показатели столбца funding_total\n",
    "interesting_company_df['funding_total'].describe() "
   ]
  },
  {
   "cell_type": "markdown",
   "metadata": {},
   "source": [
    "Всего **27874** компаний, финансирование которых больше 0. \n",
    "\n",
    "Среднее значение **(14,8 млн)** сильно выше медианы **(2,6 млн)**, скорее всего это вызвано выбросами в виде особо крупных финансирований. \n",
    "\n",
    "Также внимание привлекает огромный разброс данных - стандартное отклонение превышает **67,8 млн**.\n",
    "\n",
    "Данные содержат как очень маленькие значения - **291**, так и экстремально большие - **5700 млн**.\n",
    "\n",
    "В этом случае типичное значение хорошо отражено медианой - **2,6 млн**, так как она устойчива к выбросам."
   ]
  },
  {
   "cell_type": "markdown",
   "metadata": {},
   "source": [
    "Для визуализации распределения финансирования выберем **диаграмму размаха**, так как данные содержат большое количество выбросов и распределены неравномерно. Такой график позволит выявить ключевые характеристики распределения, оценить медиану, разброс данных и обнаружить выбросы. Для наглядности отобразим на графике только значения **ниже 99 процентиля**, так как данные содержат выбросы с очень большими значениями."
   ]
  },
  {
   "cell_type": "code",
   "execution_count": 57,
   "metadata": {},
   "outputs": [
    {
     "data": {
      "text/plain": [
       "Text(0.5, 1.0, 'Распределение финансирования')"
      ]
     },
     "execution_count": 57,
     "metadata": {},
     "output_type": "execute_result"
    },
    {
     "data": {
      "image/png": "[encoded data removed]",
      "text/plain": [
       "<Figure size 1152x288 with 1 Axes>"
      ]
     },
     "metadata": {
      "needs_background": "light"
     },
     "output_type": "display_data"
    }
   ],
   "source": [
    "# Boxplot\n",
    "ax = interesting_company_df[\n",
    "    interesting_company_df['funding_total'] < interesting_company_df['funding_total'].quantile(0.99)].boxplot(\n",
    "    column = 'funding_total', vert = False, figsize = (16,4), grid = False)\n",
    "\n",
    "# Форматирование чисел на оси X\n",
    "ax.xaxis.set_major_formatter(plt.FuncFormatter(lambda x, p: f'{x:,.0f}'))\n",
    "\n",
    "# Настройка оси X\n",
    "ax.set_xlabel('Общее финансирование')\n",
    "ax.set_title('Распределение финансирования')"
   ]
  },
  {
   "cell_type": "markdown",
   "metadata": {},
   "source": [
    "Большинство **(50%)** компаний получили финансирование **от 0,5 до 11 млн**. При этом типичное значение **(медиана)** составила **2,6 млн**.\n",
    "\n",
    "**Выбивающимся** считается финансирование **выше 25 млн**, особенно сотни и тысячи миллионов, которые встречаются редко и сильно искажают среднее."
   ]
  },
  {
   "cell_type": "markdown",
   "metadata": {},
   "source": [
    "<div class=\"alert alert-block alert-success\">✔️\n",
    "    \n",
    "\n",
    "__Комментарий от ревьюера №2__\n",
    "\n",
    "\n",
    "    \n",
    " \n",
    "    \n",
    "- Если данные имеют большой разброс, есть вариант добавить логарифмическую шкалу для гимстограммы.  С логарифмической шкалой все значения (малые и большие) будут равномерно распределены на графике, что облегчит анализ, мы увидим данные которые могут быть скрыты из-за сильного перекоса,  и выбросы будут визуально лучше отделены от основной массы данных    \n",
    "    \n",
    " \n",
    "    # код ревьюера\n",
    "    (схема)    \n",
    "    plt.figure(figsize=(10, 6))\n",
    "    plt.hist(company_df['funding_total'], bins=50, color='skyblue', edgecolor='black', log=True)\n",
    "    plt.xscale('log')  # Логарифмическая шкала по оси X\n",
    "    plt.xlabel('Общее финансирование (логарифмическая шкала)')\n",
    "    plt.ylabel('Количество компаний')\n",
    "    plt.title('Распределение общего финансирования (логарифмическая шкала)')\n",
    "    plt.show()\n",
    "\n",
    " "
   ]
  },
  {
   "cell_type": "markdown",
   "metadata": {
    "id": "JqkRAQrIrJg2"
   },
   "source": [
    "\n",
    "### Куплены забесплатно?\n",
    "\n",
    "- Исследуйте компании, которые были проданы за ноль или за один доллар, и при этом известно, что у них был ненулевой общий объём финансирования.\n",
    "\n",
    "- Рассчитайте аналитически верхнюю и нижнюю границу выбросов для столбца `funding_total` и укажите, каким процентилям границы соответствуют."
   ]
  },
  {
   "cell_type": "markdown",
   "metadata": {},
   "source": [
    "Найдем компании, которые были проданы за ноль или за один доллар, и при этом известно, что у них был ненулевой общий объём финансирования."
   ]
  },
  {
   "cell_type": "code",
   "execution_count": 58,
   "metadata": {
    "id": "wJHXCBwwrJg2",
    "vscode": {
     "languageId": "plaintext"
    }
   },
   "outputs": [
    {
     "data": {
      "text/html": [
       "<div>\n",
       "<style scoped>\n",
       "    .dataframe tbody tr th:only-of-type {\n",
       "        vertical-align: middle;\n",
       "    }\n",
       "\n",
       "    .dataframe tbody tr th {\n",
       "        vertical-align: top;\n",
       "    }\n",
       "\n",
       "    .dataframe thead th {\n",
       "        text-align: right;\n",
       "    }\n",
       "</style>\n",
       "<table border=\"1\" class=\"dataframe\">\n",
       "  <thead>\n",
       "    <tr style=\"text-align: right;\">\n",
       "      <th></th>\n",
       "      <th>company_ID</th>\n",
       "      <th>funding_total</th>\n",
       "      <th>category_code</th>\n",
       "      <th>status</th>\n",
       "      <th>funding_rounds</th>\n",
       "      <th>acquired_company_id</th>\n",
       "      <th>price_amount</th>\n",
       "    </tr>\n",
       "  </thead>\n",
       "  <tbody>\n",
       "    <tr>\n",
       "      <th>0</th>\n",
       "      <td>1001.00</td>\n",
       "      <td>5000000.00</td>\n",
       "      <td>web</td>\n",
       "      <td>acquired</td>\n",
       "      <td>1.00</td>\n",
       "      <td>1001</td>\n",
       "      <td>47500000</td>\n",
       "    </tr>\n",
       "    <tr>\n",
       "      <th>1</th>\n",
       "      <td>10054.00</td>\n",
       "      <td>121500000.00</td>\n",
       "      <td>mobile</td>\n",
       "      <td>acquired</td>\n",
       "      <td>7.00</td>\n",
       "      <td>10054</td>\n",
       "      <td>0</td>\n",
       "    </tr>\n",
       "    <tr>\n",
       "      <th>2</th>\n",
       "      <td>1007.00</td>\n",
       "      <td>3000000.00</td>\n",
       "      <td>games_video</td>\n",
       "      <td>acquired</td>\n",
       "      <td>1.00</td>\n",
       "      <td>1007</td>\n",
       "      <td>15000000</td>\n",
       "    </tr>\n",
       "    <tr>\n",
       "      <th>3</th>\n",
       "      <td>101312.00</td>\n",
       "      <td>4000000.00</td>\n",
       "      <td>web</td>\n",
       "      <td>acquired</td>\n",
       "      <td>3.00</td>\n",
       "      <td>101312</td>\n",
       "      <td>0</td>\n",
       "    </tr>\n",
       "    <tr>\n",
       "      <th>4</th>\n",
       "      <td>101340.00</td>\n",
       "      <td>250000.00</td>\n",
       "      <td>enterprise</td>\n",
       "      <td>acquired</td>\n",
       "      <td>1.00</td>\n",
       "      <td>101340</td>\n",
       "      <td>0</td>\n",
       "    </tr>\n",
       "    <tr>\n",
       "      <th>...</th>\n",
       "      <td>...</td>\n",
       "      <td>...</td>\n",
       "      <td>...</td>\n",
       "      <td>...</td>\n",
       "      <td>...</td>\n",
       "      <td>...</td>\n",
       "      <td>...</td>\n",
       "    </tr>\n",
       "    <tr>\n",
       "      <th>2344</th>\n",
       "      <td>99685.00</td>\n",
       "      <td>500000.00</td>\n",
       "      <td>biotech</td>\n",
       "      <td>acquired</td>\n",
       "      <td>1.00</td>\n",
       "      <td>99685</td>\n",
       "      <td>4800000</td>\n",
       "    </tr>\n",
       "    <tr>\n",
       "      <th>2345</th>\n",
       "      <td>997.00</td>\n",
       "      <td>14500000.00</td>\n",
       "      <td>enterprise</td>\n",
       "      <td>acquired</td>\n",
       "      <td>1.00</td>\n",
       "      <td>997</td>\n",
       "      <td>350000000</td>\n",
       "    </tr>\n",
       "    <tr>\n",
       "      <th>2346</th>\n",
       "      <td>997.00</td>\n",
       "      <td>14500000.00</td>\n",
       "      <td>enterprise</td>\n",
       "      <td>acquired</td>\n",
       "      <td>1.00</td>\n",
       "      <td>997</td>\n",
       "      <td>0</td>\n",
       "    </tr>\n",
       "    <tr>\n",
       "      <th>2347</th>\n",
       "      <td>153326.00</td>\n",
       "      <td>500000.00</td>\n",
       "      <td>web</td>\n",
       "      <td>acquired</td>\n",
       "      <td>1.00</td>\n",
       "      <td>153326</td>\n",
       "      <td>0</td>\n",
       "    </tr>\n",
       "    <tr>\n",
       "      <th>2348</th>\n",
       "      <td>43233.00</td>\n",
       "      <td>57500000.00</td>\n",
       "      <td>photo_video</td>\n",
       "      <td>acquired</td>\n",
       "      <td>3.00</td>\n",
       "      <td>43233</td>\n",
       "      <td>1010470000</td>\n",
       "    </tr>\n",
       "  </tbody>\n",
       "</table>\n",
       "<p>2349 rows × 7 columns</p>\n",
       "</div>"
      ],
      "text/plain": [
       "      company_ID  funding_total category_code    status  funding_rounds  \\\n",
       "0        1001.00     5000000.00           web  acquired            1.00   \n",
       "1       10054.00   121500000.00        mobile  acquired            7.00   \n",
       "2        1007.00     3000000.00   games_video  acquired            1.00   \n",
       "3      101312.00     4000000.00           web  acquired            3.00   \n",
       "4      101340.00      250000.00    enterprise  acquired            1.00   \n",
       "...          ...            ...           ...       ...             ...   \n",
       "2344    99685.00      500000.00       biotech  acquired            1.00   \n",
       "2345      997.00    14500000.00    enterprise  acquired            1.00   \n",
       "2346      997.00    14500000.00    enterprise  acquired            1.00   \n",
       "2347   153326.00      500000.00           web  acquired            1.00   \n",
       "2348    43233.00    57500000.00   photo_video  acquired            3.00   \n",
       "\n",
       "      acquired_company_id  price_amount  \n",
       "0                    1001      47500000  \n",
       "1                   10054             0  \n",
       "2                    1007      15000000  \n",
       "3                  101312             0  \n",
       "4                  101340             0  \n",
       "...                   ...           ...  \n",
       "2344                99685       4800000  \n",
       "2345                  997     350000000  \n",
       "2346                  997             0  \n",
       "2347               153326             0  \n",
       "2348                43233    1010470000  \n",
       "\n",
       "[2349 rows x 7 columns]"
      ]
     },
     "execution_count": 58,
     "metadata": {},
     "output_type": "execute_result"
    }
   ],
   "source": [
    "# Объединяем датасеты company и acquisition\n",
    "acquired_company_df = interesting_company_df.merge(\n",
    "    acquisition_df[['acquired_company_id', 'price_amount']], \n",
    "    how = 'inner', left_on = 'company_ID', right_on = 'acquired_company_id')\n",
    "\n",
    "# Выводим результат\n",
    "acquired_company_df"
   ]
  },
  {
   "cell_type": "code",
   "execution_count": 59,
   "metadata": {},
   "outputs": [
    {
     "data": {
      "text/html": [
       "<div>\n",
       "<style scoped>\n",
       "    .dataframe tbody tr th:only-of-type {\n",
       "        vertical-align: middle;\n",
       "    }\n",
       "\n",
       "    .dataframe tbody tr th {\n",
       "        vertical-align: top;\n",
       "    }\n",
       "\n",
       "    .dataframe thead th {\n",
       "        text-align: right;\n",
       "    }\n",
       "</style>\n",
       "<table border=\"1\" class=\"dataframe\">\n",
       "  <thead>\n",
       "    <tr style=\"text-align: right;\">\n",
       "      <th></th>\n",
       "      <th>company_ID</th>\n",
       "      <th>funding_total</th>\n",
       "      <th>category_code</th>\n",
       "      <th>status</th>\n",
       "      <th>funding_rounds</th>\n",
       "      <th>acquired_company_id</th>\n",
       "      <th>price_amount</th>\n",
       "    </tr>\n",
       "  </thead>\n",
       "  <tbody>\n",
       "    <tr>\n",
       "      <th>1</th>\n",
       "      <td>10054.00</td>\n",
       "      <td>121500000.00</td>\n",
       "      <td>mobile</td>\n",
       "      <td>acquired</td>\n",
       "      <td>7.00</td>\n",
       "      <td>10054</td>\n",
       "      <td>0</td>\n",
       "    </tr>\n",
       "    <tr>\n",
       "      <th>3</th>\n",
       "      <td>101312.00</td>\n",
       "      <td>4000000.00</td>\n",
       "      <td>web</td>\n",
       "      <td>acquired</td>\n",
       "      <td>3.00</td>\n",
       "      <td>101312</td>\n",
       "      <td>0</td>\n",
       "    </tr>\n",
       "    <tr>\n",
       "      <th>4</th>\n",
       "      <td>101340.00</td>\n",
       "      <td>250000.00</td>\n",
       "      <td>enterprise</td>\n",
       "      <td>acquired</td>\n",
       "      <td>1.00</td>\n",
       "      <td>101340</td>\n",
       "      <td>0</td>\n",
       "    </tr>\n",
       "    <tr>\n",
       "      <th>5</th>\n",
       "      <td>10137.00</td>\n",
       "      <td>1310000.00</td>\n",
       "      <td>software</td>\n",
       "      <td>acquired</td>\n",
       "      <td>3.00</td>\n",
       "      <td>10137</td>\n",
       "      <td>0</td>\n",
       "    </tr>\n",
       "    <tr>\n",
       "      <th>6</th>\n",
       "      <td>10139.00</td>\n",
       "      <td>44925000.00</td>\n",
       "      <td>enterprise</td>\n",
       "      <td>acquired</td>\n",
       "      <td>2.00</td>\n",
       "      <td>10139</td>\n",
       "      <td>0</td>\n",
       "    </tr>\n",
       "    <tr>\n",
       "      <th>...</th>\n",
       "      <td>...</td>\n",
       "      <td>...</td>\n",
       "      <td>...</td>\n",
       "      <td>...</td>\n",
       "      <td>...</td>\n",
       "      <td>...</td>\n",
       "      <td>...</td>\n",
       "    </tr>\n",
       "    <tr>\n",
       "      <th>2340</th>\n",
       "      <td>99.00</td>\n",
       "      <td>3900000.00</td>\n",
       "      <td>web</td>\n",
       "      <td>acquired</td>\n",
       "      <td>2.00</td>\n",
       "      <td>99</td>\n",
       "      <td>0</td>\n",
       "    </tr>\n",
       "    <tr>\n",
       "      <th>2341</th>\n",
       "      <td>9905.00</td>\n",
       "      <td>5172350.00</td>\n",
       "      <td>software</td>\n",
       "      <td>acquired</td>\n",
       "      <td>2.00</td>\n",
       "      <td>9905</td>\n",
       "      <td>0</td>\n",
       "    </tr>\n",
       "    <tr>\n",
       "      <th>2342</th>\n",
       "      <td>992.00</td>\n",
       "      <td>10000000.00</td>\n",
       "      <td>advertising</td>\n",
       "      <td>acquired</td>\n",
       "      <td>1.00</td>\n",
       "      <td>992</td>\n",
       "      <td>0</td>\n",
       "    </tr>\n",
       "    <tr>\n",
       "      <th>2346</th>\n",
       "      <td>997.00</td>\n",
       "      <td>14500000.00</td>\n",
       "      <td>enterprise</td>\n",
       "      <td>acquired</td>\n",
       "      <td>1.00</td>\n",
       "      <td>997</td>\n",
       "      <td>0</td>\n",
       "    </tr>\n",
       "    <tr>\n",
       "      <th>2347</th>\n",
       "      <td>153326.00</td>\n",
       "      <td>500000.00</td>\n",
       "      <td>web</td>\n",
       "      <td>acquired</td>\n",
       "      <td>1.00</td>\n",
       "      <td>153326</td>\n",
       "      <td>0</td>\n",
       "    </tr>\n",
       "  </tbody>\n",
       "</table>\n",
       "<p>1618 rows × 7 columns</p>\n",
       "</div>"
      ],
      "text/plain": [
       "      company_ID  funding_total category_code    status  funding_rounds  \\\n",
       "1       10054.00   121500000.00        mobile  acquired            7.00   \n",
       "3      101312.00     4000000.00           web  acquired            3.00   \n",
       "4      101340.00      250000.00    enterprise  acquired            1.00   \n",
       "5       10137.00     1310000.00      software  acquired            3.00   \n",
       "6       10139.00    44925000.00    enterprise  acquired            2.00   \n",
       "...          ...            ...           ...       ...             ...   \n",
       "2340       99.00     3900000.00           web  acquired            2.00   \n",
       "2341     9905.00     5172350.00      software  acquired            2.00   \n",
       "2342      992.00    10000000.00   advertising  acquired            1.00   \n",
       "2346      997.00    14500000.00    enterprise  acquired            1.00   \n",
       "2347   153326.00      500000.00           web  acquired            1.00   \n",
       "\n",
       "      acquired_company_id  price_amount  \n",
       "1                   10054             0  \n",
       "3                  101312             0  \n",
       "4                  101340             0  \n",
       "5                   10137             0  \n",
       "6                   10139             0  \n",
       "...                   ...           ...  \n",
       "2340                   99             0  \n",
       "2341                 9905             0  \n",
       "2342                  992             0  \n",
       "2346                  997             0  \n",
       "2347               153326             0  \n",
       "\n",
       "[1618 rows x 7 columns]"
      ]
     },
     "execution_count": 59,
     "metadata": {},
     "output_type": "execute_result"
    }
   ],
   "source": [
    "# Оставляем только те компании, которые были проданы за 0/1 доллар, а также имели ненулевой объем финансирования\n",
    "acquired0_company_df = acquired_company_df[((acquired_company_df['price_amount'] == 0) |\n",
    "                                           (acquired_company_df['price_amount'] == 1)) &\n",
    "                                          (acquired_company_df['funding_total'] > 0)]\n",
    "# Выводим результат\n",
    "acquired0_company_df"
   ]
  },
  {
   "cell_type": "markdown",
   "metadata": {},
   "source": [
    "Всего **1618** компаний были проданы за 0/1 доллар."
   ]
  },
  {
   "cell_type": "code",
   "execution_count": 60,
   "metadata": {},
   "outputs": [
    {
     "name": "stdout",
     "output_type": "stream",
     "text": [
      "Нижняя граница выбросов: 0\n",
      "Верхняя граница выбросов: 26750000.0\n",
      "Выбросами можно считать значения, превышающие 88 процентиль\n"
     ]
    }
   ],
   "source": [
    "# Вычисляем первый, третий квартиль и межквартильный размах\n",
    "q1 = interesting_company_df['funding_total'].quantile(0.25)\n",
    "q3 = interesting_company_df['funding_total'].quantile(0.75)\n",
    "iqr = q3 - q1\n",
    "\n",
    "# Определяем верхнюю и нижнюю границы выбросов\n",
    "upper_limit = q3 + 1.5 * iqr\n",
    "lower_limit = max(0, q1 - 1.5 * iqr)\n",
    "\n",
    "# Рассчитываем процентили, которым соответствуют границы\n",
    "lower_perc = (interesting_company_df['funding_total'] <= lower_limit).mean() * 100\n",
    "upper_perc = (interesting_company_df['funding_total'] <= upper_limit).mean() * 100\n",
    "\n",
    "# Выводим результат\n",
    "print(f'Нижняя граница выбросов: {lower_limit}\\nВерхняя граница выбросов: {upper_limit}')\n",
    "print(f'Выбросами можно считать значения, превышающие {round(upper_perc)} процентиль')"
   ]
  },
  {
   "cell_type": "markdown",
   "metadata": {},
   "source": [
    "Выбросами стоит считать суммы финансирования превышающие **88 процентиль**, то есть выше **26,75 млн**.\n",
    "\n",
    "Посмотрим, все ли аномальные покупки компаний являются выбросами."
   ]
  },
  {
   "cell_type": "code",
   "execution_count": 61,
   "metadata": {},
   "outputs": [
    {
     "data": {
      "text/html": [
       "<div>\n",
       "<style scoped>\n",
       "    .dataframe tbody tr th:only-of-type {\n",
       "        vertical-align: middle;\n",
       "    }\n",
       "\n",
       "    .dataframe tbody tr th {\n",
       "        vertical-align: top;\n",
       "    }\n",
       "\n",
       "    .dataframe thead th {\n",
       "        text-align: right;\n",
       "    }\n",
       "</style>\n",
       "<table border=\"1\" class=\"dataframe\">\n",
       "  <thead>\n",
       "    <tr style=\"text-align: right;\">\n",
       "      <th></th>\n",
       "      <th>company_ID</th>\n",
       "      <th>funding_total</th>\n",
       "      <th>category_code</th>\n",
       "      <th>status</th>\n",
       "      <th>funding_rounds</th>\n",
       "      <th>acquired_company_id</th>\n",
       "      <th>price_amount</th>\n",
       "    </tr>\n",
       "  </thead>\n",
       "  <tbody>\n",
       "    <tr>\n",
       "      <th>3</th>\n",
       "      <td>101312.00</td>\n",
       "      <td>4000000.00</td>\n",
       "      <td>web</td>\n",
       "      <td>acquired</td>\n",
       "      <td>3.00</td>\n",
       "      <td>101312</td>\n",
       "      <td>0</td>\n",
       "    </tr>\n",
       "    <tr>\n",
       "      <th>4</th>\n",
       "      <td>101340.00</td>\n",
       "      <td>250000.00</td>\n",
       "      <td>enterprise</td>\n",
       "      <td>acquired</td>\n",
       "      <td>1.00</td>\n",
       "      <td>101340</td>\n",
       "      <td>0</td>\n",
       "    </tr>\n",
       "    <tr>\n",
       "      <th>5</th>\n",
       "      <td>10137.00</td>\n",
       "      <td>1310000.00</td>\n",
       "      <td>software</td>\n",
       "      <td>acquired</td>\n",
       "      <td>3.00</td>\n",
       "      <td>10137</td>\n",
       "      <td>0</td>\n",
       "    </tr>\n",
       "    <tr>\n",
       "      <th>11</th>\n",
       "      <td>10179.00</td>\n",
       "      <td>14230000.00</td>\n",
       "      <td>web</td>\n",
       "      <td>acquired</td>\n",
       "      <td>3.00</td>\n",
       "      <td>10179</td>\n",
       "      <td>0</td>\n",
       "    </tr>\n",
       "    <tr>\n",
       "      <th>13</th>\n",
       "      <td>10199.00</td>\n",
       "      <td>1750000.00</td>\n",
       "      <td>travel</td>\n",
       "      <td>acquired</td>\n",
       "      <td>2.00</td>\n",
       "      <td>10199</td>\n",
       "      <td>0</td>\n",
       "    </tr>\n",
       "    <tr>\n",
       "      <th>...</th>\n",
       "      <td>...</td>\n",
       "      <td>...</td>\n",
       "      <td>...</td>\n",
       "      <td>...</td>\n",
       "      <td>...</td>\n",
       "      <td>...</td>\n",
       "      <td>...</td>\n",
       "    </tr>\n",
       "    <tr>\n",
       "      <th>2340</th>\n",
       "      <td>99.00</td>\n",
       "      <td>3900000.00</td>\n",
       "      <td>web</td>\n",
       "      <td>acquired</td>\n",
       "      <td>2.00</td>\n",
       "      <td>99</td>\n",
       "      <td>0</td>\n",
       "    </tr>\n",
       "    <tr>\n",
       "      <th>2341</th>\n",
       "      <td>9905.00</td>\n",
       "      <td>5172350.00</td>\n",
       "      <td>software</td>\n",
       "      <td>acquired</td>\n",
       "      <td>2.00</td>\n",
       "      <td>9905</td>\n",
       "      <td>0</td>\n",
       "    </tr>\n",
       "    <tr>\n",
       "      <th>2342</th>\n",
       "      <td>992.00</td>\n",
       "      <td>10000000.00</td>\n",
       "      <td>advertising</td>\n",
       "      <td>acquired</td>\n",
       "      <td>1.00</td>\n",
       "      <td>992</td>\n",
       "      <td>0</td>\n",
       "    </tr>\n",
       "    <tr>\n",
       "      <th>2346</th>\n",
       "      <td>997.00</td>\n",
       "      <td>14500000.00</td>\n",
       "      <td>enterprise</td>\n",
       "      <td>acquired</td>\n",
       "      <td>1.00</td>\n",
       "      <td>997</td>\n",
       "      <td>0</td>\n",
       "    </tr>\n",
       "    <tr>\n",
       "      <th>2347</th>\n",
       "      <td>153326.00</td>\n",
       "      <td>500000.00</td>\n",
       "      <td>web</td>\n",
       "      <td>acquired</td>\n",
       "      <td>1.00</td>\n",
       "      <td>153326</td>\n",
       "      <td>0</td>\n",
       "    </tr>\n",
       "  </tbody>\n",
       "</table>\n",
       "<p>1415 rows × 7 columns</p>\n",
       "</div>"
      ],
      "text/plain": [
       "      company_ID  funding_total category_code    status  funding_rounds  \\\n",
       "3      101312.00     4000000.00           web  acquired            3.00   \n",
       "4      101340.00      250000.00    enterprise  acquired            1.00   \n",
       "5       10137.00     1310000.00      software  acquired            3.00   \n",
       "11      10179.00    14230000.00           web  acquired            3.00   \n",
       "13      10199.00     1750000.00        travel  acquired            2.00   \n",
       "...          ...            ...           ...       ...             ...   \n",
       "2340       99.00     3900000.00           web  acquired            2.00   \n",
       "2341     9905.00     5172350.00      software  acquired            2.00   \n",
       "2342      992.00    10000000.00   advertising  acquired            1.00   \n",
       "2346      997.00    14500000.00    enterprise  acquired            1.00   \n",
       "2347   153326.00      500000.00           web  acquired            1.00   \n",
       "\n",
       "      acquired_company_id  price_amount  \n",
       "3                  101312             0  \n",
       "4                  101340             0  \n",
       "5                   10137             0  \n",
       "11                  10179             0  \n",
       "13                  10199             0  \n",
       "...                   ...           ...  \n",
       "2340                   99             0  \n",
       "2341                 9905             0  \n",
       "2342                  992             0  \n",
       "2346                  997             0  \n",
       "2347               153326             0  \n",
       "\n",
       "[1415 rows x 7 columns]"
      ]
     },
     "execution_count": 61,
     "metadata": {},
     "output_type": "execute_result"
    }
   ],
   "source": [
    "# Выводим данные, не превышающие 88 процентиль\n",
    "acquired0_company_df[acquired0_company_df['funding_total'] < acquired0_company_df['funding_total'].quantile(0.88)]"
   ]
  },
  {
   "cell_type": "markdown",
   "metadata": {},
   "source": [
    "Всего **203** компании, проданных за рубль, имели выбросы в сумме финансирования, значит такие продажи связаны с чем-то другим."
   ]
  },
  {
   "cell_type": "markdown",
   "metadata": {},
   "source": [
    "<div class=\"alert alert-block alert-warning\">📝\n",
    "    \n",
    "\n",
    "__Комментарий от ревьюера №2__\n",
    "    \n",
    "Очень полезное решение изучить детальнее особенности этих \"странных\" сделок за 0 или 1 $, можно также порассуждать и почему такая цена..."
   ]
  },
  {
   "cell_type": "markdown",
   "metadata": {
    "id": "mEiWpROjrJg2"
   },
   "source": [
    "\n",
    "### Цены стартапов по категориям\n",
    "\n",
    "Категории стартапов с типично высокими ценами покупки стартапов и значительным разбросом цен могут быть привлекательными для крупных инвесторов, которые готовы к высоким рискам ради потенциально больших доходов. Среди категорий стартапов выделите категории стартапов, характеризующиеся:\n",
    "\n",
    "- типично высокими ценами;\n",
    "- и наибольшим разбросом цен за стартап.\n",
    "\n",
    "Объясните, почему решили составить топ именно из такого числа категорий и почему рассчитывали именно так."
   ]
  },
  {
   "cell_type": "markdown",
   "metadata": {},
   "source": [
    "Для определения типичных цен и их разброса используем **медиану** и **межквартильный размах** соответственно, так как они устойчивы к выбросам.\n",
    "\n",
    "В рейтинге **не участвовали** категории стартапов, в которых было **менее 10** компаний, так как их статистика нерепрезентативна, а высокие значения медианы/IQR финансирования могут быть вызваны выбросами.\n",
    "\n",
    "Далее отобрали те категории, которые входят в **верхний квартиль** распределения медианных цен или IQR. Так, в топ попадут категории, которые входят в **25%** самых дорогих или имеющих наивысший разброс цен."
   ]
  },
  {
   "cell_type": "code",
   "execution_count": 62,
   "metadata": {
    "scrolled": true
   },
   "outputs": [
    {
     "data": {
      "text/html": [
       "<div>\n",
       "<style scoped>\n",
       "    .dataframe tbody tr th:only-of-type {\n",
       "        vertical-align: middle;\n",
       "    }\n",
       "\n",
       "    .dataframe tbody tr th {\n",
       "        vertical-align: top;\n",
       "    }\n",
       "\n",
       "    .dataframe thead th {\n",
       "        text-align: right;\n",
       "    }\n",
       "</style>\n",
       "<table border=\"1\" class=\"dataframe\">\n",
       "  <thead>\n",
       "    <tr style=\"text-align: right;\">\n",
       "      <th></th>\n",
       "      <th>category</th>\n",
       "      <th>count_company</th>\n",
       "      <th>median_funding</th>\n",
       "      <th>iqr</th>\n",
       "    </tr>\n",
       "  </thead>\n",
       "  <tbody>\n",
       "    <tr>\n",
       "      <th>0</th>\n",
       "      <td>biotech</td>\n",
       "      <td>162</td>\n",
       "      <td>24250000.00</td>\n",
       "      <td>42685000.00</td>\n",
       "    </tr>\n",
       "    <tr>\n",
       "      <th>1</th>\n",
       "      <td>medical</td>\n",
       "      <td>15</td>\n",
       "      <td>20000000.00</td>\n",
       "      <td>18050000.00</td>\n",
       "    </tr>\n",
       "    <tr>\n",
       "      <th>2</th>\n",
       "      <td>semiconductor</td>\n",
       "      <td>73</td>\n",
       "      <td>18800000.00</td>\n",
       "      <td>22000000.00</td>\n",
       "    </tr>\n",
       "    <tr>\n",
       "      <th>3</th>\n",
       "      <td>cleantech</td>\n",
       "      <td>57</td>\n",
       "      <td>18000000.00</td>\n",
       "      <td>63572040.00</td>\n",
       "    </tr>\n",
       "    <tr>\n",
       "      <th>4</th>\n",
       "      <td>hardware</td>\n",
       "      <td>60</td>\n",
       "      <td>12900000.00</td>\n",
       "      <td>25430067.50</td>\n",
       "    </tr>\n",
       "    <tr>\n",
       "      <th>5</th>\n",
       "      <td>security</td>\n",
       "      <td>47</td>\n",
       "      <td>12000000.00</td>\n",
       "      <td>13400000.00</td>\n",
       "    </tr>\n",
       "    <tr>\n",
       "      <th>6</th>\n",
       "      <td>public_relations</td>\n",
       "      <td>52</td>\n",
       "      <td>11500000.00</td>\n",
       "      <td>20055000.00</td>\n",
       "    </tr>\n",
       "    <tr>\n",
       "      <th>7</th>\n",
       "      <td>network_hosting</td>\n",
       "      <td>86</td>\n",
       "      <td>11185000.00</td>\n",
       "      <td>24000000.00</td>\n",
       "    </tr>\n",
       "    <tr>\n",
       "      <th>8</th>\n",
       "      <td>health</td>\n",
       "      <td>16</td>\n",
       "      <td>9725000.00</td>\n",
       "      <td>23787500.00</td>\n",
       "    </tr>\n",
       "    <tr>\n",
       "      <th>9</th>\n",
       "      <td>news</td>\n",
       "      <td>16</td>\n",
       "      <td>8025000.00</td>\n",
       "      <td>36070000.00</td>\n",
       "    </tr>\n",
       "    <tr>\n",
       "      <th>10</th>\n",
       "      <td>finance</td>\n",
       "      <td>13</td>\n",
       "      <td>6000000.00</td>\n",
       "      <td>30275000.00</td>\n",
       "    </tr>\n",
       "  </tbody>\n",
       "</table>\n",
       "</div>"
      ],
      "text/plain": [
       "            category  count_company  median_funding         iqr\n",
       "0            biotech            162     24250000.00 42685000.00\n",
       "1            medical             15     20000000.00 18050000.00\n",
       "2      semiconductor             73     18800000.00 22000000.00\n",
       "3          cleantech             57     18000000.00 63572040.00\n",
       "4           hardware             60     12900000.00 25430067.50\n",
       "5           security             47     12000000.00 13400000.00\n",
       "6   public_relations             52     11500000.00 20055000.00\n",
       "7    network_hosting             86     11185000.00 24000000.00\n",
       "8             health             16      9725000.00 23787500.00\n",
       "9               news             16      8025000.00 36070000.00\n",
       "10           finance             13      6000000.00 30275000.00"
      ]
     },
     "execution_count": 62,
     "metadata": {},
     "output_type": "execute_result"
    }
   ],
   "source": [
    "# Группируем и агрегируем данные\n",
    "category_company = acquired_company_df.groupby('category_code').agg({\n",
    "    'company_ID':'count',\n",
    "    'funding_total':['median', lambda x: x.quantile(0.75) - x.quantile(0.25)]\n",
    "}).reset_index()\n",
    "\n",
    "# Переименовываем столбцы\n",
    "category_company.columns = ['category', 'count_company', 'median_funding', 'iqr']\n",
    "\n",
    "# Фильтруем по количеству компаний в категории\n",
    "category_company = category_company[category_company['count_company'] > 10]\n",
    "\n",
    "# Считаем 75 процентиль медианы и межквартильного размаха\n",
    "q3_median = category_company['median_funding'].quantile(0.75)\n",
    "q3_iqr = category_company['iqr'].quantile(0.75)\n",
    "\n",
    "# Составляем топ категорий стартапов\n",
    "top_categories = category_company[(category_company['median_funding'] > q3_median) | ((category_company['iqr'] > q3_iqr))].sort_values(['median_funding', 'iqr', 'count_company'], ascending = False).reset_index(drop = True)\n",
    "\n",
    "top_categories"
   ]
  },
  {
   "cell_type": "markdown",
   "metadata": {},
   "source": [
    "Получили **топ-11** самых перспективных для покупки категорий стартапов.\n",
    "\n",
    "Составим также топ по более строгому критерию - и медиана, и IQR выше соответствующих 75-х процентилей."
   ]
  },
  {
   "cell_type": "code",
   "execution_count": 63,
   "metadata": {},
   "outputs": [
    {
     "data": {
      "text/html": [
       "<div>\n",
       "<style scoped>\n",
       "    .dataframe tbody tr th:only-of-type {\n",
       "        vertical-align: middle;\n",
       "    }\n",
       "\n",
       "    .dataframe tbody tr th {\n",
       "        vertical-align: top;\n",
       "    }\n",
       "\n",
       "    .dataframe thead th {\n",
       "        text-align: right;\n",
       "    }\n",
       "</style>\n",
       "<table border=\"1\" class=\"dataframe\">\n",
       "  <thead>\n",
       "    <tr style=\"text-align: right;\">\n",
       "      <th></th>\n",
       "      <th>category</th>\n",
       "      <th>count_company</th>\n",
       "      <th>median_funding</th>\n",
       "      <th>iqr</th>\n",
       "    </tr>\n",
       "  </thead>\n",
       "  <tbody>\n",
       "    <tr>\n",
       "      <th>0</th>\n",
       "      <td>biotech</td>\n",
       "      <td>162</td>\n",
       "      <td>24250000.00</td>\n",
       "      <td>42685000.00</td>\n",
       "    </tr>\n",
       "    <tr>\n",
       "      <th>1</th>\n",
       "      <td>cleantech</td>\n",
       "      <td>57</td>\n",
       "      <td>18000000.00</td>\n",
       "      <td>63572040.00</td>\n",
       "    </tr>\n",
       "    <tr>\n",
       "      <th>2</th>\n",
       "      <td>hardware</td>\n",
       "      <td>60</td>\n",
       "      <td>12900000.00</td>\n",
       "      <td>25430067.50</td>\n",
       "    </tr>\n",
       "  </tbody>\n",
       "</table>\n",
       "</div>"
      ],
      "text/plain": [
       "    category  count_company  median_funding         iqr\n",
       "0    biotech            162     24250000.00 42685000.00\n",
       "1  cleantech             57     18000000.00 63572040.00\n",
       "2   hardware             60     12900000.00 25430067.50"
      ]
     },
     "execution_count": 63,
     "metadata": {},
     "output_type": "execute_result"
    }
   ],
   "source": [
    "# Составляем топ категорий стартапов\n",
    "category_company[(category_company['median_funding'] > q3_median) & ((category_company['iqr'] > q3_iqr))].sort_values(\n",
    "    ['median_funding', 'iqr', 'count_company'], ascending = False).reset_index(drop = True)"
   ]
  },
  {
   "cell_type": "markdown",
   "metadata": {},
   "source": [
    "Получили **топ-3 категории** - они одновременно имеют и высокую типичную цену, и большой разброс, что делает их наиболее привлекательными для покупки.\n",
    "\n",
    "Построим диаграмму рассеяния, чтобы убедиться, что выбранные категории визуально выделяются от остальных. "
   ]
  },
  {
   "cell_type": "code",
   "execution_count": 64,
   "metadata": {},
   "outputs": [
    {
     "data": {
      "image/png": "[encoded data removed]",
      "text/plain": [
       "<Figure size 432x288 with 1 Axes>"
      ]
     },
     "metadata": {
      "needs_background": "light"
     },
     "output_type": "display_data"
    }
   ],
   "source": [
    "# Диаграмма рассеяния category_company\n",
    "ax = category_company.plot(kind = 'scatter', x = 'median_funding', y = 'iqr', color = 'gray')\n",
    "\n",
    "# Диаграмма рассеяния top_categories\n",
    "top_categories.plot(kind = 'scatter', x = 'median_funding', y = 'iqr', color = 'red',label = 'Топ категории', ax = ax)\n",
    "\n",
    "# Добавляем подписи категорий из топа\n",
    "for i, row in top_categories.iterrows():\n",
    "    plt.text(row['median_funding'], row['iqr'], row['category'])\n",
    "\n",
    "# Форматируем числа на осях\n",
    "ax.xaxis.set_major_formatter(plt.FuncFormatter(lambda x, p: f'{x:,.0f}'))\n",
    "ax.yaxis.set_major_formatter(plt.FuncFormatter(lambda x, p: f'{x:,.0f}'))    \n",
    "    \n",
    "# Добавляем подписи осей, заголовок, легенду и выводим график\n",
    "plt.xlabel('Медиана стоимости покупки стартапов')\n",
    "plt.ylabel('IQR')\n",
    "plt.title('Медиана vs IQR')\n",
    "plt.legend()\n",
    "plt.show()"
   ]
  },
  {
   "cell_type": "markdown",
   "metadata": {},
   "source": [
    "<div class=\"alert alert-block alert-success\">✔️\n",
    "    \n",
    "\n",
    "__Комментарий от ревьюера №2__\n",
    "\n",
    "Правильно, что агрегируешь по медиане. Поскольку нас интересует общественная картинка, если из-за слишком большого количества нулей, мы получим для многих категорий 0"
   ]
  },
  {
   "cell_type": "markdown",
   "metadata": {
    "id": "ADOfyVY_rJg3"
   },
   "source": [
    "\n",
    "### Сколько раундов продержится стартап перед покупкой\n",
    "\n",
    "- Необходимо проанализировать столбец `funding_rounds`. Исследуйте значения столбца. Заказчика интересует типичное значение количества раундов для каждого возможного статуса стартапа.\n",
    "- Постройте график, который отображает, сколько в среднем раундов финансирования проходило для стартапов из каждой группы. Сделайте выводы."
   ]
  },
  {
   "cell_type": "markdown",
   "metadata": {},
   "source": [
    "Посмотрим на статистические показатели и графическую визуализацию распределения столбца `funding_rounds`, чтобы узнать, какой показатель считать *типичным значением*."
   ]
  },
  {
   "cell_type": "code",
   "execution_count": 65,
   "metadata": {},
   "outputs": [
    {
     "data": {
      "text/plain": [
       "count   27874.00\n",
       "mean        1.74\n",
       "std         1.25\n",
       "min         1.00\n",
       "25%         1.00\n",
       "50%         1.00\n",
       "75%         2.00\n",
       "max        15.00\n",
       "Name: funding_rounds, dtype: float64"
      ]
     },
     "execution_count": 65,
     "metadata": {},
     "output_type": "execute_result"
    }
   ],
   "source": [
    "# Выводим основные статистические показатели\n",
    "interesting_company_df['funding_rounds'].describe()"
   ]
  },
  {
   "cell_type": "code",
   "execution_count": 66,
   "metadata": {},
   "outputs": [
    {
     "data": {
      "text/plain": [
       "array([[<AxesSubplot:title={'center':'funding_rounds'}>]], dtype=object)"
      ]
     },
     "execution_count": 66,
     "metadata": {},
     "output_type": "execute_result"
    },
    {
     "data": {
      "image/png": "[encoded data removed]",
      "text/plain": [
       "<Figure size 432x288 with 1 Axes>"
      ]
     },
     "metadata": {
      "needs_background": "light"
     },
     "output_type": "display_data"
    }
   ],
   "source": [
    "# Строим гистограмму распредления funding_rounds\n",
    "interesting_company_df.hist('funding_rounds')"
   ]
  },
  {
   "cell_type": "markdown",
   "metadata": {},
   "source": [
    "Распределение **асимметричное**, большинство значений = **1**, но есть редкие большие значения, которые сильно влияют на среднее значение. В этом случае **медиана** лучше отражает типичное количество. "
   ]
  },
  {
   "cell_type": "code",
   "execution_count": 67,
   "metadata": {
    "id": "hgXMPC4WrJg3",
    "vscode": {
     "languageId": "plaintext"
    }
   },
   "outputs": [
    {
     "data": {
      "text/html": [
       "<div>\n",
       "<style scoped>\n",
       "    .dataframe tbody tr th:only-of-type {\n",
       "        vertical-align: middle;\n",
       "    }\n",
       "\n",
       "    .dataframe tbody tr th {\n",
       "        vertical-align: top;\n",
       "    }\n",
       "\n",
       "    .dataframe thead th {\n",
       "        text-align: right;\n",
       "    }\n",
       "</style>\n",
       "<table border=\"1\" class=\"dataframe\">\n",
       "  <thead>\n",
       "    <tr style=\"text-align: right;\">\n",
       "      <th></th>\n",
       "      <th>status</th>\n",
       "      <th>count_rounds</th>\n",
       "      <th>mean_rounds</th>\n",
       "      <th>median_rounds</th>\n",
       "    </tr>\n",
       "  </thead>\n",
       "  <tbody>\n",
       "    <tr>\n",
       "      <th>0</th>\n",
       "      <td>acquired</td>\n",
       "      <td>2335</td>\n",
       "      <td>1.98</td>\n",
       "      <td>2.00</td>\n",
       "    </tr>\n",
       "    <tr>\n",
       "      <th>1</th>\n",
       "      <td>closed</td>\n",
       "      <td>1748</td>\n",
       "      <td>1.45</td>\n",
       "      <td>1.00</td>\n",
       "    </tr>\n",
       "    <tr>\n",
       "      <th>2</th>\n",
       "      <td>ipo</td>\n",
       "      <td>480</td>\n",
       "      <td>2.55</td>\n",
       "      <td>2.00</td>\n",
       "    </tr>\n",
       "    <tr>\n",
       "      <th>3</th>\n",
       "      <td>operating</td>\n",
       "      <td>23311</td>\n",
       "      <td>1.72</td>\n",
       "      <td>1.00</td>\n",
       "    </tr>\n",
       "  </tbody>\n",
       "</table>\n",
       "</div>"
      ],
      "text/plain": [
       "      status  count_rounds  mean_rounds  median_rounds\n",
       "0   acquired          2335         1.98           2.00\n",
       "1     closed          1748         1.45           1.00\n",
       "2        ipo           480         2.55           2.00\n",
       "3  operating         23311         1.72           1.00"
      ]
     },
     "execution_count": 67,
     "metadata": {},
     "output_type": "execute_result"
    }
   ],
   "source": [
    "status_company = interesting_company_df.groupby('status').agg({\n",
    "    'funding_rounds':['count', 'mean', 'median']\n",
    "}).reset_index()\n",
    "\n",
    "status_company.columns = ['status', 'count_rounds', 'mean_rounds', 'median_rounds']\n",
    "\n",
    "status_company"
   ]
  },
  {
   "cell_type": "markdown",
   "metadata": {},
   "source": [
    "Построим график **boxplot**, чтобы увидеть и типичное значение, и насколько сильно оно колеблется внутри группы."
   ]
  },
  {
   "cell_type": "code",
   "execution_count": 68,
   "metadata": {
    "id": "pV3e7kw5Fj1Y"
   },
   "outputs": [
    {
     "data": {
      "image/png": "[encoded data removed]",
      "text/plain": [
       "<Figure size 432x288 with 1 Axes>"
      ]
     },
     "metadata": {
      "needs_background": "light"
     },
     "output_type": "display_data"
    }
   ],
   "source": [
    "# Строим boxplot\n",
    "sns.boxplot(x = 'status', y = 'funding_rounds', data = interesting_company_df)\n",
    "\n",
    "# Добавляем подписи осей, заголовок\n",
    "plt.title('Распределение количества раундов финансирования по статусам')\n",
    "plt.xlabel('Статус стартапа')\n",
    "plt.ylabel('Количество раундов финансирования')\n",
    "plt.show()"
   ]
  },
  {
   "cell_type": "markdown",
   "metadata": {},
   "source": [
    "Большинство стартапов проходят всего **1** раунд финансирования, однако есть и высокие значения - некоторые стартапы достигали до **15** раундов финансирования. При этом стартапы, имеющие статусы `ipo` или `acquired`, чаще проходят 2 и более ранудов. А стартапы со статусом `closed` редко имеют **более 1** раунда финансирования. \n",
    "\n",
    "Так, типичное значение - **1 раунд**, а статус стартапа сильно влияет на количество раундов, которые удалось пройти."
   ]
  },
  {
   "cell_type": "markdown",
   "metadata": {},
   "source": [
    "<div class=\"alert alert-block alert-success\">✔️\n",
    "    \n",
    "\n",
    "__Комментарий от ревьюера №2__\n",
    "\n",
    "\n",
    "Успех 👍:\n",
    "\n",
    "\n",
    "\n",
    "Логичный результат\n",
    "\n",
    " \n",
    "\n",
    "<div class=\"alert alert-warning\">\n",
    " \n",
    "\n",
    "\n",
    "Совет 🤔:\n",
    "\n",
    "\n",
    "- Можно дополнительно описать что такое IPO, и обратить внимание сколько компаний вообще до неё добирается    \n",
    "    \n",
    "    \n",
    "- Можно ещё построить  график, который иллюстрирует кумулятивную вероятность приобретения стартапа в зависимости от количества проведенных раундов финансирования. Анализ такого графика поможет   понять, как количество раундов финансирования связано с вероятностью того, что стартап будет приобретен. Например, если вероятность резко возрастает после 1-2 раундов, это может указывать, что большинство успешных стартапов покупаются на ранних стадиях\n",
    "    \n",
    "\n",
    "     "
   ]
  },
  {
   "cell_type": "markdown",
   "metadata": {
    "id": "VAFEZ2HBrJg3"
   },
   "source": [
    "\n",
    "## Шаг 4. Итоговый вывод и рекомендации\n",
    "\n",
    "Опишите, что было сделано в проекте, какие были сделаны выводы, подкрепляют ли они друг друга или заставляют сомневаться в полученных результатах."
   ]
  },
  {
   "cell_type": "markdown",
   "metadata": {},
   "source": [
    "### Первичная предобработка данных, структура данных\n",
    "\n",
    "В ходе исследования проанализировали данные **более 40 тысяч** стартапов. Данные включали информацию о компаниях и раундах финансирования, покупках одних компаний другими, сотрудниках и их образовании. Акцент исследования был на том, чтобы провести качественную **предобработку** данных, ответить на **ключевые вопросы** закачика для бизнеса. Также в процессе работы важным было выявить показатели и признаки, которые указывают на повышенную вероятность **успешной сделки** по покупке компании.\n",
    "\n",
    "В целом данные хорошего качества — соответствуют описанию и выглядят корректными, однако неполные - в них много пропущенных значений, также датасет `company_and_rounds` получен объединением двух других датасетов: один отражал характеристики компаний, другой — информацию о раундах финансирования. Для корректного анализа таблица была **разделена** на два отдельных датафрейма (`company_df` и `rounds_df`), что позволило отбирать компании по параметрам и рассчитывать показатели из расчёта на одну компанию без промежуточных агрегаций.\n",
    "\n",
    "Использование `network_username` для объединения данных оказалось **невозможным**: уникальность слишком низкая **(до 37%)**, а пересечение составило лишь **5,7%**.\n",
    "\n",
    "\n",
    "### Анализ финансирования стартапов\n",
    "\n",
    "Всего было исследовано **27874** компаний, финансирование которых больше 0. Распределение сумм финансирования сильно асимметрично: среднее значение составляет **14,8 млн**, тогда как медиана лишь **2,6 млн**. Большинство компаний **(50%)** получили от **0,5 до 11 млн**, а значения свыше **25 млн** встречаются редко и считаются выбросами. \n",
    "\n",
    "Особое внимание заслуживают сделки, в которых компании с существенным объёмом финансирования продавались за *0/1 доллар* **(1618 случаев)**. При этом всего **203** компании, проданных за рубль, имели выбросы в сумме финансирования, значит такие продажи связаны с чем-то другим.\n",
    "\n",
    "### Определение перспективных категорий стартапов\n",
    "\n",
    "Для определения типичных цен и их разброса использовались **медиана** и **межквартильный размах** соответственно, так как они устойчивы к выбросам. В рейтинге **не участвовали** категории стартапов, в которых было **менее 10** компаний, так как их статистика нерепрезентативна, а высокие значения медианы/IQR финансирования могут быть вызваны выбросами.\n",
    "\n",
    "**Топ-3 категории стартапов**, которые одновременно обладают высокими типичными ценами и значительным разбросом, а значит являются наиболее привлекательными для крупных инвесторов - **biotech, cleantech, hardware**.\n",
    "\n",
    "\n",
    "### Раунды финансирования и статус стартапа\n",
    "\n",
    "Большинство стартапов проходят всего **1 раунд** финансирования, однако есть и высокие значения - некоторые стартапы достигали **до 15** раундов финансирования. При этом стартапы, имеющие статусы *ipo* или *acquired*, чаще проходят **2 и более** ранудов. А стартапы со статусом *closed* редко имеют более 1 раунда финансирования. \n",
    "\n",
    "Так, количество пройденных раундов можно рассматривать как **значимый фактор** для оценки потенциала стартапа.\n",
    "\n",
    "### Рекомендации\n",
    "\n",
    "Выводы на всех этапах работы подтверждают друг друга и позволяют выявить показатели и признаки, которые указывают на повышенную вероятность успешной сделки по покупке компании.\n",
    "\n",
    "1. Отрасть стартапа важна - лучше выбирать перспективные отрасти со стабильно высокими показателями - **biotech, cleantech, hardware**.\n",
    "2. Учитывать количество раундов финансирования - компании с **2 и более раундами** имеют более высокие шансы на успех.\n",
    "3. Правильно оценивать финансирование - высокая вероятность искажения среднего из-за редких крупных выбросов, лучше использовать **медиану**.\n",
    "4. Критически оценивать **сделки за 0/1 доллар** при высоком финансировании."
   ]
  },
  {
   "cell_type": "markdown",
   "metadata": {},
   "source": [
    "<div class=\"alert alert-block alert-success\">✔️\n",
    "    \n",
    "\n",
    "__Комментарий от ревьюера №2__\n",
    "\n",
    "Итоговый вывод завершает твое исследование. Представлены основные результаты полученные в ходе анализа, но самое главное - даны рекомендации заказчику. Это важное качество для специалиста. Развивай его и дальше\n",
    "    \n",
    "    \n",
    "Единственное, чтобы еще добавил тут:\n",
    "    \n",
    "* Фокус на перспективных категориях стартапов. Топ 5 по ценам и топ 5 по разбросам цен. Топ 5 с наибольшим разбросом по ценам эти категории наиболее рискованные, но могут предложить более высокую потенциальную прибыль. Эти категории представляют интерес, но требуется более глубокий анализ для выявления наиболее перспективных стартапов и оценки рисков.\n",
    "</div>"
   ]
  },
  {
   "cell_type": "markdown",
   "metadata": {},
   "source": []
  },
  {
   "cell_type": "markdown",
   "metadata": {},
   "source": []
  },
  {
   "cell_type": "markdown",
   "metadata": {},
   "source": [
    "<div style=\"border:solid blue 3px; padding: 20px\">\n",
    "<div class=\"alert alert-block alert-success\">✔️\n",
    "    \n",
    "\n",
    "__Коментарий от ревьюера №3__\n",
    "\n",
    "\n",
    "В остальном всё чудно😊. Твой проект так и просится на github =)   \n",
    "    \n",
    "Поздравляю с успешным завершением проекта 😊👍\n",
    "И желаю успехов в новых работах 😊\n",
    "    \n",
    "---\n",
    "    \n",
    "От себя хочу порекомендовать тебе отличную книгу про язык Python. Она очень классная (можно купить как новую, так и на Авито попадается. Вот ссылка на pdf этой книги)\n",
    "    \n",
    "https://monster-book.com/avtomatizaciya-zadach-s-python\n",
    "</div>"
   ]
  }
 ],
 "metadata": {
  "ExecuteTimeLog": [
   {
    "duration": 1374,
    "start_time": "2025-08-08T11:42:43.059Z"
   },
   {
    "duration": 2506,
    "start_time": "2025-08-08T11:46:55.688Z"
   },
   {
    "duration": 2027,
    "start_time": "2025-08-08T11:47:13.304Z"
   },
   {
    "duration": 1631,
    "start_time": "2025-08-08T11:49:22.720Z"
   },
   {
    "duration": 96,
    "start_time": "2025-08-08T12:15:02.310Z"
   },
   {
    "duration": 2116,
    "start_time": "2025-08-08T12:15:08.682Z"
   },
   {
    "duration": 27,
    "start_time": "2025-08-08T12:15:12.464Z"
   },
   {
    "duration": 23,
    "start_time": "2025-08-08T12:20:20.253Z"
   },
   {
    "duration": 92,
    "start_time": "2025-08-08T12:20:27.891Z"
   },
   {
    "duration": 47,
    "start_time": "2025-08-10T11:33:00.104Z"
   },
   {
    "duration": 1406,
    "start_time": "2025-08-10T11:33:08.872Z"
   },
   {
    "duration": 2190,
    "start_time": "2025-08-10T11:33:10.280Z"
   },
   {
    "duration": 41,
    "start_time": "2025-08-10T11:33:12.471Z"
   },
   {
    "duration": 110,
    "start_time": "2025-08-10T11:33:12.514Z"
   },
   {
    "duration": 10,
    "start_time": "2025-08-10T11:37:03.048Z"
   },
   {
    "duration": 11,
    "start_time": "2025-08-10T11:38:03.352Z"
   },
   {
    "duration": 10,
    "start_time": "2025-08-10T11:38:43.351Z"
   },
   {
    "duration": 38,
    "start_time": "2025-08-10T11:39:04.454Z"
   },
   {
    "duration": 98,
    "start_time": "2025-08-10T11:39:48.628Z"
   },
   {
    "duration": 8,
    "start_time": "2025-08-10T11:40:26.226Z"
   },
   {
    "duration": 20,
    "start_time": "2025-08-10T11:40:40.908Z"
   },
   {
    "duration": 8,
    "start_time": "2025-08-10T11:41:50.990Z"
   },
   {
    "duration": 24,
    "start_time": "2025-08-10T11:43:58.621Z"
   },
   {
    "duration": 17,
    "start_time": "2025-08-10T12:13:24.137Z"
   },
   {
    "duration": 7,
    "start_time": "2025-08-10T12:13:40.075Z"
   },
   {
    "duration": 10,
    "start_time": "2025-08-10T12:17:31.433Z"
   },
   {
    "duration": 36,
    "start_time": "2025-08-10T12:32:52.912Z"
   },
   {
    "duration": 54,
    "start_time": "2025-08-10T12:41:47.727Z"
   },
   {
    "duration": 4,
    "start_time": "2025-08-10T13:41:53.692Z"
   },
   {
    "duration": 12,
    "start_time": "2025-08-10T13:42:43.974Z"
   },
   {
    "duration": 509,
    "start_time": "2025-08-10T13:43:20.563Z"
   },
   {
    "duration": 4,
    "start_time": "2025-08-10T13:43:48.011Z"
   },
   {
    "duration": 45,
    "start_time": "2025-08-10T15:22:16.236Z"
   },
   {
    "duration": 1284,
    "start_time": "2025-08-10T15:22:23.728Z"
   },
   {
    "duration": 1720,
    "start_time": "2025-08-10T15:22:25.014Z"
   },
   {
    "duration": 29,
    "start_time": "2025-08-10T15:22:26.736Z"
   },
   {
    "duration": 18,
    "start_time": "2025-08-10T15:22:26.767Z"
   },
   {
    "duration": 426,
    "start_time": "2025-08-10T15:22:26.787Z"
   },
   {
    "duration": 4,
    "start_time": "2025-08-10T15:22:27.215Z"
   },
   {
    "duration": 131,
    "start_time": "2025-08-10T15:22:27.220Z"
   },
   {
    "duration": 0,
    "start_time": "2025-08-10T15:22:27.353Z"
   },
   {
    "duration": 0,
    "start_time": "2025-08-10T15:22:27.354Z"
   },
   {
    "duration": 0,
    "start_time": "2025-08-10T15:22:27.356Z"
   },
   {
    "duration": 0,
    "start_time": "2025-08-10T15:22:27.357Z"
   },
   {
    "duration": 0,
    "start_time": "2025-08-10T15:22:27.358Z"
   },
   {
    "duration": 1,
    "start_time": "2025-08-10T15:22:27.358Z"
   },
   {
    "duration": 0,
    "start_time": "2025-08-10T15:22:27.360Z"
   },
   {
    "duration": 0,
    "start_time": "2025-08-10T15:22:27.361Z"
   },
   {
    "duration": 0,
    "start_time": "2025-08-10T15:22:27.362Z"
   },
   {
    "duration": 0,
    "start_time": "2025-08-10T15:22:27.364Z"
   },
   {
    "duration": 0,
    "start_time": "2025-08-10T15:22:27.365Z"
   },
   {
    "duration": 1201,
    "start_time": "2025-08-10T15:25:37.925Z"
   },
   {
    "duration": 1668,
    "start_time": "2025-08-10T15:25:39.128Z"
   },
   {
    "duration": 28,
    "start_time": "2025-08-10T15:25:40.798Z"
   },
   {
    "duration": 131,
    "start_time": "2025-08-10T15:25:40.828Z"
   },
   {
    "duration": 0,
    "start_time": "2025-08-10T15:25:40.962Z"
   },
   {
    "duration": 0,
    "start_time": "2025-08-10T15:25:40.963Z"
   },
   {
    "duration": 0,
    "start_time": "2025-08-10T15:25:40.964Z"
   },
   {
    "duration": 0,
    "start_time": "2025-08-10T15:25:40.966Z"
   },
   {
    "duration": 0,
    "start_time": "2025-08-10T15:25:40.967Z"
   },
   {
    "duration": 0,
    "start_time": "2025-08-10T15:25:40.968Z"
   },
   {
    "duration": 0,
    "start_time": "2025-08-10T15:25:40.970Z"
   },
   {
    "duration": 0,
    "start_time": "2025-08-10T15:25:40.971Z"
   },
   {
    "duration": 0,
    "start_time": "2025-08-10T15:25:40.989Z"
   },
   {
    "duration": 0,
    "start_time": "2025-08-10T15:25:40.990Z"
   },
   {
    "duration": 0,
    "start_time": "2025-08-10T15:25:40.992Z"
   },
   {
    "duration": 0,
    "start_time": "2025-08-10T15:25:40.993Z"
   },
   {
    "duration": 0,
    "start_time": "2025-08-10T15:25:40.995Z"
   },
   {
    "duration": 0,
    "start_time": "2025-08-10T15:25:40.996Z"
   },
   {
    "duration": 1093,
    "start_time": "2025-08-10T15:47:58.022Z"
   },
   {
    "duration": 2242,
    "start_time": "2025-08-10T15:47:59.117Z"
   },
   {
    "duration": 36,
    "start_time": "2025-08-10T15:48:01.361Z"
   },
   {
    "duration": 173,
    "start_time": "2025-08-10T15:48:01.399Z"
   },
   {
    "duration": 0,
    "start_time": "2025-08-10T15:48:01.574Z"
   },
   {
    "duration": 0,
    "start_time": "2025-08-10T15:48:01.575Z"
   },
   {
    "duration": 0,
    "start_time": "2025-08-10T15:48:01.576Z"
   },
   {
    "duration": 0,
    "start_time": "2025-08-10T15:48:01.577Z"
   },
   {
    "duration": 0,
    "start_time": "2025-08-10T15:48:01.578Z"
   },
   {
    "duration": 0,
    "start_time": "2025-08-10T15:48:01.589Z"
   },
   {
    "duration": 0,
    "start_time": "2025-08-10T15:48:01.591Z"
   },
   {
    "duration": 0,
    "start_time": "2025-08-10T15:48:01.593Z"
   },
   {
    "duration": 0,
    "start_time": "2025-08-10T15:48:01.594Z"
   },
   {
    "duration": 0,
    "start_time": "2025-08-10T15:48:01.596Z"
   },
   {
    "duration": 0,
    "start_time": "2025-08-10T15:48:01.597Z"
   },
   {
    "duration": 0,
    "start_time": "2025-08-10T15:48:01.599Z"
   },
   {
    "duration": 0,
    "start_time": "2025-08-10T15:48:01.600Z"
   },
   {
    "duration": 0,
    "start_time": "2025-08-10T15:48:01.602Z"
   },
   {
    "duration": 4,
    "start_time": "2025-08-10T15:48:35.487Z"
   },
   {
    "duration": 29,
    "start_time": "2025-08-10T15:49:02.810Z"
   },
   {
    "duration": 201,
    "start_time": "2025-08-10T15:50:21.873Z"
   },
   {
    "duration": 4,
    "start_time": "2025-08-10T15:50:43.586Z"
   },
   {
    "duration": 472,
    "start_time": "2025-08-10T15:50:47.022Z"
   },
   {
    "duration": 4,
    "start_time": "2025-08-10T15:50:48.637Z"
   },
   {
    "duration": 1219,
    "start_time": "2025-08-10T15:51:01.199Z"
   },
   {
    "duration": 1801,
    "start_time": "2025-08-10T15:51:02.420Z"
   },
   {
    "duration": 31,
    "start_time": "2025-08-10T15:51:04.223Z"
   },
   {
    "duration": 264,
    "start_time": "2025-08-10T15:51:04.256Z"
   },
   {
    "duration": 344,
    "start_time": "2025-08-10T15:51:04.523Z"
   },
   {
    "duration": 8,
    "start_time": "2025-08-10T15:51:04.869Z"
   },
   {
    "duration": 523,
    "start_time": "2025-08-10T15:51:04.879Z"
   },
   {
    "duration": 5,
    "start_time": "2025-08-10T15:51:05.404Z"
   },
   {
    "duration": 121,
    "start_time": "2025-08-10T15:51:05.411Z"
   },
   {
    "duration": 8,
    "start_time": "2025-08-10T15:51:05.536Z"
   },
   {
    "duration": 45,
    "start_time": "2025-08-10T15:51:05.546Z"
   },
   {
    "duration": 68,
    "start_time": "2025-08-10T15:51:05.593Z"
   },
   {
    "duration": 46,
    "start_time": "2025-08-10T15:51:05.663Z"
   },
   {
    "duration": 7,
    "start_time": "2025-08-10T15:51:05.711Z"
   },
   {
    "duration": 42,
    "start_time": "2025-08-10T15:51:05.719Z"
   },
   {
    "duration": 36,
    "start_time": "2025-08-10T15:51:05.763Z"
   },
   {
    "duration": 7,
    "start_time": "2025-08-10T15:51:05.801Z"
   },
   {
    "duration": 31,
    "start_time": "2025-08-10T15:51:05.809Z"
   },
   {
    "duration": 61,
    "start_time": "2025-08-10T15:51:05.842Z"
   },
   {
    "duration": 13,
    "start_time": "2025-08-10T15:57:03.654Z"
   },
   {
    "duration": 12,
    "start_time": "2025-08-10T15:58:45.709Z"
   },
   {
    "duration": 102,
    "start_time": "2025-08-10T16:04:45.283Z"
   },
   {
    "duration": 1121,
    "start_time": "2025-08-10T16:05:15.032Z"
   },
   {
    "duration": 1755,
    "start_time": "2025-08-10T16:05:16.155Z"
   },
   {
    "duration": 30,
    "start_time": "2025-08-10T16:05:17.911Z"
   },
   {
    "duration": 220,
    "start_time": "2025-08-10T16:05:17.943Z"
   },
   {
    "duration": 4,
    "start_time": "2025-08-10T16:05:18.166Z"
   },
   {
    "duration": 577,
    "start_time": "2025-08-10T16:05:18.172Z"
   },
   {
    "duration": 5,
    "start_time": "2025-08-10T16:05:18.751Z"
   },
   {
    "duration": 288,
    "start_time": "2025-08-10T16:05:18.758Z"
   },
   {
    "duration": 8,
    "start_time": "2025-08-10T16:05:19.047Z"
   },
   {
    "duration": 80,
    "start_time": "2025-08-10T16:05:19.057Z"
   },
   {
    "duration": 19,
    "start_time": "2025-08-10T16:05:19.139Z"
   },
   {
    "duration": 75,
    "start_time": "2025-08-10T16:05:19.160Z"
   },
   {
    "duration": 8,
    "start_time": "2025-08-10T16:05:19.237Z"
   },
   {
    "duration": 48,
    "start_time": "2025-08-10T16:05:19.248Z"
   },
   {
    "duration": 54,
    "start_time": "2025-08-10T16:05:19.298Z"
   },
   {
    "duration": 36,
    "start_time": "2025-08-10T16:05:19.353Z"
   },
   {
    "duration": 12,
    "start_time": "2025-08-10T16:05:19.391Z"
   },
   {
    "duration": 48,
    "start_time": "2025-08-10T16:05:19.405Z"
   },
   {
    "duration": 87,
    "start_time": "2025-08-10T16:05:19.454Z"
   },
   {
    "duration": 12,
    "start_time": "2025-08-10T16:05:19.542Z"
   },
   {
    "duration": 111,
    "start_time": "2025-08-10T16:05:19.556Z"
   },
   {
    "duration": 11,
    "start_time": "2025-08-10T16:06:06.005Z"
   },
   {
    "duration": 44,
    "start_time": "2025-08-12T08:31:23.116Z"
   },
   {
    "duration": 6,
    "start_time": "2025-08-12T08:31:38.009Z"
   },
   {
    "duration": 1330,
    "start_time": "2025-08-12T08:31:44.679Z"
   },
   {
    "duration": 2508,
    "start_time": "2025-08-12T08:31:46.011Z"
   },
   {
    "duration": 28,
    "start_time": "2025-08-12T08:31:48.521Z"
   },
   {
    "duration": 208,
    "start_time": "2025-08-12T08:31:48.551Z"
   },
   {
    "duration": 5,
    "start_time": "2025-08-12T08:31:48.762Z"
   },
   {
    "duration": 498,
    "start_time": "2025-08-12T08:31:48.769Z"
   },
   {
    "duration": 5,
    "start_time": "2025-08-12T08:31:49.268Z"
   },
   {
    "duration": 279,
    "start_time": "2025-08-12T08:31:49.274Z"
   },
   {
    "duration": 8,
    "start_time": "2025-08-12T08:31:49.554Z"
   },
   {
    "duration": 162,
    "start_time": "2025-08-12T08:31:49.564Z"
   },
   {
    "duration": 24,
    "start_time": "2025-08-12T08:31:49.728Z"
   },
   {
    "duration": 84,
    "start_time": "2025-08-12T08:31:49.754Z"
   },
   {
    "duration": 11,
    "start_time": "2025-08-12T08:31:49.840Z"
   },
   {
    "duration": 47,
    "start_time": "2025-08-12T08:31:49.854Z"
   },
   {
    "duration": 58,
    "start_time": "2025-08-12T08:31:49.904Z"
   },
   {
    "duration": 7,
    "start_time": "2025-08-12T08:31:49.964Z"
   },
   {
    "duration": 8,
    "start_time": "2025-08-12T08:31:49.990Z"
   },
   {
    "duration": 23,
    "start_time": "2025-08-12T08:31:50.000Z"
   },
   {
    "duration": 74,
    "start_time": "2025-08-12T08:31:50.026Z"
   },
   {
    "duration": 5,
    "start_time": "2025-08-12T08:31:50.102Z"
   },
   {
    "duration": 111,
    "start_time": "2025-08-12T08:31:50.109Z"
   },
   {
    "duration": 3,
    "start_time": "2025-08-12T08:33:19.557Z"
   },
   {
    "duration": 5,
    "start_time": "2025-08-12T08:35:52.171Z"
   },
   {
    "duration": 14,
    "start_time": "2025-08-12T08:36:39.141Z"
   },
   {
    "duration": 23,
    "start_time": "2025-08-12T08:39:46.948Z"
   },
   {
    "duration": 14,
    "start_time": "2025-08-12T09:30:31.850Z"
   },
   {
    "duration": 119,
    "start_time": "2025-08-12T09:30:35.833Z"
   },
   {
    "duration": 8,
    "start_time": "2025-08-12T12:06:23.997Z"
   },
   {
    "duration": 124,
    "start_time": "2025-08-12T12:09:16.681Z"
   },
   {
    "duration": 1089,
    "start_time": "2025-08-12T12:58:18.526Z"
   },
   {
    "duration": 2368,
    "start_time": "2025-08-12T12:58:19.616Z"
   },
   {
    "duration": 28,
    "start_time": "2025-08-12T12:58:21.986Z"
   },
   {
    "duration": 237,
    "start_time": "2025-08-12T12:58:22.016Z"
   },
   {
    "duration": 4,
    "start_time": "2025-08-12T12:58:22.255Z"
   },
   {
    "duration": 476,
    "start_time": "2025-08-12T12:58:22.261Z"
   },
   {
    "duration": 4,
    "start_time": "2025-08-12T12:58:22.739Z"
   },
   {
    "duration": 106,
    "start_time": "2025-08-12T12:58:22.745Z"
   },
   {
    "duration": 9,
    "start_time": "2025-08-12T12:58:22.853Z"
   },
   {
    "duration": 11,
    "start_time": "2025-08-12T12:58:22.865Z"
   },
   {
    "duration": 9,
    "start_time": "2025-08-12T12:58:22.890Z"
   },
   {
    "duration": 38,
    "start_time": "2025-08-12T12:58:22.900Z"
   },
   {
    "duration": 7,
    "start_time": "2025-08-12T12:58:22.940Z"
   },
   {
    "duration": 23,
    "start_time": "2025-08-12T12:58:22.948Z"
   },
   {
    "duration": 52,
    "start_time": "2025-08-12T12:58:22.972Z"
   },
   {
    "duration": 4,
    "start_time": "2025-08-12T12:58:23.025Z"
   },
   {
    "duration": 115,
    "start_time": "2025-08-12T12:58:23.031Z"
   },
   {
    "duration": 15,
    "start_time": "2025-08-12T12:58:23.147Z"
   },
   {
    "duration": 45,
    "start_time": "2025-08-12T12:58:23.164Z"
   },
   {
    "duration": 48,
    "start_time": "2025-08-12T12:58:23.210Z"
   },
   {
    "duration": 6,
    "start_time": "2025-08-12T12:58:23.259Z"
   },
   {
    "duration": 23,
    "start_time": "2025-08-12T12:58:23.267Z"
   },
   {
    "duration": 106,
    "start_time": "2025-08-12T12:58:23.292Z"
   },
   {
    "duration": 5,
    "start_time": "2025-08-12T12:58:23.400Z"
   },
   {
    "duration": 110,
    "start_time": "2025-08-12T12:58:23.406Z"
   },
   {
    "duration": 7,
    "start_time": "2025-08-12T12:58:23.517Z"
   },
   {
    "duration": 43,
    "start_time": "2025-08-12T12:58:23.526Z"
   },
   {
    "duration": 23,
    "start_time": "2025-08-12T12:58:23.572Z"
   },
   {
    "duration": 25,
    "start_time": "2025-08-12T12:58:23.597Z"
   },
   {
    "duration": 48,
    "start_time": "2025-08-15T09:56:33.351Z"
   },
   {
    "duration": 1365,
    "start_time": "2025-08-15T09:57:04.134Z"
   },
   {
    "duration": 3602,
    "start_time": "2025-08-15T09:57:05.501Z"
   },
   {
    "duration": 36,
    "start_time": "2025-08-15T09:57:09.105Z"
   },
   {
    "duration": 216,
    "start_time": "2025-08-15T09:57:09.142Z"
   },
   {
    "duration": 4,
    "start_time": "2025-08-15T09:57:09.360Z"
   },
   {
    "duration": 483,
    "start_time": "2025-08-15T09:57:09.365Z"
   },
   {
    "duration": 3,
    "start_time": "2025-08-15T09:57:09.850Z"
   },
   {
    "duration": 222,
    "start_time": "2025-08-15T09:57:09.855Z"
   },
   {
    "duration": 9,
    "start_time": "2025-08-15T09:57:10.078Z"
   },
   {
    "duration": 19,
    "start_time": "2025-08-15T09:57:10.088Z"
   },
   {
    "duration": 114,
    "start_time": "2025-08-15T09:57:10.109Z"
   },
   {
    "duration": 43,
    "start_time": "2025-08-15T09:57:10.225Z"
   },
   {
    "duration": 8,
    "start_time": "2025-08-15T09:57:10.270Z"
   },
   {
    "duration": 25,
    "start_time": "2025-08-15T09:57:10.280Z"
   },
   {
    "duration": 67,
    "start_time": "2025-08-15T09:57:10.308Z"
   },
   {
    "duration": 5,
    "start_time": "2025-08-15T09:57:10.377Z"
   },
   {
    "duration": 5,
    "start_time": "2025-08-15T09:57:10.384Z"
   },
   {
    "duration": 20,
    "start_time": "2025-08-15T09:57:10.390Z"
   },
   {
    "duration": 47,
    "start_time": "2025-08-15T09:57:10.412Z"
   },
   {
    "duration": 52,
    "start_time": "2025-08-15T09:57:10.460Z"
   },
   {
    "duration": 5,
    "start_time": "2025-08-15T09:57:10.514Z"
   },
   {
    "duration": 17,
    "start_time": "2025-08-15T09:57:10.521Z"
   },
   {
    "duration": 128,
    "start_time": "2025-08-15T09:57:10.540Z"
   },
   {
    "duration": 5,
    "start_time": "2025-08-15T09:57:10.669Z"
   },
   {
    "duration": 114,
    "start_time": "2025-08-15T09:57:10.675Z"
   },
   {
    "duration": 6,
    "start_time": "2025-08-15T09:57:10.791Z"
   },
   {
    "duration": 213,
    "start_time": "2025-08-15T09:57:10.799Z"
   },
   {
    "duration": 0,
    "start_time": "2025-08-15T09:57:11.014Z"
   },
   {
    "duration": 0,
    "start_time": "2025-08-15T09:57:11.015Z"
   },
   {
    "duration": 36,
    "start_time": "2025-08-15T09:57:46.767Z"
   },
   {
    "duration": 16,
    "start_time": "2025-08-15T09:58:05.740Z"
   },
   {
    "duration": 20,
    "start_time": "2025-08-15T09:58:07.043Z"
   },
   {
    "duration": 46,
    "start_time": "2025-08-18T06:32:52.484Z"
   },
   {
    "duration": 1294,
    "start_time": "2025-08-18T06:33:37.135Z"
   },
   {
    "duration": 2087,
    "start_time": "2025-08-18T06:33:38.432Z"
   },
   {
    "duration": 31,
    "start_time": "2025-08-18T06:33:40.521Z"
   },
   {
    "duration": 226,
    "start_time": "2025-08-18T06:33:40.554Z"
   },
   {
    "duration": 8,
    "start_time": "2025-08-18T06:33:40.782Z"
   },
   {
    "duration": 502,
    "start_time": "2025-08-18T06:33:40.792Z"
   },
   {
    "duration": 3,
    "start_time": "2025-08-18T06:33:41.296Z"
   },
   {
    "duration": 112,
    "start_time": "2025-08-18T06:33:41.301Z"
   },
   {
    "duration": 8,
    "start_time": "2025-08-18T06:33:41.415Z"
   },
   {
    "duration": 22,
    "start_time": "2025-08-18T06:33:41.426Z"
   },
   {
    "duration": 107,
    "start_time": "2025-08-18T06:33:41.449Z"
   },
   {
    "duration": 76,
    "start_time": "2025-08-18T06:33:41.557Z"
   },
   {
    "duration": 15,
    "start_time": "2025-08-18T06:33:41.634Z"
   },
   {
    "duration": 23,
    "start_time": "2025-08-18T06:33:41.651Z"
   },
   {
    "duration": 45,
    "start_time": "2025-08-18T06:33:41.676Z"
   },
   {
    "duration": 5,
    "start_time": "2025-08-18T06:33:41.723Z"
   },
   {
    "duration": 18,
    "start_time": "2025-08-18T06:33:41.730Z"
   },
   {
    "duration": 9,
    "start_time": "2025-08-18T06:33:41.750Z"
   },
   {
    "duration": 32,
    "start_time": "2025-08-18T06:33:41.761Z"
   },
   {
    "duration": 57,
    "start_time": "2025-08-18T06:33:41.794Z"
   },
   {
    "duration": 5,
    "start_time": "2025-08-18T06:33:41.853Z"
   },
   {
    "duration": 6,
    "start_time": "2025-08-18T06:33:41.859Z"
   },
   {
    "duration": 123,
    "start_time": "2025-08-18T06:33:41.866Z"
   },
   {
    "duration": 5,
    "start_time": "2025-08-18T06:33:41.991Z"
   },
   {
    "duration": 15,
    "start_time": "2025-08-18T06:33:41.998Z"
   },
   {
    "duration": 12,
    "start_time": "2025-08-18T06:33:42.015Z"
   },
   {
    "duration": 106,
    "start_time": "2025-08-18T06:33:42.029Z"
   },
   {
    "duration": 7,
    "start_time": "2025-08-18T06:33:42.138Z"
   },
   {
    "duration": 52,
    "start_time": "2025-08-18T06:33:42.146Z"
   },
   {
    "duration": 20,
    "start_time": "2025-08-18T06:33:42.201Z"
   },
   {
    "duration": 32,
    "start_time": "2025-08-18T06:33:42.223Z"
   },
   {
    "duration": 126,
    "start_time": "2025-08-18T06:33:42.257Z"
   },
   {
    "duration": 1369,
    "start_time": "2025-08-24T06:12:17.421Z"
   },
   {
    "duration": 2532,
    "start_time": "2025-08-24T06:12:18.792Z"
   },
   {
    "duration": 33,
    "start_time": "2025-08-24T06:12:21.326Z"
   },
   {
    "duration": 237,
    "start_time": "2025-08-24T06:12:21.361Z"
   },
   {
    "duration": 4,
    "start_time": "2025-08-24T06:12:21.600Z"
   },
   {
    "duration": 519,
    "start_time": "2025-08-24T06:12:21.606Z"
   },
   {
    "duration": 8,
    "start_time": "2025-08-24T06:12:22.127Z"
   },
   {
    "duration": 108,
    "start_time": "2025-08-24T06:12:22.136Z"
   },
   {
    "duration": 9,
    "start_time": "2025-08-24T06:12:22.246Z"
   },
   {
    "duration": 49,
    "start_time": "2025-08-24T06:12:22.258Z"
   },
   {
    "duration": 10,
    "start_time": "2025-08-24T06:12:22.309Z"
   },
   {
    "duration": 46,
    "start_time": "2025-08-24T06:12:22.321Z"
   },
   {
    "duration": 9,
    "start_time": "2025-08-24T06:12:22.368Z"
   },
   {
    "duration": 23,
    "start_time": "2025-08-24T06:12:22.379Z"
   },
   {
    "duration": 59,
    "start_time": "2025-08-24T06:12:22.404Z"
   },
   {
    "duration": 6,
    "start_time": "2025-08-24T06:12:22.464Z"
   },
   {
    "duration": 11,
    "start_time": "2025-08-24T06:12:22.472Z"
   },
   {
    "duration": 13,
    "start_time": "2025-08-24T06:12:22.485Z"
   },
   {
    "duration": 50,
    "start_time": "2025-08-24T06:12:22.499Z"
   },
   {
    "duration": 91,
    "start_time": "2025-08-24T06:12:22.552Z"
   },
   {
    "duration": 5,
    "start_time": "2025-08-24T06:12:22.645Z"
   },
   {
    "duration": 8,
    "start_time": "2025-08-24T06:12:22.652Z"
   },
   {
    "duration": 123,
    "start_time": "2025-08-24T06:12:22.661Z"
   },
   {
    "duration": 6,
    "start_time": "2025-08-24T06:12:22.785Z"
   },
   {
    "duration": 100,
    "start_time": "2025-08-24T06:12:22.792Z"
   },
   {
    "duration": 0,
    "start_time": "2025-08-24T06:12:22.893Z"
   },
   {
    "duration": 0,
    "start_time": "2025-08-24T06:12:22.895Z"
   },
   {
    "duration": 0,
    "start_time": "2025-08-24T06:12:22.896Z"
   },
   {
    "duration": 0,
    "start_time": "2025-08-24T06:12:22.897Z"
   },
   {
    "duration": 0,
    "start_time": "2025-08-24T06:12:22.898Z"
   },
   {
    "duration": 0,
    "start_time": "2025-08-24T06:12:22.899Z"
   },
   {
    "duration": 0,
    "start_time": "2025-08-24T06:12:22.901Z"
   },
   {
    "duration": 7,
    "start_time": "2025-08-24T06:24:04.814Z"
   },
   {
    "duration": 93,
    "start_time": "2025-08-24T06:25:26.327Z"
   },
   {
    "duration": 107,
    "start_time": "2025-08-24T06:25:41.701Z"
   },
   {
    "duration": 58,
    "start_time": "2025-08-24T06:30:03.006Z"
   },
   {
    "duration": 13,
    "start_time": "2025-08-24T06:30:09.173Z"
   },
   {
    "duration": 10,
    "start_time": "2025-08-24T06:30:19.588Z"
   },
   {
    "duration": 7,
    "start_time": "2025-08-24T06:31:15.554Z"
   },
   {
    "duration": 6,
    "start_time": "2025-08-24T06:35:22.822Z"
   },
   {
    "duration": 16,
    "start_time": "2025-08-24T06:36:17.701Z"
   },
   {
    "duration": 1182,
    "start_time": "2025-08-24T06:37:37.831Z"
   },
   {
    "duration": 3004,
    "start_time": "2025-08-24T06:37:39.015Z"
   },
   {
    "duration": 36,
    "start_time": "2025-08-24T06:37:42.021Z"
   },
   {
    "duration": 226,
    "start_time": "2025-08-24T06:37:42.059Z"
   },
   {
    "duration": 3,
    "start_time": "2025-08-24T06:37:42.287Z"
   },
   {
    "duration": 533,
    "start_time": "2025-08-24T06:37:42.292Z"
   },
   {
    "duration": 9,
    "start_time": "2025-08-24T06:37:42.827Z"
   },
   {
    "duration": 112,
    "start_time": "2025-08-24T06:37:42.837Z"
   },
   {
    "duration": 8,
    "start_time": "2025-08-24T06:37:42.951Z"
   },
   {
    "duration": 14,
    "start_time": "2025-08-24T06:37:42.962Z"
   },
   {
    "duration": 10,
    "start_time": "2025-08-24T06:37:42.977Z"
   },
   {
    "duration": 61,
    "start_time": "2025-08-24T06:37:42.989Z"
   },
   {
    "duration": 8,
    "start_time": "2025-08-24T06:37:43.051Z"
   },
   {
    "duration": 33,
    "start_time": "2025-08-24T06:37:43.061Z"
   },
   {
    "duration": 49,
    "start_time": "2025-08-24T06:37:43.096Z"
   },
   {
    "duration": 5,
    "start_time": "2025-08-24T06:37:43.147Z"
   },
   {
    "duration": 21,
    "start_time": "2025-08-24T06:37:43.154Z"
   },
   {
    "duration": 15,
    "start_time": "2025-08-24T06:37:43.176Z"
   },
   {
    "duration": 29,
    "start_time": "2025-08-24T06:37:43.192Z"
   },
   {
    "duration": 111,
    "start_time": "2025-08-24T06:37:43.222Z"
   },
   {
    "duration": 5,
    "start_time": "2025-08-24T06:37:43.335Z"
   },
   {
    "duration": 6,
    "start_time": "2025-08-24T06:37:43.342Z"
   },
   {
    "duration": 125,
    "start_time": "2025-08-24T06:37:43.350Z"
   },
   {
    "duration": 6,
    "start_time": "2025-08-24T06:37:43.476Z"
   },
   {
    "duration": 69,
    "start_time": "2025-08-24T06:37:43.483Z"
   },
   {
    "duration": 24,
    "start_time": "2025-08-24T06:37:43.554Z"
   },
   {
    "duration": 14,
    "start_time": "2025-08-24T06:37:43.580Z"
   },
   {
    "duration": 105,
    "start_time": "2025-08-24T06:37:43.597Z"
   },
   {
    "duration": 7,
    "start_time": "2025-08-24T06:37:43.703Z"
   },
   {
    "duration": 52,
    "start_time": "2025-08-24T06:37:43.711Z"
   },
   {
    "duration": 15,
    "start_time": "2025-08-24T06:37:43.765Z"
   },
   {
    "duration": 39,
    "start_time": "2025-08-24T06:37:43.782Z"
   },
   {
    "duration": 141,
    "start_time": "2025-08-24T06:37:43.823Z"
   },
   {
    "duration": 14,
    "start_time": "2025-08-24T06:40:42.320Z"
   },
   {
    "duration": 8,
    "start_time": "2025-08-24T06:40:43.337Z"
   },
   {
    "duration": 20,
    "start_time": "2025-08-24T06:41:02.341Z"
   },
   {
    "duration": 8,
    "start_time": "2025-08-24T06:41:03.149Z"
   },
   {
    "duration": 110,
    "start_time": "2025-08-24T06:41:15.443Z"
   },
   {
    "duration": 15,
    "start_time": "2025-08-24T06:41:57.491Z"
   },
   {
    "duration": 15,
    "start_time": "2025-08-24T06:42:00.386Z"
   },
   {
    "duration": 15792,
    "start_time": "2025-08-24T06:43:17.257Z"
   },
   {
    "duration": 19,
    "start_time": "2025-08-24T06:44:59.609Z"
   },
   {
    "duration": 109,
    "start_time": "2025-08-24T06:46:58.746Z"
   },
   {
    "duration": 21,
    "start_time": "2025-08-24T06:48:27.719Z"
   },
   {
    "duration": 31,
    "start_time": "2025-08-24T06:49:22.401Z"
   },
   {
    "duration": 29,
    "start_time": "2025-08-24T06:59:52.669Z"
   },
   {
    "duration": 24,
    "start_time": "2025-08-24T07:00:24.709Z"
   },
   {
    "duration": 24,
    "start_time": "2025-08-24T07:02:27.754Z"
   },
   {
    "duration": 30,
    "start_time": "2025-08-24T07:02:32.101Z"
   },
   {
    "duration": 1425,
    "start_time": "2025-08-24T07:06:45.260Z"
   },
   {
    "duration": 15,
    "start_time": "2025-08-24T07:08:47.326Z"
   },
   {
    "duration": 151,
    "start_time": "2025-08-24T07:11:12.091Z"
   },
   {
    "duration": 141,
    "start_time": "2025-08-24T07:12:04.719Z"
   },
   {
    "duration": 26,
    "start_time": "2025-08-24T07:14:48.832Z"
   },
   {
    "duration": 10,
    "start_time": "2025-08-24T07:14:51.152Z"
   },
   {
    "duration": 204,
    "start_time": "2025-08-24T07:14:55.854Z"
   },
   {
    "duration": 30,
    "start_time": "2025-08-24T07:15:04.740Z"
   },
   {
    "duration": 128,
    "start_time": "2025-08-24T07:15:39.339Z"
   },
   {
    "duration": 1276,
    "start_time": "2025-08-24T07:22:23.343Z"
   },
   {
    "duration": 3490,
    "start_time": "2025-08-24T07:22:24.621Z"
   },
   {
    "duration": 31,
    "start_time": "2025-08-24T07:22:28.113Z"
   },
   {
    "duration": 221,
    "start_time": "2025-08-24T07:22:28.146Z"
   },
   {
    "duration": 4,
    "start_time": "2025-08-24T07:22:28.368Z"
   },
   {
    "duration": 510,
    "start_time": "2025-08-24T07:22:28.374Z"
   },
   {
    "duration": 5,
    "start_time": "2025-08-24T07:22:28.886Z"
   },
   {
    "duration": 117,
    "start_time": "2025-08-24T07:22:28.892Z"
   },
   {
    "duration": 8,
    "start_time": "2025-08-24T07:22:29.011Z"
   },
   {
    "duration": 18,
    "start_time": "2025-08-24T07:22:29.022Z"
   },
   {
    "duration": 96,
    "start_time": "2025-08-24T07:22:29.042Z"
   },
   {
    "duration": 71,
    "start_time": "2025-08-24T07:22:29.140Z"
   },
   {
    "duration": 10,
    "start_time": "2025-08-24T07:22:29.213Z"
   },
   {
    "duration": 26,
    "start_time": "2025-08-24T07:22:29.225Z"
   },
   {
    "duration": 39,
    "start_time": "2025-08-24T07:22:29.253Z"
   },
   {
    "duration": 5,
    "start_time": "2025-08-24T07:22:29.294Z"
   },
   {
    "duration": 6,
    "start_time": "2025-08-24T07:22:29.300Z"
   },
   {
    "duration": 30,
    "start_time": "2025-08-24T07:22:29.308Z"
   },
   {
    "duration": 95,
    "start_time": "2025-08-24T07:22:29.340Z"
   },
   {
    "duration": 55,
    "start_time": "2025-08-24T07:22:29.437Z"
   },
   {
    "duration": 5,
    "start_time": "2025-08-24T07:22:29.494Z"
   },
   {
    "duration": 6,
    "start_time": "2025-08-24T07:22:29.501Z"
   },
   {
    "duration": 132,
    "start_time": "2025-08-24T07:22:29.509Z"
   },
   {
    "duration": 6,
    "start_time": "2025-08-24T07:22:29.643Z"
   },
   {
    "duration": 60,
    "start_time": "2025-08-24T07:22:29.651Z"
   },
   {
    "duration": 44,
    "start_time": "2025-08-24T07:22:29.713Z"
   },
   {
    "duration": 14,
    "start_time": "2025-08-24T07:22:29.759Z"
   },
   {
    "duration": 159,
    "start_time": "2025-08-24T07:22:29.778Z"
   },
   {
    "duration": 9,
    "start_time": "2025-08-24T07:22:29.939Z"
   },
   {
    "duration": 39,
    "start_time": "2025-08-24T07:22:29.949Z"
   },
   {
    "duration": 17,
    "start_time": "2025-08-24T07:22:29.989Z"
   },
   {
    "duration": 199,
    "start_time": "2025-08-24T07:22:30.008Z"
   },
   {
    "duration": 78,
    "start_time": "2025-08-24T07:22:30.209Z"
   },
   {
    "duration": 141,
    "start_time": "2025-08-24T07:22:30.289Z"
   },
   {
    "duration": 148,
    "start_time": "2025-08-24T07:26:58.811Z"
   },
   {
    "duration": 137,
    "start_time": "2025-08-24T07:27:12.855Z"
   },
   {
    "duration": 166,
    "start_time": "2025-08-24T07:28:12.749Z"
   },
   {
    "duration": 170,
    "start_time": "2025-08-24T07:28:23.724Z"
   },
   {
    "duration": 163,
    "start_time": "2025-08-24T07:28:38.761Z"
   },
   {
    "duration": 157,
    "start_time": "2025-08-24T07:28:50.449Z"
   },
   {
    "duration": 165,
    "start_time": "2025-08-24T07:29:44.121Z"
   },
   {
    "duration": 168,
    "start_time": "2025-08-24T07:29:52.204Z"
   },
   {
    "duration": 252,
    "start_time": "2025-08-24T07:32:01.094Z"
   },
   {
    "duration": 177,
    "start_time": "2025-08-24T07:37:08.196Z"
   },
   {
    "duration": 1563,
    "start_time": "2025-08-25T13:33:29.475Z"
   },
   {
    "duration": 2519,
    "start_time": "2025-08-25T13:33:31.041Z"
   },
   {
    "duration": 37,
    "start_time": "2025-08-25T13:33:33.562Z"
   },
   {
    "duration": 247,
    "start_time": "2025-08-25T13:33:33.601Z"
   },
   {
    "duration": 4,
    "start_time": "2025-08-25T13:33:33.850Z"
   },
   {
    "duration": 529,
    "start_time": "2025-08-25T13:33:33.861Z"
   },
   {
    "duration": 4,
    "start_time": "2025-08-25T13:33:34.392Z"
   },
   {
    "duration": 128,
    "start_time": "2025-08-25T13:33:34.398Z"
   },
   {
    "duration": 12,
    "start_time": "2025-08-25T13:33:34.528Z"
   },
   {
    "duration": 28,
    "start_time": "2025-08-25T13:33:34.542Z"
   },
   {
    "duration": 12,
    "start_time": "2025-08-25T13:33:34.572Z"
   },
   {
    "duration": 60,
    "start_time": "2025-08-25T13:33:34.586Z"
   },
   {
    "duration": 15,
    "start_time": "2025-08-25T13:33:34.648Z"
   },
   {
    "duration": 23,
    "start_time": "2025-08-25T13:33:34.668Z"
   },
   {
    "duration": 79,
    "start_time": "2025-08-25T13:33:34.694Z"
   },
   {
    "duration": 6,
    "start_time": "2025-08-25T13:33:34.775Z"
   },
   {
    "duration": 7,
    "start_time": "2025-08-25T13:33:34.783Z"
   },
   {
    "duration": 25,
    "start_time": "2025-08-25T13:33:34.792Z"
   },
   {
    "duration": 42,
    "start_time": "2025-08-25T13:33:34.820Z"
   },
   {
    "duration": 61,
    "start_time": "2025-08-25T13:33:34.864Z"
   },
   {
    "duration": 7,
    "start_time": "2025-08-25T13:33:34.927Z"
   },
   {
    "duration": 31,
    "start_time": "2025-08-25T13:33:34.936Z"
   },
   {
    "duration": 139,
    "start_time": "2025-08-25T13:33:34.969Z"
   },
   {
    "duration": 6,
    "start_time": "2025-08-25T13:33:35.110Z"
   },
   {
    "duration": 78,
    "start_time": "2025-08-25T13:33:35.119Z"
   },
   {
    "duration": 27,
    "start_time": "2025-08-25T13:33:35.199Z"
   },
   {
    "duration": 53,
    "start_time": "2025-08-25T13:33:35.228Z"
   },
   {
    "duration": 119,
    "start_time": "2025-08-25T13:33:35.283Z"
   },
   {
    "duration": 11,
    "start_time": "2025-08-25T13:33:35.405Z"
   },
   {
    "duration": 65,
    "start_time": "2025-08-25T13:33:35.418Z"
   },
   {
    "duration": 20,
    "start_time": "2025-08-25T13:33:35.486Z"
   },
   {
    "duration": 32,
    "start_time": "2025-08-25T13:33:35.509Z"
   },
   {
    "duration": 39,
    "start_time": "2025-08-25T13:33:35.560Z"
   },
   {
    "duration": 281,
    "start_time": "2025-08-25T13:33:35.601Z"
   },
   {
    "duration": 1398,
    "start_time": "2025-08-26T12:06:12.826Z"
   },
   {
    "duration": 2007,
    "start_time": "2025-08-26T12:06:14.226Z"
   },
   {
    "duration": 35,
    "start_time": "2025-08-26T12:06:16.237Z"
   },
   {
    "duration": 209,
    "start_time": "2025-08-26T12:06:16.274Z"
   },
   {
    "duration": 4,
    "start_time": "2025-08-26T12:06:16.484Z"
   },
   {
    "duration": 503,
    "start_time": "2025-08-26T12:06:16.490Z"
   },
   {
    "duration": 4,
    "start_time": "2025-08-26T12:06:16.995Z"
   },
   {
    "duration": 124,
    "start_time": "2025-08-26T12:06:17.000Z"
   },
   {
    "duration": 9,
    "start_time": "2025-08-26T12:06:17.127Z"
   },
   {
    "duration": 19,
    "start_time": "2025-08-26T12:06:17.137Z"
   },
   {
    "duration": 11,
    "start_time": "2025-08-26T12:06:17.158Z"
   },
   {
    "duration": 42,
    "start_time": "2025-08-26T12:06:17.171Z"
   },
   {
    "duration": 7,
    "start_time": "2025-08-26T12:06:17.215Z"
   },
   {
    "duration": 20,
    "start_time": "2025-08-26T12:06:17.252Z"
   },
   {
    "duration": 45,
    "start_time": "2025-08-26T12:06:17.273Z"
   },
   {
    "duration": 5,
    "start_time": "2025-08-26T12:06:17.319Z"
   },
   {
    "duration": 54,
    "start_time": "2025-08-26T12:06:17.326Z"
   },
   {
    "duration": 10,
    "start_time": "2025-08-26T12:06:17.382Z"
   },
   {
    "duration": 36,
    "start_time": "2025-08-26T12:06:17.394Z"
   },
   {
    "duration": 54,
    "start_time": "2025-08-26T12:06:17.432Z"
   },
   {
    "duration": 6,
    "start_time": "2025-08-26T12:06:17.488Z"
   },
   {
    "duration": 97,
    "start_time": "2025-08-26T12:06:17.495Z"
   },
   {
    "duration": 103,
    "start_time": "2025-08-26T12:06:17.594Z"
   },
   {
    "duration": 6,
    "start_time": "2025-08-26T12:06:17.699Z"
   },
   {
    "duration": 78,
    "start_time": "2025-08-26T12:06:17.706Z"
   },
   {
    "duration": 22,
    "start_time": "2025-08-26T12:06:17.786Z"
   },
   {
    "duration": 12,
    "start_time": "2025-08-26T12:06:17.811Z"
   },
   {
    "duration": 121,
    "start_time": "2025-08-26T12:06:17.825Z"
   },
   {
    "duration": 7,
    "start_time": "2025-08-26T12:06:17.952Z"
   },
   {
    "duration": 37,
    "start_time": "2025-08-26T12:06:17.960Z"
   },
   {
    "duration": 15,
    "start_time": "2025-08-26T12:06:17.999Z"
   },
   {
    "duration": 41,
    "start_time": "2025-08-26T12:06:18.016Z"
   },
   {
    "duration": 31,
    "start_time": "2025-08-26T12:06:18.059Z"
   },
   {
    "duration": 204,
    "start_time": "2025-08-26T12:06:18.091Z"
   },
   {
    "duration": 4,
    "start_time": "2025-08-26T12:06:18.297Z"
   },
   {
    "duration": 15,
    "start_time": "2025-08-26T12:06:49.858Z"
   },
   {
    "duration": 1265,
    "start_time": "2025-09-07T17:43:49.489Z"
   },
   {
    "duration": 1912,
    "start_time": "2025-09-07T17:43:50.756Z"
   },
   {
    "duration": 32,
    "start_time": "2025-09-07T17:43:52.670Z"
   },
   {
    "duration": 235,
    "start_time": "2025-09-07T17:43:52.704Z"
   },
   {
    "duration": 4,
    "start_time": "2025-09-07T17:43:52.941Z"
   },
   {
    "duration": 527,
    "start_time": "2025-09-07T17:43:52.946Z"
   },
   {
    "duration": 6,
    "start_time": "2025-09-07T17:43:53.475Z"
   },
   {
    "duration": 105,
    "start_time": "2025-09-07T17:43:53.483Z"
   },
   {
    "duration": 9,
    "start_time": "2025-09-07T17:43:53.591Z"
   },
   {
    "duration": 10,
    "start_time": "2025-09-07T17:43:53.603Z"
   },
   {
    "duration": 33,
    "start_time": "2025-09-07T17:43:53.615Z"
   },
   {
    "duration": 38,
    "start_time": "2025-09-07T17:43:53.650Z"
   },
   {
    "duration": 7,
    "start_time": "2025-09-07T17:43:53.690Z"
   },
   {
    "duration": 24,
    "start_time": "2025-09-07T17:43:53.698Z"
   },
   {
    "duration": 39,
    "start_time": "2025-09-07T17:43:53.740Z"
   },
   {
    "duration": 9,
    "start_time": "2025-09-07T17:43:53.781Z"
   },
   {
    "duration": 15,
    "start_time": "2025-09-07T17:43:53.792Z"
   },
   {
    "duration": 9,
    "start_time": "2025-09-07T17:43:53.809Z"
   },
   {
    "duration": 82,
    "start_time": "2025-09-07T17:43:53.819Z"
   },
   {
    "duration": 50,
    "start_time": "2025-09-07T17:43:53.902Z"
   },
   {
    "duration": 5,
    "start_time": "2025-09-07T17:43:53.953Z"
   },
   {
    "duration": 5,
    "start_time": "2025-09-07T17:43:53.960Z"
   },
   {
    "duration": 128,
    "start_time": "2025-09-07T17:43:53.967Z"
   },
   {
    "duration": 5,
    "start_time": "2025-09-07T17:43:54.097Z"
   },
   {
    "duration": 60,
    "start_time": "2025-09-07T17:43:54.103Z"
   },
   {
    "duration": 21,
    "start_time": "2025-09-07T17:43:54.165Z"
   },
   {
    "duration": 9,
    "start_time": "2025-09-07T17:43:54.187Z"
   },
   {
    "duration": 115,
    "start_time": "2025-09-07T17:43:54.199Z"
   },
   {
    "duration": 7,
    "start_time": "2025-09-07T17:43:54.315Z"
   },
   {
    "duration": 44,
    "start_time": "2025-09-07T17:43:54.323Z"
   },
   {
    "duration": 15,
    "start_time": "2025-09-07T17:43:54.368Z"
   },
   {
    "duration": 19,
    "start_time": "2025-09-07T17:43:54.384Z"
   },
   {
    "duration": 50,
    "start_time": "2025-09-07T17:43:54.404Z"
   },
   {
    "duration": 185,
    "start_time": "2025-09-07T17:43:54.456Z"
   },
   {
    "duration": 12,
    "start_time": "2025-09-07T17:43:54.643Z"
   },
   {
    "duration": 14,
    "start_time": "2025-09-07T17:45:44.875Z"
   },
   {
    "duration": 15,
    "start_time": "2025-09-07T17:45:57.726Z"
   },
   {
    "duration": 18,
    "start_time": "2025-09-07T17:54:05.515Z"
   },
   {
    "duration": 12,
    "start_time": "2025-09-07T17:54:45.237Z"
   },
   {
    "duration": 17,
    "start_time": "2025-09-07T17:55:57.940Z"
   },
   {
    "duration": 17,
    "start_time": "2025-09-07T17:56:31.188Z"
   },
   {
    "duration": 18,
    "start_time": "2025-09-07T17:56:47.206Z"
   },
   {
    "duration": 105,
    "start_time": "2025-09-07T18:02:36.550Z"
   },
   {
    "duration": 23,
    "start_time": "2025-09-07T18:02:47.862Z"
   },
   {
    "duration": 16,
    "start_time": "2025-09-07T18:05:04.555Z"
   },
   {
    "duration": 9,
    "start_time": "2025-09-07T18:05:18.279Z"
   },
   {
    "duration": 18,
    "start_time": "2025-09-07T18:06:37.649Z"
   },
   {
    "duration": 14,
    "start_time": "2025-09-07T18:07:02.757Z"
   },
   {
    "duration": 8,
    "start_time": "2025-09-07T18:09:03.913Z"
   },
   {
    "duration": 15,
    "start_time": "2025-09-07T18:09:12.452Z"
   },
   {
    "duration": 70,
    "start_time": "2025-09-07T18:10:01.423Z"
   },
   {
    "duration": 66,
    "start_time": "2025-09-07T18:10:54.517Z"
   },
   {
    "duration": 79,
    "start_time": "2025-09-07T18:11:04.533Z"
   },
   {
    "duration": 86,
    "start_time": "2025-09-07T18:13:28.626Z"
   },
   {
    "duration": 63,
    "start_time": "2025-09-07T18:14:34.504Z"
   },
   {
    "duration": 36,
    "start_time": "2025-09-07T18:16:18.024Z"
   },
   {
    "duration": 41,
    "start_time": "2025-09-07T18:16:48.858Z"
   },
   {
    "duration": 39,
    "start_time": "2025-09-07T18:20:09.553Z"
   },
   {
    "duration": 9,
    "start_time": "2025-09-07T18:23:16.356Z"
   },
   {
    "duration": 927,
    "start_time": "2025-09-07T18:25:52.976Z"
   },
   {
    "duration": 7,
    "start_time": "2025-09-07T18:27:36.160Z"
   },
   {
    "duration": 15,
    "start_time": "2025-09-07T18:28:21.717Z"
   },
   {
    "duration": 20,
    "start_time": "2025-09-07T18:28:34.630Z"
   },
   {
    "duration": 16,
    "start_time": "2025-09-07T18:34:41.658Z"
   },
   {
    "duration": 22,
    "start_time": "2025-09-07T18:34:48.832Z"
   },
   {
    "duration": 24,
    "start_time": "2025-09-07T18:35:22.150Z"
   },
   {
    "duration": 9,
    "start_time": "2025-09-07T18:36:01.736Z"
   },
   {
    "duration": 4,
    "start_time": "2025-09-07T18:36:17.445Z"
   },
   {
    "duration": 24,
    "start_time": "2025-09-07T18:36:37.769Z"
   },
   {
    "duration": 24,
    "start_time": "2025-09-07T18:38:22.587Z"
   },
   {
    "duration": 41,
    "start_time": "2025-09-07T18:39:16.670Z"
   },
   {
    "duration": 23,
    "start_time": "2025-09-07T18:39:50.412Z"
   },
   {
    "duration": 38,
    "start_time": "2025-09-07T18:39:54.612Z"
   },
   {
    "duration": 25,
    "start_time": "2025-09-07T18:42:30.029Z"
   },
   {
    "duration": 24,
    "start_time": "2025-09-07T18:42:55.866Z"
   },
   {
    "duration": 29,
    "start_time": "2025-09-07T18:43:26.523Z"
   },
   {
    "duration": 44,
    "start_time": "2025-09-07T18:43:44.627Z"
   },
   {
    "duration": 40,
    "start_time": "2025-09-07T18:44:13.051Z"
   },
   {
    "duration": 12,
    "start_time": "2025-09-07T18:44:25.013Z"
   },
   {
    "duration": 11,
    "start_time": "2025-09-07T18:46:34.701Z"
   },
   {
    "duration": 13,
    "start_time": "2025-09-07T18:48:01.696Z"
   },
   {
    "duration": 741,
    "start_time": "2025-09-07T18:49:58.581Z"
   },
   {
    "duration": 12,
    "start_time": "2025-09-07T18:51:24.636Z"
   },
   {
    "duration": 14,
    "start_time": "2025-09-07T18:51:28.540Z"
   },
   {
    "duration": 1172,
    "start_time": "2025-09-07T18:51:38.110Z"
   },
   {
    "duration": 2191,
    "start_time": "2025-09-07T18:51:39.284Z"
   },
   {
    "duration": 28,
    "start_time": "2025-09-07T18:51:41.477Z"
   },
   {
    "duration": 219,
    "start_time": "2025-09-07T18:51:41.507Z"
   },
   {
    "duration": 4,
    "start_time": "2025-09-07T18:51:41.727Z"
   },
   {
    "duration": 502,
    "start_time": "2025-09-07T18:51:41.739Z"
   },
   {
    "duration": 5,
    "start_time": "2025-09-07T18:51:42.243Z"
   },
   {
    "duration": 112,
    "start_time": "2025-09-07T18:51:42.250Z"
   },
   {
    "duration": 8,
    "start_time": "2025-09-07T18:51:42.364Z"
   },
   {
    "duration": 11,
    "start_time": "2025-09-07T18:51:42.374Z"
   },
   {
    "duration": 9,
    "start_time": "2025-09-07T18:51:42.387Z"
   },
   {
    "duration": 61,
    "start_time": "2025-09-07T18:51:42.397Z"
   },
   {
    "duration": 7,
    "start_time": "2025-09-07T18:51:42.460Z"
   },
   {
    "duration": 26,
    "start_time": "2025-09-07T18:51:42.469Z"
   },
   {
    "duration": 45,
    "start_time": "2025-09-07T18:51:42.497Z"
   },
   {
    "duration": 5,
    "start_time": "2025-09-07T18:51:42.543Z"
   },
   {
    "duration": 10,
    "start_time": "2025-09-07T18:51:42.549Z"
   },
   {
    "duration": 14,
    "start_time": "2025-09-07T18:51:42.560Z"
   },
   {
    "duration": 28,
    "start_time": "2025-09-07T18:51:42.576Z"
   },
   {
    "duration": 61,
    "start_time": "2025-09-07T18:51:42.605Z"
   },
   {
    "duration": 5,
    "start_time": "2025-09-07T18:51:42.668Z"
   },
   {
    "duration": 5,
    "start_time": "2025-09-07T18:51:42.675Z"
   },
   {
    "duration": 123,
    "start_time": "2025-09-07T18:51:42.681Z"
   },
   {
    "duration": 6,
    "start_time": "2025-09-07T18:51:42.805Z"
   },
   {
    "duration": 66,
    "start_time": "2025-09-07T18:51:42.812Z"
   },
   {
    "duration": 23,
    "start_time": "2025-09-07T18:51:42.880Z"
   },
   {
    "duration": 36,
    "start_time": "2025-09-07T18:51:42.905Z"
   },
   {
    "duration": 104,
    "start_time": "2025-09-07T18:51:42.944Z"
   },
   {
    "duration": 7,
    "start_time": "2025-09-07T18:51:43.050Z"
   },
   {
    "duration": 36,
    "start_time": "2025-09-07T18:51:43.059Z"
   },
   {
    "duration": 15,
    "start_time": "2025-09-07T18:51:43.097Z"
   },
   {
    "duration": 39,
    "start_time": "2025-09-07T18:51:43.114Z"
   },
   {
    "duration": 30,
    "start_time": "2025-09-07T18:51:43.155Z"
   },
   {
    "duration": 198,
    "start_time": "2025-09-07T18:51:43.186Z"
   },
   {
    "duration": 19,
    "start_time": "2025-09-07T18:51:43.385Z"
   },
   {
    "duration": 14,
    "start_time": "2025-09-07T18:51:43.406Z"
   },
   {
    "duration": 40,
    "start_time": "2025-09-07T18:51:43.421Z"
   },
   {
    "duration": 77,
    "start_time": "2025-09-07T18:51:43.463Z"
   },
   {
    "duration": 40,
    "start_time": "2025-09-07T18:51:43.541Z"
   },
   {
    "duration": 12,
    "start_time": "2025-09-07T18:51:43.582Z"
   },
   {
    "duration": 38,
    "start_time": "2025-09-07T18:51:43.596Z"
   },
   {
    "duration": 10,
    "start_time": "2025-09-07T18:51:56.261Z"
   },
   {
    "duration": 100,
    "start_time": "2025-09-07T18:52:35.266Z"
   },
   {
    "duration": 13,
    "start_time": "2025-09-07T18:52:54.794Z"
   },
   {
    "duration": 13,
    "start_time": "2025-09-07T18:53:14.058Z"
   },
   {
    "duration": 1085,
    "start_time": "2025-09-07T18:53:35.995Z"
   },
   {
    "duration": 2056,
    "start_time": "2025-09-07T18:53:37.081Z"
   },
   {
    "duration": 29,
    "start_time": "2025-09-07T18:53:39.138Z"
   },
   {
    "duration": 225,
    "start_time": "2025-09-07T18:53:39.169Z"
   },
   {
    "duration": 4,
    "start_time": "2025-09-07T18:53:39.396Z"
   },
   {
    "duration": 528,
    "start_time": "2025-09-07T18:53:39.401Z"
   },
   {
    "duration": 8,
    "start_time": "2025-09-07T18:53:39.931Z"
   },
   {
    "duration": 104,
    "start_time": "2025-09-07T18:53:39.941Z"
   },
   {
    "duration": 8,
    "start_time": "2025-09-07T18:53:40.047Z"
   },
   {
    "duration": 33,
    "start_time": "2025-09-07T18:53:40.058Z"
   },
   {
    "duration": 37,
    "start_time": "2025-09-07T18:53:40.093Z"
   },
   {
    "duration": 40,
    "start_time": "2025-09-07T18:53:40.131Z"
   },
   {
    "duration": 7,
    "start_time": "2025-09-07T18:53:40.172Z"
   },
   {
    "duration": 19,
    "start_time": "2025-09-07T18:53:40.181Z"
   },
   {
    "duration": 57,
    "start_time": "2025-09-07T18:53:40.201Z"
   },
   {
    "duration": 4,
    "start_time": "2025-09-07T18:53:40.260Z"
   },
   {
    "duration": 14,
    "start_time": "2025-09-07T18:53:40.265Z"
   },
   {
    "duration": 10,
    "start_time": "2025-09-07T18:53:40.281Z"
   },
   {
    "duration": 23,
    "start_time": "2025-09-07T18:53:40.293Z"
   },
   {
    "duration": 65,
    "start_time": "2025-09-07T18:53:40.318Z"
   },
   {
    "duration": 6,
    "start_time": "2025-09-07T18:53:40.384Z"
   },
   {
    "duration": 10,
    "start_time": "2025-09-07T18:53:40.391Z"
   },
   {
    "duration": 119,
    "start_time": "2025-09-07T18:53:40.402Z"
   },
   {
    "duration": 5,
    "start_time": "2025-09-07T18:53:40.523Z"
   },
   {
    "duration": 56,
    "start_time": "2025-09-07T18:53:40.529Z"
   },
   {
    "duration": 22,
    "start_time": "2025-09-07T18:53:40.587Z"
   },
   {
    "duration": 35,
    "start_time": "2025-09-07T18:53:40.610Z"
   },
   {
    "duration": 102,
    "start_time": "2025-09-07T18:53:40.648Z"
   },
   {
    "duration": 7,
    "start_time": "2025-09-07T18:53:40.751Z"
   },
   {
    "duration": 36,
    "start_time": "2025-09-07T18:53:40.759Z"
   },
   {
    "duration": 15,
    "start_time": "2025-09-07T18:53:40.797Z"
   },
   {
    "duration": 39,
    "start_time": "2025-09-07T18:53:40.814Z"
   },
   {
    "duration": 29,
    "start_time": "2025-09-07T18:53:40.855Z"
   },
   {
    "duration": 220,
    "start_time": "2025-09-07T18:53:40.886Z"
   },
   {
    "duration": 20,
    "start_time": "2025-09-07T18:53:41.108Z"
   },
   {
    "duration": 15,
    "start_time": "2025-09-07T18:53:41.138Z"
   },
   {
    "duration": 24,
    "start_time": "2025-09-07T18:53:41.155Z"
   },
   {
    "duration": 86,
    "start_time": "2025-09-07T18:53:41.180Z"
   },
   {
    "duration": 44,
    "start_time": "2025-09-07T18:53:41.268Z"
   },
   {
    "duration": 26,
    "start_time": "2025-09-07T18:53:41.314Z"
   },
   {
    "duration": 1185,
    "start_time": "2025-09-07T18:53:41.341Z"
   },
   {
    "duration": 12,
    "start_time": "2025-09-07T18:53:59.737Z"
   },
   {
    "duration": 1140,
    "start_time": "2025-09-07T18:54:26.940Z"
   },
   {
    "duration": 1937,
    "start_time": "2025-09-07T18:54:28.082Z"
   },
   {
    "duration": 33,
    "start_time": "2025-09-07T18:54:30.020Z"
   },
   {
    "duration": 264,
    "start_time": "2025-09-07T18:54:30.055Z"
   },
   {
    "duration": 3,
    "start_time": "2025-09-07T18:54:30.320Z"
   },
   {
    "duration": 529,
    "start_time": "2025-09-07T18:54:30.325Z"
   },
   {
    "duration": 4,
    "start_time": "2025-09-07T18:54:30.856Z"
   },
   {
    "duration": 128,
    "start_time": "2025-09-07T18:54:30.861Z"
   },
   {
    "duration": 8,
    "start_time": "2025-09-07T18:54:30.990Z"
   },
   {
    "duration": 11,
    "start_time": "2025-09-07T18:54:31.000Z"
   },
   {
    "duration": 10,
    "start_time": "2025-09-07T18:54:31.012Z"
   },
   {
    "duration": 40,
    "start_time": "2025-09-07T18:54:31.039Z"
   },
   {
    "duration": 8,
    "start_time": "2025-09-07T18:54:31.081Z"
   },
   {
    "duration": 24,
    "start_time": "2025-09-07T18:54:31.090Z"
   },
   {
    "duration": 56,
    "start_time": "2025-09-07T18:54:31.115Z"
   },
   {
    "duration": 4,
    "start_time": "2025-09-07T18:54:31.173Z"
   },
   {
    "duration": 27,
    "start_time": "2025-09-07T18:54:31.179Z"
   },
   {
    "duration": 24,
    "start_time": "2025-09-07T18:54:31.207Z"
   },
   {
    "duration": 24,
    "start_time": "2025-09-07T18:54:31.233Z"
   },
   {
    "duration": 47,
    "start_time": "2025-09-07T18:54:31.258Z"
   },
   {
    "duration": 5,
    "start_time": "2025-09-07T18:54:31.306Z"
   },
   {
    "duration": 9,
    "start_time": "2025-09-07T18:54:31.312Z"
   },
   {
    "duration": 119,
    "start_time": "2025-09-07T18:54:31.322Z"
   },
   {
    "duration": 5,
    "start_time": "2025-09-07T18:54:31.443Z"
   },
   {
    "duration": 55,
    "start_time": "2025-09-07T18:54:31.449Z"
   },
   {
    "duration": 34,
    "start_time": "2025-09-07T18:54:31.505Z"
   },
   {
    "duration": 15,
    "start_time": "2025-09-07T18:54:31.542Z"
   },
   {
    "duration": 122,
    "start_time": "2025-09-07T18:54:31.562Z"
   },
   {
    "duration": 6,
    "start_time": "2025-09-07T18:54:31.686Z"
   },
   {
    "duration": 53,
    "start_time": "2025-09-07T18:54:31.693Z"
   },
   {
    "duration": 16,
    "start_time": "2025-09-07T18:54:31.747Z"
   },
   {
    "duration": 22,
    "start_time": "2025-09-07T18:54:31.764Z"
   },
   {
    "duration": 35,
    "start_time": "2025-09-07T18:54:31.787Z"
   },
   {
    "duration": 196,
    "start_time": "2025-09-07T18:54:31.823Z"
   },
   {
    "duration": 27,
    "start_time": "2025-09-07T18:54:32.020Z"
   },
   {
    "duration": 116,
    "start_time": "2025-09-07T18:54:32.048Z"
   },
   {
    "duration": 25,
    "start_time": "2025-09-07T18:54:32.165Z"
   },
   {
    "duration": 66,
    "start_time": "2025-09-07T18:54:32.192Z"
   },
   {
    "duration": 44,
    "start_time": "2025-09-07T18:54:32.260Z"
   },
   {
    "duration": 13,
    "start_time": "2025-09-07T18:54:32.306Z"
   },
   {
    "duration": 9,
    "start_time": "2025-09-07T18:54:32.339Z"
   },
   {
    "duration": 97,
    "start_time": "2025-09-07T18:58:14.354Z"
   },
   {
    "duration": 50,
    "start_time": "2025-09-07T18:58:22.455Z"
   },
   {
    "duration": 13,
    "start_time": "2025-09-07T18:58:30.143Z"
   },
   {
    "duration": 10,
    "start_time": "2025-09-07T18:58:41.140Z"
   },
   {
    "duration": 10,
    "start_time": "2025-09-07T18:58:53.388Z"
   },
   {
    "duration": 9,
    "start_time": "2025-09-07T18:59:03.091Z"
   },
   {
    "duration": 14,
    "start_time": "2025-09-07T18:59:12.713Z"
   },
   {
    "duration": 9,
    "start_time": "2025-09-07T18:59:19.852Z"
   },
   {
    "duration": 14,
    "start_time": "2025-09-07T19:00:21.673Z"
   },
   {
    "duration": 17,
    "start_time": "2025-09-07T19:00:37.967Z"
   },
   {
    "duration": 10,
    "start_time": "2025-09-07T19:00:46.843Z"
   },
   {
    "duration": 1118,
    "start_time": "2025-09-07T19:13:13.469Z"
   },
   {
    "duration": 1937,
    "start_time": "2025-09-07T19:13:14.589Z"
   },
   {
    "duration": 32,
    "start_time": "2025-09-07T19:13:16.527Z"
   },
   {
    "duration": 235,
    "start_time": "2025-09-07T19:13:16.561Z"
   },
   {
    "duration": 4,
    "start_time": "2025-09-07T19:13:16.799Z"
   },
   {
    "duration": 522,
    "start_time": "2025-09-07T19:13:16.805Z"
   },
   {
    "duration": 10,
    "start_time": "2025-09-07T19:13:17.329Z"
   },
   {
    "duration": 109,
    "start_time": "2025-09-07T19:13:17.340Z"
   },
   {
    "duration": 8,
    "start_time": "2025-09-07T19:13:17.451Z"
   },
   {
    "duration": 15,
    "start_time": "2025-09-07T19:13:17.462Z"
   },
   {
    "duration": 12,
    "start_time": "2025-09-07T19:13:17.479Z"
   },
   {
    "duration": 61,
    "start_time": "2025-09-07T19:13:17.493Z"
   },
   {
    "duration": 8,
    "start_time": "2025-09-07T19:13:17.556Z"
   },
   {
    "duration": 42,
    "start_time": "2025-09-07T19:13:17.565Z"
   },
   {
    "duration": 70,
    "start_time": "2025-09-07T19:13:17.609Z"
   },
   {
    "duration": 5,
    "start_time": "2025-09-07T19:13:17.680Z"
   },
   {
    "duration": 10,
    "start_time": "2025-09-07T19:13:17.687Z"
   },
   {
    "duration": 15,
    "start_time": "2025-09-07T19:13:17.698Z"
   },
   {
    "duration": 52,
    "start_time": "2025-09-07T19:13:17.715Z"
   },
   {
    "duration": 53,
    "start_time": "2025-09-07T19:13:17.768Z"
   },
   {
    "duration": 5,
    "start_time": "2025-09-07T19:13:17.823Z"
   },
   {
    "duration": 3,
    "start_time": "2025-09-07T19:13:17.839Z"
   },
   {
    "duration": 120,
    "start_time": "2025-09-07T19:13:17.844Z"
   },
   {
    "duration": 6,
    "start_time": "2025-09-07T19:13:17.966Z"
   },
   {
    "duration": 67,
    "start_time": "2025-09-07T19:13:17.974Z"
   },
   {
    "duration": 23,
    "start_time": "2025-09-07T19:13:18.043Z"
   },
   {
    "duration": 9,
    "start_time": "2025-09-07T19:13:18.068Z"
   },
   {
    "duration": 125,
    "start_time": "2025-09-07T19:13:18.081Z"
   },
   {
    "duration": 7,
    "start_time": "2025-09-07T19:13:18.207Z"
   },
   {
    "duration": 86,
    "start_time": "2025-09-07T19:13:18.215Z"
   },
   {
    "duration": 14,
    "start_time": "2025-09-07T19:13:18.303Z"
   },
   {
    "duration": 20,
    "start_time": "2025-09-07T19:13:18.319Z"
   },
   {
    "duration": 30,
    "start_time": "2025-09-07T19:13:18.341Z"
   },
   {
    "duration": 197,
    "start_time": "2025-09-07T19:13:18.373Z"
   },
   {
    "duration": 20,
    "start_time": "2025-09-07T19:13:18.571Z"
   },
   {
    "duration": 14,
    "start_time": "2025-09-07T19:13:18.592Z"
   },
   {
    "duration": 48,
    "start_time": "2025-09-07T19:13:18.608Z"
   },
   {
    "duration": 64,
    "start_time": "2025-09-07T19:13:18.657Z"
   },
   {
    "duration": 51,
    "start_time": "2025-09-07T19:13:18.723Z"
   },
   {
    "duration": 13,
    "start_time": "2025-09-07T19:13:18.775Z"
   },
   {
    "duration": 16,
    "start_time": "2025-09-07T19:13:18.789Z"
   },
   {
    "duration": 11,
    "start_time": "2025-09-07T19:28:16.881Z"
   },
   {
    "duration": 9,
    "start_time": "2025-09-07T19:33:03.677Z"
   },
   {
    "duration": 868,
    "start_time": "2025-09-07T19:34:11.411Z"
   },
   {
    "duration": 9,
    "start_time": "2025-09-07T19:34:21.879Z"
   },
   {
    "duration": 7,
    "start_time": "2025-09-07T19:36:46.500Z"
   },
   {
    "duration": 23,
    "start_time": "2025-09-07T19:38:15.629Z"
   },
   {
    "duration": 28,
    "start_time": "2025-09-07T19:57:25.101Z"
   },
   {
    "duration": 20,
    "start_time": "2025-09-07T19:57:46.238Z"
   },
   {
    "duration": 1194,
    "start_time": "2025-09-07T20:01:04.797Z"
   },
   {
    "duration": 2097,
    "start_time": "2025-09-07T20:01:05.992Z"
   },
   {
    "duration": 29,
    "start_time": "2025-09-07T20:01:08.091Z"
   },
   {
    "duration": 230,
    "start_time": "2025-09-07T20:01:08.122Z"
   },
   {
    "duration": 3,
    "start_time": "2025-09-07T20:01:08.354Z"
   },
   {
    "duration": 518,
    "start_time": "2025-09-07T20:01:08.359Z"
   },
   {
    "duration": 4,
    "start_time": "2025-09-07T20:01:08.879Z"
   },
   {
    "duration": 111,
    "start_time": "2025-09-07T20:01:08.884Z"
   },
   {
    "duration": 8,
    "start_time": "2025-09-07T20:01:08.996Z"
   },
   {
    "duration": 10,
    "start_time": "2025-09-07T20:01:09.007Z"
   },
   {
    "duration": 26,
    "start_time": "2025-09-07T20:01:09.018Z"
   },
   {
    "duration": 39,
    "start_time": "2025-09-07T20:01:09.045Z"
   },
   {
    "duration": 7,
    "start_time": "2025-09-07T20:01:09.085Z"
   },
   {
    "duration": 18,
    "start_time": "2025-09-07T20:01:09.093Z"
   },
   {
    "duration": 64,
    "start_time": "2025-09-07T20:01:09.113Z"
   },
   {
    "duration": 5,
    "start_time": "2025-09-07T20:01:09.178Z"
   },
   {
    "duration": 6,
    "start_time": "2025-09-07T20:01:09.185Z"
   },
   {
    "duration": 12,
    "start_time": "2025-09-07T20:01:09.192Z"
   },
   {
    "duration": 45,
    "start_time": "2025-09-07T20:01:09.206Z"
   },
   {
    "duration": 51,
    "start_time": "2025-09-07T20:01:09.252Z"
   },
   {
    "duration": 5,
    "start_time": "2025-09-07T20:01:09.305Z"
   },
   {
    "duration": 5,
    "start_time": "2025-09-07T20:01:09.311Z"
   },
   {
    "duration": 121,
    "start_time": "2025-09-07T20:01:09.338Z"
   },
   {
    "duration": 6,
    "start_time": "2025-09-07T20:01:09.460Z"
   },
   {
    "duration": 54,
    "start_time": "2025-09-07T20:01:09.468Z"
   },
   {
    "duration": 36,
    "start_time": "2025-09-07T20:01:09.523Z"
   },
   {
    "duration": 10,
    "start_time": "2025-09-07T20:01:09.561Z"
   },
   {
    "duration": 123,
    "start_time": "2025-09-07T20:01:09.575Z"
   },
   {
    "duration": 8,
    "start_time": "2025-09-07T20:01:09.700Z"
   },
   {
    "duration": 53,
    "start_time": "2025-09-07T20:01:09.709Z"
   },
   {
    "duration": 16,
    "start_time": "2025-09-07T20:01:09.764Z"
   },
   {
    "duration": 20,
    "start_time": "2025-09-07T20:01:09.781Z"
   },
   {
    "duration": 51,
    "start_time": "2025-09-07T20:01:09.802Z"
   },
   {
    "duration": 187,
    "start_time": "2025-09-07T20:01:09.854Z"
   },
   {
    "duration": 20,
    "start_time": "2025-09-07T20:01:10.043Z"
   },
   {
    "duration": 37,
    "start_time": "2025-09-07T20:01:10.064Z"
   },
   {
    "duration": 23,
    "start_time": "2025-09-07T20:01:10.103Z"
   },
   {
    "duration": 70,
    "start_time": "2025-09-07T20:01:10.128Z"
   },
   {
    "duration": 53,
    "start_time": "2025-09-07T20:01:10.199Z"
   },
   {
    "duration": 12,
    "start_time": "2025-09-07T20:01:10.254Z"
   },
   {
    "duration": 10,
    "start_time": "2025-09-07T20:01:10.268Z"
   },
   {
    "duration": 7,
    "start_time": "2025-09-07T20:01:10.279Z"
   },
   {
    "duration": 46,
    "start_time": "2025-09-07T20:01:10.287Z"
   },
   {
    "duration": 38,
    "start_time": "2025-09-07T20:01:10.339Z"
   },
   {
    "duration": 19,
    "start_time": "2025-09-07T20:01:10.379Z"
   },
   {
    "duration": 49,
    "start_time": "2025-09-07T20:01:51.857Z"
   },
   {
    "duration": 1183,
    "start_time": "2025-09-07T20:02:00.448Z"
   },
   {
    "duration": 1804,
    "start_time": "2025-09-07T20:02:01.633Z"
   },
   {
    "duration": 28,
    "start_time": "2025-09-07T20:02:03.439Z"
   },
   {
    "duration": 216,
    "start_time": "2025-09-07T20:02:03.469Z"
   },
   {
    "duration": 3,
    "start_time": "2025-09-07T20:02:03.687Z"
   },
   {
    "duration": 507,
    "start_time": "2025-09-07T20:02:03.691Z"
   },
   {
    "duration": 5,
    "start_time": "2025-09-07T20:02:04.199Z"
   },
   {
    "duration": 128,
    "start_time": "2025-09-07T20:02:04.205Z"
   },
   {
    "duration": 9,
    "start_time": "2025-09-07T20:02:04.334Z"
   },
   {
    "duration": 48,
    "start_time": "2025-09-07T20:02:04.345Z"
   },
   {
    "duration": 44,
    "start_time": "2025-09-07T20:02:04.395Z"
   },
   {
    "duration": 54,
    "start_time": "2025-09-07T20:02:04.441Z"
   },
   {
    "duration": 8,
    "start_time": "2025-09-07T20:02:04.497Z"
   },
   {
    "duration": 27,
    "start_time": "2025-09-07T20:02:04.506Z"
   },
   {
    "duration": 53,
    "start_time": "2025-09-07T20:02:04.534Z"
   },
   {
    "duration": 4,
    "start_time": "2025-09-07T20:02:04.589Z"
   },
   {
    "duration": 51,
    "start_time": "2025-09-07T20:02:04.594Z"
   },
   {
    "duration": 26,
    "start_time": "2025-09-07T20:02:04.647Z"
   },
   {
    "duration": 55,
    "start_time": "2025-09-07T20:02:04.674Z"
   },
   {
    "duration": 52,
    "start_time": "2025-09-07T20:02:04.731Z"
   },
   {
    "duration": 5,
    "start_time": "2025-09-07T20:02:04.785Z"
   },
   {
    "duration": 40,
    "start_time": "2025-09-07T20:02:04.791Z"
   },
   {
    "duration": 131,
    "start_time": "2025-09-07T20:02:04.832Z"
   },
   {
    "duration": 5,
    "start_time": "2025-09-07T20:02:04.965Z"
   },
   {
    "duration": 76,
    "start_time": "2025-09-07T20:02:04.971Z"
   },
   {
    "duration": 23,
    "start_time": "2025-09-07T20:02:05.048Z"
   },
   {
    "duration": 27,
    "start_time": "2025-09-07T20:02:05.072Z"
   },
   {
    "duration": 142,
    "start_time": "2025-09-07T20:02:05.102Z"
   },
   {
    "duration": 7,
    "start_time": "2025-09-07T20:02:05.245Z"
   },
   {
    "duration": 72,
    "start_time": "2025-09-07T20:02:05.253Z"
   },
   {
    "duration": 19,
    "start_time": "2025-09-07T20:02:05.326Z"
   },
   {
    "duration": 40,
    "start_time": "2025-09-07T20:02:05.346Z"
   },
   {
    "duration": 58,
    "start_time": "2025-09-07T20:02:05.388Z"
   },
   {
    "duration": 195,
    "start_time": "2025-09-07T20:02:05.447Z"
   },
   {
    "duration": 18,
    "start_time": "2025-09-07T20:02:05.644Z"
   },
   {
    "duration": 36,
    "start_time": "2025-09-07T20:02:05.663Z"
   },
   {
    "duration": 37,
    "start_time": "2025-09-07T20:02:05.701Z"
   },
   {
    "duration": 63,
    "start_time": "2025-09-07T20:02:05.740Z"
   },
   {
    "duration": 52,
    "start_time": "2025-09-07T20:02:05.805Z"
   },
   {
    "duration": 12,
    "start_time": "2025-09-07T20:02:05.858Z"
   },
   {
    "duration": 27,
    "start_time": "2025-09-07T20:02:05.872Z"
   },
   {
    "duration": 48,
    "start_time": "2025-09-07T20:02:05.901Z"
   },
   {
    "duration": 51,
    "start_time": "2025-09-07T20:02:05.950Z"
   },
   {
    "duration": 117,
    "start_time": "2025-09-07T20:02:06.002Z"
   },
   {
    "duration": 75,
    "start_time": "2025-09-07T20:02:06.121Z"
   },
   {
    "duration": 46,
    "start_time": "2025-09-07T20:03:25.266Z"
   },
   {
    "duration": 1189,
    "start_time": "2025-09-07T20:03:45.406Z"
   },
   {
    "duration": 1688,
    "start_time": "2025-09-07T20:03:46.597Z"
   },
   {
    "duration": 29,
    "start_time": "2025-09-07T20:03:48.287Z"
   },
   {
    "duration": 244,
    "start_time": "2025-09-07T20:03:48.318Z"
   },
   {
    "duration": 4,
    "start_time": "2025-09-07T20:03:48.563Z"
   },
   {
    "duration": 524,
    "start_time": "2025-09-07T20:03:48.568Z"
   },
   {
    "duration": 4,
    "start_time": "2025-09-07T20:03:49.093Z"
   },
   {
    "duration": 111,
    "start_time": "2025-09-07T20:03:49.099Z"
   },
   {
    "duration": 8,
    "start_time": "2025-09-07T20:03:49.212Z"
   },
   {
    "duration": 23,
    "start_time": "2025-09-07T20:03:49.223Z"
   },
   {
    "duration": 14,
    "start_time": "2025-09-07T20:03:49.247Z"
   },
   {
    "duration": 41,
    "start_time": "2025-09-07T20:03:49.263Z"
   },
   {
    "duration": 8,
    "start_time": "2025-09-07T20:03:49.305Z"
   },
   {
    "duration": 43,
    "start_time": "2025-09-07T20:03:49.315Z"
   },
   {
    "duration": 38,
    "start_time": "2025-09-07T20:03:49.360Z"
   },
   {
    "duration": 5,
    "start_time": "2025-09-07T20:03:49.400Z"
   },
   {
    "duration": 13,
    "start_time": "2025-09-07T20:03:49.407Z"
   },
   {
    "duration": 23,
    "start_time": "2025-09-07T20:03:49.421Z"
   },
   {
    "duration": 40,
    "start_time": "2025-09-07T20:03:49.445Z"
   },
   {
    "duration": 49,
    "start_time": "2025-09-07T20:03:49.487Z"
   },
   {
    "duration": 6,
    "start_time": "2025-09-07T20:03:49.537Z"
   },
   {
    "duration": 16,
    "start_time": "2025-09-07T20:03:49.544Z"
   },
   {
    "duration": 113,
    "start_time": "2025-09-07T20:03:49.562Z"
   },
   {
    "duration": 5,
    "start_time": "2025-09-07T20:03:49.677Z"
   },
   {
    "duration": 58,
    "start_time": "2025-09-07T20:03:49.683Z"
   },
   {
    "duration": 22,
    "start_time": "2025-09-07T20:03:49.742Z"
   },
   {
    "duration": 9,
    "start_time": "2025-09-07T20:03:49.766Z"
   },
   {
    "duration": 110,
    "start_time": "2025-09-07T20:03:49.778Z"
   },
   {
    "duration": 7,
    "start_time": "2025-09-07T20:03:49.890Z"
   },
   {
    "duration": 47,
    "start_time": "2025-09-07T20:03:49.899Z"
   },
   {
    "duration": 15,
    "start_time": "2025-09-07T20:03:49.947Z"
   },
   {
    "duration": 19,
    "start_time": "2025-09-07T20:03:49.964Z"
   },
   {
    "duration": 31,
    "start_time": "2025-09-07T20:03:49.984Z"
   },
   {
    "duration": 187,
    "start_time": "2025-09-07T20:03:50.039Z"
   },
   {
    "duration": 23,
    "start_time": "2025-09-07T20:03:50.228Z"
   },
   {
    "duration": 15,
    "start_time": "2025-09-07T20:03:50.252Z"
   },
   {
    "duration": 23,
    "start_time": "2025-09-07T20:03:50.269Z"
   },
   {
    "duration": 91,
    "start_time": "2025-09-07T20:03:50.294Z"
   },
   {
    "duration": 42,
    "start_time": "2025-09-07T20:03:50.386Z"
   },
   {
    "duration": 20,
    "start_time": "2025-09-07T20:03:50.430Z"
   },
   {
    "duration": 72,
    "start_time": "2025-09-07T20:03:50.452Z"
   },
   {
    "duration": 8,
    "start_time": "2025-09-07T20:03:50.526Z"
   },
   {
    "duration": 36,
    "start_time": "2025-09-07T20:03:50.535Z"
   },
   {
    "duration": 15,
    "start_time": "2025-09-07T20:03:50.573Z"
   },
   {
    "duration": 9,
    "start_time": "2025-09-07T20:03:50.590Z"
   },
   {
    "duration": 124,
    "start_time": "2025-09-07T20:04:50.946Z"
   },
   {
    "duration": 50,
    "start_time": "2025-09-07T20:05:00.220Z"
   },
   {
    "duration": 48,
    "start_time": "2025-09-08T13:00:42.421Z"
   },
   {
    "duration": 1394,
    "start_time": "2025-09-08T13:00:51.943Z"
   },
   {
    "duration": 2095,
    "start_time": "2025-09-08T13:00:53.339Z"
   },
   {
    "duration": 32,
    "start_time": "2025-09-08T13:00:55.436Z"
   },
   {
    "duration": 217,
    "start_time": "2025-09-08T13:00:55.471Z"
   },
   {
    "duration": 4,
    "start_time": "2025-09-08T13:00:55.690Z"
   },
   {
    "duration": 474,
    "start_time": "2025-09-08T13:00:55.695Z"
   },
   {
    "duration": 4,
    "start_time": "2025-09-08T13:00:56.171Z"
   },
   {
    "duration": 112,
    "start_time": "2025-09-08T13:00:56.177Z"
   },
   {
    "duration": 8,
    "start_time": "2025-09-08T13:00:56.291Z"
   },
   {
    "duration": 22,
    "start_time": "2025-09-08T13:00:56.302Z"
   },
   {
    "duration": 10,
    "start_time": "2025-09-08T13:00:56.326Z"
   },
   {
    "duration": 38,
    "start_time": "2025-09-08T13:00:56.337Z"
   },
   {
    "duration": 8,
    "start_time": "2025-09-08T13:00:56.376Z"
   },
   {
    "duration": 49,
    "start_time": "2025-09-08T13:00:56.385Z"
   },
   {
    "duration": 40,
    "start_time": "2025-09-08T13:00:56.436Z"
   },
   {
    "duration": 5,
    "start_time": "2025-09-08T13:00:56.478Z"
   },
   {
    "duration": 54,
    "start_time": "2025-09-08T13:00:56.484Z"
   },
   {
    "duration": 9,
    "start_time": "2025-09-08T13:00:56.540Z"
   },
   {
    "duration": 28,
    "start_time": "2025-09-08T13:00:56.550Z"
   },
   {
    "duration": 51,
    "start_time": "2025-09-08T13:00:56.579Z"
   },
   {
    "duration": 5,
    "start_time": "2025-09-08T13:00:56.631Z"
   },
   {
    "duration": 5,
    "start_time": "2025-09-08T13:00:56.637Z"
   },
   {
    "duration": 115,
    "start_time": "2025-09-08T13:00:56.643Z"
   },
   {
    "duration": 4,
    "start_time": "2025-09-08T13:00:56.760Z"
   },
   {
    "duration": 73,
    "start_time": "2025-09-08T13:00:56.766Z"
   },
   {
    "duration": 21,
    "start_time": "2025-09-08T13:00:56.840Z"
   },
   {
    "duration": 14,
    "start_time": "2025-09-08T13:00:56.863Z"
   },
   {
    "duration": 114,
    "start_time": "2025-09-08T13:00:56.881Z"
   },
   {
    "duration": 7,
    "start_time": "2025-09-08T13:00:56.997Z"
   },
   {
    "duration": 64,
    "start_time": "2025-09-08T13:00:57.005Z"
   },
   {
    "duration": 15,
    "start_time": "2025-09-08T13:00:57.070Z"
   },
   {
    "duration": 25,
    "start_time": "2025-09-08T13:00:57.087Z"
   },
   {
    "duration": 30,
    "start_time": "2025-09-08T13:00:57.113Z"
   },
   {
    "duration": 192,
    "start_time": "2025-09-08T13:00:57.145Z"
   },
   {
    "duration": 19,
    "start_time": "2025-09-08T13:00:57.339Z"
   },
   {
    "duration": 15,
    "start_time": "2025-09-08T13:00:57.359Z"
   },
   {
    "duration": 47,
    "start_time": "2025-09-08T13:00:57.376Z"
   },
   {
    "duration": 61,
    "start_time": "2025-09-08T13:00:57.425Z"
   },
   {
    "duration": 59,
    "start_time": "2025-09-08T13:00:57.488Z"
   },
   {
    "duration": 13,
    "start_time": "2025-09-08T13:00:57.548Z"
   },
   {
    "duration": 45,
    "start_time": "2025-09-08T13:00:57.563Z"
   },
   {
    "duration": 23,
    "start_time": "2025-09-08T13:00:57.609Z"
   },
   {
    "duration": 25,
    "start_time": "2025-09-08T13:00:57.633Z"
   },
   {
    "duration": 136,
    "start_time": "2025-09-08T13:00:57.660Z"
   },
   {
    "duration": 35,
    "start_time": "2025-09-08T13:00:57.798Z"
   },
   {
    "duration": 58,
    "start_time": "2025-09-08T13:00:57.835Z"
   },
   {
    "duration": 4,
    "start_time": "2025-09-08T13:15:45.261Z"
   },
   {
    "duration": 187,
    "start_time": "2025-09-08T13:15:51.909Z"
   },
   {
    "duration": 22,
    "start_time": "2025-09-08T13:45:40.905Z"
   },
   {
    "duration": 100,
    "start_time": "2025-09-08T13:46:46.740Z"
   },
   {
    "duration": 1273,
    "start_time": "2025-09-08T13:50:38.863Z"
   },
   {
    "duration": 2613,
    "start_time": "2025-09-08T13:50:40.138Z"
   },
   {
    "duration": 32,
    "start_time": "2025-09-08T13:50:42.753Z"
   },
   {
    "duration": 226,
    "start_time": "2025-09-08T13:50:42.787Z"
   },
   {
    "duration": 4,
    "start_time": "2025-09-08T13:50:43.020Z"
   },
   {
    "duration": 503,
    "start_time": "2025-09-08T13:50:43.025Z"
   },
   {
    "duration": 4,
    "start_time": "2025-09-08T13:50:43.530Z"
   },
   {
    "duration": 119,
    "start_time": "2025-09-08T13:50:43.536Z"
   },
   {
    "duration": 9,
    "start_time": "2025-09-08T13:50:43.656Z"
   },
   {
    "duration": 23,
    "start_time": "2025-09-08T13:50:43.666Z"
   },
   {
    "duration": 11,
    "start_time": "2025-09-08T13:50:43.691Z"
   },
   {
    "duration": 51,
    "start_time": "2025-09-08T13:50:43.703Z"
   },
   {
    "duration": 7,
    "start_time": "2025-09-08T13:50:43.756Z"
   },
   {
    "duration": 21,
    "start_time": "2025-09-08T13:50:43.766Z"
   },
   {
    "duration": 63,
    "start_time": "2025-09-08T13:50:43.789Z"
   },
   {
    "duration": 5,
    "start_time": "2025-09-08T13:50:43.854Z"
   },
   {
    "duration": 24,
    "start_time": "2025-09-08T13:50:43.861Z"
   },
   {
    "duration": 23,
    "start_time": "2025-09-08T13:50:43.887Z"
   },
   {
    "duration": 24,
    "start_time": "2025-09-08T13:50:43.912Z"
   },
   {
    "duration": 66,
    "start_time": "2025-09-08T13:50:43.939Z"
   },
   {
    "duration": 14,
    "start_time": "2025-09-08T13:50:44.006Z"
   },
   {
    "duration": 6,
    "start_time": "2025-09-08T13:50:44.022Z"
   },
   {
    "duration": 129,
    "start_time": "2025-09-08T13:50:44.030Z"
   },
   {
    "duration": 5,
    "start_time": "2025-09-08T13:50:44.161Z"
   },
   {
    "duration": 63,
    "start_time": "2025-09-08T13:50:44.167Z"
   },
   {
    "duration": 25,
    "start_time": "2025-09-08T13:50:44.232Z"
   },
   {
    "duration": 10,
    "start_time": "2025-09-08T13:50:44.259Z"
   },
   {
    "duration": 119,
    "start_time": "2025-09-08T13:50:44.271Z"
   },
   {
    "duration": 7,
    "start_time": "2025-09-08T13:50:44.392Z"
   },
   {
    "duration": 55,
    "start_time": "2025-09-08T13:50:44.401Z"
   },
   {
    "duration": 17,
    "start_time": "2025-09-08T13:50:44.458Z"
   },
   {
    "duration": 20,
    "start_time": "2025-09-08T13:50:44.477Z"
   },
   {
    "duration": 31,
    "start_time": "2025-09-08T13:50:44.519Z"
   },
   {
    "duration": 198,
    "start_time": "2025-09-08T13:50:44.551Z"
   },
   {
    "duration": 18,
    "start_time": "2025-09-08T13:50:44.751Z"
   },
   {
    "duration": 49,
    "start_time": "2025-09-08T13:50:44.771Z"
   },
   {
    "duration": 23,
    "start_time": "2025-09-08T13:50:44.822Z"
   },
   {
    "duration": 62,
    "start_time": "2025-09-08T13:50:44.847Z"
   },
   {
    "duration": 42,
    "start_time": "2025-09-08T13:50:44.920Z"
   },
   {
    "duration": 13,
    "start_time": "2025-09-08T13:50:44.964Z"
   },
   {
    "duration": 12,
    "start_time": "2025-09-08T13:50:44.980Z"
   },
   {
    "duration": 62,
    "start_time": "2025-09-08T13:50:44.993Z"
   },
   {
    "duration": 88,
    "start_time": "2025-09-08T13:50:45.056Z"
   },
   {
    "duration": 41,
    "start_time": "2025-09-08T13:50:45.145Z"
   },
   {
    "duration": 23,
    "start_time": "2025-09-08T13:50:45.188Z"
   },
   {
    "duration": 66,
    "start_time": "2025-09-08T13:50:45.213Z"
   },
   {
    "duration": 3,
    "start_time": "2025-09-08T13:50:45.281Z"
   },
   {
    "duration": 6,
    "start_time": "2025-09-08T13:51:56.862Z"
   },
   {
    "duration": 33,
    "start_time": "2025-09-08T13:52:47.727Z"
   },
   {
    "duration": 34,
    "start_time": "2025-09-08T13:52:55.686Z"
   },
   {
    "duration": 43,
    "start_time": "2025-09-08T13:53:01.248Z"
   },
   {
    "duration": 39,
    "start_time": "2025-09-08T13:55:24.578Z"
   },
   {
    "duration": 135,
    "start_time": "2025-09-08T13:56:39.901Z"
   },
   {
    "duration": 441,
    "start_time": "2025-09-08T13:58:25.836Z"
   },
   {
    "duration": 88,
    "start_time": "2025-09-08T14:01:08.781Z"
   },
   {
    "duration": 38,
    "start_time": "2025-09-08T15:56:20.827Z"
   },
   {
    "duration": 37,
    "start_time": "2025-09-08T15:56:23.193Z"
   },
   {
    "duration": 39,
    "start_time": "2025-09-08T15:56:25.077Z"
   },
   {
    "duration": 38,
    "start_time": "2025-09-08T15:56:26.668Z"
   },
   {
    "duration": 42,
    "start_time": "2025-09-08T15:58:25.599Z"
   },
   {
    "duration": 2,
    "start_time": "2025-09-08T15:58:26.471Z"
   },
   {
    "duration": 38,
    "start_time": "2025-09-08T15:58:27.881Z"
   },
   {
    "duration": 167,
    "start_time": "2025-09-08T16:02:04.550Z"
   },
   {
    "duration": 1112,
    "start_time": "2025-09-08T17:17:25.163Z"
   },
   {
    "duration": 1993,
    "start_time": "2025-09-08T17:17:26.277Z"
   },
   {
    "duration": 31,
    "start_time": "2025-09-08T17:17:28.274Z"
   },
   {
    "duration": 211,
    "start_time": "2025-09-08T17:17:28.319Z"
   },
   {
    "duration": 4,
    "start_time": "2025-09-08T17:17:28.531Z"
   },
   {
    "duration": 490,
    "start_time": "2025-09-08T17:17:28.537Z"
   },
   {
    "duration": 4,
    "start_time": "2025-09-08T17:17:29.028Z"
   },
   {
    "duration": 120,
    "start_time": "2025-09-08T17:17:29.034Z"
   },
   {
    "duration": 8,
    "start_time": "2025-09-08T17:17:29.156Z"
   },
   {
    "duration": 13,
    "start_time": "2025-09-08T17:17:29.166Z"
   },
   {
    "duration": 9,
    "start_time": "2025-09-08T17:17:29.181Z"
   },
   {
    "duration": 62,
    "start_time": "2025-09-08T17:17:29.192Z"
   },
   {
    "duration": 7,
    "start_time": "2025-09-08T17:17:29.256Z"
   },
   {
    "duration": 18,
    "start_time": "2025-09-08T17:17:29.264Z"
   },
   {
    "duration": 59,
    "start_time": "2025-09-08T17:17:29.283Z"
   },
   {
    "duration": 5,
    "start_time": "2025-09-08T17:17:29.343Z"
   },
   {
    "duration": 14,
    "start_time": "2025-09-08T17:17:29.349Z"
   },
   {
    "duration": 11,
    "start_time": "2025-09-08T17:17:29.365Z"
   },
   {
    "duration": 31,
    "start_time": "2025-09-08T17:17:29.378Z"
   },
   {
    "duration": 56,
    "start_time": "2025-09-08T17:17:29.411Z"
   },
   {
    "duration": 5,
    "start_time": "2025-09-08T17:17:29.468Z"
   },
   {
    "duration": 11,
    "start_time": "2025-09-08T17:17:29.475Z"
   },
   {
    "duration": 120,
    "start_time": "2025-09-08T17:17:29.487Z"
   },
   {
    "duration": 13,
    "start_time": "2025-09-08T17:17:29.609Z"
   },
   {
    "duration": 71,
    "start_time": "2025-09-08T17:17:29.624Z"
   },
   {
    "duration": 22,
    "start_time": "2025-09-08T17:17:29.697Z"
   },
   {
    "duration": 12,
    "start_time": "2025-09-08T17:17:29.723Z"
   },
   {
    "duration": 109,
    "start_time": "2025-09-08T17:17:29.737Z"
   },
   {
    "duration": 7,
    "start_time": "2025-09-08T17:17:29.848Z"
   },
   {
    "duration": 89,
    "start_time": "2025-09-08T17:17:29.856Z"
   },
   {
    "duration": 17,
    "start_time": "2025-09-08T17:17:29.946Z"
   },
   {
    "duration": 21,
    "start_time": "2025-09-08T17:17:29.964Z"
   },
   {
    "duration": 48,
    "start_time": "2025-09-08T17:17:29.986Z"
   },
   {
    "duration": 194,
    "start_time": "2025-09-08T17:17:30.036Z"
   },
   {
    "duration": 20,
    "start_time": "2025-09-08T17:17:30.231Z"
   },
   {
    "duration": 15,
    "start_time": "2025-09-08T17:17:30.253Z"
   },
   {
    "duration": 28,
    "start_time": "2025-09-08T17:17:30.270Z"
   },
   {
    "duration": 67,
    "start_time": "2025-09-08T17:17:30.320Z"
   },
   {
    "duration": 54,
    "start_time": "2025-09-08T17:17:30.389Z"
   },
   {
    "duration": 14,
    "start_time": "2025-09-08T17:17:30.445Z"
   },
   {
    "duration": 11,
    "start_time": "2025-09-08T17:17:30.461Z"
   },
   {
    "duration": 18,
    "start_time": "2025-09-08T17:17:30.473Z"
   },
   {
    "duration": 43,
    "start_time": "2025-09-08T17:17:30.493Z"
   },
   {
    "duration": 30,
    "start_time": "2025-09-08T17:17:30.538Z"
   },
   {
    "duration": 19,
    "start_time": "2025-09-08T17:17:30.570Z"
   },
   {
    "duration": 59,
    "start_time": "2025-09-08T17:17:30.591Z"
   },
   {
    "duration": 40,
    "start_time": "2025-09-08T17:17:30.652Z"
   },
   {
    "duration": 191,
    "start_time": "2025-09-08T17:17:30.694Z"
   },
   {
    "duration": 98,
    "start_time": "2025-09-08T17:18:05.072Z"
   },
   {
    "duration": 108,
    "start_time": "2025-09-08T17:18:41.019Z"
   },
   {
    "duration": 1256,
    "start_time": "2025-09-08T17:42:36.137Z"
   },
   {
    "duration": 2101,
    "start_time": "2025-09-08T17:42:37.394Z"
   },
   {
    "duration": 37,
    "start_time": "2025-09-08T17:42:39.497Z"
   },
   {
    "duration": 223,
    "start_time": "2025-09-08T17:42:39.536Z"
   },
   {
    "duration": 5,
    "start_time": "2025-09-08T17:42:39.760Z"
   },
   {
    "duration": 525,
    "start_time": "2025-09-08T17:42:39.766Z"
   },
   {
    "duration": 4,
    "start_time": "2025-09-08T17:42:40.293Z"
   },
   {
    "duration": 113,
    "start_time": "2025-09-08T17:42:40.299Z"
   },
   {
    "duration": 9,
    "start_time": "2025-09-08T17:42:40.419Z"
   },
   {
    "duration": 23,
    "start_time": "2025-09-08T17:42:40.431Z"
   },
   {
    "duration": 10,
    "start_time": "2025-09-08T17:42:40.455Z"
   },
   {
    "duration": 55,
    "start_time": "2025-09-08T17:42:40.467Z"
   },
   {
    "duration": 9,
    "start_time": "2025-09-08T17:42:40.524Z"
   },
   {
    "duration": 23,
    "start_time": "2025-09-08T17:42:40.535Z"
   },
   {
    "duration": 66,
    "start_time": "2025-09-08T17:42:40.560Z"
   },
   {
    "duration": 5,
    "start_time": "2025-09-08T17:42:40.627Z"
   },
   {
    "duration": 9,
    "start_time": "2025-09-08T17:42:40.633Z"
   },
   {
    "duration": 12,
    "start_time": "2025-09-08T17:42:40.643Z"
   },
   {
    "duration": 35,
    "start_time": "2025-09-08T17:42:40.656Z"
   },
   {
    "duration": 79,
    "start_time": "2025-09-08T17:42:40.693Z"
   },
   {
    "duration": 5,
    "start_time": "2025-09-08T17:42:40.774Z"
   },
   {
    "duration": 10,
    "start_time": "2025-09-08T17:42:40.781Z"
   },
   {
    "duration": 118,
    "start_time": "2025-09-08T17:42:40.793Z"
   },
   {
    "duration": 8,
    "start_time": "2025-09-08T17:42:40.912Z"
   },
   {
    "duration": 58,
    "start_time": "2025-09-08T17:42:40.921Z"
   },
   {
    "duration": 45,
    "start_time": "2025-09-08T17:42:40.981Z"
   },
   {
    "duration": 11,
    "start_time": "2025-09-08T17:42:41.028Z"
   },
   {
    "duration": 128,
    "start_time": "2025-09-08T17:42:41.044Z"
   },
   {
    "duration": 8,
    "start_time": "2025-09-08T17:42:41.174Z"
   },
   {
    "duration": 80,
    "start_time": "2025-09-08T17:42:41.185Z"
   },
   {
    "duration": 19,
    "start_time": "2025-09-08T17:42:41.267Z"
   },
   {
    "duration": 32,
    "start_time": "2025-09-08T17:42:41.288Z"
   },
   {
    "duration": 35,
    "start_time": "2025-09-08T17:42:41.323Z"
   },
   {
    "duration": 230,
    "start_time": "2025-09-08T17:42:41.360Z"
   },
   {
    "duration": 36,
    "start_time": "2025-09-08T17:42:41.592Z"
   },
   {
    "duration": 18,
    "start_time": "2025-09-08T17:42:41.630Z"
   },
   {
    "duration": 27,
    "start_time": "2025-09-08T17:42:41.651Z"
   },
   {
    "duration": 100,
    "start_time": "2025-09-08T17:42:41.680Z"
   },
   {
    "duration": 60,
    "start_time": "2025-09-08T17:42:41.783Z"
   },
   {
    "duration": 15,
    "start_time": "2025-09-08T17:42:41.846Z"
   },
   {
    "duration": 22,
    "start_time": "2025-09-08T17:42:41.863Z"
   },
   {
    "duration": 10,
    "start_time": "2025-09-08T17:42:41.887Z"
   },
   {
    "duration": 27,
    "start_time": "2025-09-08T17:42:41.920Z"
   },
   {
    "duration": 33,
    "start_time": "2025-09-08T17:42:41.949Z"
   },
   {
    "duration": 42,
    "start_time": "2025-09-08T17:42:41.985Z"
   },
   {
    "duration": 80,
    "start_time": "2025-09-08T17:42:42.029Z"
   },
   {
    "duration": 111,
    "start_time": "2025-09-08T17:42:42.111Z"
   },
   {
    "duration": 184,
    "start_time": "2025-09-08T17:42:42.224Z"
   },
   {
    "duration": 102,
    "start_time": "2025-09-08T17:44:02.918Z"
   },
   {
    "duration": 103,
    "start_time": "2025-09-08T18:52:08.479Z"
   },
   {
    "duration": 610,
    "start_time": "2025-09-08T18:53:59.609Z"
   },
   {
    "duration": 4,
    "start_time": "2025-09-08T18:54:00.958Z"
   },
   {
    "duration": 1260,
    "start_time": "2025-09-08T18:54:11.708Z"
   },
   {
    "duration": 2126,
    "start_time": "2025-09-08T18:54:12.970Z"
   },
   {
    "duration": 34,
    "start_time": "2025-09-08T18:54:15.098Z"
   },
   {
    "duration": 226,
    "start_time": "2025-09-08T18:54:15.134Z"
   },
   {
    "duration": 4,
    "start_time": "2025-09-08T18:54:15.362Z"
   },
   {
    "duration": 537,
    "start_time": "2025-09-08T18:54:15.367Z"
   },
   {
    "duration": 4,
    "start_time": "2025-09-08T18:54:15.906Z"
   },
   {
    "duration": 105,
    "start_time": "2025-09-08T18:54:15.920Z"
   },
   {
    "duration": 9,
    "start_time": "2025-09-08T18:54:16.026Z"
   },
   {
    "duration": 26,
    "start_time": "2025-09-08T18:54:16.037Z"
   },
   {
    "duration": 10,
    "start_time": "2025-09-08T18:54:16.065Z"
   },
   {
    "duration": 55,
    "start_time": "2025-09-08T18:54:16.076Z"
   },
   {
    "duration": 8,
    "start_time": "2025-09-08T18:54:16.132Z"
   },
   {
    "duration": 19,
    "start_time": "2025-09-08T18:54:16.143Z"
   },
   {
    "duration": 66,
    "start_time": "2025-09-08T18:54:16.164Z"
   },
   {
    "duration": 4,
    "start_time": "2025-09-08T18:54:16.232Z"
   },
   {
    "duration": 53,
    "start_time": "2025-09-08T18:54:16.238Z"
   },
   {
    "duration": 9,
    "start_time": "2025-09-08T18:54:16.293Z"
   },
   {
    "duration": 36,
    "start_time": "2025-09-08T18:54:16.303Z"
   },
   {
    "duration": 80,
    "start_time": "2025-09-08T18:54:16.341Z"
   },
   {
    "duration": 6,
    "start_time": "2025-09-08T18:54:16.423Z"
   },
   {
    "duration": 11,
    "start_time": "2025-09-08T18:54:16.431Z"
   },
   {
    "duration": 124,
    "start_time": "2025-09-08T18:54:16.444Z"
   },
   {
    "duration": 6,
    "start_time": "2025-09-08T18:54:16.570Z"
   },
   {
    "duration": 69,
    "start_time": "2025-09-08T18:54:16.578Z"
   },
   {
    "duration": 22,
    "start_time": "2025-09-08T18:54:16.649Z"
   },
   {
    "duration": 11,
    "start_time": "2025-09-08T18:54:16.672Z"
   },
   {
    "duration": 112,
    "start_time": "2025-09-08T18:54:16.685Z"
   },
   {
    "duration": 7,
    "start_time": "2025-09-08T18:54:16.799Z"
   },
   {
    "duration": 35,
    "start_time": "2025-09-08T18:54:16.820Z"
   },
   {
    "duration": 41,
    "start_time": "2025-09-08T18:54:16.857Z"
   },
   {
    "duration": 22,
    "start_time": "2025-09-08T18:54:16.900Z"
   },
   {
    "duration": 29,
    "start_time": "2025-09-08T18:54:16.923Z"
   },
   {
    "duration": 197,
    "start_time": "2025-09-08T18:54:16.954Z"
   },
   {
    "duration": 18,
    "start_time": "2025-09-08T18:54:17.153Z"
   },
   {
    "duration": 14,
    "start_time": "2025-09-08T18:54:17.173Z"
   },
   {
    "duration": 48,
    "start_time": "2025-09-08T18:54:17.189Z"
   },
   {
    "duration": 65,
    "start_time": "2025-09-08T18:54:17.239Z"
   },
   {
    "duration": 53,
    "start_time": "2025-09-08T18:54:17.306Z"
   },
   {
    "duration": 13,
    "start_time": "2025-09-08T18:54:17.361Z"
   },
   {
    "duration": 10,
    "start_time": "2025-09-08T18:54:17.378Z"
   },
   {
    "duration": 31,
    "start_time": "2025-09-08T18:54:17.390Z"
   },
   {
    "duration": 24,
    "start_time": "2025-09-08T18:54:17.422Z"
   },
   {
    "duration": 33,
    "start_time": "2025-09-08T18:54:17.447Z"
   },
   {
    "duration": 45,
    "start_time": "2025-09-08T18:54:17.481Z"
   },
   {
    "duration": 41,
    "start_time": "2025-09-08T18:54:17.528Z"
   },
   {
    "duration": 131,
    "start_time": "2025-09-08T18:54:17.571Z"
   },
   {
    "duration": 109,
    "start_time": "2025-09-08T18:54:17.704Z"
   },
   {
    "duration": 1159,
    "start_time": "2025-09-08T18:54:53.138Z"
   },
   {
    "duration": 1817,
    "start_time": "2025-09-08T18:54:54.300Z"
   },
   {
    "duration": 31,
    "start_time": "2025-09-08T18:54:56.121Z"
   },
   {
    "duration": 227,
    "start_time": "2025-09-08T18:54:56.155Z"
   },
   {
    "duration": 4,
    "start_time": "2025-09-08T18:54:56.383Z"
   },
   {
    "duration": 508,
    "start_time": "2025-09-08T18:54:56.389Z"
   },
   {
    "duration": 4,
    "start_time": "2025-09-08T18:54:56.898Z"
   },
   {
    "duration": 102,
    "start_time": "2025-09-08T18:54:56.903Z"
   },
   {
    "duration": 19,
    "start_time": "2025-09-08T18:54:57.006Z"
   },
   {
    "duration": 16,
    "start_time": "2025-09-08T18:54:57.026Z"
   },
   {
    "duration": 44,
    "start_time": "2025-09-08T18:54:57.044Z"
   },
   {
    "duration": 111,
    "start_time": "2025-09-08T18:54:57.091Z"
   },
   {
    "duration": 8,
    "start_time": "2025-09-08T18:54:57.205Z"
   },
   {
    "duration": 19,
    "start_time": "2025-09-08T18:54:57.215Z"
   },
   {
    "duration": 40,
    "start_time": "2025-09-08T18:54:57.236Z"
   },
   {
    "duration": 6,
    "start_time": "2025-09-08T18:54:57.278Z"
   },
   {
    "duration": 5,
    "start_time": "2025-09-08T18:54:57.286Z"
   },
   {
    "duration": 31,
    "start_time": "2025-09-08T18:54:57.292Z"
   },
   {
    "duration": 27,
    "start_time": "2025-09-08T18:54:57.324Z"
   },
   {
    "duration": 75,
    "start_time": "2025-09-08T18:54:57.353Z"
   },
   {
    "duration": 5,
    "start_time": "2025-09-08T18:54:57.430Z"
   },
   {
    "duration": 12,
    "start_time": "2025-09-08T18:54:57.436Z"
   },
   {
    "duration": 50,
    "start_time": "2025-09-08T18:54:57.450Z"
   },
   {
    "duration": 6,
    "start_time": "2025-09-08T18:54:57.518Z"
   },
   {
    "duration": 103,
    "start_time": "2025-09-08T18:54:57.525Z"
   },
   {
    "duration": 20,
    "start_time": "2025-09-08T18:54:57.630Z"
   },
   {
    "duration": 8,
    "start_time": "2025-09-08T18:54:57.651Z"
   },
   {
    "duration": 117,
    "start_time": "2025-09-08T18:54:57.660Z"
   },
   {
    "duration": 7,
    "start_time": "2025-09-08T18:54:57.778Z"
   },
   {
    "duration": 51,
    "start_time": "2025-09-08T18:54:57.787Z"
   },
   {
    "duration": 16,
    "start_time": "2025-09-08T18:54:57.840Z"
   },
   {
    "duration": 21,
    "start_time": "2025-09-08T18:54:57.858Z"
   },
   {
    "duration": 59,
    "start_time": "2025-09-08T18:54:57.881Z"
   },
   {
    "duration": 207,
    "start_time": "2025-09-08T18:54:57.942Z"
   },
   {
    "duration": 20,
    "start_time": "2025-09-08T18:54:58.150Z"
   },
   {
    "duration": 16,
    "start_time": "2025-09-08T18:54:58.172Z"
   },
   {
    "duration": 46,
    "start_time": "2025-09-08T18:54:58.189Z"
   },
   {
    "duration": 83,
    "start_time": "2025-09-08T18:54:58.237Z"
   },
   {
    "duration": 45,
    "start_time": "2025-09-08T18:54:58.322Z"
   },
   {
    "duration": 13,
    "start_time": "2025-09-08T18:54:58.371Z"
   },
   {
    "duration": 11,
    "start_time": "2025-09-08T18:54:58.386Z"
   },
   {
    "duration": 8,
    "start_time": "2025-09-08T18:54:58.420Z"
   },
   {
    "duration": 24,
    "start_time": "2025-09-08T18:54:58.429Z"
   },
   {
    "duration": 31,
    "start_time": "2025-09-08T18:54:58.455Z"
   },
   {
    "duration": 50,
    "start_time": "2025-09-08T18:54:58.488Z"
   },
   {
    "duration": 48,
    "start_time": "2025-09-08T18:54:58.539Z"
   },
   {
    "duration": 106,
    "start_time": "2025-09-08T18:54:58.589Z"
   },
   {
    "duration": 7,
    "start_time": "2025-09-08T18:54:58.697Z"
   },
   {
    "duration": 1206,
    "start_time": "2025-09-08T18:56:02.383Z"
   },
   {
    "duration": 1693,
    "start_time": "2025-09-08T18:56:03.591Z"
   },
   {
    "duration": 34,
    "start_time": "2025-09-08T18:56:05.286Z"
   },
   {
    "duration": 216,
    "start_time": "2025-09-08T18:56:05.322Z"
   },
   {
    "duration": 4,
    "start_time": "2025-09-08T18:56:05.540Z"
   },
   {
    "duration": 567,
    "start_time": "2025-09-08T18:56:05.546Z"
   },
   {
    "duration": 6,
    "start_time": "2025-09-08T18:56:06.114Z"
   },
   {
    "duration": 108,
    "start_time": "2025-09-08T18:56:06.122Z"
   },
   {
    "duration": 9,
    "start_time": "2025-09-08T18:56:06.231Z"
   },
   {
    "duration": 20,
    "start_time": "2025-09-08T18:56:06.242Z"
   },
   {
    "duration": 20,
    "start_time": "2025-09-08T18:56:06.264Z"
   },
   {
    "duration": 43,
    "start_time": "2025-09-08T18:56:06.286Z"
   },
   {
    "duration": 26,
    "start_time": "2025-09-08T18:56:06.331Z"
   },
   {
    "duration": 33,
    "start_time": "2025-09-08T18:56:06.359Z"
   },
   {
    "duration": 38,
    "start_time": "2025-09-08T18:56:06.393Z"
   },
   {
    "duration": 13,
    "start_time": "2025-09-08T18:56:06.433Z"
   },
   {
    "duration": 30,
    "start_time": "2025-09-08T18:56:06.447Z"
   },
   {
    "duration": 8,
    "start_time": "2025-09-08T18:56:06.479Z"
   },
   {
    "duration": 58,
    "start_time": "2025-09-08T18:56:06.489Z"
   },
   {
    "duration": 92,
    "start_time": "2025-09-08T18:56:06.549Z"
   },
   {
    "duration": 6,
    "start_time": "2025-09-08T18:56:06.643Z"
   },
   {
    "duration": 14,
    "start_time": "2025-09-08T18:56:06.651Z"
   },
   {
    "duration": 60,
    "start_time": "2025-09-08T18:56:06.667Z"
   },
   {
    "duration": 6,
    "start_time": "2025-09-08T18:56:06.729Z"
   },
   {
    "duration": 56,
    "start_time": "2025-09-08T18:56:06.736Z"
   },
   {
    "duration": 28,
    "start_time": "2025-09-08T18:56:06.794Z"
   },
   {
    "duration": 6,
    "start_time": "2025-09-08T18:56:06.823Z"
   },
   {
    "duration": 100,
    "start_time": "2025-09-08T18:56:06.832Z"
   },
   {
    "duration": 6,
    "start_time": "2025-09-08T18:56:06.934Z"
   },
   {
    "duration": 50,
    "start_time": "2025-09-08T18:56:06.941Z"
   },
   {
    "duration": 20,
    "start_time": "2025-09-08T18:56:06.992Z"
   },
   {
    "duration": 37,
    "start_time": "2025-09-08T18:56:07.013Z"
   },
   {
    "duration": 109,
    "start_time": "2025-09-08T18:56:07.052Z"
   },
   {
    "duration": 180,
    "start_time": "2025-09-08T18:56:07.163Z"
   },
   {
    "duration": 19,
    "start_time": "2025-09-08T18:56:07.344Z"
   },
   {
    "duration": 15,
    "start_time": "2025-09-08T18:56:07.365Z"
   },
   {
    "duration": 45,
    "start_time": "2025-09-08T18:56:07.382Z"
   },
   {
    "duration": 67,
    "start_time": "2025-09-08T18:56:07.430Z"
   },
   {
    "duration": 58,
    "start_time": "2025-09-08T18:56:07.499Z"
   },
   {
    "duration": 14,
    "start_time": "2025-09-08T18:56:07.559Z"
   },
   {
    "duration": 32,
    "start_time": "2025-09-08T18:56:07.574Z"
   },
   {
    "duration": 28,
    "start_time": "2025-09-08T18:56:07.608Z"
   },
   {
    "duration": 25,
    "start_time": "2025-09-08T18:56:07.637Z"
   },
   {
    "duration": 28,
    "start_time": "2025-09-08T18:56:07.663Z"
   },
   {
    "duration": 26,
    "start_time": "2025-09-08T18:56:07.693Z"
   },
   {
    "duration": 40,
    "start_time": "2025-09-08T18:56:07.720Z"
   },
   {
    "duration": 107,
    "start_time": "2025-09-08T18:56:07.761Z"
   },
   {
    "duration": 9,
    "start_time": "2025-09-08T18:56:07.870Z"
   },
   {
    "duration": 40,
    "start_time": "2025-09-08T18:57:30.492Z"
   },
   {
    "duration": 78,
    "start_time": "2025-09-08T18:58:15.571Z"
   },
   {
    "duration": 109,
    "start_time": "2025-09-08T18:59:23.838Z"
   },
   {
    "duration": 8,
    "start_time": "2025-09-08T19:00:39.422Z"
   },
   {
    "duration": 1107,
    "start_time": "2025-09-08T19:02:49.755Z"
   },
   {
    "duration": 2252,
    "start_time": "2025-09-08T19:02:50.863Z"
   },
   {
    "duration": 29,
    "start_time": "2025-09-08T19:02:53.117Z"
   },
   {
    "duration": 210,
    "start_time": "2025-09-08T19:02:53.147Z"
   },
   {
    "duration": 4,
    "start_time": "2025-09-08T19:02:53.359Z"
   },
   {
    "duration": 511,
    "start_time": "2025-09-08T19:02:53.365Z"
   },
   {
    "duration": 6,
    "start_time": "2025-09-08T19:02:53.878Z"
   },
   {
    "duration": 141,
    "start_time": "2025-09-08T19:02:53.885Z"
   },
   {
    "duration": 10,
    "start_time": "2025-09-08T19:02:54.027Z"
   },
   {
    "duration": 12,
    "start_time": "2025-09-08T19:02:54.040Z"
   },
   {
    "duration": 12,
    "start_time": "2025-09-08T19:02:54.054Z"
   },
   {
    "duration": 64,
    "start_time": "2025-09-08T19:02:54.068Z"
   },
   {
    "duration": 8,
    "start_time": "2025-09-08T19:02:54.134Z"
   },
   {
    "duration": 20,
    "start_time": "2025-09-08T19:02:54.144Z"
   },
   {
    "duration": 63,
    "start_time": "2025-09-08T19:02:54.166Z"
   },
   {
    "duration": 5,
    "start_time": "2025-09-08T19:02:54.231Z"
   },
   {
    "duration": 13,
    "start_time": "2025-09-08T19:02:54.238Z"
   },
   {
    "duration": 10,
    "start_time": "2025-09-08T19:02:54.253Z"
   },
   {
    "duration": 23,
    "start_time": "2025-09-08T19:02:54.265Z"
   },
   {
    "duration": 73,
    "start_time": "2025-09-08T19:02:54.290Z"
   },
   {
    "duration": 5,
    "start_time": "2025-09-08T19:02:54.365Z"
   },
   {
    "duration": 6,
    "start_time": "2025-09-08T19:02:54.372Z"
   },
   {
    "duration": 65,
    "start_time": "2025-09-08T19:02:54.380Z"
   },
   {
    "duration": 22,
    "start_time": "2025-09-08T19:02:54.448Z"
   },
   {
    "duration": 7,
    "start_time": "2025-09-08T19:02:54.471Z"
   },
   {
    "duration": 104,
    "start_time": "2025-09-08T19:02:54.480Z"
   },
   {
    "duration": 8,
    "start_time": "2025-09-08T19:02:54.586Z"
   },
   {
    "duration": 53,
    "start_time": "2025-09-08T19:02:54.598Z"
   },
   {
    "duration": 17,
    "start_time": "2025-09-08T19:02:54.653Z"
   },
   {
    "duration": 21,
    "start_time": "2025-09-08T19:02:54.672Z"
   },
   {
    "duration": 61,
    "start_time": "2025-09-08T19:02:54.695Z"
   },
   {
    "duration": 184,
    "start_time": "2025-09-08T19:02:54.757Z"
   },
   {
    "duration": 18,
    "start_time": "2025-09-08T19:02:54.942Z"
   },
   {
    "duration": 39,
    "start_time": "2025-09-08T19:02:54.961Z"
   },
   {
    "duration": 27,
    "start_time": "2025-09-08T19:02:55.002Z"
   },
   {
    "duration": 65,
    "start_time": "2025-09-08T19:02:55.031Z"
   },
   {
    "duration": 60,
    "start_time": "2025-09-08T19:02:55.098Z"
   },
   {
    "duration": 12,
    "start_time": "2025-09-08T19:02:55.160Z"
   },
   {
    "duration": 14,
    "start_time": "2025-09-08T19:02:55.174Z"
   },
   {
    "duration": 29,
    "start_time": "2025-09-08T19:02:55.190Z"
   },
   {
    "duration": 22,
    "start_time": "2025-09-08T19:02:55.221Z"
   },
   {
    "duration": 26,
    "start_time": "2025-09-08T19:02:55.244Z"
   },
   {
    "duration": 18,
    "start_time": "2025-09-08T19:02:55.271Z"
   },
   {
    "duration": 61,
    "start_time": "2025-09-08T19:02:55.291Z"
   },
   {
    "duration": 105,
    "start_time": "2025-09-08T19:02:55.354Z"
   },
   {
    "duration": 34,
    "start_time": "2025-09-08T19:02:55.460Z"
   },
   {
    "duration": 94,
    "start_time": "2025-09-08T19:02:55.496Z"
   },
   {
    "duration": 42,
    "start_time": "2025-09-08T19:06:38.601Z"
   },
   {
    "duration": 53,
    "start_time": "2025-09-08T19:06:47.318Z"
   },
   {
    "duration": 397,
    "start_time": "2025-09-08T19:08:22.415Z"
   },
   {
    "duration": 95,
    "start_time": "2025-09-08T19:11:03.640Z"
   },
   {
    "duration": 629,
    "start_time": "2025-09-08T19:11:35.002Z"
   },
   {
    "duration": 549,
    "start_time": "2025-09-08T19:12:12.564Z"
   },
   {
    "duration": 626,
    "start_time": "2025-09-08T19:13:01.433Z"
   },
   {
    "duration": 83,
    "start_time": "2025-09-08T19:14:01.090Z"
   },
   {
    "duration": 599,
    "start_time": "2025-09-08T19:14:18.510Z"
   },
   {
    "duration": 560,
    "start_time": "2025-09-08T19:15:06.259Z"
   },
   {
    "duration": 47,
    "start_time": "2025-09-08T19:15:43.792Z"
   },
   {
    "duration": 39,
    "start_time": "2025-09-08T19:16:12.106Z"
   },
   {
    "duration": 571,
    "start_time": "2025-09-08T19:16:14.389Z"
   },
   {
    "duration": 91,
    "start_time": "2025-09-08T19:25:41.946Z"
   },
   {
    "duration": 112,
    "start_time": "2025-09-08T19:25:46.888Z"
   },
   {
    "duration": 86,
    "start_time": "2025-09-08T19:26:29.553Z"
   },
   {
    "duration": 1164,
    "start_time": "2025-09-08T19:27:31.967Z"
   },
   {
    "duration": 29,
    "start_time": "2025-09-08T19:27:45.528Z"
   },
   {
    "duration": 36,
    "start_time": "2025-09-08T19:28:25.410Z"
   },
   {
    "duration": 23,
    "start_time": "2025-09-08T19:29:20.661Z"
   },
   {
    "duration": 10,
    "start_time": "2025-09-08T19:29:31.284Z"
   },
   {
    "duration": 1095,
    "start_time": "2025-09-08T19:33:09.468Z"
   },
   {
    "duration": 2475,
    "start_time": "2025-09-08T19:33:10.565Z"
   },
   {
    "duration": 31,
    "start_time": "2025-09-08T19:33:13.042Z"
   },
   {
    "duration": 4,
    "start_time": "2025-09-08T19:33:13.074Z"
   },
   {
    "duration": 506,
    "start_time": "2025-09-08T19:33:13.080Z"
   },
   {
    "duration": 5,
    "start_time": "2025-09-08T19:33:13.588Z"
   },
   {
    "duration": 110,
    "start_time": "2025-09-08T19:33:13.594Z"
   },
   {
    "duration": 18,
    "start_time": "2025-09-08T19:33:13.706Z"
   },
   {
    "duration": 50,
    "start_time": "2025-09-08T19:33:13.725Z"
   },
   {
    "duration": 17,
    "start_time": "2025-09-08T19:33:13.777Z"
   },
   {
    "duration": 38,
    "start_time": "2025-09-08T19:33:13.796Z"
   },
   {
    "duration": 9,
    "start_time": "2025-09-08T19:33:13.836Z"
   },
   {
    "duration": 20,
    "start_time": "2025-09-08T19:33:13.847Z"
   },
   {
    "duration": 72,
    "start_time": "2025-09-08T19:33:13.870Z"
   },
   {
    "duration": 6,
    "start_time": "2025-09-08T19:33:13.944Z"
   },
   {
    "duration": 6,
    "start_time": "2025-09-08T19:33:13.952Z"
   },
   {
    "duration": 9,
    "start_time": "2025-09-08T19:33:13.959Z"
   },
   {
    "duration": 34,
    "start_time": "2025-09-08T19:33:13.970Z"
   },
   {
    "duration": 57,
    "start_time": "2025-09-08T19:33:14.006Z"
   },
   {
    "duration": 6,
    "start_time": "2025-09-08T19:33:14.065Z"
   },
   {
    "duration": 6,
    "start_time": "2025-09-08T19:33:14.073Z"
   },
   {
    "duration": 69,
    "start_time": "2025-09-08T19:33:14.080Z"
   },
   {
    "duration": 21,
    "start_time": "2025-09-08T19:33:14.150Z"
   },
   {
    "duration": 5,
    "start_time": "2025-09-08T19:33:14.173Z"
   },
   {
    "duration": 106,
    "start_time": "2025-09-08T19:33:14.180Z"
   },
   {
    "duration": 7,
    "start_time": "2025-09-08T19:33:14.287Z"
   },
   {
    "duration": 50,
    "start_time": "2025-09-08T19:33:14.295Z"
   },
   {
    "duration": 16,
    "start_time": "2025-09-08T19:33:14.346Z"
   },
   {
    "duration": 31,
    "start_time": "2025-09-08T19:33:14.363Z"
   },
   {
    "duration": 579,
    "start_time": "2025-09-08T19:33:14.395Z"
   },
   {
    "duration": 44,
    "start_time": "2025-09-08T19:33:14.975Z"
   },
   {
    "duration": 43,
    "start_time": "2025-09-08T19:33:15.021Z"
   },
   {
    "duration": 55,
    "start_time": "2025-09-08T19:33:15.066Z"
   },
   {
    "duration": 189,
    "start_time": "2025-09-08T19:33:15.122Z"
   },
   {
    "duration": 22,
    "start_time": "2025-09-08T19:33:15.312Z"
   },
   {
    "duration": 15,
    "start_time": "2025-09-08T19:33:15.336Z"
   },
   {
    "duration": 24,
    "start_time": "2025-09-08T19:33:15.353Z"
   },
   {
    "duration": 91,
    "start_time": "2025-09-08T19:33:15.379Z"
   },
   {
    "duration": 52,
    "start_time": "2025-09-08T19:33:15.472Z"
   },
   {
    "duration": 12,
    "start_time": "2025-09-08T19:33:15.525Z"
   },
   {
    "duration": 9,
    "start_time": "2025-09-08T19:33:15.541Z"
   },
   {
    "duration": 9,
    "start_time": "2025-09-08T19:33:15.551Z"
   },
   {
    "duration": 34,
    "start_time": "2025-09-08T19:33:15.561Z"
   },
   {
    "duration": 43,
    "start_time": "2025-09-08T19:33:15.597Z"
   },
   {
    "duration": 19,
    "start_time": "2025-09-08T19:33:15.641Z"
   },
   {
    "duration": 58,
    "start_time": "2025-09-08T19:33:15.662Z"
   },
   {
    "duration": 99,
    "start_time": "2025-09-08T19:33:15.722Z"
   },
   {
    "duration": 34,
    "start_time": "2025-09-08T19:33:15.823Z"
   },
   {
    "duration": 112,
    "start_time": "2025-09-08T19:33:15.859Z"
   },
   {
    "duration": 30,
    "start_time": "2025-09-08T19:33:15.972Z"
   },
   {
    "duration": 31,
    "start_time": "2025-09-08T19:33:16.004Z"
   },
   {
    "duration": 1232,
    "start_time": "2025-09-08T20:36:01.609Z"
   },
   {
    "duration": 2187,
    "start_time": "2025-09-08T20:36:02.843Z"
   },
   {
    "duration": 39,
    "start_time": "2025-09-08T20:36:05.032Z"
   },
   {
    "duration": 3,
    "start_time": "2025-09-08T20:36:05.073Z"
   },
   {
    "duration": 525,
    "start_time": "2025-09-08T20:36:05.078Z"
   },
   {
    "duration": 4,
    "start_time": "2025-09-08T20:36:05.605Z"
   },
   {
    "duration": 115,
    "start_time": "2025-09-08T20:36:05.611Z"
   },
   {
    "duration": 8,
    "start_time": "2025-09-08T20:36:05.728Z"
   },
   {
    "duration": 24,
    "start_time": "2025-09-08T20:36:05.738Z"
   },
   {
    "duration": 60,
    "start_time": "2025-09-08T20:36:05.765Z"
   },
   {
    "duration": 54,
    "start_time": "2025-09-08T20:36:05.827Z"
   },
   {
    "duration": 8,
    "start_time": "2025-09-08T20:36:05.883Z"
   },
   {
    "duration": 29,
    "start_time": "2025-09-08T20:36:05.892Z"
   },
   {
    "duration": 46,
    "start_time": "2025-09-08T20:36:05.923Z"
   },
   {
    "duration": 5,
    "start_time": "2025-09-08T20:36:05.971Z"
   },
   {
    "duration": 39,
    "start_time": "2025-09-08T20:36:05.977Z"
   },
   {
    "duration": 94,
    "start_time": "2025-09-08T20:36:06.018Z"
   },
   {
    "duration": 25,
    "start_time": "2025-09-08T20:36:06.113Z"
   },
   {
    "duration": 51,
    "start_time": "2025-09-08T20:36:06.140Z"
   },
   {
    "duration": 5,
    "start_time": "2025-09-08T20:36:06.193Z"
   },
   {
    "duration": 6,
    "start_time": "2025-09-08T20:36:06.200Z"
   },
   {
    "duration": 59,
    "start_time": "2025-09-08T20:36:06.208Z"
   },
   {
    "duration": 21,
    "start_time": "2025-09-08T20:36:06.269Z"
   },
   {
    "duration": 7,
    "start_time": "2025-09-08T20:36:06.291Z"
   },
   {
    "duration": 114,
    "start_time": "2025-09-08T20:36:06.299Z"
   },
   {
    "duration": 8,
    "start_time": "2025-09-08T20:36:06.414Z"
   },
   {
    "duration": 50,
    "start_time": "2025-09-08T20:36:06.423Z"
   },
   {
    "duration": 17,
    "start_time": "2025-09-08T20:36:06.477Z"
   },
   {
    "duration": 21,
    "start_time": "2025-09-08T20:36:06.496Z"
   },
   {
    "duration": 637,
    "start_time": "2025-09-08T20:36:06.519Z"
   },
   {
    "duration": 35,
    "start_time": "2025-09-08T20:36:07.158Z"
   },
   {
    "duration": 58,
    "start_time": "2025-09-08T20:36:07.195Z"
   },
   {
    "duration": 47,
    "start_time": "2025-09-08T20:36:07.255Z"
   },
   {
    "duration": 221,
    "start_time": "2025-09-08T20:36:07.303Z"
   },
   {
    "duration": 28,
    "start_time": "2025-09-08T20:36:07.526Z"
   },
   {
    "duration": 18,
    "start_time": "2025-09-08T20:36:07.555Z"
   },
   {
    "duration": 28,
    "start_time": "2025-09-08T20:36:07.574Z"
   },
   {
    "duration": 98,
    "start_time": "2025-09-08T20:36:07.603Z"
   },
   {
    "duration": 50,
    "start_time": "2025-09-08T20:36:07.703Z"
   },
   {
    "duration": 13,
    "start_time": "2025-09-08T20:36:07.755Z"
   },
   {
    "duration": 54,
    "start_time": "2025-09-08T20:36:07.770Z"
   },
   {
    "duration": 9,
    "start_time": "2025-09-08T20:36:07.825Z"
   },
   {
    "duration": 27,
    "start_time": "2025-09-08T20:36:07.835Z"
   },
   {
    "duration": 37,
    "start_time": "2025-09-08T20:36:07.864Z"
   },
   {
    "duration": 20,
    "start_time": "2025-09-08T20:36:07.903Z"
   },
   {
    "duration": 56,
    "start_time": "2025-09-08T20:36:07.925Z"
   },
   {
    "duration": 126,
    "start_time": "2025-09-08T20:36:07.982Z"
   },
   {
    "duration": 32,
    "start_time": "2025-09-08T20:36:08.109Z"
   },
   {
    "duration": 109,
    "start_time": "2025-09-08T20:36:08.143Z"
   },
   {
    "duration": 39,
    "start_time": "2025-09-08T20:36:08.254Z"
   },
   {
    "duration": 22,
    "start_time": "2025-09-08T20:36:08.295Z"
   },
   {
    "duration": 22,
    "start_time": "2025-09-08T20:38:55.968Z"
   },
   {
    "duration": 46,
    "start_time": "2025-09-09T12:07:58.279Z"
   },
   {
    "duration": 1277,
    "start_time": "2025-09-09T12:08:07.309Z"
   },
   {
    "duration": 2592,
    "start_time": "2025-09-09T12:08:08.588Z"
   },
   {
    "duration": 31,
    "start_time": "2025-09-09T12:08:11.181Z"
   },
   {
    "duration": 4,
    "start_time": "2025-09-09T12:08:11.214Z"
   },
   {
    "duration": 520,
    "start_time": "2025-09-09T12:08:11.219Z"
   },
   {
    "duration": 4,
    "start_time": "2025-09-09T12:08:11.740Z"
   },
   {
    "duration": 106,
    "start_time": "2025-09-09T12:08:11.746Z"
   },
   {
    "duration": 8,
    "start_time": "2025-09-09T12:08:11.854Z"
   },
   {
    "duration": 12,
    "start_time": "2025-09-09T12:08:11.871Z"
   },
   {
    "duration": 12,
    "start_time": "2025-09-09T12:08:11.887Z"
   },
   {
    "duration": 42,
    "start_time": "2025-09-09T12:08:11.901Z"
   },
   {
    "duration": 28,
    "start_time": "2025-09-09T12:08:11.945Z"
   },
   {
    "duration": 23,
    "start_time": "2025-09-09T12:08:11.975Z"
   },
   {
    "duration": 37,
    "start_time": "2025-09-09T12:08:12.000Z"
   },
   {
    "duration": 5,
    "start_time": "2025-09-09T12:08:12.039Z"
   },
   {
    "duration": 26,
    "start_time": "2025-09-09T12:08:12.045Z"
   },
   {
    "duration": 9,
    "start_time": "2025-09-09T12:08:12.073Z"
   },
   {
    "duration": 22,
    "start_time": "2025-09-09T12:08:12.083Z"
   },
   {
    "duration": 69,
    "start_time": "2025-09-09T12:08:12.107Z"
   },
   {
    "duration": 6,
    "start_time": "2025-09-09T12:08:12.177Z"
   },
   {
    "duration": 4,
    "start_time": "2025-09-09T12:08:12.184Z"
   },
   {
    "duration": 53,
    "start_time": "2025-09-09T12:08:12.190Z"
   },
   {
    "duration": 37,
    "start_time": "2025-09-09T12:08:12.244Z"
   },
   {
    "duration": 6,
    "start_time": "2025-09-09T12:08:12.282Z"
   },
   {
    "duration": 97,
    "start_time": "2025-09-09T12:08:12.290Z"
   },
   {
    "duration": 6,
    "start_time": "2025-09-09T12:08:12.389Z"
   },
   {
    "duration": 35,
    "start_time": "2025-09-09T12:08:12.396Z"
   },
   {
    "duration": 36,
    "start_time": "2025-09-09T12:08:12.435Z"
   },
   {
    "duration": 21,
    "start_time": "2025-09-09T12:08:12.473Z"
   },
   {
    "duration": 587,
    "start_time": "2025-09-09T12:08:12.495Z"
   },
   {
    "duration": 33,
    "start_time": "2025-09-09T12:08:13.083Z"
   },
   {
    "duration": 76,
    "start_time": "2025-09-09T12:08:13.118Z"
   },
   {
    "duration": 91,
    "start_time": "2025-09-09T12:08:13.195Z"
   },
   {
    "duration": 388,
    "start_time": "2025-09-09T12:08:13.288Z"
   },
   {
    "duration": 18,
    "start_time": "2025-09-09T12:08:13.677Z"
   },
   {
    "duration": 15,
    "start_time": "2025-09-09T12:08:13.696Z"
   },
   {
    "duration": 75,
    "start_time": "2025-09-09T12:08:13.712Z"
   },
   {
    "duration": 120,
    "start_time": "2025-09-09T12:08:13.789Z"
   },
   {
    "duration": 96,
    "start_time": "2025-09-09T12:08:13.911Z"
   },
   {
    "duration": 70,
    "start_time": "2025-09-09T12:08:14.009Z"
   },
   {
    "duration": 10,
    "start_time": "2025-09-09T12:08:14.080Z"
   },
   {
    "duration": 6,
    "start_time": "2025-09-09T12:08:14.092Z"
   },
   {
    "duration": 76,
    "start_time": "2025-09-09T12:08:14.099Z"
   },
   {
    "duration": 33,
    "start_time": "2025-09-09T12:08:14.176Z"
   },
   {
    "duration": 71,
    "start_time": "2025-09-09T12:08:14.211Z"
   },
   {
    "duration": 89,
    "start_time": "2025-09-09T12:08:14.283Z"
   },
   {
    "duration": 140,
    "start_time": "2025-09-09T12:08:14.374Z"
   },
   {
    "duration": 85,
    "start_time": "2025-09-09T12:08:14.516Z"
   },
   {
    "duration": 106,
    "start_time": "2025-09-09T12:08:14.603Z"
   },
   {
    "duration": 30,
    "start_time": "2025-09-09T12:08:14.711Z"
   },
   {
    "duration": 37,
    "start_time": "2025-09-09T12:08:14.743Z"
   },
   {
    "duration": 99,
    "start_time": "2025-09-09T12:54:26.434Z"
   },
   {
    "duration": 9,
    "start_time": "2025-09-09T12:54:42.939Z"
   },
   {
    "duration": 9,
    "start_time": "2025-09-09T12:54:49.481Z"
   },
   {
    "duration": 9,
    "start_time": "2025-09-09T12:55:39.758Z"
   },
   {
    "duration": 1103,
    "start_time": "2025-09-09T12:55:49.407Z"
   },
   {
    "duration": 1726,
    "start_time": "2025-09-09T12:55:50.512Z"
   },
   {
    "duration": 37,
    "start_time": "2025-09-09T12:55:52.240Z"
   },
   {
    "duration": 3,
    "start_time": "2025-09-09T12:55:52.280Z"
   },
   {
    "duration": 12,
    "start_time": "2025-09-09T12:55:52.285Z"
   },
   {
    "duration": 496,
    "start_time": "2025-09-09T12:55:52.298Z"
   },
   {
    "duration": 5,
    "start_time": "2025-09-09T12:55:52.795Z"
   },
   {
    "duration": 106,
    "start_time": "2025-09-09T12:55:52.801Z"
   },
   {
    "duration": 8,
    "start_time": "2025-09-09T12:55:52.908Z"
   },
   {
    "duration": 11,
    "start_time": "2025-09-09T12:55:52.919Z"
   },
   {
    "duration": 9,
    "start_time": "2025-09-09T12:55:52.932Z"
   },
   {
    "duration": 60,
    "start_time": "2025-09-09T12:55:52.943Z"
   },
   {
    "duration": 7,
    "start_time": "2025-09-09T12:55:53.005Z"
   },
   {
    "duration": 40,
    "start_time": "2025-09-09T12:55:53.014Z"
   },
   {
    "duration": 36,
    "start_time": "2025-09-09T12:55:53.056Z"
   },
   {
    "duration": 5,
    "start_time": "2025-09-09T12:55:53.093Z"
   },
   {
    "duration": 4,
    "start_time": "2025-09-09T12:55:53.100Z"
   },
   {
    "duration": 7,
    "start_time": "2025-09-09T12:55:53.106Z"
   },
   {
    "duration": 22,
    "start_time": "2025-09-09T12:55:53.115Z"
   },
   {
    "duration": 83,
    "start_time": "2025-09-09T12:55:53.139Z"
   },
   {
    "duration": 6,
    "start_time": "2025-09-09T12:55:53.223Z"
   },
   {
    "duration": 22,
    "start_time": "2025-09-09T12:55:53.230Z"
   },
   {
    "duration": 49,
    "start_time": "2025-09-09T12:55:53.253Z"
   },
   {
    "duration": 19,
    "start_time": "2025-09-09T12:55:53.303Z"
   },
   {
    "duration": 5,
    "start_time": "2025-09-09T12:55:53.324Z"
   },
   {
    "duration": 95,
    "start_time": "2025-09-09T12:55:53.330Z"
   },
   {
    "duration": 7,
    "start_time": "2025-09-09T12:55:53.427Z"
   },
   {
    "duration": 49,
    "start_time": "2025-09-09T12:55:53.437Z"
   },
   {
    "duration": 15,
    "start_time": "2025-09-09T12:55:53.487Z"
   },
   {
    "duration": 19,
    "start_time": "2025-09-09T12:55:53.504Z"
   },
   {
    "duration": 583,
    "start_time": "2025-09-09T12:55:53.524Z"
   },
   {
    "duration": 31,
    "start_time": "2025-09-09T12:55:54.109Z"
   },
   {
    "duration": 59,
    "start_time": "2025-09-09T12:55:54.141Z"
   },
   {
    "duration": 41,
    "start_time": "2025-09-09T12:55:54.202Z"
   },
   {
    "duration": 187,
    "start_time": "2025-09-09T12:55:54.244Z"
   },
   {
    "duration": 20,
    "start_time": "2025-09-09T12:55:54.432Z"
   },
   {
    "duration": 29,
    "start_time": "2025-09-09T12:55:54.453Z"
   },
   {
    "duration": 24,
    "start_time": "2025-09-09T12:55:54.484Z"
   },
   {
    "duration": 82,
    "start_time": "2025-09-09T12:55:54.510Z"
   },
   {
    "duration": 42,
    "start_time": "2025-09-09T12:55:54.594Z"
   },
   {
    "duration": 12,
    "start_time": "2025-09-09T12:55:54.638Z"
   },
   {
    "duration": 27,
    "start_time": "2025-09-09T12:55:54.651Z"
   },
   {
    "duration": 11,
    "start_time": "2025-09-09T12:55:54.680Z"
   },
   {
    "duration": 23,
    "start_time": "2025-09-09T12:55:54.692Z"
   },
   {
    "duration": 27,
    "start_time": "2025-09-09T12:55:54.716Z"
   },
   {
    "duration": 52,
    "start_time": "2025-09-09T12:55:54.745Z"
   },
   {
    "duration": 35,
    "start_time": "2025-09-09T12:55:54.799Z"
   },
   {
    "duration": 86,
    "start_time": "2025-09-09T12:55:54.836Z"
   },
   {
    "duration": 32,
    "start_time": "2025-09-09T12:55:54.923Z"
   },
   {
    "duration": 103,
    "start_time": "2025-09-09T12:55:54.956Z"
   },
   {
    "duration": 34,
    "start_time": "2025-09-09T12:55:55.060Z"
   },
   {
    "duration": 21,
    "start_time": "2025-09-09T12:55:55.095Z"
   },
   {
    "duration": 1266,
    "start_time": "2025-09-09T12:56:35.622Z"
   },
   {
    "duration": 1974,
    "start_time": "2025-09-09T12:56:36.889Z"
   },
   {
    "duration": 34,
    "start_time": "2025-09-09T12:56:38.865Z"
   },
   {
    "duration": 3,
    "start_time": "2025-09-09T12:56:38.901Z"
   },
   {
    "duration": 69,
    "start_time": "2025-09-09T12:56:38.906Z"
   },
   {
    "duration": 99,
    "start_time": "2025-09-09T12:56:38.977Z"
   },
   {
    "duration": 8,
    "start_time": "2025-09-09T12:56:39.077Z"
   },
   {
    "duration": 11,
    "start_time": "2025-09-09T12:56:39.086Z"
   },
   {
    "duration": 18,
    "start_time": "2025-09-09T12:56:39.098Z"
   },
   {
    "duration": 55,
    "start_time": "2025-09-09T12:56:39.118Z"
   },
   {
    "duration": 7,
    "start_time": "2025-09-09T12:56:39.174Z"
   },
   {
    "duration": 34,
    "start_time": "2025-09-09T12:56:39.183Z"
   },
   {
    "duration": 39,
    "start_time": "2025-09-09T12:56:39.219Z"
   },
   {
    "duration": 11,
    "start_time": "2025-09-09T12:56:39.260Z"
   },
   {
    "duration": 4,
    "start_time": "2025-09-09T12:56:39.272Z"
   },
   {
    "duration": 19,
    "start_time": "2025-09-09T12:56:39.277Z"
   },
   {
    "duration": 38,
    "start_time": "2025-09-09T12:56:39.297Z"
   },
   {
    "duration": 49,
    "start_time": "2025-09-09T12:56:39.337Z"
   },
   {
    "duration": 5,
    "start_time": "2025-09-09T12:56:39.388Z"
   },
   {
    "duration": 4,
    "start_time": "2025-09-09T12:56:39.395Z"
   },
   {
    "duration": 45,
    "start_time": "2025-09-09T12:56:39.400Z"
   },
   {
    "duration": 32,
    "start_time": "2025-09-09T12:56:39.446Z"
   },
   {
    "duration": 5,
    "start_time": "2025-09-09T12:56:39.479Z"
   },
   {
    "duration": 98,
    "start_time": "2025-09-09T12:56:39.486Z"
   },
   {
    "duration": 7,
    "start_time": "2025-09-09T12:56:39.586Z"
   },
   {
    "duration": 95,
    "start_time": "2025-09-09T12:56:39.594Z"
   },
   {
    "duration": 15,
    "start_time": "2025-09-09T12:56:39.691Z"
   },
   {
    "duration": 19,
    "start_time": "2025-09-09T12:56:39.709Z"
   },
   {
    "duration": 654,
    "start_time": "2025-09-09T12:56:39.730Z"
   },
   {
    "duration": 31,
    "start_time": "2025-09-09T12:56:40.387Z"
   },
   {
    "duration": 59,
    "start_time": "2025-09-09T12:56:40.420Z"
   },
   {
    "duration": 44,
    "start_time": "2025-09-09T12:56:40.481Z"
   },
   {
    "duration": 202,
    "start_time": "2025-09-09T12:56:40.527Z"
   },
   {
    "duration": 19,
    "start_time": "2025-09-09T12:56:40.730Z"
   },
   {
    "duration": 59,
    "start_time": "2025-09-09T12:56:40.750Z"
   },
   {
    "duration": 31,
    "start_time": "2025-09-09T12:56:40.811Z"
   },
   {
    "duration": 66,
    "start_time": "2025-09-09T12:56:40.843Z"
   },
   {
    "duration": 44,
    "start_time": "2025-09-09T12:56:40.910Z"
   },
   {
    "duration": 26,
    "start_time": "2025-09-09T12:56:40.955Z"
   },
   {
    "duration": 14,
    "start_time": "2025-09-09T12:56:40.983Z"
   },
   {
    "duration": 53,
    "start_time": "2025-09-09T12:56:40.998Z"
   },
   {
    "duration": 23,
    "start_time": "2025-09-09T12:56:41.052Z"
   },
   {
    "duration": 27,
    "start_time": "2025-09-09T12:56:41.077Z"
   },
   {
    "duration": 18,
    "start_time": "2025-09-09T12:56:41.106Z"
   },
   {
    "duration": 57,
    "start_time": "2025-09-09T12:56:41.125Z"
   },
   {
    "duration": 101,
    "start_time": "2025-09-09T12:56:41.183Z"
   },
   {
    "duration": 41,
    "start_time": "2025-09-09T12:56:41.285Z"
   },
   {
    "duration": 106,
    "start_time": "2025-09-09T12:56:41.327Z"
   },
   {
    "duration": 43,
    "start_time": "2025-09-09T12:56:41.435Z"
   },
   {
    "duration": 30,
    "start_time": "2025-09-09T12:56:41.479Z"
   },
   {
    "duration": 4,
    "start_time": "2025-09-09T12:59:03.954Z"
   },
   {
    "duration": 1065,
    "start_time": "2025-09-09T13:01:11.373Z"
   },
   {
    "duration": 55,
    "start_time": "2025-09-09T13:01:26.361Z"
   },
   {
    "duration": 10,
    "start_time": "2025-09-09T13:02:41.752Z"
   },
   {
    "duration": 9,
    "start_time": "2025-09-09T13:02:54.376Z"
   },
   {
    "duration": 7854,
    "start_time": "2025-09-09T13:04:13.051Z"
   },
   {
    "duration": 70,
    "start_time": "2025-09-09T13:05:38.879Z"
   },
   {
    "duration": 168,
    "start_time": "2025-09-09T13:05:51.128Z"
   },
   {
    "duration": 155,
    "start_time": "2025-09-09T14:51:01.113Z"
   },
   {
    "duration": 150,
    "start_time": "2025-09-09T14:51:03.108Z"
   },
   {
    "duration": 18,
    "start_time": "2025-09-09T14:51:53.927Z"
   },
   {
    "duration": 20,
    "start_time": "2025-09-09T14:52:05.094Z"
   },
   {
    "duration": 108,
    "start_time": "2025-09-09T14:52:07.147Z"
   },
   {
    "duration": 1219,
    "start_time": "2025-09-09T14:52:24.726Z"
   },
   {
    "duration": 3438,
    "start_time": "2025-09-09T14:52:25.947Z"
   },
   {
    "duration": 43,
    "start_time": "2025-09-09T14:52:29.388Z"
   },
   {
    "duration": 5,
    "start_time": "2025-09-09T14:52:29.434Z"
   },
   {
    "duration": 10,
    "start_time": "2025-09-09T14:52:29.441Z"
   },
   {
    "duration": 127,
    "start_time": "2025-09-09T14:52:29.475Z"
   },
   {
    "duration": 9,
    "start_time": "2025-09-09T14:52:29.605Z"
   },
   {
    "duration": 41,
    "start_time": "2025-09-09T14:52:29.616Z"
   },
   {
    "duration": 13,
    "start_time": "2025-09-09T14:52:29.659Z"
   },
   {
    "duration": 55,
    "start_time": "2025-09-09T14:52:29.677Z"
   },
   {
    "duration": 8,
    "start_time": "2025-09-09T14:52:29.734Z"
   },
   {
    "duration": 48,
    "start_time": "2025-09-09T14:52:29.743Z"
   },
   {
    "duration": 45,
    "start_time": "2025-09-09T14:52:29.793Z"
   },
   {
    "duration": 39,
    "start_time": "2025-09-09T14:52:29.840Z"
   },
   {
    "duration": 17,
    "start_time": "2025-09-09T14:52:29.882Z"
   },
   {
    "duration": 9,
    "start_time": "2025-09-09T14:52:29.902Z"
   },
   {
    "duration": 28,
    "start_time": "2025-09-09T14:52:29.913Z"
   },
   {
    "duration": 85,
    "start_time": "2025-09-09T14:52:29.943Z"
   },
   {
    "duration": 6,
    "start_time": "2025-09-09T14:52:30.029Z"
   },
   {
    "duration": 47,
    "start_time": "2025-09-09T14:52:30.036Z"
   },
   {
    "duration": 64,
    "start_time": "2025-09-09T14:52:30.086Z"
   },
   {
    "duration": 52,
    "start_time": "2025-09-09T14:52:30.151Z"
   },
   {
    "duration": 21,
    "start_time": "2025-09-09T14:52:30.205Z"
   },
   {
    "duration": 167,
    "start_time": "2025-09-09T14:52:30.228Z"
   },
   {
    "duration": 11,
    "start_time": "2025-09-09T14:52:30.398Z"
   },
   {
    "duration": 66,
    "start_time": "2025-09-09T14:52:30.411Z"
   },
   {
    "duration": 25,
    "start_time": "2025-09-09T14:52:30.480Z"
   },
   {
    "duration": 19,
    "start_time": "2025-09-09T14:52:30.510Z"
   },
   {
    "duration": 729,
    "start_time": "2025-09-09T14:52:30.531Z"
   },
   {
    "duration": 42,
    "start_time": "2025-09-09T14:52:31.280Z"
   },
   {
    "duration": 50,
    "start_time": "2025-09-09T14:52:31.324Z"
   },
   {
    "duration": 2629,
    "start_time": "2025-09-09T14:52:31.377Z"
   },
   {
    "duration": 82,
    "start_time": "2025-09-09T14:52:34.008Z"
   },
   {
    "duration": 162,
    "start_time": "2025-09-09T14:52:34.092Z"
   },
   {
    "duration": 40,
    "start_time": "2025-09-09T14:52:34.256Z"
   },
   {
    "duration": 217,
    "start_time": "2025-09-09T14:52:34.298Z"
   },
   {
    "duration": 19,
    "start_time": "2025-09-09T14:52:34.517Z"
   },
   {
    "duration": 53,
    "start_time": "2025-09-09T14:52:34.538Z"
   },
   {
    "duration": 31,
    "start_time": "2025-09-09T14:52:34.593Z"
   },
   {
    "duration": 105,
    "start_time": "2025-09-09T14:52:34.626Z"
   },
   {
    "duration": 71,
    "start_time": "2025-09-09T14:52:34.733Z"
   },
   {
    "duration": 14,
    "start_time": "2025-09-09T14:52:34.806Z"
   },
   {
    "duration": 11,
    "start_time": "2025-09-09T14:52:34.822Z"
   },
   {
    "duration": 13,
    "start_time": "2025-09-09T14:52:34.835Z"
   },
   {
    "duration": 58,
    "start_time": "2025-09-09T14:52:34.850Z"
   },
   {
    "duration": 28,
    "start_time": "2025-09-09T14:52:34.910Z"
   },
   {
    "duration": 50,
    "start_time": "2025-09-09T14:52:34.939Z"
   },
   {
    "duration": 46,
    "start_time": "2025-09-09T14:52:34.994Z"
   },
   {
    "duration": 115,
    "start_time": "2025-09-09T14:52:35.041Z"
   },
   {
    "duration": 50,
    "start_time": "2025-09-09T14:52:35.158Z"
   },
   {
    "duration": 135,
    "start_time": "2025-09-09T14:52:35.210Z"
   },
   {
    "duration": 43,
    "start_time": "2025-09-09T14:52:35.347Z"
   },
   {
    "duration": 45,
    "start_time": "2025-09-09T14:52:35.391Z"
   },
   {
    "duration": 1294,
    "start_time": "2025-09-09T15:02:08.711Z"
   },
   {
    "duration": 2616,
    "start_time": "2025-09-09T15:02:10.007Z"
   },
   {
    "duration": 101,
    "start_time": "2025-09-09T15:02:12.676Z"
   },
   {
    "duration": 18,
    "start_time": "2025-09-09T15:02:12.780Z"
   },
   {
    "duration": 5,
    "start_time": "2025-09-09T15:02:12.800Z"
   },
   {
    "duration": 294,
    "start_time": "2025-09-09T15:02:12.806Z"
   },
   {
    "duration": 9,
    "start_time": "2025-09-09T15:02:13.102Z"
   },
   {
    "duration": 62,
    "start_time": "2025-09-09T15:02:13.113Z"
   },
   {
    "duration": 18,
    "start_time": "2025-09-09T15:02:13.178Z"
   },
   {
    "duration": 82,
    "start_time": "2025-09-09T15:02:13.199Z"
   },
   {
    "duration": 36,
    "start_time": "2025-09-09T15:02:13.283Z"
   },
   {
    "duration": 21,
    "start_time": "2025-09-09T15:02:13.320Z"
   },
   {
    "duration": 109,
    "start_time": "2025-09-09T15:02:13.343Z"
   },
   {
    "duration": 25,
    "start_time": "2025-09-09T15:02:13.455Z"
   },
   {
    "duration": 11,
    "start_time": "2025-09-09T15:02:13.482Z"
   },
   {
    "duration": 11,
    "start_time": "2025-09-09T15:02:13.496Z"
   },
   {
    "duration": 35,
    "start_time": "2025-09-09T15:02:13.509Z"
   },
   {
    "duration": 96,
    "start_time": "2025-09-09T15:02:13.546Z"
   },
   {
    "duration": 6,
    "start_time": "2025-09-09T15:02:13.644Z"
   },
   {
    "duration": 25,
    "start_time": "2025-09-09T15:02:13.651Z"
   },
   {
    "duration": 51,
    "start_time": "2025-09-09T15:02:13.680Z"
   },
   {
    "duration": 20,
    "start_time": "2025-09-09T15:02:13.732Z"
   },
   {
    "duration": 21,
    "start_time": "2025-09-09T15:02:13.753Z"
   },
   {
    "duration": 119,
    "start_time": "2025-09-09T15:02:13.776Z"
   },
   {
    "duration": 61,
    "start_time": "2025-09-09T15:02:13.898Z"
   },
   {
    "duration": 49,
    "start_time": "2025-09-09T15:02:13.961Z"
   },
   {
    "duration": 44,
    "start_time": "2025-09-09T15:02:14.012Z"
   },
   {
    "duration": 40,
    "start_time": "2025-09-09T15:02:14.062Z"
   },
   {
    "duration": 776,
    "start_time": "2025-09-09T15:02:14.104Z"
   },
   {
    "duration": 64,
    "start_time": "2025-09-09T15:02:14.883Z"
   },
   {
    "duration": 69,
    "start_time": "2025-09-09T15:02:14.949Z"
   },
   {
    "duration": 3216,
    "start_time": "2025-09-09T15:02:15.020Z"
   },
   {
    "duration": 96,
    "start_time": "2025-09-09T15:02:18.238Z"
   },
   {
    "duration": 196,
    "start_time": "2025-09-09T15:02:18.336Z"
   },
   {
    "duration": 48,
    "start_time": "2025-09-09T15:02:18.533Z"
   },
   {
    "duration": 217,
    "start_time": "2025-09-09T15:02:18.588Z"
   },
   {
    "duration": 21,
    "start_time": "2025-09-09T15:02:18.807Z"
   },
   {
    "duration": 19,
    "start_time": "2025-09-09T15:02:18.830Z"
   },
   {
    "duration": 44,
    "start_time": "2025-09-09T15:02:18.875Z"
   },
   {
    "duration": 91,
    "start_time": "2025-09-09T15:02:18.924Z"
   },
   {
    "duration": 57,
    "start_time": "2025-09-09T15:02:19.017Z"
   },
   {
    "duration": 24,
    "start_time": "2025-09-09T15:02:19.080Z"
   },
   {
    "duration": 16,
    "start_time": "2025-09-09T15:02:19.106Z"
   },
   {
    "duration": 7,
    "start_time": "2025-09-09T15:02:19.124Z"
   },
   {
    "duration": 55,
    "start_time": "2025-09-09T15:02:19.133Z"
   },
   {
    "duration": 31,
    "start_time": "2025-09-09T15:02:19.190Z"
   },
   {
    "duration": 19,
    "start_time": "2025-09-09T15:02:19.222Z"
   },
   {
    "duration": 106,
    "start_time": "2025-09-09T15:02:19.243Z"
   },
   {
    "duration": 108,
    "start_time": "2025-09-09T15:02:19.351Z"
   },
   {
    "duration": 52,
    "start_time": "2025-09-09T15:02:19.461Z"
   },
   {
    "duration": 121,
    "start_time": "2025-09-09T15:02:19.514Z"
   },
   {
    "duration": 46,
    "start_time": "2025-09-09T15:02:19.637Z"
   },
   {
    "duration": 38,
    "start_time": "2025-09-09T15:02:19.685Z"
   },
   {
    "duration": 65,
    "start_time": "2025-09-09T15:10:11.476Z"
   },
   {
    "duration": 80,
    "start_time": "2025-09-09T15:10:18.875Z"
   },
   {
    "duration": 239,
    "start_time": "2025-09-09T15:27:29.821Z"
   },
   {
    "duration": 105,
    "start_time": "2025-09-09T16:19:39.714Z"
   },
   {
    "duration": 588,
    "start_time": "2025-09-09T16:21:25.967Z"
   },
   {
    "duration": 442,
    "start_time": "2025-09-09T16:21:43.555Z"
   },
   {
    "duration": 381,
    "start_time": "2025-09-09T16:24:13.464Z"
   },
   {
    "duration": 154,
    "start_time": "2025-09-09T16:25:26.036Z"
   },
   {
    "duration": 196,
    "start_time": "2025-09-09T16:37:49.120Z"
   },
   {
    "duration": 199,
    "start_time": "2025-09-09T16:41:28.699Z"
   },
   {
    "duration": 265,
    "start_time": "2025-09-09T16:45:04.034Z"
   },
   {
    "duration": 182,
    "start_time": "2025-09-09T16:50:37.470Z"
   },
   {
    "duration": 221,
    "start_time": "2025-09-09T17:44:58.014Z"
   },
   {
    "duration": 206,
    "start_time": "2025-09-09T17:45:51.637Z"
   },
   {
    "duration": 222,
    "start_time": "2025-09-09T17:46:02.191Z"
   },
   {
    "duration": 11,
    "start_time": "2025-09-09T17:51:06.737Z"
   },
   {
    "duration": 10,
    "start_time": "2025-09-09T17:51:32.795Z"
   },
   {
    "duration": 10,
    "start_time": "2025-09-09T17:52:10.877Z"
   },
   {
    "duration": 8,
    "start_time": "2025-09-09T17:52:39.079Z"
   },
   {
    "duration": 17,
    "start_time": "2025-09-09T17:53:13.868Z"
   },
   {
    "duration": 7,
    "start_time": "2025-09-09T17:53:16.799Z"
   },
   {
    "duration": 10,
    "start_time": "2025-09-09T17:55:32.883Z"
   },
   {
    "duration": 198,
    "start_time": "2025-09-09T17:58:24.197Z"
   },
   {
    "duration": 16,
    "start_time": "2025-09-09T17:59:57.639Z"
   },
   {
    "duration": 26,
    "start_time": "2025-09-09T18:00:15.849Z"
   },
   {
    "duration": 75,
    "start_time": "2025-09-09T18:00:19.887Z"
   },
   {
    "duration": 43,
    "start_time": "2025-09-09T18:00:21.283Z"
   },
   {
    "duration": 13,
    "start_time": "2025-09-09T18:00:24.784Z"
   },
   {
    "duration": 12,
    "start_time": "2025-09-09T18:00:52.487Z"
   },
   {
    "duration": 47,
    "start_time": "2025-09-09T18:12:26.484Z"
   },
   {
    "duration": 44,
    "start_time": "2025-09-09T18:13:52.815Z"
   },
   {
    "duration": 59,
    "start_time": "2025-09-09T18:16:28.732Z"
   },
   {
    "duration": 120,
    "start_time": "2025-09-09T18:16:59.384Z"
   },
   {
    "duration": 76,
    "start_time": "2025-09-09T18:19:45.786Z"
   },
   {
    "duration": 4,
    "start_time": "2025-09-09T18:22:01.605Z"
   },
   {
    "duration": 94,
    "start_time": "2025-09-09T18:24:29.648Z"
   },
   {
    "duration": 139,
    "start_time": "2025-09-09T18:25:16.081Z"
   },
   {
    "duration": 107,
    "start_time": "2025-09-09T18:27:40.556Z"
   },
   {
    "duration": 82,
    "start_time": "2025-09-09T18:33:40.142Z"
   },
   {
    "duration": 31,
    "start_time": "2025-09-09T18:35:09.037Z"
   },
   {
    "duration": 68,
    "start_time": "2025-09-09T18:35:19.943Z"
   },
   {
    "duration": 1241,
    "start_time": "2025-09-09T18:59:14.755Z"
   },
   {
    "duration": 2029,
    "start_time": "2025-09-09T18:59:15.998Z"
   },
   {
    "duration": 30,
    "start_time": "2025-09-09T18:59:18.029Z"
   },
   {
    "duration": 12,
    "start_time": "2025-09-09T18:59:18.061Z"
   },
   {
    "duration": 4,
    "start_time": "2025-09-09T18:59:18.075Z"
   },
   {
    "duration": 113,
    "start_time": "2025-09-09T18:59:18.081Z"
   },
   {
    "duration": 8,
    "start_time": "2025-09-09T18:59:18.196Z"
   },
   {
    "duration": 10,
    "start_time": "2025-09-09T18:59:18.205Z"
   },
   {
    "duration": 17,
    "start_time": "2025-09-09T18:59:18.217Z"
   },
   {
    "duration": 63,
    "start_time": "2025-09-09T18:59:18.236Z"
   },
   {
    "duration": 8,
    "start_time": "2025-09-09T18:59:18.301Z"
   },
   {
    "duration": 22,
    "start_time": "2025-09-09T18:59:18.310Z"
   },
   {
    "duration": 54,
    "start_time": "2025-09-09T18:59:18.335Z"
   },
   {
    "duration": 5,
    "start_time": "2025-09-09T18:59:18.392Z"
   },
   {
    "duration": 4,
    "start_time": "2025-09-09T18:59:18.399Z"
   },
   {
    "duration": 10,
    "start_time": "2025-09-09T18:59:18.405Z"
   },
   {
    "duration": 25,
    "start_time": "2025-09-09T18:59:18.417Z"
   },
   {
    "duration": 71,
    "start_time": "2025-09-09T18:59:18.443Z"
   },
   {
    "duration": 6,
    "start_time": "2025-09-09T18:59:18.515Z"
   },
   {
    "duration": 34,
    "start_time": "2025-09-09T18:59:18.523Z"
   },
   {
    "duration": 44,
    "start_time": "2025-09-09T18:59:18.559Z"
   },
   {
    "duration": 19,
    "start_time": "2025-09-09T18:59:18.605Z"
   },
   {
    "duration": 6,
    "start_time": "2025-09-09T18:59:18.625Z"
   },
   {
    "duration": 99,
    "start_time": "2025-09-09T18:59:18.633Z"
   },
   {
    "duration": 6,
    "start_time": "2025-09-09T18:59:18.734Z"
   },
   {
    "duration": 54,
    "start_time": "2025-09-09T18:59:18.742Z"
   },
   {
    "duration": 15,
    "start_time": "2025-09-09T18:59:18.798Z"
   },
   {
    "duration": 79,
    "start_time": "2025-09-09T18:59:18.815Z"
   },
   {
    "duration": 594,
    "start_time": "2025-09-09T18:59:18.895Z"
   },
   {
    "duration": 30,
    "start_time": "2025-09-09T18:59:19.491Z"
   },
   {
    "duration": 63,
    "start_time": "2025-09-09T18:59:19.523Z"
   },
   {
    "duration": 2295,
    "start_time": "2025-09-09T18:59:19.587Z"
   },
   {
    "duration": 166,
    "start_time": "2025-09-09T18:59:21.884Z"
   },
   {
    "duration": 64,
    "start_time": "2025-09-09T18:59:22.051Z"
   },
   {
    "duration": 1142,
    "start_time": "2025-09-09T18:59:22.116Z"
   },
   {
    "duration": 0,
    "start_time": "2025-09-09T18:59:23.261Z"
   },
   {
    "duration": 0,
    "start_time": "2025-09-09T18:59:23.270Z"
   },
   {
    "duration": 0,
    "start_time": "2025-09-09T18:59:23.272Z"
   },
   {
    "duration": 0,
    "start_time": "2025-09-09T18:59:23.272Z"
   },
   {
    "duration": 0,
    "start_time": "2025-09-09T18:59:23.274Z"
   },
   {
    "duration": 0,
    "start_time": "2025-09-09T18:59:23.275Z"
   },
   {
    "duration": 0,
    "start_time": "2025-09-09T18:59:23.276Z"
   },
   {
    "duration": 0,
    "start_time": "2025-09-09T18:59:23.277Z"
   },
   {
    "duration": 0,
    "start_time": "2025-09-09T18:59:23.278Z"
   },
   {
    "duration": 0,
    "start_time": "2025-09-09T18:59:23.279Z"
   },
   {
    "duration": 0,
    "start_time": "2025-09-09T18:59:23.280Z"
   },
   {
    "duration": 0,
    "start_time": "2025-09-09T18:59:23.281Z"
   },
   {
    "duration": 0,
    "start_time": "2025-09-09T18:59:23.282Z"
   },
   {
    "duration": 0,
    "start_time": "2025-09-09T18:59:23.283Z"
   },
   {
    "duration": 0,
    "start_time": "2025-09-09T18:59:23.284Z"
   },
   {
    "duration": 0,
    "start_time": "2025-09-09T18:59:23.285Z"
   },
   {
    "duration": 0,
    "start_time": "2025-09-09T18:59:23.286Z"
   },
   {
    "duration": 0,
    "start_time": "2025-09-09T18:59:23.287Z"
   },
   {
    "duration": 0,
    "start_time": "2025-09-09T18:59:23.288Z"
   },
   {
    "duration": 9,
    "start_time": "2025-09-09T19:00:08.439Z"
   },
   {
    "duration": 186,
    "start_time": "2025-09-09T19:01:10.340Z"
   },
   {
    "duration": 1138,
    "start_time": "2025-09-09T19:01:27.459Z"
   },
   {
    "duration": 1703,
    "start_time": "2025-09-09T19:01:28.599Z"
   },
   {
    "duration": 30,
    "start_time": "2025-09-09T19:01:30.304Z"
   },
   {
    "duration": 24,
    "start_time": "2025-09-09T19:01:30.336Z"
   },
   {
    "duration": 31,
    "start_time": "2025-09-09T19:01:30.361Z"
   },
   {
    "duration": 137,
    "start_time": "2025-09-09T19:01:30.394Z"
   },
   {
    "duration": 8,
    "start_time": "2025-09-09T19:01:30.533Z"
   },
   {
    "duration": 52,
    "start_time": "2025-09-09T19:01:30.543Z"
   },
   {
    "duration": 9,
    "start_time": "2025-09-09T19:01:30.597Z"
   },
   {
    "duration": 43,
    "start_time": "2025-09-09T19:01:30.609Z"
   },
   {
    "duration": 8,
    "start_time": "2025-09-09T19:01:30.654Z"
   },
   {
    "duration": 40,
    "start_time": "2025-09-09T19:01:30.663Z"
   },
   {
    "duration": 40,
    "start_time": "2025-09-09T19:01:30.704Z"
   },
   {
    "duration": 5,
    "start_time": "2025-09-09T19:01:30.746Z"
   },
   {
    "duration": 26,
    "start_time": "2025-09-09T19:01:30.752Z"
   },
   {
    "duration": 38,
    "start_time": "2025-09-09T19:01:30.779Z"
   },
   {
    "duration": 109,
    "start_time": "2025-09-09T19:01:30.819Z"
   },
   {
    "duration": 71,
    "start_time": "2025-09-09T19:01:30.930Z"
   },
   {
    "duration": 6,
    "start_time": "2025-09-09T19:01:31.002Z"
   },
   {
    "duration": 15,
    "start_time": "2025-09-09T19:01:31.010Z"
   },
   {
    "duration": 68,
    "start_time": "2025-09-09T19:01:31.027Z"
   },
   {
    "duration": 21,
    "start_time": "2025-09-09T19:01:31.097Z"
   },
   {
    "duration": 5,
    "start_time": "2025-09-09T19:01:31.120Z"
   },
   {
    "duration": 109,
    "start_time": "2025-09-09T19:01:31.127Z"
   },
   {
    "duration": 7,
    "start_time": "2025-09-09T19:01:31.237Z"
   },
   {
    "duration": 48,
    "start_time": "2025-09-09T19:01:31.246Z"
   },
   {
    "duration": 15,
    "start_time": "2025-09-09T19:01:31.296Z"
   },
   {
    "duration": 22,
    "start_time": "2025-09-09T19:01:31.315Z"
   },
   {
    "duration": 671,
    "start_time": "2025-09-09T19:01:31.339Z"
   },
   {
    "duration": 33,
    "start_time": "2025-09-09T19:01:32.012Z"
   },
   {
    "duration": 96,
    "start_time": "2025-09-09T19:01:32.046Z"
   },
   {
    "duration": 2312,
    "start_time": "2025-09-09T19:01:32.143Z"
   },
   {
    "duration": 169,
    "start_time": "2025-09-09T19:01:34.457Z"
   },
   {
    "duration": 61,
    "start_time": "2025-09-09T19:01:34.627Z"
   },
   {
    "duration": 204,
    "start_time": "2025-09-09T19:01:34.690Z"
   },
   {
    "duration": 21,
    "start_time": "2025-09-09T19:01:34.896Z"
   },
   {
    "duration": 6,
    "start_time": "2025-09-09T19:01:34.919Z"
   },
   {
    "duration": 15,
    "start_time": "2025-09-09T19:01:34.927Z"
   },
   {
    "duration": 29,
    "start_time": "2025-09-09T19:01:34.970Z"
   },
   {
    "duration": 91,
    "start_time": "2025-09-09T19:01:35.000Z"
   },
   {
    "duration": 46,
    "start_time": "2025-09-09T19:01:35.093Z"
   },
   {
    "duration": 29,
    "start_time": "2025-09-09T19:01:35.143Z"
   },
   {
    "duration": 11,
    "start_time": "2025-09-09T19:01:35.173Z"
   },
   {
    "duration": 15,
    "start_time": "2025-09-09T19:01:35.185Z"
   },
   {
    "duration": 23,
    "start_time": "2025-09-09T19:01:35.202Z"
   },
   {
    "duration": 61,
    "start_time": "2025-09-09T19:01:35.228Z"
   },
   {
    "duration": 29,
    "start_time": "2025-09-09T19:01:35.291Z"
   },
   {
    "duration": 133,
    "start_time": "2025-09-09T19:01:35.322Z"
   },
   {
    "duration": 121,
    "start_time": "2025-09-09T19:01:35.457Z"
   },
   {
    "duration": 109,
    "start_time": "2025-09-09T19:01:35.579Z"
   },
   {
    "duration": 81,
    "start_time": "2025-09-09T19:01:35.690Z"
   },
   {
    "duration": 110,
    "start_time": "2025-09-09T19:01:35.773Z"
   },
   {
    "duration": 37,
    "start_time": "2025-09-09T19:01:35.884Z"
   },
   {
    "duration": 20,
    "start_time": "2025-09-09T19:01:35.922Z"
   },
   {
    "duration": 42,
    "start_time": "2025-09-09T19:01:35.944Z"
   },
   {
    "duration": 37,
    "start_time": "2025-09-09T19:01:48.830Z"
   },
   {
    "duration": 47,
    "start_time": "2025-09-09T19:03:55.337Z"
   },
   {
    "duration": 333,
    "start_time": "2025-09-09T19:05:11.633Z"
   },
   {
    "duration": 40,
    "start_time": "2025-09-09T19:06:17.565Z"
   },
   {
    "duration": 54,
    "start_time": "2025-09-09T19:07:14.235Z"
   },
   {
    "duration": 47,
    "start_time": "2025-09-09T19:08:09.826Z"
   },
   {
    "duration": 48,
    "start_time": "2025-09-09T19:10:38.166Z"
   },
   {
    "duration": 131,
    "start_time": "2025-09-09T19:10:47.326Z"
   },
   {
    "duration": 100,
    "start_time": "2025-09-09T19:12:21.897Z"
   },
   {
    "duration": 29,
    "start_time": "2025-09-09T19:12:39.579Z"
   },
   {
    "duration": 122,
    "start_time": "2025-09-09T19:13:36.280Z"
   },
   {
    "duration": 1372,
    "start_time": "2025-09-10T12:58:58.508Z"
   },
   {
    "duration": 2126,
    "start_time": "2025-09-10T12:58:59.882Z"
   },
   {
    "duration": 42,
    "start_time": "2025-09-10T12:59:02.010Z"
   },
   {
    "duration": 34,
    "start_time": "2025-09-10T12:59:02.054Z"
   },
   {
    "duration": 21,
    "start_time": "2025-09-10T12:59:02.090Z"
   },
   {
    "duration": 137,
    "start_time": "2025-09-10T12:59:02.113Z"
   },
   {
    "duration": 9,
    "start_time": "2025-09-10T12:59:02.252Z"
   },
   {
    "duration": 29,
    "start_time": "2025-09-10T12:59:02.263Z"
   },
   {
    "duration": 10,
    "start_time": "2025-09-10T12:59:02.293Z"
   },
   {
    "duration": 71,
    "start_time": "2025-09-10T12:59:02.305Z"
   },
   {
    "duration": 8,
    "start_time": "2025-09-10T12:59:02.378Z"
   },
   {
    "duration": 81,
    "start_time": "2025-09-10T12:59:02.387Z"
   },
   {
    "duration": 70,
    "start_time": "2025-09-10T12:59:02.470Z"
   },
   {
    "duration": 6,
    "start_time": "2025-09-10T12:59:02.542Z"
   },
   {
    "duration": 41,
    "start_time": "2025-09-10T12:59:02.550Z"
   },
   {
    "duration": 10,
    "start_time": "2025-09-10T12:59:02.595Z"
   },
   {
    "duration": 49,
    "start_time": "2025-09-10T12:59:02.607Z"
   },
   {
    "duration": 77,
    "start_time": "2025-09-10T12:59:02.658Z"
   },
   {
    "duration": 7,
    "start_time": "2025-09-10T12:59:02.737Z"
   },
   {
    "duration": 52,
    "start_time": "2025-09-10T12:59:02.745Z"
   },
   {
    "duration": 57,
    "start_time": "2025-09-10T12:59:02.799Z"
   },
   {
    "duration": 22,
    "start_time": "2025-09-10T12:59:02.858Z"
   },
   {
    "duration": 89,
    "start_time": "2025-09-10T12:59:02.882Z"
   },
   {
    "duration": 190,
    "start_time": "2025-09-10T12:59:02.973Z"
   },
   {
    "duration": 8,
    "start_time": "2025-09-10T12:59:03.165Z"
   },
   {
    "duration": 50,
    "start_time": "2025-09-10T12:59:03.175Z"
   },
   {
    "duration": 21,
    "start_time": "2025-09-10T12:59:03.228Z"
   },
   {
    "duration": 22,
    "start_time": "2025-09-10T12:59:03.254Z"
   },
   {
    "duration": 786,
    "start_time": "2025-09-10T12:59:03.278Z"
   },
   {
    "duration": 34,
    "start_time": "2025-09-10T12:59:04.066Z"
   },
   {
    "duration": 61,
    "start_time": "2025-09-10T12:59:04.102Z"
   },
   {
    "duration": 8713,
    "start_time": "2025-09-10T12:59:04.164Z"
   },
   {
    "duration": 173,
    "start_time": "2025-09-10T12:59:12.879Z"
   },
   {
    "duration": 53,
    "start_time": "2025-09-10T12:59:13.054Z"
   },
   {
    "duration": 229,
    "start_time": "2025-09-10T12:59:13.109Z"
   },
   {
    "duration": 20,
    "start_time": "2025-09-10T12:59:13.339Z"
   },
   {
    "duration": 25,
    "start_time": "2025-09-10T12:59:13.361Z"
   },
   {
    "duration": 16,
    "start_time": "2025-09-10T12:59:13.387Z"
   },
   {
    "duration": 42,
    "start_time": "2025-09-10T12:59:13.404Z"
   },
   {
    "duration": 72,
    "start_time": "2025-09-10T12:59:13.448Z"
   },
   {
    "duration": 55,
    "start_time": "2025-09-10T12:59:13.521Z"
   },
   {
    "duration": 13,
    "start_time": "2025-09-10T12:59:13.578Z"
   },
   {
    "duration": 11,
    "start_time": "2025-09-10T12:59:13.592Z"
   },
   {
    "duration": 30,
    "start_time": "2025-09-10T12:59:13.605Z"
   },
   {
    "duration": 24,
    "start_time": "2025-09-10T12:59:13.637Z"
   },
   {
    "duration": 31,
    "start_time": "2025-09-10T12:59:13.663Z"
   },
   {
    "duration": 45,
    "start_time": "2025-09-10T12:59:13.695Z"
   },
   {
    "duration": 117,
    "start_time": "2025-09-10T12:59:13.741Z"
   },
   {
    "duration": 117,
    "start_time": "2025-09-10T12:59:13.859Z"
   },
   {
    "duration": 108,
    "start_time": "2025-09-10T12:59:13.978Z"
   },
   {
    "duration": 80,
    "start_time": "2025-09-10T12:59:14.088Z"
   },
   {
    "duration": 103,
    "start_time": "2025-09-10T12:59:14.170Z"
   },
   {
    "duration": 37,
    "start_time": "2025-09-10T12:59:14.275Z"
   },
   {
    "duration": 34,
    "start_time": "2025-09-10T12:59:14.313Z"
   },
   {
    "duration": 121,
    "start_time": "2025-09-10T12:59:14.348Z"
   },
   {
    "duration": 6,
    "start_time": "2025-09-10T12:59:20.999Z"
   },
   {
    "duration": 40,
    "start_time": "2025-09-10T13:00:10.504Z"
   },
   {
    "duration": 35,
    "start_time": "2025-09-10T13:01:04.045Z"
   },
   {
    "duration": 28,
    "start_time": "2025-09-10T13:04:38.714Z"
   },
   {
    "duration": 37,
    "start_time": "2025-09-10T13:05:18.335Z"
   },
   {
    "duration": 17,
    "start_time": "2025-09-10T13:06:10.926Z"
   },
   {
    "duration": 10,
    "start_time": "2025-09-10T13:06:24.751Z"
   },
   {
    "duration": 16,
    "start_time": "2025-09-10T13:08:12.242Z"
   },
   {
    "duration": 10,
    "start_time": "2025-09-10T13:08:15.509Z"
   },
   {
    "duration": 17,
    "start_time": "2025-09-10T14:20:58.794Z"
   },
   {
    "duration": 15,
    "start_time": "2025-09-10T14:22:51.584Z"
   },
   {
    "duration": 21,
    "start_time": "2025-09-10T14:23:43.374Z"
   },
   {
    "duration": 165,
    "start_time": "2025-09-10T14:30:04.198Z"
   },
   {
    "duration": 116,
    "start_time": "2025-09-10T14:30:19.980Z"
   },
   {
    "duration": 6,
    "start_time": "2025-09-10T17:21:24.600Z"
   },
   {
    "duration": 1265,
    "start_time": "2025-09-10T17:21:30.559Z"
   },
   {
    "duration": 1901,
    "start_time": "2025-09-10T17:21:31.826Z"
   },
   {
    "duration": 33,
    "start_time": "2025-09-10T17:21:33.729Z"
   },
   {
    "duration": 3,
    "start_time": "2025-09-10T17:21:33.764Z"
   },
   {
    "duration": 12,
    "start_time": "2025-09-10T17:21:33.769Z"
   },
   {
    "duration": 115,
    "start_time": "2025-09-10T17:21:33.783Z"
   },
   {
    "duration": 10,
    "start_time": "2025-09-10T17:21:33.900Z"
   },
   {
    "duration": 35,
    "start_time": "2025-09-10T17:21:33.911Z"
   },
   {
    "duration": 17,
    "start_time": "2025-09-10T17:21:33.948Z"
   },
   {
    "duration": 52,
    "start_time": "2025-09-10T17:21:33.968Z"
   },
   {
    "duration": 17,
    "start_time": "2025-09-10T17:21:34.022Z"
   },
   {
    "duration": 26,
    "start_time": "2025-09-10T17:21:34.041Z"
   },
   {
    "duration": 45,
    "start_time": "2025-09-10T17:21:34.069Z"
   },
   {
    "duration": 20,
    "start_time": "2025-09-10T17:21:34.116Z"
   },
   {
    "duration": 16,
    "start_time": "2025-09-10T17:21:34.138Z"
   },
   {
    "duration": 39,
    "start_time": "2025-09-10T17:21:34.155Z"
   },
   {
    "duration": 43,
    "start_time": "2025-09-10T17:21:34.196Z"
   },
   {
    "duration": 56,
    "start_time": "2025-09-10T17:21:34.241Z"
   },
   {
    "duration": 6,
    "start_time": "2025-09-10T17:21:34.299Z"
   },
   {
    "duration": 33,
    "start_time": "2025-09-10T17:21:34.306Z"
   },
   {
    "duration": 54,
    "start_time": "2025-09-10T17:21:34.341Z"
   },
   {
    "duration": 94,
    "start_time": "2025-09-10T17:21:34.397Z"
   },
   {
    "duration": 6,
    "start_time": "2025-09-10T17:21:34.493Z"
   },
   {
    "duration": 131,
    "start_time": "2025-09-10T17:21:34.500Z"
   },
   {
    "duration": 7,
    "start_time": "2025-09-10T17:21:34.633Z"
   },
   {
    "duration": 39,
    "start_time": "2025-09-10T17:21:34.641Z"
   },
   {
    "duration": 17,
    "start_time": "2025-09-10T17:21:34.681Z"
   },
   {
    "duration": 69,
    "start_time": "2025-09-10T17:21:34.702Z"
   },
   {
    "duration": 694,
    "start_time": "2025-09-10T17:21:34.773Z"
   },
   {
    "duration": 34,
    "start_time": "2025-09-10T17:21:35.469Z"
   },
   {
    "duration": 64,
    "start_time": "2025-09-10T17:21:35.505Z"
   },
   {
    "duration": 2500,
    "start_time": "2025-09-10T17:21:35.571Z"
   },
   {
    "duration": 174,
    "start_time": "2025-09-10T17:21:38.074Z"
   },
   {
    "duration": 55,
    "start_time": "2025-09-10T17:21:38.250Z"
   },
   {
    "duration": 241,
    "start_time": "2025-09-10T17:21:38.307Z"
   },
   {
    "duration": 21,
    "start_time": "2025-09-10T17:21:38.550Z"
   },
   {
    "duration": 8,
    "start_time": "2025-09-10T17:21:38.573Z"
   },
   {
    "duration": 17,
    "start_time": "2025-09-10T17:21:38.583Z"
   },
   {
    "duration": 56,
    "start_time": "2025-09-10T17:21:38.601Z"
   },
   {
    "duration": 82,
    "start_time": "2025-09-10T17:21:38.658Z"
   },
   {
    "duration": 50,
    "start_time": "2025-09-10T17:21:38.742Z"
   },
   {
    "duration": 14,
    "start_time": "2025-09-10T17:21:38.794Z"
   },
   {
    "duration": 35,
    "start_time": "2025-09-10T17:21:38.810Z"
   },
   {
    "duration": 19,
    "start_time": "2025-09-10T17:21:38.847Z"
   },
   {
    "duration": 36,
    "start_time": "2025-09-10T17:21:38.868Z"
   },
   {
    "duration": 54,
    "start_time": "2025-09-10T17:21:38.906Z"
   },
   {
    "duration": 20,
    "start_time": "2025-09-10T17:21:38.962Z"
   },
   {
    "duration": 94,
    "start_time": "2025-09-10T17:21:38.984Z"
   },
   {
    "duration": 130,
    "start_time": "2025-09-10T17:21:39.080Z"
   },
   {
    "duration": 108,
    "start_time": "2025-09-10T17:21:39.211Z"
   },
   {
    "duration": 80,
    "start_time": "2025-09-10T17:21:39.321Z"
   },
   {
    "duration": 107,
    "start_time": "2025-09-10T17:21:39.403Z"
   },
   {
    "duration": 48,
    "start_time": "2025-09-10T17:21:39.512Z"
   },
   {
    "duration": 22,
    "start_time": "2025-09-10T17:21:39.561Z"
   },
   {
    "duration": 137,
    "start_time": "2025-09-10T17:21:39.585Z"
   },
   {
    "duration": 26,
    "start_time": "2025-09-10T17:21:39.724Z"
   },
   {
    "duration": 145,
    "start_time": "2025-09-10T17:21:39.751Z"
   },
   {
    "duration": 127,
    "start_time": "2025-09-10T17:22:10.699Z"
   },
   {
    "duration": 129,
    "start_time": "2025-09-10T17:22:16.382Z"
   },
   {
    "duration": 163,
    "start_time": "2025-09-10T17:22:33.537Z"
   },
   {
    "duration": 137,
    "start_time": "2025-09-10T17:22:39.225Z"
   },
   {
    "duration": 16,
    "start_time": "2025-09-10T17:23:40.583Z"
   },
   {
    "duration": 131,
    "start_time": "2025-09-10T17:24:07.647Z"
   },
   {
    "duration": 253,
    "start_time": "2025-09-10T17:24:21.399Z"
   },
   {
    "duration": 119,
    "start_time": "2025-09-10T17:27:19.279Z"
   },
   {
    "duration": 140,
    "start_time": "2025-09-10T17:28:41.108Z"
   },
   {
    "duration": 141,
    "start_time": "2025-09-10T17:31:03.491Z"
   },
   {
    "duration": 157,
    "start_time": "2025-09-10T17:31:35.454Z"
   },
   {
    "duration": 158,
    "start_time": "2025-09-10T17:43:32.272Z"
   },
   {
    "duration": 146,
    "start_time": "2025-09-10T17:45:25.939Z"
   },
   {
    "duration": 154,
    "start_time": "2025-09-10T18:55:50.773Z"
   },
   {
    "duration": 152,
    "start_time": "2025-09-10T18:55:56.831Z"
   },
   {
    "duration": 152,
    "start_time": "2025-09-10T18:58:56.553Z"
   },
   {
    "duration": 153,
    "start_time": "2025-09-10T19:01:52.696Z"
   },
   {
    "duration": 148,
    "start_time": "2025-09-10T19:02:07.469Z"
   },
   {
    "duration": 153,
    "start_time": "2025-09-10T19:02:17.172Z"
   },
   {
    "duration": 159,
    "start_time": "2025-09-10T19:02:23.756Z"
   },
   {
    "duration": 161,
    "start_time": "2025-09-10T19:03:29.001Z"
   },
   {
    "duration": 430,
    "start_time": "2025-09-10T19:09:33.690Z"
   },
   {
    "duration": 246,
    "start_time": "2025-09-10T19:10:08.941Z"
   },
   {
    "duration": 295,
    "start_time": "2025-09-10T19:17:47.343Z"
   },
   {
    "duration": 164,
    "start_time": "2025-09-10T19:18:10.064Z"
   },
   {
    "duration": 161,
    "start_time": "2025-09-10T19:18:58.744Z"
   },
   {
    "duration": 158,
    "start_time": "2025-09-10T19:19:24.878Z"
   },
   {
    "duration": 183,
    "start_time": "2025-09-10T19:19:35.061Z"
   },
   {
    "duration": 159,
    "start_time": "2025-09-10T19:19:44.229Z"
   },
   {
    "duration": 156,
    "start_time": "2025-09-10T19:20:49.408Z"
   },
   {
    "duration": 171,
    "start_time": "2025-09-10T19:21:23.388Z"
   },
   {
    "duration": 158,
    "start_time": "2025-09-10T19:22:08.860Z"
   },
   {
    "duration": 156,
    "start_time": "2025-09-10T19:22:27.328Z"
   },
   {
    "duration": 142,
    "start_time": "2025-09-10T19:22:40.818Z"
   },
   {
    "duration": 162,
    "start_time": "2025-09-10T19:23:08.900Z"
   },
   {
    "duration": 1340,
    "start_time": "2025-09-11T08:29:14.431Z"
   },
   {
    "duration": 1777,
    "start_time": "2025-09-11T08:29:15.774Z"
   },
   {
    "duration": 29,
    "start_time": "2025-09-11T08:29:17.552Z"
   },
   {
    "duration": 3,
    "start_time": "2025-09-11T08:29:17.583Z"
   },
   {
    "duration": 5,
    "start_time": "2025-09-11T08:29:17.587Z"
   },
   {
    "duration": 112,
    "start_time": "2025-09-11T08:29:17.594Z"
   },
   {
    "duration": 8,
    "start_time": "2025-09-11T08:29:17.707Z"
   },
   {
    "duration": 11,
    "start_time": "2025-09-11T08:29:17.717Z"
   },
   {
    "duration": 8,
    "start_time": "2025-09-11T08:29:17.729Z"
   },
   {
    "duration": 64,
    "start_time": "2025-09-11T08:29:17.740Z"
   },
   {
    "duration": 8,
    "start_time": "2025-09-11T08:29:17.805Z"
   },
   {
    "duration": 19,
    "start_time": "2025-09-11T08:29:17.814Z"
   },
   {
    "duration": 65,
    "start_time": "2025-09-11T08:29:17.834Z"
   },
   {
    "duration": 4,
    "start_time": "2025-09-11T08:29:17.901Z"
   },
   {
    "duration": 17,
    "start_time": "2025-09-11T08:29:17.907Z"
   },
   {
    "duration": 15,
    "start_time": "2025-09-11T08:29:17.926Z"
   },
   {
    "duration": 36,
    "start_time": "2025-09-11T08:29:17.943Z"
   },
   {
    "duration": 50,
    "start_time": "2025-09-11T08:29:17.981Z"
   },
   {
    "duration": 5,
    "start_time": "2025-09-11T08:29:18.033Z"
   },
   {
    "duration": 11,
    "start_time": "2025-09-11T08:29:18.039Z"
   },
   {
    "duration": 49,
    "start_time": "2025-09-11T08:29:18.071Z"
   },
   {
    "duration": 45,
    "start_time": "2025-09-11T08:29:18.121Z"
   },
   {
    "duration": 6,
    "start_time": "2025-09-11T08:29:18.167Z"
   },
   {
    "duration": 97,
    "start_time": "2025-09-11T08:29:18.175Z"
   },
   {
    "duration": 7,
    "start_time": "2025-09-11T08:29:18.275Z"
   },
   {
    "duration": 61,
    "start_time": "2025-09-11T08:29:18.284Z"
   },
   {
    "duration": 15,
    "start_time": "2025-09-11T08:29:18.346Z"
   },
   {
    "duration": 19,
    "start_time": "2025-09-11T08:29:18.364Z"
   },
   {
    "duration": 610,
    "start_time": "2025-09-11T08:29:18.384Z"
   },
   {
    "duration": 29,
    "start_time": "2025-09-11T08:29:18.996Z"
   },
   {
    "duration": 50,
    "start_time": "2025-09-11T08:29:19.027Z"
   },
   {
    "duration": 7562,
    "start_time": "2025-09-11T08:29:19.079Z"
   },
   {
    "duration": 165,
    "start_time": "2025-09-11T08:29:26.643Z"
   },
   {
    "duration": 62,
    "start_time": "2025-09-11T08:29:26.810Z"
   },
   {
    "duration": 208,
    "start_time": "2025-09-11T08:29:26.874Z"
   },
   {
    "duration": 18,
    "start_time": "2025-09-11T08:29:27.083Z"
   },
   {
    "duration": 6,
    "start_time": "2025-09-11T08:29:27.103Z"
   },
   {
    "duration": 16,
    "start_time": "2025-09-11T08:29:27.110Z"
   },
   {
    "duration": 53,
    "start_time": "2025-09-11T08:29:27.127Z"
   },
   {
    "duration": 67,
    "start_time": "2025-09-11T08:29:27.181Z"
   },
   {
    "duration": 61,
    "start_time": "2025-09-11T08:29:27.250Z"
   },
   {
    "duration": 39,
    "start_time": "2025-09-11T08:29:27.313Z"
   },
   {
    "duration": 41,
    "start_time": "2025-09-11T08:29:27.354Z"
   },
   {
    "duration": 8,
    "start_time": "2025-09-11T08:29:27.398Z"
   },
   {
    "duration": 24,
    "start_time": "2025-09-11T08:29:27.407Z"
   },
   {
    "duration": 36,
    "start_time": "2025-09-11T08:29:27.432Z"
   },
   {
    "duration": 21,
    "start_time": "2025-09-11T08:29:27.471Z"
   },
   {
    "duration": 95,
    "start_time": "2025-09-11T08:29:27.493Z"
   },
   {
    "duration": 118,
    "start_time": "2025-09-11T08:29:27.590Z"
   },
   {
    "duration": 104,
    "start_time": "2025-09-11T08:29:27.710Z"
   },
   {
    "duration": 76,
    "start_time": "2025-09-11T08:29:27.816Z"
   },
   {
    "duration": 102,
    "start_time": "2025-09-11T08:29:27.894Z"
   },
   {
    "duration": 37,
    "start_time": "2025-09-11T08:29:27.998Z"
   },
   {
    "duration": 38,
    "start_time": "2025-09-11T08:29:28.037Z"
   },
   {
    "duration": 119,
    "start_time": "2025-09-11T08:29:28.077Z"
   },
   {
    "duration": 13,
    "start_time": "2025-09-11T08:29:28.198Z"
   },
   {
    "duration": 161,
    "start_time": "2025-09-11T08:29:28.212Z"
   },
   {
    "duration": 250,
    "start_time": "2025-09-11T09:58:30.461Z"
   },
   {
    "duration": 148,
    "start_time": "2025-09-11T09:58:47.251Z"
   },
   {
    "duration": 158,
    "start_time": "2025-09-11T10:48:25.393Z"
   },
   {
    "duration": 143,
    "start_time": "2025-09-11T10:48:41.222Z"
   },
   {
    "duration": 149,
    "start_time": "2025-09-11T10:48:57.574Z"
   },
   {
    "duration": 260,
    "start_time": "2025-09-11T10:59:16.250Z"
   },
   {
    "duration": 1113,
    "start_time": "2025-09-11T12:30:52.489Z"
   },
   {
    "duration": 1561,
    "start_time": "2025-09-11T12:30:53.604Z"
   },
   {
    "duration": 31,
    "start_time": "2025-09-11T12:30:55.167Z"
   },
   {
    "duration": 58,
    "start_time": "2025-09-11T12:30:55.200Z"
   },
   {
    "duration": 57,
    "start_time": "2025-09-11T12:30:55.261Z"
   },
   {
    "duration": 109,
    "start_time": "2025-09-11T12:30:55.320Z"
   },
   {
    "duration": 11,
    "start_time": "2025-09-11T12:30:55.431Z"
   },
   {
    "duration": 35,
    "start_time": "2025-09-11T12:30:55.443Z"
   },
   {
    "duration": 9,
    "start_time": "2025-09-11T12:30:55.479Z"
   },
   {
    "duration": 38,
    "start_time": "2025-09-11T12:30:55.490Z"
   },
   {
    "duration": 8,
    "start_time": "2025-09-11T12:30:55.529Z"
   },
   {
    "duration": 40,
    "start_time": "2025-09-11T12:30:55.538Z"
   },
   {
    "duration": 37,
    "start_time": "2025-09-11T12:30:55.579Z"
   },
   {
    "duration": 5,
    "start_time": "2025-09-11T12:30:55.619Z"
   },
   {
    "duration": 4,
    "start_time": "2025-09-11T12:30:55.626Z"
   },
   {
    "duration": 18,
    "start_time": "2025-09-11T12:30:55.632Z"
   },
   {
    "duration": 39,
    "start_time": "2025-09-11T12:30:55.651Z"
   },
   {
    "duration": 51,
    "start_time": "2025-09-11T12:30:55.692Z"
   },
   {
    "duration": 5,
    "start_time": "2025-09-11T12:30:55.744Z"
   },
   {
    "duration": 27,
    "start_time": "2025-09-11T12:30:55.751Z"
   },
   {
    "duration": 44,
    "start_time": "2025-09-11T12:30:55.779Z"
   },
   {
    "duration": 18,
    "start_time": "2025-09-11T12:30:55.825Z"
   },
   {
    "duration": 8,
    "start_time": "2025-09-11T12:30:55.845Z"
   },
   {
    "duration": 115,
    "start_time": "2025-09-11T12:30:55.854Z"
   },
   {
    "duration": 7,
    "start_time": "2025-09-11T12:30:55.971Z"
   },
   {
    "duration": 52,
    "start_time": "2025-09-11T12:30:55.979Z"
   },
   {
    "duration": 47,
    "start_time": "2025-09-11T12:30:56.033Z"
   },
   {
    "duration": 26,
    "start_time": "2025-09-11T12:30:56.082Z"
   },
   {
    "duration": 569,
    "start_time": "2025-09-11T12:30:56.110Z"
   },
   {
    "duration": 28,
    "start_time": "2025-09-11T12:30:56.681Z"
   },
   {
    "duration": 37,
    "start_time": "2025-09-11T12:30:56.711Z"
   },
   {
    "duration": 2299,
    "start_time": "2025-09-11T12:30:56.749Z"
   },
   {
    "duration": 159,
    "start_time": "2025-09-11T12:30:59.050Z"
   },
   {
    "duration": 61,
    "start_time": "2025-09-11T12:30:59.210Z"
   },
   {
    "duration": 200,
    "start_time": "2025-09-11T12:30:59.273Z"
   },
   {
    "duration": 19,
    "start_time": "2025-09-11T12:30:59.474Z"
   },
   {
    "duration": 6,
    "start_time": "2025-09-11T12:30:59.494Z"
   },
   {
    "duration": 15,
    "start_time": "2025-09-11T12:30:59.502Z"
   },
   {
    "duration": 52,
    "start_time": "2025-09-11T12:30:59.519Z"
   },
   {
    "duration": 65,
    "start_time": "2025-09-11T12:30:59.573Z"
   },
   {
    "duration": 61,
    "start_time": "2025-09-11T12:30:59.641Z"
   },
   {
    "duration": 11,
    "start_time": "2025-09-11T12:30:59.704Z"
   },
   {
    "duration": 10,
    "start_time": "2025-09-11T12:30:59.717Z"
   },
   {
    "duration": 6,
    "start_time": "2025-09-11T12:30:59.729Z"
   },
   {
    "duration": 43,
    "start_time": "2025-09-11T12:30:59.737Z"
   },
   {
    "duration": 31,
    "start_time": "2025-09-11T12:30:59.781Z"
   },
   {
    "duration": 18,
    "start_time": "2025-09-11T12:30:59.813Z"
   },
   {
    "duration": 106,
    "start_time": "2025-09-11T12:30:59.833Z"
   },
   {
    "duration": 107,
    "start_time": "2025-09-11T12:30:59.941Z"
   },
   {
    "duration": 110,
    "start_time": "2025-09-11T12:31:00.050Z"
   },
   {
    "duration": 70,
    "start_time": "2025-09-11T12:31:00.162Z"
   },
   {
    "duration": 166,
    "start_time": "2025-09-11T12:31:00.234Z"
   },
   {
    "duration": 38,
    "start_time": "2025-09-11T12:31:00.401Z"
   },
   {
    "duration": 33,
    "start_time": "2025-09-11T12:31:00.440Z"
   },
   {
    "duration": 116,
    "start_time": "2025-09-11T12:31:00.475Z"
   },
   {
    "duration": 13,
    "start_time": "2025-09-11T12:31:00.592Z"
   },
   {
    "duration": 174,
    "start_time": "2025-09-11T12:31:00.606Z"
   },
   {
    "duration": 16,
    "start_time": "2025-09-11T12:31:00.782Z"
   },
   {
    "duration": 7,
    "start_time": "2025-09-11T12:31:51.064Z"
   },
   {
    "duration": 66,
    "start_time": "2025-09-11T12:32:49.687Z"
   },
   {
    "duration": 819,
    "start_time": "2025-09-11T12:32:55.922Z"
   },
   {
    "duration": 20,
    "start_time": "2025-09-11T12:33:15.907Z"
   },
   {
    "duration": 916,
    "start_time": "2025-09-11T12:37:20.783Z"
   },
   {
    "duration": 44,
    "start_time": "2025-09-11T12:38:21.035Z"
   },
   {
    "duration": 18,
    "start_time": "2025-09-11T12:46:17.576Z"
   },
   {
    "duration": 28,
    "start_time": "2025-09-11T12:47:09.090Z"
   },
   {
    "duration": 20,
    "start_time": "2025-09-11T12:47:56.718Z"
   },
   {
    "duration": 35,
    "start_time": "2025-09-11T12:48:10.171Z"
   },
   {
    "duration": 24,
    "start_time": "2025-09-11T12:48:33.650Z"
   },
   {
    "duration": 3,
    "start_time": "2025-09-11T12:51:44.110Z"
   },
   {
    "duration": 11,
    "start_time": "2025-09-11T12:53:23.698Z"
   },
   {
    "duration": 8,
    "start_time": "2025-09-11T12:53:52.899Z"
   },
   {
    "duration": 12,
    "start_time": "2025-09-11T12:54:15.097Z"
   },
   {
    "duration": 6,
    "start_time": "2025-09-11T13:01:12.981Z"
   },
   {
    "duration": 1092,
    "start_time": "2025-09-11T13:01:51.512Z"
   },
   {
    "duration": 1694,
    "start_time": "2025-09-11T13:01:52.606Z"
   },
   {
    "duration": 29,
    "start_time": "2025-09-11T13:01:54.302Z"
   },
   {
    "duration": 4,
    "start_time": "2025-09-11T13:01:54.333Z"
   },
   {
    "duration": 14,
    "start_time": "2025-09-11T13:01:54.339Z"
   },
   {
    "duration": 101,
    "start_time": "2025-09-11T13:01:54.355Z"
   },
   {
    "duration": 16,
    "start_time": "2025-09-11T13:01:54.458Z"
   },
   {
    "duration": 15,
    "start_time": "2025-09-11T13:01:54.475Z"
   },
   {
    "duration": 9,
    "start_time": "2025-09-11T13:01:54.491Z"
   },
   {
    "duration": 37,
    "start_time": "2025-09-11T13:01:54.503Z"
   },
   {
    "duration": 31,
    "start_time": "2025-09-11T13:01:54.541Z"
   },
   {
    "duration": 19,
    "start_time": "2025-09-11T13:01:54.573Z"
   },
   {
    "duration": 38,
    "start_time": "2025-09-11T13:01:54.593Z"
   },
   {
    "duration": 4,
    "start_time": "2025-09-11T13:01:54.633Z"
   },
   {
    "duration": 11,
    "start_time": "2025-09-11T13:01:54.639Z"
   },
   {
    "duration": 8,
    "start_time": "2025-09-11T13:01:54.671Z"
   },
   {
    "duration": 23,
    "start_time": "2025-09-11T13:01:54.681Z"
   },
   {
    "duration": 68,
    "start_time": "2025-09-11T13:01:54.706Z"
   },
   {
    "duration": 5,
    "start_time": "2025-09-11T13:01:54.776Z"
   },
   {
    "duration": 5,
    "start_time": "2025-09-11T13:01:54.783Z"
   },
   {
    "duration": 48,
    "start_time": "2025-09-11T13:01:54.789Z"
   },
   {
    "duration": 37,
    "start_time": "2025-09-11T13:01:54.839Z"
   },
   {
    "duration": 6,
    "start_time": "2025-09-11T13:01:54.877Z"
   },
   {
    "duration": 97,
    "start_time": "2025-09-11T13:01:54.885Z"
   },
   {
    "duration": 7,
    "start_time": "2025-09-11T13:01:54.983Z"
   },
   {
    "duration": 35,
    "start_time": "2025-09-11T13:01:54.991Z"
   },
   {
    "duration": 14,
    "start_time": "2025-09-11T13:01:55.028Z"
   },
   {
    "duration": 60,
    "start_time": "2025-09-11T13:01:55.046Z"
   },
   {
    "duration": 595,
    "start_time": "2025-09-11T13:01:55.108Z"
   },
   {
    "duration": 29,
    "start_time": "2025-09-11T13:01:55.705Z"
   },
   {
    "duration": 60,
    "start_time": "2025-09-11T13:01:55.736Z"
   },
   {
    "duration": 2286,
    "start_time": "2025-09-11T13:01:55.797Z"
   },
   {
    "duration": 161,
    "start_time": "2025-09-11T13:01:58.085Z"
   },
   {
    "duration": 61,
    "start_time": "2025-09-11T13:01:58.248Z"
   },
   {
    "duration": 195,
    "start_time": "2025-09-11T13:01:58.311Z"
   },
   {
    "duration": 18,
    "start_time": "2025-09-11T13:01:58.508Z"
   },
   {
    "duration": 6,
    "start_time": "2025-09-11T13:01:58.527Z"
   },
   {
    "duration": 35,
    "start_time": "2025-09-11T13:01:58.535Z"
   },
   {
    "duration": 23,
    "start_time": "2025-09-11T13:01:58.572Z"
   },
   {
    "duration": 79,
    "start_time": "2025-09-11T13:01:58.597Z"
   },
   {
    "duration": 42,
    "start_time": "2025-09-11T13:01:58.677Z"
   },
   {
    "duration": 12,
    "start_time": "2025-09-11T13:01:58.721Z"
   },
   {
    "duration": 10,
    "start_time": "2025-09-11T13:01:58.735Z"
   },
   {
    "duration": 32,
    "start_time": "2025-09-11T13:01:58.746Z"
   },
   {
    "duration": 28,
    "start_time": "2025-09-11T13:01:58.780Z"
   },
   {
    "duration": 34,
    "start_time": "2025-09-11T13:01:58.810Z"
   },
   {
    "duration": 18,
    "start_time": "2025-09-11T13:01:58.873Z"
   },
   {
    "duration": 88,
    "start_time": "2025-09-11T13:01:58.892Z"
   },
   {
    "duration": 111,
    "start_time": "2025-09-11T13:01:58.981Z"
   },
   {
    "duration": 102,
    "start_time": "2025-09-11T13:01:59.094Z"
   },
   {
    "duration": 75,
    "start_time": "2025-09-11T13:01:59.198Z"
   },
   {
    "duration": 105,
    "start_time": "2025-09-11T13:01:59.275Z"
   },
   {
    "duration": 37,
    "start_time": "2025-09-11T13:01:59.381Z"
   },
   {
    "duration": 20,
    "start_time": "2025-09-11T13:01:59.419Z"
   },
   {
    "duration": 56,
    "start_time": "2025-09-11T13:01:59.440Z"
   },
   {
    "duration": 64,
    "start_time": "2025-09-11T13:01:59.498Z"
   },
   {
    "duration": 146,
    "start_time": "2025-09-11T13:01:59.563Z"
   },
   {
    "duration": 23,
    "start_time": "2025-09-11T13:01:59.710Z"
   },
   {
    "duration": 11,
    "start_time": "2025-09-11T13:01:59.734Z"
   },
   {
    "duration": 28,
    "start_time": "2025-09-11T13:01:59.746Z"
   },
   {
    "duration": 4,
    "start_time": "2025-09-11T13:02:28.720Z"
   },
   {
    "duration": 114,
    "start_time": "2025-09-11T13:06:45.244Z"
   },
   {
    "duration": 9,
    "start_time": "2025-09-11T13:07:24.363Z"
   },
   {
    "duration": 11,
    "start_time": "2025-09-11T13:07:54.237Z"
   },
   {
    "duration": 9,
    "start_time": "2025-09-11T13:18:27.141Z"
   },
   {
    "duration": 8,
    "start_time": "2025-09-11T13:21:56.916Z"
   },
   {
    "duration": 51,
    "start_time": "2025-09-11T13:22:18.049Z"
   },
   {
    "duration": 9,
    "start_time": "2025-09-11T13:22:34.997Z"
   },
   {
    "duration": 67,
    "start_time": "2025-09-11T13:22:47.188Z"
   },
   {
    "duration": 8,
    "start_time": "2025-09-11T13:22:59.448Z"
   },
   {
    "duration": 9,
    "start_time": "2025-09-11T13:24:29.189Z"
   },
   {
    "duration": 66,
    "start_time": "2025-09-11T13:26:39.219Z"
   },
   {
    "duration": 9,
    "start_time": "2025-09-11T13:26:48.180Z"
   },
   {
    "duration": 8,
    "start_time": "2025-09-11T13:26:53.287Z"
   },
   {
    "duration": 8,
    "start_time": "2025-09-11T13:30:00.819Z"
   },
   {
    "duration": 8,
    "start_time": "2025-09-11T13:30:14.527Z"
   },
   {
    "duration": 8,
    "start_time": "2025-09-11T13:30:38.898Z"
   },
   {
    "duration": 9,
    "start_time": "2025-09-11T13:31:59.026Z"
   },
   {
    "duration": 6,
    "start_time": "2025-09-11T13:33:51.817Z"
   },
   {
    "duration": 11,
    "start_time": "2025-09-11T13:34:44.186Z"
   },
   {
    "duration": 10,
    "start_time": "2025-09-11T13:40:11.362Z"
   },
   {
    "duration": 8,
    "start_time": "2025-09-11T13:44:26.431Z"
   },
   {
    "duration": 11,
    "start_time": "2025-09-11T13:44:42.330Z"
   },
   {
    "duration": 1203,
    "start_time": "2025-09-11T14:02:13.408Z"
   },
   {
    "duration": 1929,
    "start_time": "2025-09-11T14:02:14.613Z"
   },
   {
    "duration": 39,
    "start_time": "2025-09-11T14:02:16.543Z"
   },
   {
    "duration": 3,
    "start_time": "2025-09-11T14:02:16.584Z"
   },
   {
    "duration": 24,
    "start_time": "2025-09-11T14:02:16.589Z"
   },
   {
    "duration": 108,
    "start_time": "2025-09-11T14:02:16.615Z"
   },
   {
    "duration": 9,
    "start_time": "2025-09-11T14:02:16.724Z"
   },
   {
    "duration": 44,
    "start_time": "2025-09-11T14:02:16.734Z"
   },
   {
    "duration": 18,
    "start_time": "2025-09-11T14:02:16.780Z"
   },
   {
    "duration": 57,
    "start_time": "2025-09-11T14:02:16.799Z"
   },
   {
    "duration": 7,
    "start_time": "2025-09-11T14:02:16.857Z"
   },
   {
    "duration": 27,
    "start_time": "2025-09-11T14:02:16.866Z"
   },
   {
    "duration": 37,
    "start_time": "2025-09-11T14:02:16.895Z"
   },
   {
    "duration": 5,
    "start_time": "2025-09-11T14:02:16.935Z"
   },
   {
    "duration": 20,
    "start_time": "2025-09-11T14:02:16.941Z"
   },
   {
    "duration": 21,
    "start_time": "2025-09-11T14:02:16.963Z"
   },
   {
    "duration": 35,
    "start_time": "2025-09-11T14:02:16.985Z"
   },
   {
    "duration": 55,
    "start_time": "2025-09-11T14:02:17.022Z"
   },
   {
    "duration": 6,
    "start_time": "2025-09-11T14:02:17.079Z"
   },
   {
    "duration": 7,
    "start_time": "2025-09-11T14:02:17.087Z"
   },
   {
    "duration": 50,
    "start_time": "2025-09-11T14:02:17.095Z"
   },
   {
    "duration": 36,
    "start_time": "2025-09-11T14:02:17.147Z"
   },
   {
    "duration": 7,
    "start_time": "2025-09-11T14:02:17.184Z"
   },
   {
    "duration": 103,
    "start_time": "2025-09-11T14:02:17.192Z"
   },
   {
    "duration": 7,
    "start_time": "2025-09-11T14:02:17.296Z"
   },
   {
    "duration": 45,
    "start_time": "2025-09-11T14:02:17.305Z"
   },
   {
    "duration": 24,
    "start_time": "2025-09-11T14:02:17.351Z"
   },
   {
    "duration": 40,
    "start_time": "2025-09-11T14:02:17.376Z"
   },
   {
    "duration": 595,
    "start_time": "2025-09-11T14:02:17.417Z"
   },
   {
    "duration": 33,
    "start_time": "2025-09-11T14:02:18.014Z"
   },
   {
    "duration": 55,
    "start_time": "2025-09-11T14:02:18.048Z"
   },
   {
    "duration": 2366,
    "start_time": "2025-09-11T14:02:18.104Z"
   },
   {
    "duration": 174,
    "start_time": "2025-09-11T14:02:20.472Z"
   },
   {
    "duration": 59,
    "start_time": "2025-09-11T14:02:20.647Z"
   },
   {
    "duration": 219,
    "start_time": "2025-09-11T14:02:20.708Z"
   },
   {
    "duration": 19,
    "start_time": "2025-09-11T14:02:20.928Z"
   },
   {
    "duration": 23,
    "start_time": "2025-09-11T14:02:20.948Z"
   },
   {
    "duration": 15,
    "start_time": "2025-09-11T14:02:20.973Z"
   },
   {
    "duration": 27,
    "start_time": "2025-09-11T14:02:20.989Z"
   },
   {
    "duration": 86,
    "start_time": "2025-09-11T14:02:21.018Z"
   },
   {
    "duration": 44,
    "start_time": "2025-09-11T14:02:21.108Z"
   },
   {
    "duration": 26,
    "start_time": "2025-09-11T14:02:21.154Z"
   },
   {
    "duration": 13,
    "start_time": "2025-09-11T14:02:21.182Z"
   },
   {
    "duration": 32,
    "start_time": "2025-09-11T14:02:21.197Z"
   },
   {
    "duration": 73,
    "start_time": "2025-09-11T14:02:21.231Z"
   },
   {
    "duration": 31,
    "start_time": "2025-09-11T14:02:21.306Z"
   },
   {
    "duration": 19,
    "start_time": "2025-09-11T14:02:21.338Z"
   },
   {
    "duration": 125,
    "start_time": "2025-09-11T14:02:21.359Z"
   },
   {
    "duration": 119,
    "start_time": "2025-09-11T14:02:21.485Z"
   },
   {
    "duration": 100,
    "start_time": "2025-09-11T14:02:21.606Z"
   },
   {
    "duration": 76,
    "start_time": "2025-09-11T14:02:21.708Z"
   },
   {
    "duration": 105,
    "start_time": "2025-09-11T14:02:21.786Z"
   },
   {
    "duration": 37,
    "start_time": "2025-09-11T14:02:21.893Z"
   },
   {
    "duration": 48,
    "start_time": "2025-09-11T14:02:21.932Z"
   },
   {
    "duration": 43,
    "start_time": "2025-09-11T14:02:21.982Z"
   },
   {
    "duration": 10,
    "start_time": "2025-09-11T14:02:22.026Z"
   },
   {
    "duration": 256,
    "start_time": "2025-09-11T14:02:22.037Z"
   },
   {
    "duration": 23,
    "start_time": "2025-09-11T14:02:22.294Z"
   },
   {
    "duration": 12,
    "start_time": "2025-09-11T14:02:22.371Z"
   },
   {
    "duration": 13,
    "start_time": "2025-09-11T14:02:22.384Z"
   },
   {
    "duration": 21,
    "start_time": "2025-09-11T14:02:22.398Z"
   },
   {
    "duration": 14,
    "start_time": "2025-09-11T14:03:32.163Z"
   },
   {
    "duration": 10,
    "start_time": "2025-09-11T14:03:54.050Z"
   },
   {
    "duration": 45,
    "start_time": "2025-09-11T14:04:24.093Z"
   },
   {
    "duration": 1096,
    "start_time": "2025-09-11T14:04:30.315Z"
   },
   {
    "duration": 1832,
    "start_time": "2025-09-11T14:04:31.413Z"
   },
   {
    "duration": 30,
    "start_time": "2025-09-11T14:04:33.247Z"
   },
   {
    "duration": 17,
    "start_time": "2025-09-11T14:04:33.278Z"
   },
   {
    "duration": 5,
    "start_time": "2025-09-11T14:04:33.297Z"
   },
   {
    "duration": 99,
    "start_time": "2025-09-11T14:04:33.304Z"
   },
   {
    "duration": 9,
    "start_time": "2025-09-11T14:04:33.404Z"
   },
   {
    "duration": 21,
    "start_time": "2025-09-11T14:04:33.414Z"
   },
   {
    "duration": 10,
    "start_time": "2025-09-11T14:04:33.436Z"
   },
   {
    "duration": 55,
    "start_time": "2025-09-11T14:04:33.447Z"
   },
   {
    "duration": 7,
    "start_time": "2025-09-11T14:04:33.504Z"
   },
   {
    "duration": 18,
    "start_time": "2025-09-11T14:04:33.513Z"
   },
   {
    "duration": 66,
    "start_time": "2025-09-11T14:04:33.532Z"
   },
   {
    "duration": 5,
    "start_time": "2025-09-11T14:04:33.601Z"
   },
   {
    "duration": 9,
    "start_time": "2025-09-11T14:04:33.607Z"
   },
   {
    "duration": 59,
    "start_time": "2025-09-11T14:04:33.617Z"
   },
   {
    "duration": 37,
    "start_time": "2025-09-11T14:04:33.677Z"
   },
   {
    "duration": 156,
    "start_time": "2025-09-11T14:04:33.715Z"
   },
   {
    "duration": 6,
    "start_time": "2025-09-11T14:04:33.872Z"
   },
   {
    "duration": 68,
    "start_time": "2025-09-11T14:04:33.879Z"
   },
   {
    "duration": 100,
    "start_time": "2025-09-11T14:04:33.971Z"
   },
   {
    "duration": 21,
    "start_time": "2025-09-11T14:04:34.073Z"
   },
   {
    "duration": 5,
    "start_time": "2025-09-11T14:04:34.095Z"
   },
   {
    "duration": 186,
    "start_time": "2025-09-11T14:04:34.101Z"
   },
   {
    "duration": 6,
    "start_time": "2025-09-11T14:04:34.289Z"
   },
   {
    "duration": 95,
    "start_time": "2025-09-11T14:04:34.297Z"
   },
   {
    "duration": 14,
    "start_time": "2025-09-11T14:04:34.394Z"
   },
   {
    "duration": 76,
    "start_time": "2025-09-11T14:04:34.410Z"
   },
   {
    "duration": 826,
    "start_time": "2025-09-11T14:04:34.487Z"
   },
   {
    "duration": 36,
    "start_time": "2025-09-11T14:04:35.315Z"
   },
   {
    "duration": 55,
    "start_time": "2025-09-11T14:04:35.352Z"
   },
   {
    "duration": 2317,
    "start_time": "2025-09-11T14:04:35.409Z"
   },
   {
    "duration": 164,
    "start_time": "2025-09-11T14:04:37.728Z"
   },
   {
    "duration": 52,
    "start_time": "2025-09-11T14:04:37.893Z"
   },
   {
    "duration": 196,
    "start_time": "2025-09-11T14:04:37.947Z"
   },
   {
    "duration": 31,
    "start_time": "2025-09-11T14:04:38.145Z"
   },
   {
    "duration": 6,
    "start_time": "2025-09-11T14:04:38.177Z"
   },
   {
    "duration": 15,
    "start_time": "2025-09-11T14:04:38.184Z"
   },
   {
    "duration": 22,
    "start_time": "2025-09-11T14:04:38.201Z"
   },
   {
    "duration": 92,
    "start_time": "2025-09-11T14:04:38.224Z"
   },
   {
    "duration": 52,
    "start_time": "2025-09-11T14:04:38.319Z"
   },
   {
    "duration": 12,
    "start_time": "2025-09-11T14:04:38.373Z"
   },
   {
    "duration": 10,
    "start_time": "2025-09-11T14:04:38.387Z"
   },
   {
    "duration": 7,
    "start_time": "2025-09-11T14:04:38.399Z"
   },
   {
    "duration": 21,
    "start_time": "2025-09-11T14:04:38.408Z"
   },
   {
    "duration": 57,
    "start_time": "2025-09-11T14:04:38.431Z"
   },
   {
    "duration": 36,
    "start_time": "2025-09-11T14:04:38.489Z"
   },
   {
    "duration": 89,
    "start_time": "2025-09-11T14:04:38.526Z"
   },
   {
    "duration": 110,
    "start_time": "2025-09-11T14:04:38.617Z"
   },
   {
    "duration": 102,
    "start_time": "2025-09-11T14:04:38.729Z"
   },
   {
    "duration": 83,
    "start_time": "2025-09-11T14:04:38.833Z"
   },
   {
    "duration": 101,
    "start_time": "2025-09-11T14:04:38.917Z"
   },
   {
    "duration": 38,
    "start_time": "2025-09-11T14:04:39.019Z"
   },
   {
    "duration": 28,
    "start_time": "2025-09-11T14:04:39.058Z"
   },
   {
    "duration": 48,
    "start_time": "2025-09-11T14:04:39.088Z"
   },
   {
    "duration": 11,
    "start_time": "2025-09-11T14:04:39.137Z"
   },
   {
    "duration": 170,
    "start_time": "2025-09-11T14:04:39.149Z"
   },
   {
    "duration": 25,
    "start_time": "2025-09-11T14:04:39.320Z"
   },
   {
    "duration": 31,
    "start_time": "2025-09-11T14:04:39.346Z"
   },
   {
    "duration": 37,
    "start_time": "2025-09-11T14:04:39.379Z"
   },
   {
    "duration": 13,
    "start_time": "2025-09-11T14:04:39.417Z"
   },
   {
    "duration": 9,
    "start_time": "2025-09-11T14:04:39.432Z"
   },
   {
    "duration": 48,
    "start_time": "2025-09-11T14:04:58.689Z"
   },
   {
    "duration": 13,
    "start_time": "2025-09-11T14:07:14.001Z"
   },
   {
    "duration": 6,
    "start_time": "2025-09-11T14:08:15.479Z"
   },
   {
    "duration": 7,
    "start_time": "2025-09-11T14:08:30.958Z"
   },
   {
    "duration": 7,
    "start_time": "2025-09-11T14:08:39.832Z"
   },
   {
    "duration": 8,
    "start_time": "2025-09-11T14:16:49.506Z"
   },
   {
    "duration": 100,
    "start_time": "2025-09-11T14:17:16.816Z"
   },
   {
    "duration": 11,
    "start_time": "2025-09-11T14:17:24.732Z"
   },
   {
    "duration": 10,
    "start_time": "2025-09-11T14:19:02.935Z"
   },
   {
    "duration": 12,
    "start_time": "2025-09-11T14:19:32.394Z"
   },
   {
    "duration": 59,
    "start_time": "2025-09-11T14:22:22.236Z"
   },
   {
    "duration": 48,
    "start_time": "2025-09-11T14:27:18.120Z"
   },
   {
    "duration": 56,
    "start_time": "2025-09-11T14:27:27.476Z"
   },
   {
    "duration": 46,
    "start_time": "2025-09-11T14:30:22.399Z"
   },
   {
    "duration": 53,
    "start_time": "2025-09-11T14:31:03.727Z"
   },
   {
    "duration": 57,
    "start_time": "2025-09-11T14:32:12.398Z"
   },
   {
    "duration": 54,
    "start_time": "2025-09-11T14:32:19.300Z"
   },
   {
    "duration": 57,
    "start_time": "2025-09-11T14:32:32.598Z"
   },
   {
    "duration": 60,
    "start_time": "2025-09-11T14:32:37.250Z"
   },
   {
    "duration": 58,
    "start_time": "2025-09-11T14:48:35.387Z"
   },
   {
    "duration": 136,
    "start_time": "2025-09-11T14:50:16.855Z"
   },
   {
    "duration": 56,
    "start_time": "2025-09-11T14:53:02.315Z"
   },
   {
    "duration": 76,
    "start_time": "2025-09-11T14:53:16.202Z"
   },
   {
    "duration": 55,
    "start_time": "2025-09-11T14:53:48.595Z"
   },
   {
    "duration": 63,
    "start_time": "2025-09-11T14:56:08.835Z"
   },
   {
    "duration": 56,
    "start_time": "2025-09-11T15:03:49.828Z"
   },
   {
    "duration": 58,
    "start_time": "2025-09-11T15:04:03.665Z"
   },
   {
    "duration": 58,
    "start_time": "2025-09-11T15:04:26.498Z"
   },
   {
    "duration": 127,
    "start_time": "2025-09-11T15:08:17.470Z"
   },
   {
    "duration": 21,
    "start_time": "2025-09-11T15:10:08.798Z"
   },
   {
    "duration": 1577,
    "start_time": "2025-09-11T15:10:55.630Z"
   },
   {
    "duration": 1167,
    "start_time": "2025-09-11T15:11:52.888Z"
   },
   {
    "duration": 202,
    "start_time": "2025-09-11T15:16:59.197Z"
   },
   {
    "duration": 55,
    "start_time": "2025-09-11T15:18:21.081Z"
   },
   {
    "duration": 59,
    "start_time": "2025-09-11T15:18:34.339Z"
   },
   {
    "duration": 302,
    "start_time": "2025-09-11T15:24:28.350Z"
   },
   {
    "duration": 203,
    "start_time": "2025-09-11T15:24:45.409Z"
   },
   {
    "duration": 210,
    "start_time": "2025-09-11T15:27:58.669Z"
   },
   {
    "duration": 189,
    "start_time": "2025-09-11T15:28:16.588Z"
   },
   {
    "duration": 310,
    "start_time": "2025-09-11T15:30:45.377Z"
   },
   {
    "duration": 11,
    "start_time": "2025-09-11T15:36:34.224Z"
   },
   {
    "duration": 63,
    "start_time": "2025-09-11T15:36:55.556Z"
   },
   {
    "duration": 70,
    "start_time": "2025-09-11T15:37:14.363Z"
   },
   {
    "duration": 10,
    "start_time": "2025-09-11T15:37:31.696Z"
   },
   {
    "duration": 54,
    "start_time": "2025-09-11T15:38:51.385Z"
   },
   {
    "duration": 57,
    "start_time": "2025-09-11T15:39:30.057Z"
   },
   {
    "duration": 55,
    "start_time": "2025-09-11T16:00:42.897Z"
   },
   {
    "duration": 63,
    "start_time": "2025-09-11T16:00:49.455Z"
   },
   {
    "duration": 63,
    "start_time": "2025-09-11T16:02:43.305Z"
   },
   {
    "duration": 4,
    "start_time": "2025-09-11T16:03:53.037Z"
   },
   {
    "duration": 12,
    "start_time": "2025-09-11T16:05:27.394Z"
   },
   {
    "duration": 1116,
    "start_time": "2025-09-11T16:06:42.125Z"
   },
   {
    "duration": 1966,
    "start_time": "2025-09-11T16:06:43.243Z"
   },
   {
    "duration": 31,
    "start_time": "2025-09-11T16:06:45.211Z"
   },
   {
    "duration": 3,
    "start_time": "2025-09-11T16:06:45.243Z"
   },
   {
    "duration": 29,
    "start_time": "2025-09-11T16:06:45.249Z"
   },
   {
    "duration": 103,
    "start_time": "2025-09-11T16:06:45.279Z"
   },
   {
    "duration": 9,
    "start_time": "2025-09-11T16:06:45.384Z"
   },
   {
    "duration": 34,
    "start_time": "2025-09-11T16:06:45.394Z"
   },
   {
    "duration": 10,
    "start_time": "2025-09-11T16:06:45.429Z"
   },
   {
    "duration": 50,
    "start_time": "2025-09-11T16:06:45.440Z"
   },
   {
    "duration": 92,
    "start_time": "2025-09-11T16:06:45.491Z"
   },
   {
    "duration": 64,
    "start_time": "2025-09-11T16:06:45.585Z"
   },
   {
    "duration": 37,
    "start_time": "2025-09-11T16:06:45.651Z"
   },
   {
    "duration": 6,
    "start_time": "2025-09-11T16:06:45.691Z"
   },
   {
    "duration": 5,
    "start_time": "2025-09-11T16:06:45.699Z"
   },
   {
    "duration": 10,
    "start_time": "2025-09-11T16:06:45.705Z"
   },
   {
    "duration": 26,
    "start_time": "2025-09-11T16:06:45.716Z"
   },
   {
    "duration": 110,
    "start_time": "2025-09-11T16:06:45.744Z"
   },
   {
    "duration": 6,
    "start_time": "2025-09-11T16:06:45.855Z"
   },
   {
    "duration": 17,
    "start_time": "2025-09-11T16:06:45.863Z"
   },
   {
    "duration": 52,
    "start_time": "2025-09-11T16:06:45.882Z"
   },
   {
    "duration": 21,
    "start_time": "2025-09-11T16:06:45.936Z"
   },
   {
    "duration": 6,
    "start_time": "2025-09-11T16:06:45.958Z"
   },
   {
    "duration": 83,
    "start_time": "2025-09-11T16:06:45.970Z"
   },
   {
    "duration": 22,
    "start_time": "2025-09-11T16:06:46.054Z"
   },
   {
    "duration": 35,
    "start_time": "2025-09-11T16:06:46.078Z"
   },
   {
    "duration": 15,
    "start_time": "2025-09-11T16:06:46.115Z"
   },
   {
    "duration": 47,
    "start_time": "2025-09-11T16:06:46.131Z"
   },
   {
    "duration": 652,
    "start_time": "2025-09-11T16:06:46.180Z"
   },
   {
    "duration": 45,
    "start_time": "2025-09-11T16:06:46.835Z"
   },
   {
    "duration": 43,
    "start_time": "2025-09-11T16:06:46.882Z"
   },
   {
    "duration": 2440,
    "start_time": "2025-09-11T16:06:46.926Z"
   },
   {
    "duration": 178,
    "start_time": "2025-09-11T16:06:49.368Z"
   },
   {
    "duration": 67,
    "start_time": "2025-09-11T16:06:49.548Z"
   },
   {
    "duration": 213,
    "start_time": "2025-09-11T16:06:49.617Z"
   },
   {
    "duration": 21,
    "start_time": "2025-09-11T16:06:49.832Z"
   },
   {
    "duration": 21,
    "start_time": "2025-09-11T16:06:49.855Z"
   },
   {
    "duration": 16,
    "start_time": "2025-09-11T16:06:49.878Z"
   },
   {
    "duration": 25,
    "start_time": "2025-09-11T16:06:49.896Z"
   },
   {
    "duration": 104,
    "start_time": "2025-09-11T16:06:49.923Z"
   },
   {
    "duration": 61,
    "start_time": "2025-09-11T16:06:50.031Z"
   },
   {
    "duration": 13,
    "start_time": "2025-09-11T16:06:50.094Z"
   },
   {
    "duration": 32,
    "start_time": "2025-09-11T16:06:50.108Z"
   },
   {
    "duration": 9,
    "start_time": "2025-09-11T16:06:50.142Z"
   },
   {
    "duration": 26,
    "start_time": "2025-09-11T16:06:50.153Z"
   },
   {
    "duration": 32,
    "start_time": "2025-09-11T16:06:50.182Z"
   },
   {
    "duration": 20,
    "start_time": "2025-09-11T16:06:50.216Z"
   },
   {
    "duration": 121,
    "start_time": "2025-09-11T16:06:50.238Z"
   },
   {
    "duration": 125,
    "start_time": "2025-09-11T16:06:50.361Z"
   },
   {
    "duration": 103,
    "start_time": "2025-09-11T16:06:50.488Z"
   },
   {
    "duration": 84,
    "start_time": "2025-09-11T16:06:50.593Z"
   },
   {
    "duration": 100,
    "start_time": "2025-09-11T16:06:50.679Z"
   },
   {
    "duration": 39,
    "start_time": "2025-09-11T16:06:50.781Z"
   },
   {
    "duration": 68,
    "start_time": "2025-09-11T16:06:50.822Z"
   },
   {
    "duration": 59,
    "start_time": "2025-09-11T16:06:50.891Z"
   },
   {
    "duration": 59,
    "start_time": "2025-09-11T16:06:50.952Z"
   },
   {
    "duration": 181,
    "start_time": "2025-09-11T16:06:51.012Z"
   },
   {
    "duration": 27,
    "start_time": "2025-09-11T16:06:51.195Z"
   },
   {
    "duration": 24,
    "start_time": "2025-09-11T16:06:51.224Z"
   },
   {
    "duration": 20,
    "start_time": "2025-09-11T16:06:51.250Z"
   },
   {
    "duration": 49,
    "start_time": "2025-09-11T16:06:51.272Z"
   },
   {
    "duration": 63,
    "start_time": "2025-09-11T16:06:51.323Z"
   },
   {
    "duration": 11,
    "start_time": "2025-09-11T16:06:51.387Z"
   },
   {
    "duration": 218,
    "start_time": "2025-09-11T16:06:51.400Z"
   },
   {
    "duration": 14,
    "start_time": "2025-09-11T16:06:51.620Z"
   },
   {
    "duration": 8,
    "start_time": "2025-09-11T16:09:06.861Z"
   },
   {
    "duration": 10,
    "start_time": "2025-09-11T16:09:42.666Z"
   },
   {
    "duration": 14,
    "start_time": "2025-09-11T16:10:12.464Z"
   },
   {
    "duration": 119,
    "start_time": "2025-09-11T16:13:36.565Z"
   },
   {
    "duration": 14,
    "start_time": "2025-09-11T16:15:01.694Z"
   },
   {
    "duration": 9,
    "start_time": "2025-09-11T16:16:42.365Z"
   },
   {
    "duration": 13,
    "start_time": "2025-09-11T16:16:51.770Z"
   },
   {
    "duration": 14,
    "start_time": "2025-09-11T16:17:24.211Z"
   },
   {
    "duration": 105,
    "start_time": "2025-09-11T16:26:31.996Z"
   },
   {
    "duration": 119,
    "start_time": "2025-09-11T16:27:28.853Z"
   },
   {
    "duration": 161,
    "start_time": "2025-09-11T16:27:56.654Z"
   },
   {
    "duration": 234,
    "start_time": "2025-09-11T16:28:20.373Z"
   },
   {
    "duration": 10,
    "start_time": "2025-09-11T16:28:42.845Z"
   },
   {
    "duration": 133,
    "start_time": "2025-09-11T16:28:48.084Z"
   },
   {
    "duration": 121,
    "start_time": "2025-09-11T16:29:09.684Z"
   },
   {
    "duration": 108,
    "start_time": "2025-09-11T16:34:06.739Z"
   },
   {
    "duration": 154,
    "start_time": "2025-09-11T16:34:20.151Z"
   },
   {
    "duration": 120,
    "start_time": "2025-09-11T16:35:13.792Z"
   },
   {
    "duration": 3,
    "start_time": "2025-09-11T16:36:12.427Z"
   },
   {
    "duration": 142,
    "start_time": "2025-09-11T16:36:16.227Z"
   },
   {
    "duration": 158,
    "start_time": "2025-09-11T16:37:10.287Z"
   },
   {
    "duration": 1152,
    "start_time": "2025-09-11T18:49:55.712Z"
   },
   {
    "duration": 2118,
    "start_time": "2025-09-11T18:49:56.866Z"
   },
   {
    "duration": 28,
    "start_time": "2025-09-11T18:49:58.986Z"
   },
   {
    "duration": 3,
    "start_time": "2025-09-11T18:49:59.016Z"
   },
   {
    "duration": 6,
    "start_time": "2025-09-11T18:49:59.021Z"
   },
   {
    "duration": 112,
    "start_time": "2025-09-11T18:49:59.029Z"
   },
   {
    "duration": 8,
    "start_time": "2025-09-11T18:49:59.142Z"
   },
   {
    "duration": 21,
    "start_time": "2025-09-11T18:49:59.152Z"
   },
   {
    "duration": 9,
    "start_time": "2025-09-11T18:49:59.175Z"
   },
   {
    "duration": 37,
    "start_time": "2025-09-11T18:49:59.186Z"
   },
   {
    "duration": 8,
    "start_time": "2025-09-11T18:49:59.225Z"
   },
   {
    "duration": 44,
    "start_time": "2025-09-11T18:49:59.234Z"
   },
   {
    "duration": 60,
    "start_time": "2025-09-11T18:49:59.280Z"
   },
   {
    "duration": 4,
    "start_time": "2025-09-11T18:49:59.344Z"
   },
   {
    "duration": 6,
    "start_time": "2025-09-11T18:49:59.350Z"
   },
   {
    "duration": 9,
    "start_time": "2025-09-11T18:49:59.358Z"
   },
   {
    "duration": 25,
    "start_time": "2025-09-11T18:49:59.368Z"
   },
   {
    "duration": 47,
    "start_time": "2025-09-11T18:49:59.395Z"
   },
   {
    "duration": 5,
    "start_time": "2025-09-11T18:49:59.444Z"
   },
   {
    "duration": 4,
    "start_time": "2025-09-11T18:49:59.470Z"
   },
   {
    "duration": 47,
    "start_time": "2025-09-11T18:49:59.475Z"
   },
   {
    "duration": 21,
    "start_time": "2025-09-11T18:49:59.524Z"
   },
   {
    "duration": 26,
    "start_time": "2025-09-11T18:49:59.547Z"
   },
   {
    "duration": 83,
    "start_time": "2025-09-11T18:49:59.574Z"
   },
   {
    "duration": 16,
    "start_time": "2025-09-11T18:49:59.658Z"
   },
   {
    "duration": 36,
    "start_time": "2025-09-11T18:49:59.676Z"
   },
   {
    "duration": 14,
    "start_time": "2025-09-11T18:49:59.714Z"
   },
   {
    "duration": 19,
    "start_time": "2025-09-11T18:49:59.729Z"
   },
   {
    "duration": 599,
    "start_time": "2025-09-11T18:49:59.750Z"
   },
   {
    "duration": 42,
    "start_time": "2025-09-11T18:50:00.350Z"
   },
   {
    "duration": 82,
    "start_time": "2025-09-11T18:50:00.394Z"
   },
   {
    "duration": 2348,
    "start_time": "2025-09-11T18:50:00.477Z"
   },
   {
    "duration": 173,
    "start_time": "2025-09-11T18:50:02.828Z"
   },
   {
    "duration": 56,
    "start_time": "2025-09-11T18:50:03.003Z"
   },
   {
    "duration": 210,
    "start_time": "2025-09-11T18:50:03.061Z"
   },
   {
    "duration": 18,
    "start_time": "2025-09-11T18:50:03.273Z"
   },
   {
    "duration": 6,
    "start_time": "2025-09-11T18:50:03.293Z"
   },
   {
    "duration": 43,
    "start_time": "2025-09-11T18:50:03.300Z"
   },
   {
    "duration": 96,
    "start_time": "2025-09-11T18:50:03.344Z"
   },
   {
    "duration": 93,
    "start_time": "2025-09-11T18:50:03.442Z"
   },
   {
    "duration": 49,
    "start_time": "2025-09-11T18:50:03.539Z"
   },
   {
    "duration": 13,
    "start_time": "2025-09-11T18:50:03.590Z"
   },
   {
    "duration": 11,
    "start_time": "2025-09-11T18:50:03.605Z"
   },
   {
    "duration": 53,
    "start_time": "2025-09-11T18:50:03.617Z"
   },
   {
    "duration": 26,
    "start_time": "2025-09-11T18:50:03.672Z"
   },
   {
    "duration": 50,
    "start_time": "2025-09-11T18:50:03.700Z"
   },
   {
    "duration": 32,
    "start_time": "2025-09-11T18:50:03.752Z"
   },
   {
    "duration": 90,
    "start_time": "2025-09-11T18:50:03.786Z"
   },
   {
    "duration": 110,
    "start_time": "2025-09-11T18:50:03.878Z"
   },
   {
    "duration": 107,
    "start_time": "2025-09-11T18:50:03.990Z"
   },
   {
    "duration": 79,
    "start_time": "2025-09-11T18:50:04.098Z"
   },
   {
    "duration": 102,
    "start_time": "2025-09-11T18:50:04.178Z"
   },
   {
    "duration": 39,
    "start_time": "2025-09-11T18:50:04.281Z"
   },
   {
    "duration": 21,
    "start_time": "2025-09-11T18:50:04.321Z"
   },
   {
    "duration": 117,
    "start_time": "2025-09-11T18:50:04.344Z"
   },
   {
    "duration": 11,
    "start_time": "2025-09-11T18:50:04.463Z"
   },
   {
    "duration": 152,
    "start_time": "2025-09-11T18:50:04.476Z"
   },
   {
    "duration": 26,
    "start_time": "2025-09-11T18:50:04.630Z"
   },
   {
    "duration": 26,
    "start_time": "2025-09-11T18:50:04.657Z"
   },
   {
    "duration": 8,
    "start_time": "2025-09-11T18:50:04.684Z"
   },
   {
    "duration": 13,
    "start_time": "2025-09-11T18:50:04.694Z"
   },
   {
    "duration": 81,
    "start_time": "2025-09-11T18:50:04.708Z"
   },
   {
    "duration": 10,
    "start_time": "2025-09-11T18:50:04.790Z"
   },
   {
    "duration": 215,
    "start_time": "2025-09-11T18:50:04.801Z"
   },
   {
    "duration": 9,
    "start_time": "2025-09-11T18:50:05.017Z"
   },
   {
    "duration": 142,
    "start_time": "2025-09-11T18:50:05.027Z"
   },
   {
    "duration": 16,
    "start_time": "2025-09-11T18:50:05.171Z"
   },
   {
    "duration": 184,
    "start_time": "2025-09-11T18:50:05.189Z"
   },
   {
    "duration": 1151,
    "start_time": "2025-09-11T19:03:00.785Z"
   },
   {
    "duration": 1892,
    "start_time": "2025-09-11T19:03:01.938Z"
   },
   {
    "duration": 30,
    "start_time": "2025-09-11T19:03:03.832Z"
   },
   {
    "duration": 4,
    "start_time": "2025-09-11T19:03:03.871Z"
   },
   {
    "duration": 19,
    "start_time": "2025-09-11T19:03:03.877Z"
   },
   {
    "duration": 108,
    "start_time": "2025-09-11T19:03:03.897Z"
   },
   {
    "duration": 8,
    "start_time": "2025-09-11T19:03:04.007Z"
   },
   {
    "duration": 32,
    "start_time": "2025-09-11T19:03:04.016Z"
   },
   {
    "duration": 68,
    "start_time": "2025-09-11T19:03:04.050Z"
   },
   {
    "duration": 51,
    "start_time": "2025-09-11T19:03:04.119Z"
   },
   {
    "duration": 8,
    "start_time": "2025-09-11T19:03:04.171Z"
   },
   {
    "duration": 25,
    "start_time": "2025-09-11T19:03:04.180Z"
   },
   {
    "duration": 38,
    "start_time": "2025-09-11T19:03:04.206Z"
   },
   {
    "duration": 5,
    "start_time": "2025-09-11T19:03:04.247Z"
   },
   {
    "duration": 30,
    "start_time": "2025-09-11T19:03:04.253Z"
   },
   {
    "duration": 81,
    "start_time": "2025-09-11T19:03:04.284Z"
   },
   {
    "duration": 25,
    "start_time": "2025-09-11T19:03:04.366Z"
   },
   {
    "duration": 48,
    "start_time": "2025-09-11T19:03:04.393Z"
   },
   {
    "duration": 5,
    "start_time": "2025-09-11T19:03:04.443Z"
   },
   {
    "duration": 69,
    "start_time": "2025-09-11T19:03:04.450Z"
   },
   {
    "duration": 74,
    "start_time": "2025-09-11T19:03:04.521Z"
   },
   {
    "duration": 21,
    "start_time": "2025-09-11T19:03:04.597Z"
   },
   {
    "duration": 5,
    "start_time": "2025-09-11T19:03:04.619Z"
   },
   {
    "duration": 106,
    "start_time": "2025-09-11T19:03:04.626Z"
   },
   {
    "duration": 6,
    "start_time": "2025-09-11T19:03:04.734Z"
   },
   {
    "duration": 52,
    "start_time": "2025-09-11T19:03:04.742Z"
   },
   {
    "duration": 16,
    "start_time": "2025-09-11T19:03:04.796Z"
   },
   {
    "duration": 67,
    "start_time": "2025-09-11T19:03:04.813Z"
   },
   {
    "duration": 590,
    "start_time": "2025-09-11T19:03:04.881Z"
   },
   {
    "duration": 30,
    "start_time": "2025-09-11T19:03:05.473Z"
   },
   {
    "duration": 40,
    "start_time": "2025-09-11T19:03:05.505Z"
   },
   {
    "duration": 2364,
    "start_time": "2025-09-11T19:03:05.547Z"
   },
   {
    "duration": 230,
    "start_time": "2025-09-11T19:03:07.914Z"
   },
   {
    "duration": 58,
    "start_time": "2025-09-11T19:03:08.145Z"
   },
   {
    "duration": 213,
    "start_time": "2025-09-11T19:03:08.204Z"
   },
   {
    "duration": 17,
    "start_time": "2025-09-11T19:03:08.419Z"
   },
   {
    "duration": 74,
    "start_time": "2025-09-11T19:03:08.438Z"
   },
   {
    "duration": 14,
    "start_time": "2025-09-11T19:03:08.513Z"
   },
   {
    "duration": 23,
    "start_time": "2025-09-11T19:03:08.529Z"
   },
   {
    "duration": 69,
    "start_time": "2025-09-11T19:03:08.554Z"
   },
   {
    "duration": 48,
    "start_time": "2025-09-11T19:03:08.627Z"
   },
   {
    "duration": 13,
    "start_time": "2025-09-11T19:03:08.677Z"
   },
   {
    "duration": 14,
    "start_time": "2025-09-11T19:03:08.692Z"
   },
   {
    "duration": 8,
    "start_time": "2025-09-11T19:03:08.708Z"
   },
   {
    "duration": 22,
    "start_time": "2025-09-11T19:03:08.718Z"
   },
   {
    "duration": 61,
    "start_time": "2025-09-11T19:03:08.742Z"
   },
   {
    "duration": 19,
    "start_time": "2025-09-11T19:03:08.804Z"
   },
   {
    "duration": 123,
    "start_time": "2025-09-11T19:03:08.824Z"
   },
   {
    "duration": 125,
    "start_time": "2025-09-11T19:03:08.948Z"
   },
   {
    "duration": 109,
    "start_time": "2025-09-11T19:03:09.075Z"
   },
   {
    "duration": 66,
    "start_time": "2025-09-11T19:03:09.186Z"
   },
   {
    "duration": 99,
    "start_time": "2025-09-11T19:03:09.254Z"
   },
   {
    "duration": 42,
    "start_time": "2025-09-11T19:03:09.355Z"
   },
   {
    "duration": 44,
    "start_time": "2025-09-11T19:03:09.399Z"
   },
   {
    "duration": 54,
    "start_time": "2025-09-11T19:03:09.445Z"
   },
   {
    "duration": 10,
    "start_time": "2025-09-11T19:03:09.501Z"
   },
   {
    "duration": 177,
    "start_time": "2025-09-11T19:03:09.513Z"
   },
   {
    "duration": 25,
    "start_time": "2025-09-11T19:03:09.691Z"
   },
   {
    "duration": 13,
    "start_time": "2025-09-11T19:03:09.718Z"
   },
   {
    "duration": 8,
    "start_time": "2025-09-11T19:03:09.732Z"
   },
   {
    "duration": 38,
    "start_time": "2025-09-11T19:03:09.741Z"
   },
   {
    "duration": 59,
    "start_time": "2025-09-11T19:03:09.781Z"
   },
   {
    "duration": 10,
    "start_time": "2025-09-11T19:03:09.842Z"
   },
   {
    "duration": 231,
    "start_time": "2025-09-11T19:03:09.871Z"
   },
   {
    "duration": 8,
    "start_time": "2025-09-11T19:03:10.104Z"
   },
   {
    "duration": 135,
    "start_time": "2025-09-11T19:03:10.113Z"
   },
   {
    "duration": 15,
    "start_time": "2025-09-11T19:03:10.250Z"
   },
   {
    "duration": 206,
    "start_time": "2025-09-11T19:03:10.267Z"
   }
  ],
  "colab": {
   "provenance": []
  },
  "kernelspec": {
   "display_name": "Python 3 (ipykernel)",
   "language": "python",
   "name": "python3"
  },
  "language_info": {
   "codemirror_mode": {
    "name": "ipython",
    "version": 3
   },
   "file_extension": ".py",
   "mimetype": "text/x-python",
   "name": "python",
   "nbconvert_exporter": "python",
   "pygments_lexer": "ipython3",
   "version": "3.9.5"
  },
  "toc": {
   "base_numbering": 1,
   "nav_menu": {},
   "number_sections": true,
   "sideBar": true,
   "skip_h1_title": true,
   "title_cell": "Table of Contents",
   "title_sidebar": "Contents",
   "toc_cell": false,
   "toc_position": {
    "height": "calc(100% - 180px)",
    "left": "10px",
    "top": "150px",
    "width": "196px"
   },
   "toc_section_display": true,
   "toc_window_display": true
  }
 },
 "nbformat": 4,
 "nbformat_minor": 1
}
